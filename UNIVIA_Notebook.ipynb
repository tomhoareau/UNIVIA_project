{
 "cells": [
  {
   "cell_type": "markdown",
   "metadata": {},
   "source": [
    "# <span style=\"color:#008080\">1. Accroche</span>\n",
    "\n",
    "> *« Le nombre de lycéens francophones partant étudier à l’étranger après le bac a été **multiplié par quatre** depuis 2020. »*\n",
    "\n",
    "Cette statistique illustre clairement l’**intérêt grandissant** pour les études internationales. Or, si l'attrait pour les prestigieuses universités américaines est de plus en plus fort, les obstacles restent nombreux : **coûts de scolarité** élevés, **procédures d’admission complexes**, **choix des programmes** parfois déroutants… et les informations manquent souvent de clarté.\n",
    "\n",
    "**Comment simplifier et démocratiser l’accès à ces opportunités internationales ?** C’est pour répondre à ce défi que nous lançons le projet **Univia**, une plateforme interactive conçue pour éclairer et accompagner chaque candidat dans ses démarches. \n",
    "\n",
    "---\n",
    "\n",
    "# <span style=\"color:#008080\">2. Introduction et Contexte</span>\n",
    "\n",
    "**Univia** vise à centraliser toutes les informations utiles aux futurs étudiants internationaux, de la sélection des programmes jusqu’aux formalités administratives. Au cœur de cette démarche : l’exploitation de la **donnée** pour mieux comprendre et mieux **recommander**.\n",
    "\n",
    "<span style=\"color:#2E8B57\">**Ce présent projet**</span> constitue **le premier volet** de l’initiative Univia. Nous allons y collecter et analyser un **ensemble de données** relatives aux universités américaines :  \n",
    "- Taux d’acceptation  \n",
    "- Scores requis (SAT, ACT)  \n",
    "- Coûts de scolarité nets  \n",
    "- Programmes et filières populaires  \n",
    "\n",
    "Notre ambition est double :  \n",
    "1. **Mieux décrypter la sélectivité** et les spécificités de chaque établissement, afin de fournir des informations claires et vérifiées.  \n",
    "2. **Poser les bases d’un algorithme de recommandation** permettant de suggérer des universités adaptées au profil et aux objectifs de chaque élève.\n",
    "\n",
    "---\n",
    "\n",
    "# <span style=\"color:#008080\">3. Pourquoi la Data et l’Analyse sont Cruciales</span>\n",
    "\n",
    "Dans un contexte où l’information se révèle **fragmentée** (articles de presse, sites officiels, blogs étudiants), **l’analyse de données** s’impose comme un outil puissant pour :\n",
    "\n",
    "- **Identifier** les tendances et les variables clés (ex. coût, notes requises, programmes les plus demandés).  \n",
    "- **Comparer** objectivement les établissements en termes de sélectivité, d’aides financières, ou d’atouts académiques.  \n",
    "- **Orienter** les étudiants vers les meilleures opportunités selon leur profil scolaire, financier et personnel.  \n",
    "\n",
    "En offrant une **vision agrégée et claire** de toutes ces composantes, nous pouvons déjà lever certains freins à la mobilité. Cette **transparence** est fondamentale pour que chaque élève puisse envisager un projet d’études à l’étranger **en toute connaissance de cause**.\n",
    "\n",
    "---\n",
    "\n",
    "# <span style=\"color:#008080\">4. Structure du Projet</span>\n",
    "\n",
    "Au fil de ce notebook, nous allons :\n",
    "\n",
    "1. **Collecter** et présenter nos premières données sur les universités américaines *(frais de scolarité, scores SAT/ACT, etc.)*.  \n",
    "2. **Nettoyer et analyser** ces informations pour mettre en évidence les insights majeurs *(taux d’acceptation, filières phares, répartition géographique, etc.)*.  \n",
    "3. **Prototyper** un <span style=\"color:#2E8B57\">système de recommandation initial</span> qui, à terme, saura guider chaque utilisateur vers les établissements les plus en phase avec son profil.  \n",
    "\n",
    "Ce travail servira de **fondation** pour les développements futurs d’Univia, qui s’étendront bientôt aux universités d’autres pays et intégreront de nouvelles fonctionnalités (préparation aux tests, accompagnement administratif, etc.). \n",
    "\n",
    "---\n"
   ]
  },
  {
   "cell_type": "markdown",
   "metadata": {},
   "source": [
    "# <span style=\"color:#008080\">Installation des dépendances</span>\n",
    "\n",
    "Pour exécuter correctement le notebook et ses scripts associés, nous installons toutes les librairies nécessaires indiquées dans le fichier `requirements.txt` :\n",
    "\n",
    "```bash"
   ]
  },
  {
   "cell_type": "code",
   "execution_count": 19,
   "metadata": {},
   "outputs": [
    {
     "name": "stdout",
     "output_type": "stream",
     "text": [
      "Defaulting to user installation because normal site-packages is not writeable\n",
      "Requirement already satisfied: beautifulsoup4 in /Users/tomhoareau/Library/Python/3.9/lib/python/site-packages (from -r requirements.txt (line 1)) (4.12.3)\n",
      "Requirement already satisfied: folium in /Users/tomhoareau/Library/Python/3.9/lib/python/site-packages (from -r requirements.txt (line 2)) (0.18.0)\n",
      "Requirement already satisfied: geopy in /Users/tomhoareau/Library/Python/3.9/lib/python/site-packages (from -r requirements.txt (line 3)) (2.4.1)\n",
      "Requirement already satisfied: ics in /Users/tomhoareau/Library/Python/3.9/lib/python/site-packages (from -r requirements.txt (line 4)) (0.7.2)\n",
      "Requirement already satisfied: ipywidgets in /Users/tomhoareau/Library/Python/3.9/lib/python/site-packages (from -r requirements.txt (line 5)) (8.1.5)\n",
      "Requirement already satisfied: ipython in /Users/tomhoareau/Library/Python/3.9/lib/python/site-packages (from -r requirements.txt (line 6)) (8.18.1)\n",
      "Requirement already satisfied: jinja2 in /Users/tomhoareau/Library/Python/3.9/lib/python/site-packages (from -r requirements.txt (line 7)) (3.1.4)\n",
      "Requirement already satisfied: matplotlib in /Users/tomhoareau/Library/Python/3.9/lib/python/site-packages (from -r requirements.txt (line 8)) (3.8.2)\n",
      "Requirement already satisfied: nbformat in /Users/tomhoareau/Library/Python/3.9/lib/python/site-packages (from -r requirements.txt (line 9)) (5.10.4)\n",
      "Requirement already satisfied: notebook in /Users/tomhoareau/Library/Python/3.9/lib/python/site-packages (from -r requirements.txt (line 10)) (7.3.2)\n",
      "Requirement already satisfied: numpy in /Users/tomhoareau/Library/Python/3.9/lib/python/site-packages (from -r requirements.txt (line 11)) (1.26.3)\n",
      "Requirement already satisfied: openai in /Users/tomhoareau/Library/Python/3.9/lib/python/site-packages (from -r requirements.txt (line 12)) (1.58.1)\n",
      "Requirement already satisfied: pandas in /Users/tomhoareau/Library/Python/3.9/lib/python/site-packages (from -r requirements.txt (line 13)) (2.2.0)\n",
      "Requirement already satisfied: playwright in /Users/tomhoareau/Library/Python/3.9/lib/python/site-packages (from -r requirements.txt (line 14)) (1.49.1)\n",
      "Requirement already satisfied: plotly in /Users/tomhoareau/Library/Python/3.9/lib/python/site-packages (from -r requirements.txt (line 15)) (5.24.1)\n",
      "Requirement already satisfied: requests in /Users/tomhoareau/Library/Python/3.9/lib/python/site-packages (from -r requirements.txt (line 16)) (2.31.0)\n",
      "Requirement already satisfied: scikit-learn in /Users/tomhoareau/Library/Python/3.9/lib/python/site-packages (from -r requirements.txt (line 17)) (1.5.1)\n",
      "Requirement already satisfied: scipy in /Users/tomhoareau/Library/Python/3.9/lib/python/site-packages (from -r requirements.txt (line 18)) (1.13.1)\n",
      "Requirement already satisfied: streamlit in /Users/tomhoareau/Library/Python/3.9/lib/python/site-packages (from -r requirements.txt (line 19)) (1.40.2)\n",
      "Requirement already satisfied: tqdm in /Users/tomhoareau/Library/Python/3.9/lib/python/site-packages (from -r requirements.txt (line 20)) (4.66.5)\n",
      "Requirement already satisfied: openpyxl in /Users/tomhoareau/Library/Python/3.9/lib/python/site-packages (from -r requirements.txt (line 22)) (3.1.2)\n",
      "Requirement already satisfied: soupsieve>1.2 in /Users/tomhoareau/Library/Python/3.9/lib/python/site-packages (from beautifulsoup4->-r requirements.txt (line 1)) (2.5)\n",
      "Requirement already satisfied: branca>=0.6.0 in /Users/tomhoareau/Library/Python/3.9/lib/python/site-packages (from folium->-r requirements.txt (line 2)) (0.8.0)\n",
      "Requirement already satisfied: xyzservices in /Users/tomhoareau/Library/Python/3.9/lib/python/site-packages (from folium->-r requirements.txt (line 2)) (2024.9.0)\n",
      "Requirement already satisfied: geographiclib<3,>=1.52 in /Users/tomhoareau/Library/Python/3.9/lib/python/site-packages (from geopy->-r requirements.txt (line 3)) (2.0)\n",
      "Requirement already satisfied: python-dateutil in /Users/tomhoareau/Library/Python/3.9/lib/python/site-packages (from ics->-r requirements.txt (line 4)) (2.8.2)\n",
      "Requirement already satisfied: arrow>=0.11 in /Users/tomhoareau/Library/Python/3.9/lib/python/site-packages (from ics->-r requirements.txt (line 4)) (1.3.0)\n",
      "Requirement already satisfied: six>1.5 in /Applications/Xcode.app/Contents/Developer/Library/Frameworks/Python3.framework/Versions/3.9/lib/python3.9/site-packages (from ics->-r requirements.txt (line 4)) (1.15.0)\n",
      "Requirement already satisfied: tatsu>4.2 in /Users/tomhoareau/Library/Python/3.9/lib/python/site-packages (from ics->-r requirements.txt (line 4)) (5.8.3)\n",
      "Requirement already satisfied: attrs>=19.1.0 in /Users/tomhoareau/Library/Python/3.9/lib/python/site-packages (from ics->-r requirements.txt (line 4)) (23.2.0)\n",
      "Requirement already satisfied: comm>=0.1.3 in /Users/tomhoareau/Library/Python/3.9/lib/python/site-packages (from ipywidgets->-r requirements.txt (line 5)) (0.2.2)\n",
      "Requirement already satisfied: traitlets>=4.3.1 in /Users/tomhoareau/Library/Python/3.9/lib/python/site-packages (from ipywidgets->-r requirements.txt (line 5)) (5.14.3)\n",
      "Requirement already satisfied: widgetsnbextension~=4.0.12 in /Users/tomhoareau/Library/Python/3.9/lib/python/site-packages (from ipywidgets->-r requirements.txt (line 5)) (4.0.13)\n",
      "Requirement already satisfied: jupyterlab-widgets~=3.0.12 in /Users/tomhoareau/Library/Python/3.9/lib/python/site-packages (from ipywidgets->-r requirements.txt (line 5)) (3.0.13)\n",
      "Requirement already satisfied: decorator in /Users/tomhoareau/Library/Python/3.9/lib/python/site-packages (from ipython->-r requirements.txt (line 6)) (5.1.1)\n",
      "Requirement already satisfied: jedi>=0.16 in /Users/tomhoareau/Library/Python/3.9/lib/python/site-packages (from ipython->-r requirements.txt (line 6)) (0.19.2)\n",
      "Requirement already satisfied: matplotlib-inline in /Users/tomhoareau/Library/Python/3.9/lib/python/site-packages (from ipython->-r requirements.txt (line 6)) (0.1.7)\n",
      "Requirement already satisfied: prompt-toolkit<3.1.0,>=3.0.41 in /Users/tomhoareau/Library/Python/3.9/lib/python/site-packages (from ipython->-r requirements.txt (line 6)) (3.0.47)\n",
      "Requirement already satisfied: pygments>=2.4.0 in /Users/tomhoareau/Library/Python/3.9/lib/python/site-packages (from ipython->-r requirements.txt (line 6)) (2.18.0)\n",
      "Requirement already satisfied: stack-data in /Users/tomhoareau/Library/Python/3.9/lib/python/site-packages (from ipython->-r requirements.txt (line 6)) (0.6.3)\n",
      "Requirement already satisfied: typing-extensions in /Users/tomhoareau/Library/Python/3.9/lib/python/site-packages (from ipython->-r requirements.txt (line 6)) (4.12.2)\n",
      "Requirement already satisfied: exceptiongroup in /Users/tomhoareau/Library/Python/3.9/lib/python/site-packages (from ipython->-r requirements.txt (line 6)) (1.2.0)\n",
      "Requirement already satisfied: pexpect>4.3 in /Users/tomhoareau/Library/Python/3.9/lib/python/site-packages (from ipython->-r requirements.txt (line 6)) (4.9.0)\n",
      "Requirement already satisfied: MarkupSafe>=2.0 in /Users/tomhoareau/Library/Python/3.9/lib/python/site-packages (from jinja2->-r requirements.txt (line 7)) (2.1.5)\n",
      "Requirement already satisfied: contourpy>=1.0.1 in /Users/tomhoareau/Library/Python/3.9/lib/python/site-packages (from matplotlib->-r requirements.txt (line 8)) (1.2.0)\n",
      "Requirement already satisfied: cycler>=0.10 in /Users/tomhoareau/Library/Python/3.9/lib/python/site-packages (from matplotlib->-r requirements.txt (line 8)) (0.12.1)\n",
      "Requirement already satisfied: fonttools>=4.22.0 in /Users/tomhoareau/Library/Python/3.9/lib/python/site-packages (from matplotlib->-r requirements.txt (line 8)) (4.47.2)\n",
      "Requirement already satisfied: kiwisolver>=1.3.1 in /Users/tomhoareau/Library/Python/3.9/lib/python/site-packages (from matplotlib->-r requirements.txt (line 8)) (1.4.5)\n",
      "Requirement already satisfied: packaging>=20.0 in /Users/tomhoareau/Library/Python/3.9/lib/python/site-packages (from matplotlib->-r requirements.txt (line 8)) (23.2)\n",
      "Requirement already satisfied: pillow>=8 in /Users/tomhoareau/Library/Python/3.9/lib/python/site-packages (from matplotlib->-r requirements.txt (line 8)) (10.2.0)\n",
      "Requirement already satisfied: pyparsing>=2.3.1 in /Users/tomhoareau/Library/Python/3.9/lib/python/site-packages (from matplotlib->-r requirements.txt (line 8)) (3.1.1)\n",
      "Requirement already satisfied: importlib-resources>=3.2.0 in /Users/tomhoareau/Library/Python/3.9/lib/python/site-packages (from matplotlib->-r requirements.txt (line 8)) (6.1.1)\n",
      "Requirement already satisfied: fastjsonschema>=2.15 in /Users/tomhoareau/Library/Python/3.9/lib/python/site-packages (from nbformat->-r requirements.txt (line 9)) (2.21.1)\n",
      "Requirement already satisfied: jsonschema>=2.6 in /Users/tomhoareau/Library/Python/3.9/lib/python/site-packages (from nbformat->-r requirements.txt (line 9)) (4.23.0)\n",
      "Requirement already satisfied: jupyter-core!=5.0.*,>=4.12 in /Users/tomhoareau/Library/Python/3.9/lib/python/site-packages (from nbformat->-r requirements.txt (line 9)) (5.7.2)\n",
      "Requirement already satisfied: jupyter-server<3,>=2.4.0 in /Users/tomhoareau/Library/Python/3.9/lib/python/site-packages (from notebook->-r requirements.txt (line 10)) (2.15.0)\n",
      "Requirement already satisfied: jupyterlab-server<3,>=2.27.1 in /Users/tomhoareau/Library/Python/3.9/lib/python/site-packages (from notebook->-r requirements.txt (line 10)) (2.27.3)\n",
      "Requirement already satisfied: jupyterlab<4.4,>=4.3.4 in /Users/tomhoareau/Library/Python/3.9/lib/python/site-packages (from notebook->-r requirements.txt (line 10)) (4.3.4)\n",
      "Requirement already satisfied: notebook-shim<0.3,>=0.2 in /Users/tomhoareau/Library/Python/3.9/lib/python/site-packages (from notebook->-r requirements.txt (line 10)) (0.2.4)\n",
      "Requirement already satisfied: tornado>=6.2.0 in /Users/tomhoareau/Library/Python/3.9/lib/python/site-packages (from notebook->-r requirements.txt (line 10)) (6.4.1)\n",
      "Requirement already satisfied: anyio<5,>=3.5.0 in /Users/tomhoareau/Library/Python/3.9/lib/python/site-packages (from openai->-r requirements.txt (line 12)) (4.4.0)\n",
      "Requirement already satisfied: distro<2,>=1.7.0 in /Users/tomhoareau/Library/Python/3.9/lib/python/site-packages (from openai->-r requirements.txt (line 12)) (1.9.0)\n",
      "Requirement already satisfied: httpx<1,>=0.23.0 in /Users/tomhoareau/Library/Python/3.9/lib/python/site-packages (from openai->-r requirements.txt (line 12)) (0.28.1)\n",
      "Requirement already satisfied: jiter<1,>=0.4.0 in /Users/tomhoareau/Library/Python/3.9/lib/python/site-packages (from openai->-r requirements.txt (line 12)) (0.8.2)\n",
      "Requirement already satisfied: pydantic<3,>=1.9.0 in /Users/tomhoareau/Library/Python/3.9/lib/python/site-packages (from openai->-r requirements.txt (line 12)) (2.10.4)\n",
      "Requirement already satisfied: sniffio in /Users/tomhoareau/Library/Python/3.9/lib/python/site-packages (from openai->-r requirements.txt (line 12)) (1.3.0)\n",
      "Requirement already satisfied: pytz>=2020.1 in /Users/tomhoareau/Library/Python/3.9/lib/python/site-packages (from pandas->-r requirements.txt (line 13)) (2024.1)\n",
      "Requirement already satisfied: tzdata>=2022.7 in /Users/tomhoareau/Library/Python/3.9/lib/python/site-packages (from pandas->-r requirements.txt (line 13)) (2024.1)\n",
      "Requirement already satisfied: greenlet==3.1.1 in /Users/tomhoareau/Library/Python/3.9/lib/python/site-packages (from playwright->-r requirements.txt (line 14)) (3.1.1)\n",
      "Requirement already satisfied: pyee==12.0.0 in /Users/tomhoareau/Library/Python/3.9/lib/python/site-packages (from playwright->-r requirements.txt (line 14)) (12.0.0)\n",
      "Requirement already satisfied: tenacity>=6.2.0 in /Users/tomhoareau/Library/Python/3.9/lib/python/site-packages (from plotly->-r requirements.txt (line 15)) (9.0.0)\n",
      "Requirement already satisfied: charset-normalizer<4,>=2 in /Users/tomhoareau/Library/Python/3.9/lib/python/site-packages (from requests->-r requirements.txt (line 16)) (3.3.2)\n",
      "Requirement already satisfied: idna<4,>=2.5 in /Users/tomhoareau/Library/Python/3.9/lib/python/site-packages (from requests->-r requirements.txt (line 16)) (3.6)\n",
      "Requirement already satisfied: urllib3<3,>=1.21.1 in /Users/tomhoareau/Library/Python/3.9/lib/python/site-packages (from requests->-r requirements.txt (line 16)) (2.2.0)\n",
      "Requirement already satisfied: certifi>=2017.4.17 in /Users/tomhoareau/Library/Python/3.9/lib/python/site-packages (from requests->-r requirements.txt (line 16)) (2024.2.2)\n",
      "Requirement already satisfied: joblib>=1.2.0 in /Users/tomhoareau/Library/Python/3.9/lib/python/site-packages (from scikit-learn->-r requirements.txt (line 17)) (1.4.2)\n",
      "Requirement already satisfied: threadpoolctl>=3.1.0 in /Users/tomhoareau/Library/Python/3.9/lib/python/site-packages (from scikit-learn->-r requirements.txt (line 17)) (3.5.0)\n",
      "Requirement already satisfied: altair<6,>=4.0 in /Users/tomhoareau/Library/Python/3.9/lib/python/site-packages (from streamlit->-r requirements.txt (line 19)) (5.5.0)\n",
      "Requirement already satisfied: blinker<2,>=1.0.0 in /Users/tomhoareau/Library/Python/3.9/lib/python/site-packages (from streamlit->-r requirements.txt (line 19)) (1.9.0)\n",
      "Requirement already satisfied: cachetools<6,>=4.0 in /Users/tomhoareau/Library/Python/3.9/lib/python/site-packages (from streamlit->-r requirements.txt (line 19)) (5.5.0)\n",
      "Requirement already satisfied: click<9,>=7.0 in /Users/tomhoareau/Library/Python/3.9/lib/python/site-packages (from streamlit->-r requirements.txt (line 19)) (8.1.7)\n",
      "Requirement already satisfied: protobuf<6,>=3.20 in /Users/tomhoareau/Library/Python/3.9/lib/python/site-packages (from streamlit->-r requirements.txt (line 19)) (4.25.4)\n",
      "Requirement already satisfied: pyarrow>=7.0 in /Users/tomhoareau/Library/Python/3.9/lib/python/site-packages (from streamlit->-r requirements.txt (line 19)) (18.1.0)\n",
      "Requirement already satisfied: rich<14,>=10.14.0 in /Users/tomhoareau/Library/Python/3.9/lib/python/site-packages (from streamlit->-r requirements.txt (line 19)) (13.8.0)\n",
      "Requirement already satisfied: toml<2,>=0.10.1 in /Users/tomhoareau/Library/Python/3.9/lib/python/site-packages (from streamlit->-r requirements.txt (line 19)) (0.10.2)\n",
      "Requirement already satisfied: gitpython!=3.1.19,<4,>=3.0.7 in /Users/tomhoareau/Library/Python/3.9/lib/python/site-packages (from streamlit->-r requirements.txt (line 19)) (3.1.43)\n",
      "Requirement already satisfied: pydeck<1,>=0.8.0b4 in /Users/tomhoareau/Library/Python/3.9/lib/python/site-packages (from streamlit->-r requirements.txt (line 19)) (0.9.1)\n",
      "Requirement already satisfied: et-xmlfile in /Users/tomhoareau/Library/Python/3.9/lib/python/site-packages (from openpyxl->-r requirements.txt (line 22)) (1.1.0)\n",
      "Requirement already satisfied: narwhals>=1.14.2 in /Users/tomhoareau/Library/Python/3.9/lib/python/site-packages (from altair<6,>=4.0->streamlit->-r requirements.txt (line 19)) (1.15.1)\n",
      "Requirement already satisfied: types-python-dateutil>=2.8.10 in /Users/tomhoareau/Library/Python/3.9/lib/python/site-packages (from arrow>=0.11->ics->-r requirements.txt (line 4)) (2.9.0.20241206)\n",
      "Requirement already satisfied: gitdb<5,>=4.0.1 in /Users/tomhoareau/Library/Python/3.9/lib/python/site-packages (from gitpython!=3.1.19,<4,>=3.0.7->streamlit->-r requirements.txt (line 19)) (4.0.11)\n",
      "Requirement already satisfied: httpcore==1.* in /Users/tomhoareau/Library/Python/3.9/lib/python/site-packages (from httpx<1,>=0.23.0->openai->-r requirements.txt (line 12)) (1.0.7)\n",
      "Requirement already satisfied: h11<0.15,>=0.13 in /Users/tomhoareau/Library/Python/3.9/lib/python/site-packages (from httpcore==1.*->httpx<1,>=0.23.0->openai->-r requirements.txt (line 12)) (0.14.0)\n",
      "Requirement already satisfied: zipp>=3.1.0 in /Users/tomhoareau/Library/Python/3.9/lib/python/site-packages (from importlib-resources>=3.2.0->matplotlib->-r requirements.txt (line 8)) (3.17.0)\n",
      "Requirement already satisfied: parso<0.9.0,>=0.8.4 in /Users/tomhoareau/Library/Python/3.9/lib/python/site-packages (from jedi>=0.16->ipython->-r requirements.txt (line 6)) (0.8.4)\n",
      "Requirement already satisfied: jsonschema-specifications>=2023.03.6 in /Users/tomhoareau/Library/Python/3.9/lib/python/site-packages (from jsonschema>=2.6->nbformat->-r requirements.txt (line 9)) (2024.10.1)\n",
      "Requirement already satisfied: referencing>=0.28.4 in /Users/tomhoareau/Library/Python/3.9/lib/python/site-packages (from jsonschema>=2.6->nbformat->-r requirements.txt (line 9)) (0.35.1)\n",
      "Requirement already satisfied: rpds-py>=0.7.1 in /Users/tomhoareau/Library/Python/3.9/lib/python/site-packages (from jsonschema>=2.6->nbformat->-r requirements.txt (line 9)) (0.22.0)\n",
      "Requirement already satisfied: platformdirs>=2.5 in /Users/tomhoareau/Library/Python/3.9/lib/python/site-packages (from jupyter-core!=5.0.*,>=4.12->nbformat->-r requirements.txt (line 9)) (4.2.2)\n",
      "Requirement already satisfied: argon2-cffi>=21.1 in /Users/tomhoareau/Library/Python/3.9/lib/python/site-packages (from jupyter-server<3,>=2.4.0->notebook->-r requirements.txt (line 10)) (23.1.0)\n",
      "Requirement already satisfied: jupyter-client>=7.4.4 in /Users/tomhoareau/Library/Python/3.9/lib/python/site-packages (from jupyter-server<3,>=2.4.0->notebook->-r requirements.txt (line 10)) (8.6.2)\n",
      "Requirement already satisfied: jupyter-events>=0.11.0 in /Users/tomhoareau/Library/Python/3.9/lib/python/site-packages (from jupyter-server<3,>=2.4.0->notebook->-r requirements.txt (line 10)) (0.11.0)\n",
      "Requirement already satisfied: jupyter-server-terminals>=0.4.4 in /Users/tomhoareau/Library/Python/3.9/lib/python/site-packages (from jupyter-server<3,>=2.4.0->notebook->-r requirements.txt (line 10)) (0.5.3)\n",
      "Requirement already satisfied: nbconvert>=6.4.4 in /Users/tomhoareau/Library/Python/3.9/lib/python/site-packages (from jupyter-server<3,>=2.4.0->notebook->-r requirements.txt (line 10)) (7.16.4)\n",
      "Requirement already satisfied: overrides>=5.0 in /Users/tomhoareau/Library/Python/3.9/lib/python/site-packages (from jupyter-server<3,>=2.4.0->notebook->-r requirements.txt (line 10)) (7.7.0)\n",
      "Requirement already satisfied: prometheus-client>=0.9 in /Users/tomhoareau/Library/Python/3.9/lib/python/site-packages (from jupyter-server<3,>=2.4.0->notebook->-r requirements.txt (line 10)) (0.21.1)\n",
      "Requirement already satisfied: pyzmq>=24 in /Users/tomhoareau/Library/Python/3.9/lib/python/site-packages (from jupyter-server<3,>=2.4.0->notebook->-r requirements.txt (line 10)) (26.0.3)\n",
      "Requirement already satisfied: send2trash>=1.8.2 in /Users/tomhoareau/Library/Python/3.9/lib/python/site-packages (from jupyter-server<3,>=2.4.0->notebook->-r requirements.txt (line 10)) (1.8.3)\n",
      "Requirement already satisfied: terminado>=0.8.3 in /Users/tomhoareau/Library/Python/3.9/lib/python/site-packages (from jupyter-server<3,>=2.4.0->notebook->-r requirements.txt (line 10)) (0.18.1)\n",
      "Requirement already satisfied: websocket-client>=1.7 in /Users/tomhoareau/Library/Python/3.9/lib/python/site-packages (from jupyter-server<3,>=2.4.0->notebook->-r requirements.txt (line 10)) (1.8.0)\n",
      "Requirement already satisfied: async-lru>=1.0.0 in /Users/tomhoareau/Library/Python/3.9/lib/python/site-packages (from jupyterlab<4.4,>=4.3.4->notebook->-r requirements.txt (line 10)) (2.0.4)\n",
      "Requirement already satisfied: importlib-metadata>=4.8.3 in /Users/tomhoareau/Library/Python/3.9/lib/python/site-packages (from jupyterlab<4.4,>=4.3.4->notebook->-r requirements.txt (line 10)) (8.0.0)\n",
      "Requirement already satisfied: ipykernel>=6.5.0 in /Users/tomhoareau/Library/Python/3.9/lib/python/site-packages (from jupyterlab<4.4,>=4.3.4->notebook->-r requirements.txt (line 10)) (6.29.5)\n",
      "Requirement already satisfied: jupyter-lsp>=2.0.0 in /Users/tomhoareau/Library/Python/3.9/lib/python/site-packages (from jupyterlab<4.4,>=4.3.4->notebook->-r requirements.txt (line 10)) (2.2.5)\n",
      "Requirement already satisfied: setuptools>=40.8.0 in /Applications/Xcode.app/Contents/Developer/Library/Frameworks/Python3.framework/Versions/3.9/lib/python3.9/site-packages (from jupyterlab<4.4,>=4.3.4->notebook->-r requirements.txt (line 10)) (58.0.4)\n",
      "Requirement already satisfied: tomli>=1.2.2 in /Users/tomhoareau/Library/Python/3.9/lib/python/site-packages (from jupyterlab<4.4,>=4.3.4->notebook->-r requirements.txt (line 10)) (2.2.1)\n",
      "Requirement already satisfied: babel>=2.10 in /Users/tomhoareau/Library/Python/3.9/lib/python/site-packages (from jupyterlab-server<3,>=2.27.1->notebook->-r requirements.txt (line 10)) (2.16.0)\n",
      "Requirement already satisfied: json5>=0.9.0 in /Users/tomhoareau/Library/Python/3.9/lib/python/site-packages (from jupyterlab-server<3,>=2.27.1->notebook->-r requirements.txt (line 10)) (0.10.0)\n",
      "Requirement already satisfied: ptyprocess>=0.5 in /Users/tomhoareau/Library/Python/3.9/lib/python/site-packages (from pexpect>4.3->ipython->-r requirements.txt (line 6)) (0.7.0)\n",
      "Requirement already satisfied: wcwidth in /Users/tomhoareau/Library/Python/3.9/lib/python/site-packages (from prompt-toolkit<3.1.0,>=3.0.41->ipython->-r requirements.txt (line 6)) (0.2.13)\n",
      "Requirement already satisfied: annotated-types>=0.6.0 in /Users/tomhoareau/Library/Python/3.9/lib/python/site-packages (from pydantic<3,>=1.9.0->openai->-r requirements.txt (line 12)) (0.7.0)\n",
      "Requirement already satisfied: pydantic-core==2.27.2 in /Users/tomhoareau/Library/Python/3.9/lib/python/site-packages (from pydantic<3,>=1.9.0->openai->-r requirements.txt (line 12)) (2.27.2)\n",
      "Requirement already satisfied: markdown-it-py>=2.2.0 in /Users/tomhoareau/Library/Python/3.9/lib/python/site-packages (from rich<14,>=10.14.0->streamlit->-r requirements.txt (line 19)) (3.0.0)\n",
      "Requirement already satisfied: executing>=1.2.0 in /Users/tomhoareau/Library/Python/3.9/lib/python/site-packages (from stack-data->ipython->-r requirements.txt (line 6)) (2.0.1)\n",
      "Requirement already satisfied: asttokens>=2.1.0 in /Users/tomhoareau/Library/Python/3.9/lib/python/site-packages (from stack-data->ipython->-r requirements.txt (line 6)) (2.4.1)\n",
      "Requirement already satisfied: pure-eval in /Users/tomhoareau/Library/Python/3.9/lib/python/site-packages (from stack-data->ipython->-r requirements.txt (line 6)) (0.2.2)\n",
      "Requirement already satisfied: argon2-cffi-bindings in /Users/tomhoareau/Library/Python/3.9/lib/python/site-packages (from argon2-cffi>=21.1->jupyter-server<3,>=2.4.0->notebook->-r requirements.txt (line 10)) (21.2.0)\n",
      "Requirement already satisfied: smmap<6,>=3.0.1 in /Users/tomhoareau/Library/Python/3.9/lib/python/site-packages (from gitdb<5,>=4.0.1->gitpython!=3.1.19,<4,>=3.0.7->streamlit->-r requirements.txt (line 19)) (5.0.1)\n",
      "Requirement already satisfied: appnope in /Users/tomhoareau/Library/Python/3.9/lib/python/site-packages (from ipykernel>=6.5.0->jupyterlab<4.4,>=4.3.4->notebook->-r requirements.txt (line 10)) (0.1.4)\n",
      "Requirement already satisfied: debugpy>=1.6.5 in /Users/tomhoareau/Library/Python/3.9/lib/python/site-packages (from ipykernel>=6.5.0->jupyterlab<4.4,>=4.3.4->notebook->-r requirements.txt (line 10)) (1.8.2)\n",
      "Requirement already satisfied: nest-asyncio in /Users/tomhoareau/Library/Python/3.9/lib/python/site-packages (from ipykernel>=6.5.0->jupyterlab<4.4,>=4.3.4->notebook->-r requirements.txt (line 10)) (1.6.0)\n",
      "Requirement already satisfied: psutil in /Users/tomhoareau/Library/Python/3.9/lib/python/site-packages (from ipykernel>=6.5.0->jupyterlab<4.4,>=4.3.4->notebook->-r requirements.txt (line 10)) (6.0.0)\n",
      "Requirement already satisfied: python-json-logger>=2.0.4 in /Users/tomhoareau/Library/Python/3.9/lib/python/site-packages (from jupyter-events>=0.11.0->jupyter-server<3,>=2.4.0->notebook->-r requirements.txt (line 10)) (3.2.1)\n",
      "Requirement already satisfied: pyyaml>=5.3 in /Users/tomhoareau/Library/Python/3.9/lib/python/site-packages (from jupyter-events>=0.11.0->jupyter-server<3,>=2.4.0->notebook->-r requirements.txt (line 10)) (6.0.2)\n",
      "Requirement already satisfied: rfc3339-validator in /Users/tomhoareau/Library/Python/3.9/lib/python/site-packages (from jupyter-events>=0.11.0->jupyter-server<3,>=2.4.0->notebook->-r requirements.txt (line 10)) (0.1.4)\n",
      "Requirement already satisfied: rfc3986-validator>=0.1.1 in /Users/tomhoareau/Library/Python/3.9/lib/python/site-packages (from jupyter-events>=0.11.0->jupyter-server<3,>=2.4.0->notebook->-r requirements.txt (line 10)) (0.1.1)\n",
      "Requirement already satisfied: mdurl~=0.1 in /Users/tomhoareau/Library/Python/3.9/lib/python/site-packages (from markdown-it-py>=2.2.0->rich<14,>=10.14.0->streamlit->-r requirements.txt (line 19)) (0.1.2)\n",
      "Requirement already satisfied: bleach!=5.0.0 in /Users/tomhoareau/Library/Python/3.9/lib/python/site-packages (from nbconvert>=6.4.4->jupyter-server<3,>=2.4.0->notebook->-r requirements.txt (line 10)) (6.2.0)\n",
      "Requirement already satisfied: defusedxml in /Users/tomhoareau/Library/Python/3.9/lib/python/site-packages (from nbconvert>=6.4.4->jupyter-server<3,>=2.4.0->notebook->-r requirements.txt (line 10)) (0.7.1)\n",
      "Requirement already satisfied: jupyterlab-pygments in /Users/tomhoareau/Library/Python/3.9/lib/python/site-packages (from nbconvert>=6.4.4->jupyter-server<3,>=2.4.0->notebook->-r requirements.txt (line 10)) (0.3.0)\n",
      "Requirement already satisfied: mistune<4,>=2.0.3 in /Users/tomhoareau/Library/Python/3.9/lib/python/site-packages (from nbconvert>=6.4.4->jupyter-server<3,>=2.4.0->notebook->-r requirements.txt (line 10)) (3.0.2)\n",
      "Requirement already satisfied: nbclient>=0.5.0 in /Users/tomhoareau/Library/Python/3.9/lib/python/site-packages (from nbconvert>=6.4.4->jupyter-server<3,>=2.4.0->notebook->-r requirements.txt (line 10)) (0.10.2)\n",
      "Requirement already satisfied: pandocfilters>=1.4.1 in /Users/tomhoareau/Library/Python/3.9/lib/python/site-packages (from nbconvert>=6.4.4->jupyter-server<3,>=2.4.0->notebook->-r requirements.txt (line 10)) (1.5.1)\n",
      "Requirement already satisfied: tinycss2 in /Users/tomhoareau/Library/Python/3.9/lib/python/site-packages (from nbconvert>=6.4.4->jupyter-server<3,>=2.4.0->notebook->-r requirements.txt (line 10)) (1.4.0)\n",
      "Requirement already satisfied: webencodings in /Users/tomhoareau/Library/Python/3.9/lib/python/site-packages (from bleach!=5.0.0->nbconvert>=6.4.4->jupyter-server<3,>=2.4.0->notebook->-r requirements.txt (line 10)) (0.5.1)\n",
      "Requirement already satisfied: fqdn in /Users/tomhoareau/Library/Python/3.9/lib/python/site-packages (from jsonschema[format-nongpl]>=4.18.0->jupyter-events>=0.11.0->jupyter-server<3,>=2.4.0->notebook->-r requirements.txt (line 10)) (1.5.1)\n",
      "Requirement already satisfied: isoduration in /Users/tomhoareau/Library/Python/3.9/lib/python/site-packages (from jsonschema[format-nongpl]>=4.18.0->jupyter-events>=0.11.0->jupyter-server<3,>=2.4.0->notebook->-r requirements.txt (line 10)) (20.11.0)\n",
      "Requirement already satisfied: jsonpointer>1.13 in /Users/tomhoareau/Library/Python/3.9/lib/python/site-packages (from jsonschema[format-nongpl]>=4.18.0->jupyter-events>=0.11.0->jupyter-server<3,>=2.4.0->notebook->-r requirements.txt (line 10)) (3.0.0)\n",
      "Requirement already satisfied: uri-template in /Users/tomhoareau/Library/Python/3.9/lib/python/site-packages (from jsonschema[format-nongpl]>=4.18.0->jupyter-events>=0.11.0->jupyter-server<3,>=2.4.0->notebook->-r requirements.txt (line 10)) (1.3.0)\n",
      "Requirement already satisfied: webcolors>=24.6.0 in /Users/tomhoareau/Library/Python/3.9/lib/python/site-packages (from jsonschema[format-nongpl]>=4.18.0->jupyter-events>=0.11.0->jupyter-server<3,>=2.4.0->notebook->-r requirements.txt (line 10)) (24.11.1)\n",
      "Requirement already satisfied: cffi>=1.0.1 in /Users/tomhoareau/Library/Python/3.9/lib/python/site-packages (from argon2-cffi-bindings->argon2-cffi>=21.1->jupyter-server<3,>=2.4.0->notebook->-r requirements.txt (line 10)) (1.17.1)\n",
      "Requirement already satisfied: pycparser in /Users/tomhoareau/Library/Python/3.9/lib/python/site-packages (from cffi>=1.0.1->argon2-cffi-bindings->argon2-cffi>=21.1->jupyter-server<3,>=2.4.0->notebook->-r requirements.txt (line 10)) (2.22)\n",
      "\n",
      "\u001b[1m[\u001b[0m\u001b[34;49mnotice\u001b[0m\u001b[1;39;49m]\u001b[0m\u001b[39;49m A new release of pip is available: \u001b[0m\u001b[31;49m24.0\u001b[0m\u001b[39;49m -> \u001b[0m\u001b[32;49m24.3.1\u001b[0m\n",
      "\u001b[1m[\u001b[0m\u001b[34;49mnotice\u001b[0m\u001b[1;39;49m]\u001b[0m\u001b[39;49m To update, run: \u001b[0m\u001b[32;49m/Applications/Xcode.app/Contents/Developer/usr/bin/python3 -m pip install --upgrade pip\u001b[0m\n",
      "Note: you may need to restart the kernel to use updated packages.\n"
     ]
    }
   ],
   "source": [
    "pip install -r requirements.txt"
   ]
  },
  {
   "cell_type": "code",
   "execution_count": 20,
   "metadata": {},
   "outputs": [],
   "source": [
    "%matplotlib inline\n",
    "import pandas as pd\n",
    "import folium\n",
    "import numpy as np\n",
    "from geopy.geocoders import Nominatim\n",
    "from geopy.exc import GeocoderTimedOut\n",
    "import streamlit as st\n",
    "import ipywidgets as widgets\n",
    "import re\n",
    "import pandas as pd\n",
    "import numpy as np\n",
    "from scipy.stats import beta\n",
    "import matplotlib.pyplot as plt\n",
    "import pandas as pd\n",
    "import numpy as np\n",
    "import re\n",
    "import folium\n",
    "from folium.plugins import MarkerCluster\n",
    "import requests\n",
    "import json\n",
    "import ipywidgets as widgets\n",
    "from IPython.display import display, clear_output\n",
    "from branca.element import MacroElement\n",
    "from jinja2 import Template\n",
    "import plotly.express as px\n",
    "import nbformat\n",
    "import openpyxl"
   ]
  },
  {
   "cell_type": "markdown",
   "metadata": {},
   "source": [
    "# <span style=\"color:#008080\">Data Collection and Preparation</span>\n",
    "\n",
    "## <span style=\"color:#2E8B57\">DataFrame from Scraped Data</span>\n",
    "\n",
    "Pour illustrer notre **pipeline de data processing**, nous n’allons afficher que les **20 premières universités** dans ce notebook. Les étapes de collecte et de transformation (telles que `get_coordinates` et `wikiscrapping`) peuvent être assez longues et sont décrites dans les scripts de scraping et l’intégration GPT.  \n",
    "Ensuite, nous chargerons le **jeu de données complet** (traité et enrichi) afin de poursuivre nos analyses plus approfondies.\n"
   ]
  },
  {
   "cell_type": "code",
   "execution_count": 21,
   "metadata": {},
   "outputs": [],
   "source": [
    "# Load data\n",
    "df = pd.read_excel('universities_data_with_rankings.xlsx').head(5)\n",
    "df.rename(columns={\"Application DeadlineDeadline for application submissions. Please contact the school for more details.\":'Application Deadline'}, inplace=True)\n",
    "df[\"Net Price\"] = df[\"Net Price\"].str.replace(\"$\", \"\").str.replace(\",\", \"\").astype(float)\n"
   ]
  },
  {
   "cell_type": "markdown",
   "metadata": {},
   "source": [
    "## <span style=\"color:#2E8B57\">Structure des données</span>\n",
    "\n",
    "Pour pouvoir **mieux exploiter** les scores SAT, nous transformons la colonne initiale en deux nouvelles colonnes :  \n",
    "- `low_SAT` (score minimum)  \n",
    "- `high_SAT` (score maximum)\n",
    "\n",
    "En parallèle, nous utilisons des **expressions régulières** pour extraire les **trois principaux domaines d’études** (majors) de chaque université, ainsi que le **nombre d’étudiants** inscrits dans ces filières. Ces champs supplémentaires nous aideront à affiner l’analyse de l’offre académique et de la sélectivité.\n"
   ]
  },
  {
   "cell_type": "code",
   "execution_count": 22,
   "metadata": {},
   "outputs": [
    {
     "data": {
      "text/html": [
       "<div>\n",
       "<style scoped>\n",
       "    .dataframe tbody tr th:only-of-type {\n",
       "        vertical-align: middle;\n",
       "    }\n",
       "\n",
       "    .dataframe tbody tr th {\n",
       "        vertical-align: top;\n",
       "    }\n",
       "\n",
       "    .dataframe thead th {\n",
       "        text-align: right;\n",
       "    }\n",
       "</style>\n",
       "<table border=\"1\" class=\"dataframe\">\n",
       "  <thead>\n",
       "    <tr style=\"text-align: right;\">\n",
       "      <th></th>\n",
       "      <th>Name</th>\n",
       "      <th>City</th>\n",
       "      <th>low_sat</th>\n",
       "      <th>high_sat</th>\n",
       "      <th>major_top1</th>\n",
       "      <th>graduates_top1</th>\n",
       "      <th>major_top2</th>\n",
       "      <th>graduates_top2</th>\n",
       "      <th>major_top3</th>\n",
       "      <th>graduates_top3</th>\n",
       "    </tr>\n",
       "  </thead>\n",
       "  <tbody>\n",
       "    <tr>\n",
       "      <th>0</th>\n",
       "      <td>Massachusetts Institute of Technology</td>\n",
       "      <td>CAMBRIDGE, MA 02139</td>\n",
       "      <td>1530</td>\n",
       "      <td>1580</td>\n",
       "      <td>Computer Science</td>\n",
       "      <td>384</td>\n",
       "      <td>Mechanical Engineering</td>\n",
       "      <td>142</td>\n",
       "      <td>Mathematics</td>\n",
       "      <td>126</td>\n",
       "    </tr>\n",
       "    <tr>\n",
       "      <th>1</th>\n",
       "      <td>Yale University</td>\n",
       "      <td>NEW HAVEN, CT 06511</td>\n",
       "      <td>1500</td>\n",
       "      <td>1580</td>\n",
       "      <td>Economics</td>\n",
       "      <td>204</td>\n",
       "      <td>Political Science and Government</td>\n",
       "      <td>137</td>\n",
       "      <td>Information Science</td>\n",
       "      <td>104</td>\n",
       "    </tr>\n",
       "    <tr>\n",
       "      <th>2</th>\n",
       "      <td>Stanford University</td>\n",
       "      <td>STANFORD, CA 94305</td>\n",
       "      <td>1500</td>\n",
       "      <td>1580</td>\n",
       "      <td>Computer Science</td>\n",
       "      <td>277</td>\n",
       "      <td>Biology</td>\n",
       "      <td>176</td>\n",
       "      <td>Engineering</td>\n",
       "      <td>168</td>\n",
       "    </tr>\n",
       "    <tr>\n",
       "      <th>3</th>\n",
       "      <td>Harvard University</td>\n",
       "      <td>CAMBRIDGE, MA 02138</td>\n",
       "      <td>1490</td>\n",
       "      <td>1580</td>\n",
       "      <td>Social Science Research Methods</td>\n",
       "      <td>195</td>\n",
       "      <td>Economics</td>\n",
       "      <td>186</td>\n",
       "      <td>Computer Science</td>\n",
       "      <td>173</td>\n",
       "    </tr>\n",
       "    <tr>\n",
       "      <th>4</th>\n",
       "      <td>Dartmouth College</td>\n",
       "      <td>HANOVER, NH 03755</td>\n",
       "      <td>1500</td>\n",
       "      <td>1580</td>\n",
       "      <td>Economics</td>\n",
       "      <td>170</td>\n",
       "      <td>Political Science and Government</td>\n",
       "      <td>153</td>\n",
       "      <td>Computer Science</td>\n",
       "      <td>130</td>\n",
       "    </tr>\n",
       "  </tbody>\n",
       "</table>\n",
       "</div>"
      ],
      "text/plain": [
       "                                    Name                 City  low_sat  \\\n",
       "0  Massachusetts Institute of Technology  CAMBRIDGE, MA 02139     1530   \n",
       "1                        Yale University  NEW HAVEN, CT 06511     1500   \n",
       "2                    Stanford University   STANFORD, CA 94305     1500   \n",
       "3                     Harvard University  CAMBRIDGE, MA 02138     1490   \n",
       "4                      Dartmouth College    HANOVER, NH 03755     1500   \n",
       "\n",
       "   high_sat                       major_top1  graduates_top1  \\\n",
       "0      1580                 Computer Science             384   \n",
       "1      1580                        Economics             204   \n",
       "2      1580                 Computer Science             277   \n",
       "3      1580  Social Science Research Methods             195   \n",
       "4      1580                        Economics             170   \n",
       "\n",
       "                         major_top2  graduates_top2           major_top3  \\\n",
       "0            Mechanical Engineering             142          Mathematics   \n",
       "1  Political Science and Government             137  Information Science   \n",
       "2                           Biology             176          Engineering   \n",
       "3                         Economics             186     Computer Science   \n",
       "4  Political Science and Government             153     Computer Science   \n",
       "\n",
       "   graduates_top3  \n",
       "0             126  \n",
       "1             104  \n",
       "2             168  \n",
       "3             173  \n",
       "4             130  "
      ]
     },
     "execution_count": 22,
     "metadata": {},
     "output_type": "execute_result"
    }
   ],
   "source": [
    "from preprocessing import apply_extract_sat_range, apply_extract_majors, remove_empty_rows, add_deadline_column\n",
    "\n",
    "df=add_deadline_column(df, deadline_col='Application Deadline', output_col='Deadline Date', year=2025)\n",
    "\n",
    "\n",
    "df = remove_empty_rows(df)\n",
    "\n",
    "# Appliquer la fonction pour extraire SAT Range\n",
    "df = apply_extract_sat_range(df)\n",
    "\n",
    "# Appliquer la fonction pour extraire les majors\n",
    "df = apply_extract_majors(df)\n",
    "\n",
    "# Afficher les premières lignes\n",
    "df[['Name', 'City', 'low_sat', 'high_sat',\n",
    "    'major_top1', 'graduates_top1',\n",
    "    'major_top2', 'graduates_top2',\n",
    "    'major_top3', 'graduates_top3']].head()\n"
   ]
  },
  {
   "cell_type": "code",
   "execution_count": 23,
   "metadata": {},
   "outputs": [
    {
     "name": "stderr",
     "output_type": "stream",
     "text": [
      "Scraping Wikipedia: 100%|██████████| 5/5 [00:05<00:00,  1.13s/it]\n"
     ]
    },
    {
     "data": {
      "text/html": [
       "<div>\n",
       "<style scoped>\n",
       "    .dataframe tbody tr th:only-of-type {\n",
       "        vertical-align: middle;\n",
       "    }\n",
       "\n",
       "    .dataframe tbody tr th {\n",
       "        vertical-align: top;\n",
       "    }\n",
       "\n",
       "    .dataframe thead th {\n",
       "        text-align: right;\n",
       "    }\n",
       "</style>\n",
       "<table border=\"1\" class=\"dataframe\">\n",
       "  <thead>\n",
       "    <tr style=\"text-align: right;\">\n",
       "      <th></th>\n",
       "      <th>Name</th>\n",
       "      <th>Undergraduates</th>\n",
       "      <th>Motto</th>\n",
       "      <th>Motto in English</th>\n",
       "      <th>Website</th>\n",
       "    </tr>\n",
       "  </thead>\n",
       "  <tbody>\n",
       "    <tr>\n",
       "      <th>0</th>\n",
       "      <td>Massachusetts Institute of Technology</td>\n",
       "      <td>4576</td>\n",
       "      <td>Mens et Manus</td>\n",
       "      <td></td>\n",
       "      <td>mit.edu</td>\n",
       "    </tr>\n",
       "    <tr>\n",
       "      <th>1</th>\n",
       "      <td>Yale University</td>\n",
       "      <td>6749</td>\n",
       "      <td>Lux et veritas אורים ותמים</td>\n",
       "      <td></td>\n",
       "      <td>yale.edu</td>\n",
       "    </tr>\n",
       "    <tr>\n",
       "      <th>2</th>\n",
       "      <td>Stanford University</td>\n",
       "      <td>7841</td>\n",
       "      <td>Die Luft der Freiheit weht</td>\n",
       "      <td></td>\n",
       "      <td>stanford.edu</td>\n",
       "    </tr>\n",
       "    <tr>\n",
       "      <th>3</th>\n",
       "      <td>Harvard University</td>\n",
       "      <td>7240</td>\n",
       "      <td>Veritas</td>\n",
       "      <td></td>\n",
       "      <td>harvard.edu</td>\n",
       "    </tr>\n",
       "    <tr>\n",
       "      <th>4</th>\n",
       "      <td>Dartmouth College</td>\n",
       "      <td>4447</td>\n",
       "      <td>Vox clamantis in deserto</td>\n",
       "      <td></td>\n",
       "      <td>home.dartmouth.edu</td>\n",
       "    </tr>\n",
       "  </tbody>\n",
       "</table>\n",
       "</div>"
      ],
      "text/plain": [
       "                                    Name Undergraduates  \\\n",
       "0  Massachusetts Institute of Technology           4576   \n",
       "1                        Yale University           6749   \n",
       "2                    Stanford University           7841   \n",
       "3                     Harvard University           7240   \n",
       "4                      Dartmouth College           4447   \n",
       "\n",
       "                        Motto Motto in English             Website  \n",
       "0               Mens et Manus                              mit.edu  \n",
       "1  Lux et veritas אורים ותמים                             yale.edu  \n",
       "2  Die Luft der Freiheit weht                         stanford.edu  \n",
       "3                     Veritas                          harvard.edu  \n",
       "4    Vox clamantis in deserto                   home.dartmouth.edu  "
      ]
     },
     "execution_count": 23,
     "metadata": {},
     "output_type": "execute_result"
    }
   ],
   "source": [
    "from wiki_scraping import scrape_universities,remove_parentheses_and_brackets,clean_undergraduates\n",
    "\n",
    "\n",
    "# 2) Appeler la fonction de scraping\n",
    "df = scrape_universities(df, name_col='Name')\n",
    "\n",
    "# 3) cleaning \n",
    "df['Undergraduates'] = df['Undergraduates'].apply(clean_undergraduates)\n",
    "\n",
    "cols_to_clean = ['Undergraduates', 'Motto', 'Motto in English', 'Website']\n",
    "for col in cols_to_clean:\n",
    "    df[col] = df[col].apply(remove_parentheses_and_brackets)\n",
    "\n",
    "# 4) Vérifier les nouvelles colonnes\n",
    "df[['Name', 'Undergraduates', 'Motto', 'Motto in English', 'Website']]\n"
   ]
  },
  {
   "cell_type": "markdown",
   "metadata": {},
   "source": [
    "## <span style=\"color:#2E8B57\">Unification du Classement (Ranking)</span>\n",
    "\n",
    "En appliquant la fonction `clean_ranking` sur chaque ligne, nous **harmonisons** les valeurs de classement pour toutes les universités. Le tableau ci-dessous montre un **extrait** après traitement, où la colonne `Ranking` est convertie dans un format **numérique** cohérent. Cette simplification permet de **comparer** plus aisément les différentes institutions et d’envisager des **analyses plus fines** sur leur positionnement. Par exemple, nous excluons les Liberal Art Colleges du classement car ce type d'établissement a un classement distinct et que le classement est rarement un critère de choix pour ce type d'établissement. \n",
    "Notons que pour des raisons de simplicitité, nous avons fait appel à l'API ChatGPT pour extraire les classements (approche Most Valuable Product) et que la qualité de l'information n'est pas parfaite. "
   ]
  },
  {
   "cell_type": "code",
   "execution_count": 24,
   "metadata": {},
   "outputs": [
    {
     "data": {
      "text/html": [
       "<div>\n",
       "<style scoped>\n",
       "    .dataframe tbody tr th:only-of-type {\n",
       "        vertical-align: middle;\n",
       "    }\n",
       "\n",
       "    .dataframe tbody tr th {\n",
       "        vertical-align: top;\n",
       "    }\n",
       "\n",
       "    .dataframe thead th {\n",
       "        text-align: right;\n",
       "    }\n",
       "</style>\n",
       "<table border=\"1\" class=\"dataframe\">\n",
       "  <thead>\n",
       "    <tr style=\"text-align: right;\">\n",
       "      <th></th>\n",
       "      <th>Name</th>\n",
       "      <th>City</th>\n",
       "      <th>Ranking</th>\n",
       "    </tr>\n",
       "  </thead>\n",
       "  <tbody>\n",
       "    <tr>\n",
       "      <th>0</th>\n",
       "      <td>Massachusetts Institute of Technology</td>\n",
       "      <td>CAMBRIDGE, MA 02139</td>\n",
       "      <td>2</td>\n",
       "    </tr>\n",
       "    <tr>\n",
       "      <th>1</th>\n",
       "      <td>Yale University</td>\n",
       "      <td>NEW HAVEN, CT 06511</td>\n",
       "      <td>3</td>\n",
       "    </tr>\n",
       "    <tr>\n",
       "      <th>2</th>\n",
       "      <td>Stanford University</td>\n",
       "      <td>STANFORD, CA 94305</td>\n",
       "      <td>3</td>\n",
       "    </tr>\n",
       "    <tr>\n",
       "      <th>3</th>\n",
       "      <td>Harvard University</td>\n",
       "      <td>CAMBRIDGE, MA 02138</td>\n",
       "      <td>3</td>\n",
       "    </tr>\n",
       "    <tr>\n",
       "      <th>4</th>\n",
       "      <td>Dartmouth College</td>\n",
       "      <td>HANOVER, NH 03755</td>\n",
       "      <td>18</td>\n",
       "    </tr>\n",
       "  </tbody>\n",
       "</table>\n",
       "</div>"
      ],
      "text/plain": [
       "                                    Name                 City  Ranking\n",
       "0  Massachusetts Institute of Technology  CAMBRIDGE, MA 02139        2\n",
       "1                        Yale University  NEW HAVEN, CT 06511        3\n",
       "2                    Stanford University   STANFORD, CA 94305        3\n",
       "3                     Harvard University  CAMBRIDGE, MA 02138        3\n",
       "4                      Dartmouth College    HANOVER, NH 03755       18"
      ]
     },
     "execution_count": 24,
     "metadata": {},
     "output_type": "execute_result"
    }
   ],
   "source": [
    "from preprocessing import clean_ranking\n",
    "\n",
    "# Appliquez la fonction clean_ranking\n",
    "df['Ranking'] = df.apply(clean_ranking, axis=1)\n",
    "\n",
    "# Affichez les colonnes pertinentes\n",
    "df[['Name', 'City', 'Ranking']].head()\n"
   ]
  },
  {
   "cell_type": "markdown",
   "metadata": {},
   "source": [
    "## <span style=\"color:#2E8B57\">Géolocalisation : Latitude et Longitude</span>\n",
    "\n",
    "Pour **visualiser** et **analyser** nos universités sur une carte, nous avons ajouté deux colonnes : `Latitude` et `Longitude`. Le tableau ci-dessous illustre :\n",
    "\n",
    "- Des **adresses** parfois manquantes ou incomplètes.  \n",
    "- Certaines valeurs `NaN` là où le géocodeur n’a pas réussi à déterminer les coordonnées exactes.\n",
    "\n",
    "Malgré ces petites imperfections, la majorité des universités ont désormais des **coordonnées géographiques** exploitables, permettant de :\n",
    "\n",
    "1. **Localiser** chaque campus avec précision sur une carte interactive.  \n",
    "2. **Comparer** les caractéristiques (scores SAT, filières, etc.) en fonction de la **région** ou de l’**environnement** (urbain/rural, climat, etc.).  \n",
    "3. Approfondir les futures **analyses spatiales** (ex. densité d’établissements hautement sélectifs sur la côte Est, etc.).\n",
    "\n",
    "Cette intégration de la dimension **géographique** nous fait progresser vers un système de **recommandation plus complet**, où la localité pourra, elle aussi, être prise en compte dans le choix de l’université.\n"
   ]
  },
  {
   "cell_type": "code",
   "execution_count": 25,
   "metadata": {},
   "outputs": [
    {
     "data": {
      "text/html": [
       "<div>\n",
       "<style scoped>\n",
       "    .dataframe tbody tr th:only-of-type {\n",
       "        vertical-align: middle;\n",
       "    }\n",
       "\n",
       "    .dataframe tbody tr th {\n",
       "        vertical-align: top;\n",
       "    }\n",
       "\n",
       "    .dataframe thead th {\n",
       "        text-align: right;\n",
       "    }\n",
       "</style>\n",
       "<table border=\"1\" class=\"dataframe\">\n",
       "  <thead>\n",
       "    <tr style=\"text-align: right;\">\n",
       "      <th></th>\n",
       "      <th>Address</th>\n",
       "      <th>City</th>\n",
       "      <th>Latitude</th>\n",
       "      <th>Longitude</th>\n",
       "    </tr>\n",
       "  </thead>\n",
       "  <tbody>\n",
       "    <tr>\n",
       "      <th>0</th>\n",
       "      <td>77 MASSACHUSETTS AVE</td>\n",
       "      <td>CAMBRIDGE, MA 02139</td>\n",
       "      <td>42.359268</td>\n",
       "      <td>-71.093621</td>\n",
       "    </tr>\n",
       "    <tr>\n",
       "      <th>1</th>\n",
       "      <td>133 WALL ST</td>\n",
       "      <td>NEW HAVEN, CT 06511</td>\n",
       "      <td>41.311677</td>\n",
       "      <td>-72.928227</td>\n",
       "    </tr>\n",
       "    <tr>\n",
       "      <th>2</th>\n",
       "      <td>NaN</td>\n",
       "      <td>STANFORD, CA 94305</td>\n",
       "      <td>46.314475</td>\n",
       "      <td>11.048029</td>\n",
       "    </tr>\n",
       "    <tr>\n",
       "      <th>3</th>\n",
       "      <td>MASSACHUSETTS HALL</td>\n",
       "      <td>CAMBRIDGE, MA 02138</td>\n",
       "      <td>42.374445</td>\n",
       "      <td>-71.118298</td>\n",
       "    </tr>\n",
       "    <tr>\n",
       "      <th>4</th>\n",
       "      <td>207 PARKHURST HALL</td>\n",
       "      <td>HANOVER, NH 03755</td>\n",
       "      <td>NaN</td>\n",
       "      <td>NaN</td>\n",
       "    </tr>\n",
       "  </tbody>\n",
       "</table>\n",
       "</div>"
      ],
      "text/plain": [
       "                Address                 City   Latitude  Longitude\n",
       "0  77 MASSACHUSETTS AVE  CAMBRIDGE, MA 02139  42.359268 -71.093621\n",
       "1           133 WALL ST  NEW HAVEN, CT 06511  41.311677 -72.928227\n",
       "2                   NaN   STANFORD, CA 94305  46.314475  11.048029\n",
       "3    MASSACHUSETTS HALL  CAMBRIDGE, MA 02138  42.374445 -71.118298\n",
       "4    207 PARKHURST HALL    HANOVER, NH 03755        NaN        NaN"
      ]
     },
     "execution_count": 25,
     "metadata": {},
     "output_type": "execute_result"
    }
   ],
   "source": [
    "from preprocessing import add_coordinates_to_dataframe\n",
    "\n",
    "# Ajoutez les coordonnées \n",
    "df = add_coordinates_to_dataframe(df, address_col='Address', city_col='City')\n",
    "\n",
    "# Afficher les colonnes pertinentes\n",
    "df[['Address', 'City', 'Latitude', 'Longitude']].head()\n"
   ]
  },
  {
   "cell_type": "markdown",
   "metadata": {},
   "source": [
    "## <span style=\"color:#2E8B57\">États et Climat</span>\n",
    "\n",
    "En examinant la colonne `City`, nous avons extrait le **code État** (ex. *MA* pour *Massachusetts*) avant d’y associer un **type de climat** (ex. *Warm*, *Cold*, *Temperate*, *Hot*).  \n",
    "Le tableau ci-dessous illustre cette correspondance : on constate par exemple que certaines universités se situent dans des régions à **climat chaud** (Texas, Californie) alors que d’autres se trouvent en zones plus **froides** (New Hampshire, Illinois).\n",
    "\n",
    "Cette information s’avère utile pour :\n",
    "\n",
    "- **Localiser** rapidement chaque établissement au sein du territoire américain (via l’État).  \n",
    "- **Enrichir** les critères de recommandation, en tenant compte des préférences climatiques ou du confort géographique de chaque étudiant.  \n",
    "- **Segmenter** d’éventuelles analyses : comparer la sélectivité, les frais, ou les taux de rétention selon le climat local.\n",
    "\n",
    "Ainsi, l’ajout des colonnes `State` et `Climate` vient parfaire notre base de données en offrant une **vision plus contextualisée** de chaque université.\n"
   ]
  },
  {
   "cell_type": "code",
   "execution_count": 26,
   "metadata": {},
   "outputs": [
    {
     "name": "stdout",
     "output_type": "stream",
     "text": [
      "                  City State    Climate\n",
      "0  CAMBRIDGE, MA 02139    MA  Temperate\n",
      "1  NEW HAVEN, CT 06511    CT  Temperate\n",
      "2   STANFORD, CA 94305    CA       Warm\n",
      "3  CAMBRIDGE, MA 02138    MA  Temperate\n",
      "4    HANOVER, NH 03755    NH       Cold\n"
     ]
    }
   ],
   "source": [
    "from preprocessing import add_state_and_climate\n",
    "\n",
    "# Ajouter les colonnes 'State' et 'Climate'\n",
    "df = add_state_and_climate(df, city_col='City')\n",
    "\n",
    "# Afficher les résultats\n",
    "print(df[['City', 'State', 'Climate']])\n"
   ]
  },
  {
   "cell_type": "markdown",
   "metadata": {},
   "source": [
    "## <span style=\"color:#2E8B57\">Création d’un Équivalent de Note Française</span>\n",
    "\n",
    "Pour faciliter la **comparaison** entre les scores SAT (test d'entrée dans les universités aux États-Unis) et les **notes** plus familières du système français, nous avons mis au point un **proxy** de conversion :  \n",
    "- Les colonnes `low_grade_adjusted` et `high_grade_adjusted` traduisent ainsi les fourchettes de scores SAT en une **échelle française** (de 0 à 20, ou proche), tout en tenant compte du **taux d’admission**. \n",
    "- Cette conversion s'appuie sur la **distribution** des scores du SAT () et des mentions au bac (données de l'éducation nationale)\n",
    "- Cette conversion est ajustée par la **sélectivité** globale de l’université (`Acceptance Rate`).\n",
    "\n",
    "En un coup d’œil, on constate que des établissements tels que **Harvard** ou le **MIT** affichent des « notes ajustées » très élevées, soulignant leur niveau d’exigence exceptionnel. Ce nouvel indicateur vise à offrir un **repère clair** pour les élèves et les conseillers pédagogiques habitués au système de notation français, leur permettant de **situer** chaque université dans une grille de lecture plus familière.\n"
   ]
  },
  {
   "cell_type": "code",
   "execution_count": 27,
   "metadata": {},
   "outputs": [
    {
     "data": {
      "text/html": [
       "<div>\n",
       "<style scoped>\n",
       "    .dataframe tbody tr th:only-of-type {\n",
       "        vertical-align: middle;\n",
       "    }\n",
       "\n",
       "    .dataframe tbody tr th {\n",
       "        vertical-align: top;\n",
       "    }\n",
       "\n",
       "    .dataframe thead th {\n",
       "        text-align: right;\n",
       "    }\n",
       "</style>\n",
       "<table border=\"1\" class=\"dataframe\">\n",
       "  <thead>\n",
       "    <tr style=\"text-align: right;\">\n",
       "      <th></th>\n",
       "      <th>Name</th>\n",
       "      <th>Acceptance Rate</th>\n",
       "      <th>low_sat</th>\n",
       "      <th>high_sat</th>\n",
       "      <th>low_grade_adjusted</th>\n",
       "      <th>high_grade_adjusted</th>\n",
       "    </tr>\n",
       "  </thead>\n",
       "  <tbody>\n",
       "    <tr>\n",
       "      <th>0</th>\n",
       "      <td>Massachusetts Institute of Technology</td>\n",
       "      <td>0.04</td>\n",
       "      <td>1530</td>\n",
       "      <td>1580</td>\n",
       "      <td>18.33</td>\n",
       "      <td>18.75</td>\n",
       "    </tr>\n",
       "    <tr>\n",
       "      <th>1</th>\n",
       "      <td>Yale University</td>\n",
       "      <td>0.05</td>\n",
       "      <td>1500</td>\n",
       "      <td>1580</td>\n",
       "      <td>18.05</td>\n",
       "      <td>18.74</td>\n",
       "    </tr>\n",
       "    <tr>\n",
       "      <th>2</th>\n",
       "      <td>Stanford University</td>\n",
       "      <td>0.04</td>\n",
       "      <td>1500</td>\n",
       "      <td>1580</td>\n",
       "      <td>18.06</td>\n",
       "      <td>18.75</td>\n",
       "    </tr>\n",
       "    <tr>\n",
       "      <th>3</th>\n",
       "      <td>Harvard University</td>\n",
       "      <td>0.03</td>\n",
       "      <td>1490</td>\n",
       "      <td>1580</td>\n",
       "      <td>17.89</td>\n",
       "      <td>18.76</td>\n",
       "    </tr>\n",
       "    <tr>\n",
       "      <th>4</th>\n",
       "      <td>Dartmouth College</td>\n",
       "      <td>0.06</td>\n",
       "      <td>1500</td>\n",
       "      <td>1580</td>\n",
       "      <td>18.04</td>\n",
       "      <td>18.73</td>\n",
       "    </tr>\n",
       "  </tbody>\n",
       "</table>\n",
       "</div>"
      ],
      "text/plain": [
       "                                    Name  Acceptance Rate  low_sat  high_sat  \\\n",
       "0  Massachusetts Institute of Technology             0.04     1530      1580   \n",
       "1                        Yale University             0.05     1500      1580   \n",
       "2                    Stanford University             0.04     1500      1580   \n",
       "3                     Harvard University             0.03     1490      1580   \n",
       "4                      Dartmouth College             0.06     1500      1580   \n",
       "\n",
       "   low_grade_adjusted  high_grade_adjusted  \n",
       "0               18.33                18.75  \n",
       "1               18.05                18.74  \n",
       "2               18.06                18.75  \n",
       "3               17.89                18.76  \n",
       "4               18.04                18.73  "
      ]
     },
     "execution_count": 27,
     "metadata": {},
     "output_type": "execute_result"
    }
   ],
   "source": [
    "%matplotlib inline\n",
    "import pandas as pd\n",
    "\n",
    "# Import des fonctions déjà existantes + nouvelles\n",
    "from sat_processing import (\n",
    "    full_preprocessing,\n",
    "    plot_sat_bac_cdf_comparison,\n",
    "    plot_sat_bac_pdf_comparison\n",
    ")\n",
    "\n",
    "# 2) Appliquer la préparation complète\n",
    "df = full_preprocessing(df)\n",
    "\n",
    "# 3) Visualiser un aperçu des colonnes intéressantes\n",
    "df[['Name', 'Acceptance Rate',\n",
    "          'low_sat', 'high_sat',\n",
    "          'low_grade_adjusted', \n",
    "          'high_grade_adjusted']].head()"
   ]
  },
  {
   "cell_type": "markdown",
   "metadata": {},
   "source": [
    "## <span style=\"color:#2E8B57\">Comparaison SAT vs. Bac</span>\n",
    "\n",
    "Les graphiques ci-dessous affichent **l’évolution cumulative** (CDF) et **la densité de probabilité** (PDF) pour les scores SAT et les notes du Baccalauréat français :\n",
    "\n",
    "- **CDF - SAT** (en bleu) : La courbe montre la répartition des scores SAT, suggérant qu’une large majorité d’étudiants obtiennent entre 900 et 1400 points, tandis que seules quelques pointes se situent en deçà de 800 ou au-dessus de 1500.  \n",
    "- **CDF - Bac** (en vert) : On constate une progression en paliers, caractéristique des notes du Bac (l’évaluation est discontinue, chaque demi-point ou point supplémentaire dans la fourchette 0–20 est facilement identifiable).\n",
    "\n",
    "En bas, les **PDF** (histogrammes) mettent en évidence :\n",
    "- **SAT** : Une distribution **gaussienne** relativement centrée (autour de 1050–1100), avec un **étalement** plus ou moins symétrique.  \n",
    "- **Bac** : Une répartition **asymétrique**, axée sur la tranche 10–15, reflétant la prédominance des notes comprises entre la moyenne (10) et la mention assez bien/bien (12–14).\n",
    "\n"
   ]
  },
  {
   "cell_type": "code",
   "execution_count": 28,
   "metadata": {},
   "outputs": [
    {
     "data": {
      "image/png": "[encoded data removed]",
      "text/plain": [
       "<Figure size 1200x500 with 2 Axes>"
      ]
     },
     "metadata": {},
     "output_type": "display_data"
    },
    {
     "data": {
      "image/png": "[encoded data removed]",
      "text/plain": [
       "<Figure size 1200x500 with 2 Axes>"
      ]
     },
     "metadata": {},
     "output_type": "display_data"
    }
   ],
   "source": [
    "plot_sat_bac_cdf_comparison()\n",
    "plot_sat_bac_pdf_comparison()"
   ]
  },
  {
   "cell_type": "markdown",
   "metadata": {},
   "source": [
    "### <span style=\"color:#008080\">Création d’un Proxy : Conversion SAT → Note de Bac</span>\n",
    "\n",
    "En **superposant** ces distributions, on peut estimer la correspondance entre un score SAT et une **note théorique au Bac**. Cela se fait en considérant :\n",
    "1. La **forme générale** de chaque distribution (répartition et densité).\n",
    "2. Les **paliers de mention** au Baccalauréat (10, 12, 14, 16, etc.), croisés avec les **percentiles** du SAT.\n",
    "\n",
    "Le résultat se matérialise dans nos colonnes :\n",
    "- `low_grade_adjusted` et `high_grade_adjusted` qui fournissent une **approximation** du niveau de Bac correspondant à la fourchette SAT d’une université, tenant compte aussi de son **taux d’acceptation**. \n",
    "\n",
    "Ainsi, un **score SAT élevé** associé à une **faible acceptance rate** peut « équivaloir » à une note supérieure à 15/20, par exemple. À l’inverse, des établissements moins exigeants se traduiront par des « notes de Bac » ajustées plus faibles.  \n",
    "\n",
    "Cette **conversion** offre un point de repère familier aux élèves et conseillers issus du système français. Elle facilite **l’orientation** et le **positionnement** en comparaison des exigences américaines, contribuant ainsi à rendre les études internationales plus accessibles et mieux comprises.\n",
    "\n",
    "\n",
    "---\n",
    "\n",
    "## <span style=\"color:#2E8B57\">Deadline de Candidature et Export</span>\n",
    "\n",
    "Pour clore cette première phase de préparation, nous avons :\n",
    "- **Uniformisé les dates limites de candidature** (`Application Deadline`) en les projetant sur l’année 2025, afin de disposer d’un champ homogène (`Deadline Date`).  \n",
    "- **Exporté** l’ensemble des données enrichies dans `final_dataset_bis.xlsx`, permettant de les **réutiliser** ou de les **mettre à disposition** pour des analyses ultérieures ou l’intégration dans notre futur algorithme de recommandation.  \n",
    "\n",
    "Nous disposons désormais d’un **jeu de données** complet :  \n",
    "1. Nettoyé et enrichi (majors, scores SAT, rang d’admission, etc.).  \n",
    "2. Converti en **référentiels familiers** pour le public français (proxy Bac).  \n",
    "3. Prêt à être exploré via **des visualisations**, **des statistiques plus approfondies** et, à terme, notre **moteur de recommandation**.\n"
   ]
  },
  {
   "cell_type": "code",
   "execution_count": 29,
   "metadata": {},
   "outputs": [],
   "source": [
    "# Ensure 'Application Deadline' is a string\n",
    "df['Application Deadline'] = df['Application Deadline'].astype(str)\n",
    "\n",
    "# Function to parse deadlines and set the year to 2025\n",
    "def parse_deadline(deadline):\n",
    "    try:\n",
    "        # Try to parse the date without a year\n",
    "        date = pd.to_datetime(deadline, format='%B %d')\n",
    "        # Set the year to 2025\n",
    "        return date.replace(year=2025)\n",
    "    except ValueError:\n",
    "        try:\n",
    "            # Try parsing with a year (if present)\n",
    "            date = pd.to_datetime(deadline)\n",
    "            # Replace the year with 2025\n",
    "            return date.replace(year=2025)\n",
    "        except ValueError:\n",
    "            # If parsing fails, return NaT (Not a Time)\n",
    "            return pd.NaT\n",
    "\n",
    "# Apply the function to create a new 'Deadline Date' column\n",
    "df['Deadline Date'] = df['Application Deadline'].apply(parse_deadline)\n",
    "\n",
    "# Display the first few rows\n",
    "df[['Name', 'City', 'Application Deadline', 'Deadline Date']].head()\n",
    "\n",
    "df.to_excel('test_data_prep.xlsx', index=False)\n"
   ]
  },
  {
   "cell_type": "markdown",
   "metadata": {},
   "source": [
    "# <span style=\"color:#008080\">Visualisation des valeurs manquantes :</span>\n",
    "On visualise ici la proportion de valeurs manquantes (*NaN*) pour plusieurs variables du dataset. Les barres indiquent le pourcentage de *NaN* dans chaque colonne. On remarque notamment :  \n",
    "- *Undergraduates*, issu du scraping de Wikipédia, est la variable la plus incomplète (taux de *NaN* élevé).  \n",
    "- *Latitude*, qui dépend de l’adresse (dont *City* est extrait), présente aussi un pourcentage notable de *NaN*.  \n",
    "- Les autres variables (dont *low_sat*, récupérée depuis *Niche*) ont des proportions de *NaN* plus faibles, même si certaines restent significatives.  \n",
    "\n",
    "En somme, ce graphique met en évidence les colonnes pour lesquelles il existe le plus de données manquantes et offre un premier aperçu de la qualité globale de chaque source (*Wikipédia*, adresse/coordonnées géographiques, et *Niche*)."
   ]
  },
  {
   "cell_type": "code",
   "execution_count": 30,
   "metadata": {},
   "outputs": [
    {
     "data": {
      "application/vnd.plotly.v1+json": {
       "config": {
        "plotlyServerURL": "https://plot.ly"
       },
       "data": [
        {
         "alignmentgroup": "True",
         "hovertemplate": "NaN Proportion=%{x}<br>Column=%{y}<extra></extra>",
         "legendgroup": "",
         "marker": {
          "color": "#000001",
          "pattern": {
           "shape": ""
          }
         },
         "name": "",
         "offsetgroup": "",
         "orientation": "h",
         "showlegend": false,
         "textposition": "auto",
         "type": "bar",
         "x": [
          0.23634336677814938,
          0.2318840579710145,
          0.12597547380156077,
          0.004459308807134894,
          0.0011148272017837235,
          0.0011148272017837235
         ],
         "xaxis": "x",
         "y": [
          "Undergraduates",
          "Latitude",
          "low_sat",
          "City",
          "Application Deadline",
          "Acceptance Rate"
         ],
         "yaxis": "y"
        }
       ],
       "layout": {
        "barmode": "relative",
        "height": 500,
        "legend": {
         "tracegroupgap": 0
        },
        "margin": {
         "b": 50,
         "l": 100,
         "r": 50,
         "t": 50
        },
        "template": {
         "data": {
          "candlestick": [
           {
            "decreasing": {
             "line": {
              "color": "#000033"
             }
            },
            "increasing": {
             "line": {
              "color": "#000032"
             }
            },
            "type": "candlestick"
           }
          ],
          "contour": [
           {
            "colorscale": [
             [
              0,
              "#000011"
             ],
             [
              0.1111111111111111,
              "#000012"
             ],
             [
              0.2222222222222222,
              "#000013"
             ],
             [
              0.3333333333333333,
              "#000014"
             ],
             [
              0.4444444444444444,
              "#000015"
             ],
             [
              0.5555555555555556,
              "#000016"
             ],
             [
              0.6666666666666666,
              "#000017"
             ],
             [
              0.7777777777777778,
              "#000018"
             ],
             [
              0.8888888888888888,
              "#000019"
             ],
             [
              1,
              "#000020"
             ]
            ],
            "type": "contour"
           }
          ],
          "contourcarpet": [
           {
            "colorscale": [
             [
              0,
              "#000011"
             ],
             [
              0.1111111111111111,
              "#000012"
             ],
             [
              0.2222222222222222,
              "#000013"
             ],
             [
              0.3333333333333333,
              "#000014"
             ],
             [
              0.4444444444444444,
              "#000015"
             ],
             [
              0.5555555555555556,
              "#000016"
             ],
             [
              0.6666666666666666,
              "#000017"
             ],
             [
              0.7777777777777778,
              "#000018"
             ],
             [
              0.8888888888888888,
              "#000019"
             ],
             [
              1,
              "#000020"
             ]
            ],
            "type": "contourcarpet"
           }
          ],
          "heatmap": [
           {
            "colorscale": [
             [
              0,
              "#000011"
             ],
             [
              0.1111111111111111,
              "#000012"
             ],
             [
              0.2222222222222222,
              "#000013"
             ],
             [
              0.3333333333333333,
              "#000014"
             ],
             [
              0.4444444444444444,
              "#000015"
             ],
             [
              0.5555555555555556,
              "#000016"
             ],
             [
              0.6666666666666666,
              "#000017"
             ],
             [
              0.7777777777777778,
              "#000018"
             ],
             [
              0.8888888888888888,
              "#000019"
             ],
             [
              1,
              "#000020"
             ]
            ],
            "type": "heatmap"
           }
          ],
          "histogram2d": [
           {
            "colorscale": [
             [
              0,
              "#000011"
             ],
             [
              0.1111111111111111,
              "#000012"
             ],
             [
              0.2222222222222222,
              "#000013"
             ],
             [
              0.3333333333333333,
              "#000014"
             ],
             [
              0.4444444444444444,
              "#000015"
             ],
             [
              0.5555555555555556,
              "#000016"
             ],
             [
              0.6666666666666666,
              "#000017"
             ],
             [
              0.7777777777777778,
              "#000018"
             ],
             [
              0.8888888888888888,
              "#000019"
             ],
             [
              1,
              "#000020"
             ]
            ],
            "type": "histogram2d"
           }
          ],
          "icicle": [
           {
            "textfont": {
             "color": "white"
            },
            "type": "icicle"
           }
          ],
          "sankey": [
           {
            "textfont": {
             "color": "#000036"
            },
            "type": "sankey"
           }
          ],
          "scatter": [
           {
            "marker": {
             "line": {
              "width": 0
             }
            },
            "type": "scatter"
           }
          ],
          "table": [
           {
            "cells": {
             "fill": {
              "color": "#000038"
             },
             "font": {
              "color": "#000037"
             },
             "line": {
              "color": "#000039"
             }
            },
            "header": {
             "fill": {
              "color": "#000040"
             },
             "font": {
              "color": "#000036"
             },
             "line": {
              "color": "#000039"
             }
            },
            "type": "table"
           }
          ],
          "waterfall": [
           {
            "connector": {
             "line": {
              "color": "#000036",
              "width": 2
             }
            },
            "decreasing": {
             "marker": {
              "color": "#000033"
             }
            },
            "increasing": {
             "marker": {
              "color": "#000032"
             }
            },
            "totals": {
             "marker": {
              "color": "#000034"
             }
            },
            "type": "waterfall"
           }
          ]
         },
         "layout": {
          "coloraxis": {
           "colorscale": [
            [
             0,
             "#000011"
            ],
            [
             0.1111111111111111,
             "#000012"
            ],
            [
             0.2222222222222222,
             "#000013"
            ],
            [
             0.3333333333333333,
             "#000014"
            ],
            [
             0.4444444444444444,
             "#000015"
            ],
            [
             0.5555555555555556,
             "#000016"
            ],
            [
             0.6666666666666666,
             "#000017"
            ],
            [
             0.7777777777777778,
             "#000018"
            ],
            [
             0.8888888888888888,
             "#000019"
            ],
            [
             1,
             "#000020"
            ]
           ]
          },
          "colorscale": {
           "diverging": [
            [
             0,
             "#000021"
            ],
            [
             0.1,
             "#000022"
            ],
            [
             0.2,
             "#000023"
            ],
            [
             0.3,
             "#000024"
            ],
            [
             0.4,
             "#000025"
            ],
            [
             0.5,
             "#000026"
            ],
            [
             0.6,
             "#000027"
            ],
            [
             0.7,
             "#000028"
            ],
            [
             0.8,
             "#000029"
            ],
            [
             0.9,
             "#000030"
            ],
            [
             1,
             "#000031"
            ]
           ],
           "sequential": [
            [
             0,
             "#000011"
            ],
            [
             0.1111111111111111,
             "#000012"
            ],
            [
             0.2222222222222222,
             "#000013"
            ],
            [
             0.3333333333333333,
             "#000014"
            ],
            [
             0.4444444444444444,
             "#000015"
            ],
            [
             0.5555555555555556,
             "#000016"
            ],
            [
             0.6666666666666666,
             "#000017"
            ],
            [
             0.7777777777777778,
             "#000018"
            ],
            [
             0.8888888888888888,
             "#000019"
            ],
            [
             1,
             "#000020"
            ]
           ],
           "sequentialminus": [
            [
             0,
             "#000011"
            ],
            [
             0.1111111111111111,
             "#000012"
            ],
            [
             0.2222222222222222,
             "#000013"
            ],
            [
             0.3333333333333333,
             "#000014"
            ],
            [
             0.4444444444444444,
             "#000015"
            ],
            [
             0.5555555555555556,
             "#000016"
            ],
            [
             0.6666666666666666,
             "#000017"
            ],
            [
             0.7777777777777778,
             "#000018"
            ],
            [
             0.8888888888888888,
             "#000019"
            ],
            [
             1,
             "#000020"
            ]
           ]
          },
          "colorway": [
           "#000001",
           "#000002",
           "#000003",
           "#000004",
           "#000005",
           "#000006",
           "#000007",
           "#000008",
           "#000009",
           "#000010"
          ]
         }
        },
        "title": {
         "text": "Proportion de NaN par variable"
        },
        "xaxis": {
         "anchor": "y",
         "domain": [
          0,
          1
         ],
         "tickformat": ".0%",
         "title": {
          "text": "NaN Proportion"
         }
        },
        "yaxis": {
         "anchor": "x",
         "autorange": "reversed",
         "domain": [
          0,
          1
         ],
         "title": {
          "text": "Column"
         }
        }
       }
      }
     },
     "metadata": {},
     "output_type": "display_data"
    }
   ],
   "source": [
    "# Plot proportion de NaN\n",
    "from plots import plot_nan_proportions\n",
    "\n",
    "df = pd.read_excel('final_dataset.xlsx')\n",
    "cols_to_check = [\"Undergraduates\", \"City\", \"Latitude\",\n",
    "                 \"low_sat\", \"Application Deadline\", \"Acceptance Rate\"]\n",
    "plot_nan_proportions(df, cols_to_check)\n"
   ]
  },
  {
   "cell_type": "markdown",
   "metadata": {},
   "source": [
    "# <span style=\"color:#008080\">Interactive Mapping</span>\n",
    "\n",
    "Avec cette étape, nous proposons une **visualisation interactive** de nos universités sur la carte des États-Unis :  \n",
    "1. Un **curseur (slider)** permettant de filtrer les établissements selon leur **note ajustée** (ou score minimal).  \n",
    "2. Un **menu déroulant** (dropdown) offrant la possibilité de sélectionner une **catégorie de climat** (Warm, Cold, Temperate, etc.).  \n",
    "\n",
    "> L’objectif est de **croiser les informations** (scores SAT, climat, etc.) pour mieux repérer les établissements correspondant à un profil précis, et d’**explorer** rapidement les différentes régions et conditions climatiques.\n",
    "\n",
    "Une fois la carte générée, chaque point (ou cluster) **représente une université**, et un simple survol (ou clic) permet d’afficher les détails de celle-ci (nom, rang d’acceptation, etc.). Grâce à ces filtres interactifs, nous pouvons :\n",
    "\n",
    "- **Mieux comprendre** l’emplacement géographique des universités les plus sélectives ou les moins coûteuses,  \n",
    "- **Comparer** l’offre académique selon le **climat** (ex. universités à climat chaud vs. froid),  \n",
    "- Orienter davantage le choix des étudiants selon leurs **préférences géographiques** et leur **niveau** (notes ou scores).\n",
    "\n",
    "En synthèse, cette **carte interactive** s’inscrit dans notre démarche de rendre l’expérience plus **intuitive** et **accessible**, permettant à chacun d’effectuer sa propre **exploration** des données avant d’envisager une candidature. \n"
   ]
  },
  {
   "cell_type": "code",
   "execution_count": 31,
   "metadata": {},
   "outputs": [
    {
     "data": {
      "application/vnd.jupyter.widget-view+json": {
       "model_id": "4b961294737942119f9836b163e12a7e",
       "version_major": 2,
       "version_minor": 0
      },
      "text/plain": [
       "IntSlider(value=18, description='Min grade <=', max=18, min=4)"
      ]
     },
     "metadata": {},
     "output_type": "display_data"
    },
    {
     "data": {
      "application/vnd.jupyter.widget-view+json": {
       "model_id": "a313676a73084214bef075d98b229e61",
       "version_major": 2,
       "version_minor": 0
      },
      "text/plain": [
       "SelectMultiple(description='Climate:', index=(0, 1, 2, 3, 4), options=('Temperate', 'Warm', 'Hot', 'Cold', 'Dr…"
      ]
     },
     "metadata": {},
     "output_type": "display_data"
    },
    {
     "data": {
      "application/vnd.jupyter.widget-view+json": {
       "model_id": "766964acf0ff418b8004a4f12f768261",
       "version_major": 2,
       "version_minor": 0
      },
      "text/plain": [
       "Output()"
      ]
     },
     "metadata": {},
     "output_type": "display_data"
    }
   ],
   "source": [
    "from map_visualization import create_map_widget\n",
    "\n",
    "# ---------------------------------------------------------\n",
    "# 1) Charger ou obtenir le DataFrame déjà préparé\n",
    "# ---------------------------------------------------------\n",
    "df = pd.read_excel('final_dataset.xlsx')\n",
    "df_for_map = df.dropna(subset=['Latitude', 'Longitude'])\n",
    "\n",
    "# ---------------------------------------------------------\n",
    "# 2) Définir nos dictionnaires\n",
    "# ---------------------------------------------------------\n",
    "state_climate = {\n",
    "    'AK': 'Cold', 'AL': 'Warm', 'AR': 'Warm', 'AZ': 'Hot', 'CA': 'Warm',\n",
    "    'CO': 'Cold', 'CT': 'Temperate', 'DE': 'Temperate', 'FL': 'Hot',\n",
    "    'GA': 'Warm', 'HI': 'Hot', 'IA': 'Cold', 'ID': 'Cold', 'IL': 'Cold',\n",
    "    'IN': 'Cold', 'KS': 'Temperate', 'KY': 'Temperate', 'LA': 'Hot',\n",
    "    'MA': 'Temperate', 'MD': 'Temperate', 'ME': 'Cold', 'MI': 'Cold',\n",
    "    'MN': 'Cold', 'MO': 'Temperate', 'MS': 'Warm', 'MT': 'Cold',\n",
    "    'NC': 'Temperate', 'ND': 'Cold', 'NE': 'Cold', 'NH': 'Cold',\n",
    "    'NJ': 'Temperate', 'NM': 'Hot', 'NV': 'Hot', 'NY': 'Temperate',\n",
    "    'OH': 'Temperate', 'OK': 'Warm', 'OR': 'Temperate', 'PA': 'Temperate',\n",
    "    'RI': 'Temperate', 'SC': 'Warm', 'SD': 'Cold', 'TN': 'Temperate',\n",
    "    'TX': 'Hot', 'UT': 'Dry', 'VA': 'Temperate', 'VT': 'Cold',\n",
    "    'WA': 'Temperate', 'WI': 'Cold', 'WV': 'Temperate', 'WY': 'Cold',\n",
    "    'DC': 'Temperate'\n",
    "}\n",
    "\n",
    "climate_colors = {\n",
    "    'Cold': '#1f78b4',\n",
    "    'Temperate': '#33a02c',\n",
    "    'Warm': '#ff7f00',\n",
    "    'Hot': '#e31a1c',\n",
    "    'Dry': '#fdbf6f',\n",
    "}\n",
    "\n",
    "# URL du GeoJSON des états US\n",
    "geojson_url = 'https://raw.githubusercontent.com/python-visualization/folium/master/examples/data/us-states.json'\n",
    "\n",
    "# ---------------------------------------------------------\n",
    "# 3) Créer et afficher les widgets + la carte\n",
    "# ---------------------------------------------------------\n",
    "grade_slider, climate_dropdown, map_output = create_map_widget(\n",
    "    df_for_map=df_for_map, \n",
    "    state_climate=state_climate, \n",
    "    climate_colors=climate_colors, \n",
    "    state_geo=geojson_url\n",
    ")\n",
    "\n",
    "# ---------------------------------------------------------\n",
    "# 4) Afficher les widgets\n",
    "# ---------------------------------------------------------\n",
    "display(grade_slider, climate_dropdown)\n",
    "display(map_output)"
   ]
  },
  {
   "cell_type": "markdown",
   "metadata": {},
   "source": [
    "# <span style=\"color:#008080\">Statistiques Descriptives et Visualisation</span>\n",
    "\n",
    "Nous explorons ici la **relation** entre les **scores SAT bas** (`low_sat`) et **hauts** (`high_sat`), en les corrélant au **taux d’admission** (`Acceptance Rate`). \n",
    "\n",
    "- Les cercles sont **colorés** selon leur taux d’admission (de 0% à 100%), offrant un repère immédiat sur la **sélectivité** :  \n",
    "  - Plus la couleur tend vers le **violet**, plus l’université est **selective** (taux d’acceptation faible).  \n",
    "  - Plus la couleur tire vers le **jaune**, plus l’établissement est facile d’accès (taux d’acceptation élevé).  \n",
    "\n",
    "- Une **dispersion** linéaire apparaît nettement : les universités affichant de **plus hauts scores SAT** (ex. 1500+ en score haut) ont **fréquemment** un faible taux d’admission, soulignant leur **haut niveau d’exigence**.\n",
    "\n",
    "Cette étape de **data visualisation** confirme l’intuition selon laquelle il existe une **corrélation** marquée entre :\n",
    "1. **Exigences académiques** (scores SAT).  \n",
    "2. **Sélectivité** (Acceptance Rate).  \n",
    "\n",
    "Elle constitue un **levier d’information précieux** pour les étudiants qui souhaitent cibler les universités en adéquation avec **leur profil** et pour **mieux comprendre** l’offre académique américaine.\n"
   ]
  },
  {
   "cell_type": "code",
   "execution_count": 32,
   "metadata": {},
   "outputs": [
    {
     "data": {
      "application/vnd.plotly.v1+json": {
       "config": {
        "plotlyServerURL": "https://plot.ly"
       },
       "data": [
        {
         "customdata": [
          [
           "CAMBRIDGE, MA 02139",
           0.04,
           20232,
           "Computer Science",
           384
          ],
          [
           "NEW HAVEN, CT 06511",
           0.05,
           18647,
           "Economics",
           204
          ],
          [
           "STANFORD, CA 94305",
           0.04,
           18279,
           "Computer Science",
           277
          ],
          [
           "CAMBRIDGE, MA 02138",
           0.03,
           19491,
           "Social Science Research Methods",
           195
          ],
          [
           "HANOVER, NH 03755",
           0.06,
           19208,
           "Economics",
           170
          ],
          [
           "NEW YORK CITY, NY 10027",
           0.04,
           22058,
           "Computer Science",
           357
          ],
          [
           "PROVIDENCE, RI 02912",
           0.05,
           26723,
           "Computer Science",
           250
          ],
          [
           "HOUSTON, TX 77005",
           0.09,
           19902,
           "Information Science",
           121
          ],
          [
           "NASHVILLE, TN 37240",
           0.07,
           25606,
           "Liberal Arts and Humanities",
           304
          ],
          [
           "PRINCETON, NJ 08544",
           0.06,
           18698,
           "Computer Science",
           172
          ],
          [
           "PHILADELPHIA, PA 19104",
           0.07,
           26123,
           "Finance",
           398
          ],
          [
           "DURHAM, NC 27708",
           0.06,
           23694,
           "Computer Science",
           370
          ],
          [
           "WASHINGTON, DC 20057",
           0.12,
           35566,
           "Political Science and Government",
           270
          ],
          [
           "CLAREMONT, CA 91711",
           0.13,
           39850,
           "Computational and Applied Mathematics",
           55
          ],
          [
           "SAINT LOUIS, MO 63130",
           0.12,
           23432,
           "Computer Science",
           205
          ],
          [
           "CLAREMONT, CA 91711",
           0.07,
           19962,
           "Computer Science",
           50
          ],
          [
           "EVANSTON, IL 60208",
           0.07,
           22095,
           "Economics",
           335
          ],
          [
           "PITTSBURGH, PA 15213",
           0.11,
           33499,
           "Computer Science",
           255
          ],
          [
           "PASADENA, CA 91125",
           0.03,
           20755,
           "Computer Science",
           77
          ],
          [
           "LOS ANGELES, CA 90095",
           0.09,
           16999,
           "Economics",
           861
          ],
          [
           "ITHACA, NY 14853",
           0.07,
           26060,
           "Computer Science",
           504
          ],
          [
           "BALTIMORE, MD 21218",
           0.07,
           24034,
           "Cellular Biology",
           172
          ],
          [
           "ANN ARBOR, MI 48109",
           0.18,
           19318,
           "Economics",
           618
          ],
          [
           "CLAREMONT, CA 91711",
           0.1,
           28701,
           "Economics",
           129
          ],
          [
           "CHICAGO, IL 60637",
           0.05,
           36991,
           "Economics",
           634
          ],
          [
           "NOTRE DAME, IN 46556",
           0.13,
           28474,
           "Finance",
           260
          ],
          [
           "CHARLOTTESVILLE, VA 22903",
           0.19,
           19469,
           "Economics",
           465
          ],
          [
           "LOS ANGELES, CA 90089",
           0.12,
           36808,
           "Business",
           832
          ],
          [
           "WILLIAMSTOWN, MA 01267",
           0.08,
           20965,
           "Economics",
           107
          ],
          [
           "ATLANTA, GA 30332",
           0.17,
           17402,
           "Information Science",
           847
          ],
          [
           "SWARTHMORE, PA 19081",
           0.07,
           20715,
           "Economics",
           80
          ],
          [
           "BRUNSWICK, ME 04011",
           0.09,
           22776,
           "Political Science and Government",
           83
          ],
          [
           "GAINESVILLE, FL 32611",
           0.23,
           11740,
           "Psychology",
           599
          ],
          [
           "ATLANTA, GA 30322",
           0.11,
           26680,
           "Business",
           358
          ],
          [
           "CHAPEL HILL, NC 27514",
           0.17,
           10614,
           "Communications",
           560
          ],
          [
           "DAVIDSON, NC 28035",
           0.17,
           26704,
           "Economics",
           75
          ],
          [
           "NEW YORK CITY, NY 10027",
           0.09,
           26009,
           "Economics",
           92
          ],
          [
           "LEXINGTON, VA 24450",
           0.17,
           24733,
           "Business",
           94
          ],
          [
           "BOSTON, MA 02215",
           0.14,
           27829,
           "Business",
           714
          ],
          [
           "NEW YORK CITY, NY 10012",
           0.12,
           29499,
           "Liberal Arts and Humanities",
           568
          ],
          [
           "BOSTON, MA 02115",
           0.07,
           35827,
           "Business",
           957
          ],
          [
           "BERKELEY, CA 94720",
           0.11,
           19257,
           "Computer Science",
           848
          ],
          [
           "CHESTNUT HILL, MA 02467",
           0.17,
           30559,
           "Economics",
           344
          ],
          [
           "WELLESLEY HILLS, MA 02481",
           0.14,
           21362,
           "Economics",
           92
          ],
          [
           "AUSTIN, TX 78705",
           0.31,
           17434,
           "Natural Sciences",
           875
          ],
          [
           "MIDDLEBURY, VT 05753",
           0.13,
           22181,
           "Economics",
           111
          ],
          [
           "MEDFORD, MA 02155",
           0.1,
           30479,
           "Biology",
           204
          ],
          [
           "WINSTON SALEM, NC 27109",
           0.21,
           26197,
           "Business",
           154
          ],
          [
           "AMHERST, MA 01002",
           0.07,
           21367,
           "Economics",
           91
          ],
          [
           "CHAMPAIGN, IL 61820",
           0.45,
           14544,
           "Research and Experimental Psychology",
           557
          ],
          [
           "TALLAHASSEE, FL 32306",
           0.25,
           14003,
           "Psychology",
           818
          ],
          [
           "ATHENS, GA 30602",
           0.43,
           17180,
           "Biology",
           608
          ],
          [
           "MIAMI, FL 33146",
           0.19,
           36467,
           "Finance",
           256
          ],
          [
           "CLINTON, NY 13323",
           0.12,
           24503,
           "Economics",
           88
          ],
          [
           "IRVINE, CA 92697",
           0.21,
           14033,
           "Biology",
           774
          ],
          [
           "MADISON, WI 53706",
           0.49,
           13376,
           "Information Science",
           889
          ],
          [
           "BETHLEHEM, PA 18015",
           0.37,
           30453,
           "Finance",
           197
          ],
          [
           "VILLANOVA, PA 19085",
           0.23,
           34837,
           "Finance",
           231
          ],
          [
           "HAVERFORD, PA 19041",
           0.14,
           23476,
           "Biology",
           46
          ],
          [
           "BLACKSBURG, VA 24061",
           0.57,
           19301,
           "Management Sciences and Information Systems",
           444
          ],
          [
           "SEATTLE, WA 98195",
           0.48,
           10603,
           "Research and Experimental Psychology",
           565
          ],
          [
           "DAVIS, CA 95616",
           0.37,
           17385,
           "Research and Experimental Psychology",
           924
          ],
          [
           "LA JOLLA, CA 92093",
           0.24,
           16111,
           "Biology",
           880
          ],
          [
           "MIDDLETOWN, CT 06459",
           0.14,
           21270,
           "Psychology",
           148
          ],
          [
           "NEW YORK CITY, NY 10003",
           0.22,
           26194,
           "Studio Arts",
           62
          ],
          [
           "WEST LAFAYETTE, IN 47907",
           0.53,
           12576,
           "Business",
           634
          ],
          [
           "TAMPA, FL 33620",
           0.44,
           11004,
           "Psychology",
           811
          ],
          [
           "NEW ORLEANS, LA 70118",
           0.11,
           50263,
           "Psychology",
           251
          ],
          [
           "HAMILTON, NY 13346",
           0.12,
           27074,
           "Economics",
           143
          ],
          [
           "LEWISTON, ME 04240",
           0.14,
           27491,
           "Research and Experimental Psychology",
           83
          ],
          [
           "UNIVERSITY OF RICHMOND, VA 23173",
           0.24,
           29248,
           "Business",
           223
          ],
          [
           "BABSON PARK, MA 02457",
           0.22,
           28400,
           "Business",
           564
          ],
          [
           "POUGHKEEPSIE, NY 12604",
           0.19,
           30603,
           "Economics",
           56
          ],
          [
           "SANTA BARBARA, CA 93106",
           0.26,
           16874,
           "Sociology",
           672
          ],
          [
           "ORLANDO, FL 32816",
           0.41,
           13108,
           "Health Service Preparatory Studies",
           887
          ],
          [
           "CLEVELAND, OH 44106",
           0.27,
           38279,
           "Computer Science",
           141
          ],
          [
           "SAN ANTONIO, TX 78212",
           0.31,
           30038,
           "Management Sciences and Information Systems",
           55
          ],
          [
           "COLUMBUS, OH 43210",
           0.53,
           19582,
           "Finance",
           813
          ],
          [
           "COLLEGE PARK, MD 20742",
           0.45,
           16210,
           "Computer Science",
           954
          ],
          [
           "SAINT PAUL, MN 55105",
           0.28,
           36095,
           "Environmental Science",
           67
          ],
          [
           "WATERVILLE, ME 04901",
           0.08,
           16951,
           "Economics",
           89
          ],
          [
           "AUBURN UNIVERSITY, AL 36849",
           0.44,
           25271,
           "Business",
           353
          ],
          [
           "NORTHFIELD, MN 55057",
           0.17,
           31494,
           "Biology",
           59
          ],
          [
           "MIAMI, FL 33199",
           0.64,
           9881,
           "Liberal Arts and Humanities",
           899
          ],
          [
           "RALEIGH, NC 27695",
           0.47,
           14852,
           "Business",
           844
          ],
          [
           "CLEMSON, SC 29634",
           0.43,
           24577,
           "Business",
           423
          ],
          [
           "GOLDEN, CO 80401",
           0.58,
           29425,
           "Mechanical Engineering",
           304
          ],
          [
           "STILLWATER, OK 74078",
           0.71,
           16718,
           "Business",
           421
          ],
          [
           "PITTSBURGH, PA 15260",
           0.49,
           24286,
           "Research and Experimental Psychology",
           474
          ],
          [
           "BLOOMINGTON, IN 47405",
           0.82,
           16234,
           "Public Administration",
           448
          ],
          [
           "PORTLAND, OR 97202",
           0.3,
           33106,
           "Political Science and Government",
           26
          ],
          [
           "PROVO, UT 84602",
           0.67,
           13521,
           "Accounting",
           269
          ],
          [
           "NORTHAMPTON, MA 01063",
           0.23,
           30790,
           "Political Science and Government",
           76
          ],
          [
           "MINNEAPOLIS, MN 55455",
           0.75,
           16018,
           "Computer Science",
           533
          ],
          [
           "EAST LANSING, MI 48824",
           0.88,
           22803,
           "Advertising",
           542
          ],
          [
           "AMHERST, MA 01003",
           0.64,
           22291,
           "Psychology",
           547
          ],
          [
           "WASHINGTON, DC 20052",
           0.49,
           42723,
           "International Relations",
           537
          ],
          [
           "TEMPE, AZ 85287",
           0.9,
           14808,
           "Biology",
           960
          ],
          [
           "ROCHESTER, NY 14627",
           0.39,
           39775,
           "Nursing",
           243
          ],
          [
           "FORT WORTH, TX 76109",
           0.56,
           44190,
           "Finance",
           212
          ],
          [
           "IOWA CITY, IA 52242",
           0.86,
           19587,
           "Business",
           387
          ],
          [
           "LEWISBURG, PA 17837",
           0.33,
           39965,
           "Economics",
           133
          ],
          [
           "BIRMINGHAM, AL 35294",
           0.87,
           16834,
           "Nursing",
           362
          ],
          [
           "GRINNELL, IA 50112",
           0.11,
           33467,
           "Computer Science",
           56
          ],
          [
           "COLUMBIA, SC 29208",
           0.64,
           22427,
           "Finance",
           608
          ],
          [
           "UNIVERSITY, MS 38677",
           0.97,
           14289,
           "Nursing",
           327
          ],
          [
           "COLORADO SPRINGS, CO 80903",
           0.16,
           33178,
           "Economics",
           60
          ],
          [
           "NORMAN, OK 73019",
           0.73,
           22601,
           "Psychology",
           311
          ],
          [
           "LUBBOCK, TX 79409",
           0.67,
           17896,
           "Business",
           438
          ],
          [
           "UNIVERSITY PARK, PA 16802",
           0.55,
           26747,
           "Information Science",
           756
          ],
          [
           "SALT LAKE CITY, UT 84112",
           0.89,
           12399,
           "Research and Experimental Psychology",
           413
          ],
          [
           "BRYN MAWR, PA 19010",
           0.31,
           39072,
           "Psychology",
           47
          ],
          [
           "CRAWFORDSVILLE, IN 47933",
           0.61,
           22976,
           "Rhetoric and Composition",
           28
          ],
          [
           "SOCORRO, NM 87801",
           0.74,
           10429,
           "Mechanical Engineering",
           47
          ],
          [
           "LONG BEACH, CA 90840",
           0.4,
           9346,
           "Psychology",
           528
          ],
          [
           "WORCESTER, MA 01610",
           0.36,
           34679,
           "Psychology",
           132
          ],
          [
           "CLAREMONT, CA 91711",
           0.18,
           39809,
           "Political Science and Government",
           26
          ],
          [
           "LAWRENCE, KS 66045",
           0.88,
           18950,
           "Psychology",
           321
          ],
          [
           "SANTA CLARA, CA 95053",
           0.52,
           50551,
           "Finance",
           160
          ],
          [
           "TUSCALOOSA, AL 35487",
           0.8,
           20592,
           "Marketing",
           581
          ],
          [
           "HOUGHTON, MI 49931",
           0.94,
           18235,
           "Mechanical Engineering",
           266
          ],
          [
           "AMES, IA 50011",
           0.9,
           15310,
           "Mechanical Engineering",
           406
          ],
          [
           "GAMBIER, OH 43022",
           0.34,
           43044,
           "English",
           70
          ],
          [
           "DAYTON, OH 45469",
           0.74,
           30590,
           "Mechanical Engineering",
           214
          ],
          [
           "HARTFORD, CT 06106",
           0.36,
           32704,
           "Economics",
           119
          ],
          [
           "PORTALES, NM 88130",
           0.28,
           8702,
           "Liberal Arts and Humanities",
           331
          ],
          [
           "SAN DIEGO, CA 92110",
           0.53,
           36008,
           "Finance",
           204
          ],
          [
           "FAYETTEVILLE, AR 72701",
           0.79,
           16208,
           "Finance",
           351
          ],
          [
           "VESTAL, NY 13850",
           0.42,
           19535,
           "Biology",
           443
          ],
          [
           "WINSTON SALEM, NC 27127",
           0.32,
           11251,
           "Cinematography and Video Production",
           74
          ],
          [
           "SAN LUIS OBISPO, CA 93407",
           0.3,
           19184,
           "Business",
           753
          ],
          [
           "WALTHAM, MA 02454",
           0.39,
           45565,
           "Biology",
           156
          ],
          [
           "STORRS MANSFIELD, CT 06269",
           0.55,
           23985,
           "Psychology",
           426
          ],
          [
           "PULLMAN, WA 99164",
           0.83,
           17911,
           "Psychology",
           466
          ],
          [
           "NEW YORK CITY, NY 10019",
           0.51,
           5001,
           "Psychology",
           499
          ],
          [
           "HOBOKEN, NJ 07030",
           0.46,
           41689,
           "Mechanical Engineering",
           159
          ],
          [
           "SOUTH HADLEY, MA 01075",
           0.4,
           35765,
           "Research and Experimental Psychology",
           83
          ],
          [
           "TUCSON, AZ 85721",
           0.87,
           17075,
           "Psychology",
           456
          ],
          [
           "MISSISSIPPI STATE, MS 39762",
           0.75,
           15364,
           "Business",
           332
          ],
          [
           "LOS ANGELES, CA 90041",
           0.39,
           44853,
           "Economics",
           85
          ],
          [
           "CINCINNATI, OH 45221",
           0.86,
           20149,
           "Marketing",
           436
          ],
          [
           "SARASOTA, FL 34243",
           0.24,
           2734,
           null,
           null
          ],
          [
           "CORVALLIS, OR 97331",
           0.83,
           21163,
           "Computer Science",
           877
          ],
          [
           "COLUMBIA, MO 65211",
           0.79,
           19889,
           "Business",
           663
          ],
          [
           "LOS ANGELES, CA 90045",
           0.41,
           52815,
           "Psychology",
           158
          ],
          [
           "PHILADELPHIA, PA 19104",
           0.8,
           39267,
           "Nursing",
           581
          ],
          [
           "SAN DIEGO, CA 92182",
           0.39,
           13017,
           "Psychology",
           699
          ],
          [
           "JACKSON, TN 38305",
           0.53,
           28585,
           "Nursing",
           170
          ],
          [
           "MANHATTAN, KS 66506",
           0.95,
           18855,
           "Animal Sciences and Husbandry",
           248
          ],
          [
           "OMAHA, NE 68106",
           0.65,
           14984,
           "Nursing",
           54
          ],
          [
           "MOSCOW, ID 83844",
           0.74,
           14954,
           "Psychology",
           134
          ],
          [
           "NEW YORK CITY, NY 10033",
           0.63,
           35912,
           "Religious Studies",
           522
          ],
          [
           "WHEATON, IL 60187",
           0.88,
           29961,
           "Managerial Economics",
           81
          ],
          [
           "HOUSTON, TX 77204",
           0.66,
           14056,
           "Psychology",
           605
          ],
          [
           "TERRE HAUTE, IN 47803",
           0.73,
           41678,
           "Mechanical Engineering",
           120
          ],
          [
           "GRANVILLE, OH 43023",
           0.22,
           38267,
           "Economics",
           77
          ],
          [
           "EASTON, PA 18042",
           0.34,
           37186,
           "Economics",
           140
          ],
          [
           "CHICAGO, IL 60607",
           0.79,
           10384,
           "Psychology",
           465
          ],
          [
           "GREENVILLE, SC 29613",
           0.67,
           33370,
           "Communications",
           66
          ],
          [
           "SARATOGA SPRINGS, NY 12866",
           0.26,
           33389,
           "Business",
           87
          ],
          [
           "POINT LOOKOUT, MO 65726",
           0.21,
           12611,
           "Business",
           34
          ],
          [
           "SAN DIEGO, CA 92106",
           0.82,
           34933,
           "Nursing",
           137
          ],
          [
           "NEWARK, DE 19716",
           0.74,
           18044,
           "Finance",
           271
          ],
          [
           "RUSTON, LA 71272",
           0.62,
           12243,
           "Biology",
           132
          ],
          [
           "NORTHFIELD, MN 55057",
           0.57,
           26171,
           "Biology",
           111
          ],
          [
           "TROY, NY 12180",
           0.65,
           39127,
           "Computer Science",
           284
          ],
          [
           "GREAT NECK, NY 11024",
           0.29,
           4891,
           "Marine Science",
           113
          ],
          [
           "WORCESTER, MA 01609",
           0.57,
           46876,
           "Mechanical Engineering",
           274
          ],
          [
           "SEARCY, AR 72149",
           0.45,
           19558,
           "Elementary Education",
           56
          ],
          [
           "SYRACUSE, NY 13244",
           0.52,
           43651,
           "Information Science",
           280
          ],
          [
           "HAMPDEN SYDNEY, VA 23943",
           0.4,
           29899,
           "Managerial Economics",
           50
          ],
          [
           "DETROIT, MI 48202",
           0.75,
           15347,
           "Psychology",
           339
          ],
          [
           "LA JOLLA, CA 92037",
           0.55,
           30527,
           "Nursing",
           307
          ],
          [
           "PENSACOLA, FL 32514",
           0.48,
           8609,
           "Nursing",
           384
          ],
          [
           "LA MIRADA, CA 90639",
           0.57,
           31522,
           "Psychology",
           114
          ],
          [
           "PROVIDENCE, RI 02903",
           0.17,
           39800,
           "Illustration",
           89
          ],
          [
           "RAPID CITY, SD 57701",
           0.83,
           21124,
           "Mechanical Engineering",
           95
          ],
          [
           "TULSA, OK 74104",
           0.7,
           28087,
           "Mechanical Engineering",
           60
          ],
          [
           "STONY BROOK, NY 11794",
           0.49,
           17213,
           "Psychology",
           591
          ],
          [
           "HATTIESBURG, MS 39401",
           0.54,
           15271,
           "Nursing",
           145
          ],
          [
           "MALIBU, CA 90263",
           0.49,
           47804,
           "Business",
           218
          ],
          [
           "NEWARK, NJ 07102",
           0.66,
           17762,
           "Information Science",
           284
          ],
          [
           "TRENTON, NJ 08628",
           0.64,
           22273,
           "Business",
           261
          ],
          [
           "CROOKSTON, MN 56716",
           0.59,
           12894,
           "Accounting",
           57
          ],
          [
           "WACO, TX 76706",
           0.46,
           45988,
           "Nursing",
           317
          ],
          [
           "LARAMIE, WY 82071",
           0.96,
           12819,
           "Nursing",
           148
          ],
          [
           "NASHVILLE, TN 37204",
           0.71,
           27937,
           "Business",
           78
          ],
          [
           "KNOXVILLE, TN 37996",
           0.68,
           21880,
           "Research and Experimental Psychology",
           378
          ],
          [
           "OMAHA, NE 68178",
           0.76,
           32877,
           "Nursing",
           342
          ],
          [
           "KANSAS CITY, MO 64110",
           0.69,
           14739,
           "Business",
           237
          ],
          [
           "LEXINGTON, KY 40509",
           0.95,
           18693,
           "Communications",
           374
          ],
          [
           "CLINTON, MS 39058",
           0.4,
           20874,
           "Nursing",
           123
          ],
          [
           "BLOOMINGTON, IL 61702",
           0.42,
           30096,
           "Nursing",
           53
          ],
          [
           "WASHINGTON, DC 20016",
           0.41,
           41369,
           "International Relations",
           382
          ],
          [
           "SCHENECTADY, NY 12308",
           0.47,
           41136,
           "Economics",
           98
          ],
          [
           "CHICAGO, IL 60610",
           0.94,
           21368,
           "Theological and Ministerial Studies",
           112
          ],
          [
           "CONWAY, AR 72032",
           0.6,
           22626,
           "Psychology",
           36
          ],
          [
           "LINCOLN, NE 68588",
           0.79,
           16805,
           "Business",
           289
          ],
          [
           "HENDERSON, NV 89002",
           0.82,
           16624,
           "Nursing",
           396
          ],
          [
           "DENVER, CO 80217",
           0.75,
           16079,
           "Business",
           443
          ],
          [
           "CEDARVILLE, OH 45314",
           0.65,
           25462,
           "Nursing",
           119
          ],
          [
           "DAYTONA BEACH, FL 32114",
           0.58,
           17002,
           "Business",
           463
          ],
          [
           "IRVINE, CA 92612",
           0.11,
           21416,
           "Licensed Practical Nurse Training (LPN)",
           168
          ],
          [
           "PHILADELPHIA, PA 19122",
           0.8,
           23935,
           "Psychology",
           334
          ],
          [
           "BOULDER, CO 80309",
           0.81,
           21836,
           "Psychology",
           567
          ],
          [
           "SAINT LOUIS, MO 63103",
           0.86,
           29651,
           "Nursing",
           189
          ],
          [
           "HARRISONBURG, VA 22807",
           0.78,
           18274,
           "Community Health Services and Counseling",
           453
          ],
          [
           "TYLER, TX 75799",
           0.94,
           13248,
           "Nursing",
           620
          ],
          [
           "NEWARK, NJ 07102",
           0.74,
           16578,
           "Finance",
           347
          ],
          [
           "MELBOURNE, FL 32901",
           0.64,
           30752,
           "Aerospace Engineering",
           90
          ],
          [
           "LEXINGTON, VA 24450",
           0.71,
           18129,
           "Civil Engineering",
           57
          ],
          [
           "CARLISLE, PA 17013",
           0.35,
           37610,
           "Economics",
           68
          ],
          [
           "TAMPA, FL 33617",
           0.72,
           21360,
           "Liberal Arts and Humanities",
           109
          ],
          [
           "BIRMINGHAM, AL 35229",
           0.83,
           31803,
           "Nursing",
           122
          ],
          [
           "BERRIEN SPRINGS, MI 49104",
           0.91,
           24194,
           "Nursing",
           23
          ],
          [
           "ROLLA, MO 65409",
           0.81,
           14023,
           "Mechanical Engineering",
           240
          ],
          [
           "EDINBURG, TX 78539",
           0.88,
           8105,
           "Criminal Justice and Law Enforcement Administration",
           581
          ],
          [
           "MEMPHIS, TN 38112",
           0.54,
           30672,
           "Business",
           71
          ],
          [
           "WALTHAM, MA 02452",
           0.58,
           44233,
           "Finance",
           244
          ],
          [
           "CHICAGO, IL 60604",
           0.7,
           32151,
           "Finance",
           247
          ],
          [
           "INDIANAPOLIS, IN 46202",
           0.83,
           11462,
           "Nursing",
           652
          ],
          [
           "SIOUX FALLS, SD 57197",
           0.66,
           23843,
           "Nursing",
           80
          ],
          [
           "HATTIESBURG, MS 39406",
           0.99,
           14427,
           "Elementary Education",
           205
          ],
          [
           null,
           0.76,
           29589,
           "Nursing",
           453
          ],
          [
           "RICHMOND, VA 23284",
           0.91,
           21294,
           "Psychology",
           540
          ],
          [
           "MILWAUKEE, WI 53233",
           0.87,
           33136,
           "Biomedical Sciences and Molecular Medicine",
           192
          ],
          [
           "ORANGE, CA 92866",
           0.73,
           45033,
           "Business",
           481
          ],
          [
           "ARKADELPHIA, AR 71998",
           0.72,
           21677,
           "Communications",
           30
          ],
          [
           "LORMAN, MS 39096",
           0.3,
           14864,
           "Biology",
           113
          ],
          [
           "NEW LONDON, CT 06320",
           0.4,
           43220,
           "Economics",
           72
          ],
          [
           "LAKE FOREST, IL 60045",
           0.6,
           27839,
           "Business",
           53
          ],
          [
           "BOCA RATON, FL 33431",
           0.81,
           9711,
           "Liberal Arts and Humanities",
           724
          ],
          [
           "HOLLAND, MI 49423",
           0.8,
           25800,
           "Business",
           120
          ],
          [
           "HUNTSVILLE, AL 35899",
           0.78,
           18588,
           "Nursing",
           184
          ],
          [
           "BATON ROUGE, LA 70803",
           0.76,
           21296,
           "Physical Education Teaching and Coaching",
           348
          ],
          [
           "FORT COLLINS, CO 80523",
           0.91,
           16926,
           "Business",
           651
          ],
          [
           "ADA, OH 45810",
           0.54,
           27398,
           "Mechanical Engineering",
           67
          ],
          [
           "FAIRFAX, VA 22030",
           0.9,
           18479,
           "Business",
           411
          ],
          [
           "ROCHESTER, NY 14623",
           0.67,
           39600,
           "Computer Science",
           186
          ],
          [
           "SAINT PAUL, MN 55105",
           0.93,
           19976,
           "Occupational Therapist Assistant",
           200
          ],
          [
           "LOUISVILLE, KY 40292",
           0.82,
           19327,
           "Nursing",
           281
          ],
          [
           "MACON, GA 31207",
           0.75,
           22087,
           "Nursing",
           217
          ],
          [
           "PITTSBURG, KS 66762",
           0.86,
           16725,
           "Nursing",
           128
          ],
          [
           "DENTON, TX 76203",
           0.79,
           15283,
           "Psychology",
           556
          ],
          [
           "CHARLOTTE, NC 28223",
           0.8,
           13951,
           "Computer Science",
           593
          ],
          [
           "FORT MYERS, FL 33965",
           0.74,
           10834,
           "Liberal Arts and Humanities",
           547
          ],
          [
           null,
           0.96,
           15962,
           "Nursing",
           204
          ],
          [
           "NEW YORK CITY, NY 10010",
           0.5,
           4991,
           "Finance",
           986
          ],
          [
           "WALLA WALLA, WA 99362",
           0.48,
           39935,
           "Biology",
           35
          ],
          [
           "PHILADELPHIA, PA 19144",
           0.89,
           28110,
           "Nursing",
           332
          ],
          [
           "STOCKTON, CA 95211",
           0.93,
           28164,
           "Biology",
           138
          ],
          [
           "DEARBORN, MI 48128",
           0.54,
           12444,
           "Mechanical Engineering",
           134
          ],
          [
           "TULSA, OK 74171",
           0.78,
           22360,
           "and Pre-Theology",
           54
          ],
          [
           "OKLAHOMA CITY, OK 73106",
           0.7,
           25235,
           "Nursing",
           134
          ],
          [
           "WORCESTER, MA 01610",
           0.5,
           32053,
           "Psychology",
           87
          ],
          [
           "SILOAM SPRINGS, AR 72761",
           0.57,
           20997,
           "Business",
           45
          ],
          [
           "AUGUSTA, GA 30912",
           0.86,
           13572,
           "Nursing",
           193
          ],
          [
           "SAN MARCOS, TX 78666",
           0.88,
           14120,
           "Psychology",
           523
          ],
          [
           "GRAND FORKS, ND 58202",
           0.83,
           17359,
           "Aeronautics and Aviation Technology",
           195
          ],
          [
           "FULLERTON, CA 92831",
           0.67,
           7925,
           "Psychology",
           890
          ],
          [
           "NEW YORK CITY, NY 10001",
           0.53,
           20900,
           "Fashion and Apparel Merchandising",
           996
          ],
          [
           "ABILENE, TX 79699",
           0.66,
           28978,
           "Liberal Arts and Humanities",
           54
          ],
          [
           "KIRKSVILLE, MO 63501",
           0.45,
           13993,
           "Business",
           96
          ],
          [
           "ALLENTOWN, PA 18104",
           0.66,
           32926,
           "Business",
           73
          ],
          [
           "JACKSONVILLE, FL 32224",
           0.71,
           11338,
           "Liberal Arts and Humanities",
           422
          ],
          [
           "BOCA RATON, FL 33431",
           0.71,
           28778,
           "Alternative Medicine and Holistic Health",
           86
          ],
          [
           "LOWELL, MA 01854",
           0.86,
           17240,
           "Business",
           611
          ],
          [
           "WOOSTER, OH 44691",
           0.56,
           28976,
           "Political Science and Government",
           32
          ],
          [
           "SANTA CRUZ, CA 95064",
           0.47,
           17975,
           "Computer Science",
           607
          ],
          [
           "BEREA, KY 40404",
           0.25,
           2020,
           "Business",
           24
          ],
          [
           "SAINT PETER, MN 56082",
           0.74,
           30297,
           "Psychology",
           66
          ],
          [
           "BOONE, NC 28608",
           0.83,
           13084,
           "Psychology",
           309
          ],
          [
           "ARLINGTON, TX 76013",
           0.81,
           14262,
           "Business",
           382
          ],
          [
           "MOBILE, AL 36688",
           0.65,
           15664,
           "Nursing",
           341
          ],
          [
           "VALLEY CITY, ND 58072",
           0.83,
           12164,
           "Elementary Education",
           115
          ],
          [
           "WILMINGTON, NC 28403",
           0.69,
           18709,
           "Nursing",
           739
          ],
          [
           "SEWANEE, TN 37383",
           0.52,
           33061,
           "Economics",
           49
          ],
          [
           "PORTLAND, OR 97203",
           0.93,
           33717,
           "Nursing",
           364
          ],
          [
           "CHARLESTON, WV 25304",
           0.68,
           21308,
           "Business",
           378
          ],
          [
           "JACKSON, MS 39210",
           0.68,
           27260,
           "Business",
           35
          ],
          [
           "DAYTONA BEACH, FL 32114",
           0.65,
           38983,
           "Aeronautics and Aviation Technology",
           475
          ],
          [
           "DES MOINES, IA 50311",
           0.67,
           30333,
           "Marketing",
           60
          ],
          [
           "COOKEVILLE, TN 38505",
           0.78,
           15188,
           "Nursing",
           145
          ],
          [
           "MEMPHIS, TN 38152",
           0.95,
           13873,
           "Kinesiology and Exercise Science",
           375
          ],
          [
           "UPLAND, IN 46989",
           0.75,
           27366,
           "Business",
           38
          ],
          [
           "DECORAH, IA 52101",
           0.75,
           25734,
           "Nursing",
           40
          ],
          [
           "VERMILLION, SD 57069",
           0.99,
           18378,
           "Nursing",
           163
          ],
          [
           "RICHMOND, IN 47374",
           0.78,
           8837,
           "Business",
           158
          ],
          [
           "ATHENS, OH 45701",
           0.87,
           20207,
           "Communications",
           290
          ],
          [
           "SAN FRANCISCO, CA 94117",
           0.71,
           42953,
           "Nursing",
           247
          ],
          [
           "BROOKINGS, SD 57007",
           0.86,
           18160,
           "Nursing",
           336
          ],
          [
           "RIVERSIDE, CA 92504",
           0.8,
           27304,
           "Business",
           172
          ],
          [
           "SPARTANBURG, SC 29303",
           0.6,
           31192,
           "Biology",
           82
          ],
          [
           "EUGENE, OR 97403",
           0.86,
           22077,
           "Business",
           535
          ],
          [
           "ODESSA, TX 79762",
           0.95,
           10370,
           "Psychology",
           125
          ],
          [
           "RICHARDSON, TX 75080",
           0.85,
           13555,
           "Information Science",
           688
          ],
          [
           "LOGAN, UT 84322",
           0.94,
           14577,
           "Economics",
           393
          ],
          [
           "JACKSONVILLE, FL 32211",
           0.58,
           26943,
           "Nursing",
           272
          ],
          [
           "IRVING, TX 75062",
           0.59,
           27250,
           "Business",
           63
          ],
          [
           "MORGANTOWN, WV 26506",
           0.88,
           12202,
           "Liberal Arts and Humanities",
           356
          ],
          [
           "SCRANTON, PA 18510",
           0.84,
           35526,
           "Nursing",
           74
          ],
          [
           "WASHINGTON, DC 20064",
           0.86,
           36031,
           "Business",
           155
          ],
          [
           "KANSAS CITY, MO 64110",
           0.66,
           22994,
           "Nursing",
           252
          ],
          [
           "GREENCASTLE, IN 46135",
           0.66,
           29486,
           "Economics",
           61
          ],
          [
           "HOUSTON, TX 77058",
           0.69,
           17871,
           "Liberal Arts and Humanities",
           247
          ],
          [
           "SOUTH ORANGE, NJ 07079",
           0.75,
           33472,
           "Biology",
           163
          ],
          [
           "AUSTIN, TX 78702",
           0.52,
           21069,
           "Business",
           39
          ],
          [
           "SAN ANTONIO, TX 78251",
           0.53,
           12281,
           "Aircraft Maintenance",
           110
          ],
          [
           "SPOKANE, WA 99258",
           0.7,
           38727,
           "Business",
           260
          ],
          [
           "MONSEY, NY 10952",
           0.89,
           2403,
           "Theological and Ministerial Studies",
           101
          ],
          [
           "GREENSBORO, NC 27402",
           0.92,
           10979,
           "Business",
           377
          ],
          [
           "PHOENIX, AZ 85017",
           0.81,
           21939,
           "Human Services",
           847
          ],
          [
           "SEATTLE, WA 98122",
           0.85,
           35412,
           "Nursing",
           232
          ],
          [
           "ELMHURST, IL 60126",
           0.76,
           24108,
           "Psychology",
           93
          ],
          [
           "SAINT BONAVENTURE, NY 14778",
           0.81,
           26004,
           "Marketing",
           46
          ],
          [
           "LA CROSSE, WI 54601",
           0.74,
           13130,
           "Biology",
           247
          ],
          [
           "MAGNOLIA, AR 71753",
           0.64,
           14056,
           "Liberal Arts and Humanities",
           307
          ],
          [
           "TURLOCK, CA 95382",
           0.97,
           7555,
           "Psychology",
           478
          ],
          [
           "SPOKANE, WA 99251",
           0.91,
           28299,
           "Psychology",
           57
          ],
          [
           "SIOUX CENTER, IA 51250",
           0.88,
           27375,
           "Elementary Education",
           54
          ],
          [
           "FAIRBANKS, AK 99775",
           0.65,
           9450,
           "Liberal Arts and Humanities",
           101
          ],
          [
           "BALTIMORE, MD 21252",
           0.79,
           14443,
           "Business",
           481
          ],
          [
           "OMAHA, NE 68182",
           0.86,
           12973,
           "Liberal Arts and Humanities",
           404
          ],
          [
           "LONGVIEW, TX 75602",
           0.49,
           26974,
           "Aeronautics and Aviation Technology",
           50
          ],
          [
           "CLAREMONT, CA 91711",
           0.28,
           43923,
           "Biology",
           28
          ],
          [
           "WINTER PARK, FL 32789",
           0.5,
           35317,
           "Business",
           122
          ],
          [
           "VICTORIA, TX 77901",
           0.82,
           11761,
           "Business",
           173
          ],
          [
           "ADA, OK 74820",
           0.7,
           10221,
           "Physical Education Teaching and Coaching",
           76
          ],
          [
           "MUNCIE, IN 47306",
           0.69,
           12615,
           "Liberal Arts and Humanities",
           223
          ],
          [
           "TROY, AL 36082",
           0.95,
           13187,
           "Liberal Arts and Humanities",
           357
          ],
          [
           "OKLAHOMA CITY, OK 73170",
           1,
           16105,
           "Psychology",
           62
          ],
          [
           "CHICAGO, IL 60603",
           0.92,
           14769,
           "Early Childhood Education",
           165
          ],
          [
           "CHICAGO, IL 60660",
           0.79,
           37511,
           "Nursing",
           415
          ],
          [
           "SACRAMENTO, CA 95819",
           0.93,
           11596,
           "Business",
           935
          ],
          [
           "GETTYSBURG, PA 17325",
           0.56,
           33882,
           "Political Science and Government",
           76
          ],
          [
           "SAN ANTONIO, TX 78249",
           0.87,
           12664,
           "Psychology",
           532
          ],
          [
           "HUNTINGTON, WV 25755",
           0.97,
           8756,
           "Nursing",
           226
          ],
          [
           "SARASOTA, FL 34243",
           0.75,
           10496,
           "Liberal Arts and Humanities",
           77
          ],
          [
           "JOHNSON CITY, TN 37614",
           0.85,
           14350,
           "Nursing",
           502
          ],
          [
           "KOKOMO, IN 46902",
           0.86,
           6648,
           "Nursing",
           154
          ],
          [
           "HARROGATE, TN 37752",
           0.79,
           19162,
           "Nursing",
           269
          ],
          [
           "HONOLULU, HI 96822",
           0.73,
           13639,
           "Psychology",
           216
          ],
          [
           "MILWAUKEE, WI 53226",
           0.94,
           22682,
           "Business",
           34
          ],
          [
           "CHARLESTON, SC 29409",
           0.99,
           21846,
           "Business",
           175
          ],
          [
           "DANVILLE, KY 40422",
           0.63,
           23584,
           "Economics",
           53
          ],
          [
           "VIRGINIA BEACH, VA 23464",
           0.32,
           17341,
           "Psychology",
           120
          ],
          [
           "EDMOND, OK 73034",
           0.7,
           18055,
           "Liberal Arts and Humanities",
           220
          ],
          [
           "ROCKVILLE CENTRE, NY 11571",
           0.77,
           27243,
           "Nursing",
           489
          ],
          [
           "BOISE, ID 83725",
           0.84,
           17724,
           "Business",
           551
          ],
          [
           "RIVERSIDE, CA 92521",
           0.69,
           14487,
           "Business",
           795
          ],
          [
           "CHARLES TOWN, WV 25414",
           1,
           11172,
           "Health Professions",
           777
          ],
          [
           "MURRAY, KY 42071",
           0.84,
           11042,
           "Liberal Arts and Humanities",
           116
          ],
          [
           "JACKSON, MS 39202",
           0.43,
           19794,
           "Business",
           165
          ],
          [
           "SANTA PAULA, CA 93060",
           0.85,
           24217,
           "Liberal Arts and Humanities",
           115
          ],
          [
           "PROVIDENCE, RI 02918",
           0.53,
           43970,
           "Finance",
           207
          ],
          [
           "DURHAM, NH 03824",
           0.87,
           24507,
           "Business",
           695
          ],
          [
           "CEDAR FALLS, IA 50614",
           0.95,
           15782,
           "Elementary Education",
           281
          ],
          [
           "DUBUQUE, IA 52001",
           0.9,
           21886,
           "Business",
           35
          ],
          [
           "ALEXANDRIA, LA 71302",
           0.58,
           7274,
           "Liberal Arts and Humanities",
           147
          ],
          [
           "PALOS HEIGHTS, IL 60463",
           0.71,
           18822,
           "Nursing",
           32
          ],
          [
           "SAN ANGELO, TX 76909",
           0.79,
           12838,
           "Liberal Arts and Humanities",
           153
          ],
          [
           "APPLETON, WI 54911",
           0.72,
           26368,
           "Music Performance",
           39
          ],
          [
           "AZUSA, CA 91702",
           0.87,
           26666,
           "Nursing",
           615
          ],
          [
           "ATLANTA, GA 30303",
           0.67,
           17589,
           "Psychology",
           448
          ],
          [
           "POTSDAM, NY 13699",
           0.78,
           32450,
           "Mechanical Engineering",
           158
          ],
          [
           "INDIANAPOLIS, IN 46208",
           0.82,
           37399,
           "Marketing",
           122
          ],
          [
           "ROCK ISLAND, IL 61201",
           0.61,
           24660,
           "Biology",
           78
          ],
          [
           "OBERLIN, OH 44074",
           0.35,
           46462,
           "Music Performance",
           95
          ],
          [
           "BUTTE, MT 59701",
           0.89,
           16045,
           "Mechanical Engineering",
           42
          ],
          [
           "HAYS, KS 67601",
           0.88,
           13322,
           "Business",
           508
          ],
          [
           "CLEVELAND, TN 37311",
           0.73,
           19726,
           "Nursing",
           86
          ],
          [
           "BURLINGTON, VT 05405",
           0.6,
           21849,
           "Business",
           212
          ],
          [
           "STEPHENVILLE, TX 76401",
           0.87,
           13755,
           "Business",
           340
          ],
          [
           "ATLANTA, GA 30314",
           0.28,
           37085,
           "Psychology",
           70
          ],
          [
           "SEATTLE, WA 98119",
           0.91,
           26549,
           "Nursing",
           92
          ],
          [
           "BOZEMAN, MT 59717",
           0.73,
           17250,
           "Business",
           313
          ],
          [
           "LYNCHBURG, VA 24515",
           0.99,
           29913,
           "Religious Studies",
           748
          ],
          [
           "WEATHERFORD, OK 73096",
           0.77,
           13699,
           "Nursing",
           192
          ],
          [
           "PEORIA, IL 61625",
           0.75,
           24053,
           "Nursing",
           79
          ],
          [
           "GRAND RAPIDS, MI 49546",
           0.74,
           25775,
           "Engineering",
           75
          ],
          [
           "NORTH MANCHESTER, IN 46962",
           0.66,
           18024,
           "Pre-Medicine Studies",
           24
          ],
          [
           "BROOKLYN, NY 11210",
           0.55,
           5972,
           "Business",
           535
          ],
          [
           "COLUMBUS, MS 39701",
           0.99,
           12691,
           "Nursing",
           414
          ],
          [
           "WILLIAMSBURG, KY 40769",
           0.83,
           14337,
           "Liberal Arts and Humanities",
           227
          ],
          [
           "RICHMOND, IN 47374",
           0.73,
           25746,
           "Business",
           23
          ],
          [
           "LAS CRUCES, NM 88003",
           0.78,
           10407,
           "Nursing",
           153
          ],
          [
           "FLAGSTAFF, AZ 86011",
           0.8,
           17115,
           "Liberal Arts and Humanities",
           520
          ],
          [
           "COLUMBIA, SC 29203",
           0.48,
           19911,
           "Biblical Studies",
           47
          ],
          [
           "MARTIN, TN 38238",
           0.89,
           12619,
           "Liberal Arts and Humanities",
           150
          ],
          [
           "WASHINGTON, DC 20059",
           0.53,
           28279,
           "Political Science and Government",
           121
          ],
          [
           "NORTHRIDGE, CA 91330",
           0.91,
           8936,
           "Psychology",
           930
          ],
          [
           "MONTCLAIR, NJ 07043",
           0.91,
           13742,
           "Business",
           587
          ],
          [
           "UNION, NJ 07083",
           0.83,
           10747,
           "Psychology",
           371
          ],
          [
           "TAHLEQUAH, OK 74464",
           0.99,
           9669,
           "Research and Experimental Psychology",
           149
          ],
          [
           "PRESCOTT, AZ 86301",
           0.68,
           38909,
           "Aerospace Engineering",
           125
          ],
          [
           "GENEVA, NY 14456",
           0.69,
           34259,
           "Economics",
           70
          ],
          [
           "TOPPENISH, WA 98948",
           1,
           7841,
           "Social Work and Youth Services",
           61
          ],
          [
           "CHICAGO, IL 60625",
           0.63,
           14262,
           "Computer Science",
           111
          ],
          [
           "SAINT LOUIS, MO 63141",
           0.88,
           26757,
           "Nursing",
           164
          ],
          [
           "BEREA, OH 44017",
           0.77,
           28705,
           "Business",
           54
          ],
          [
           "KIRKLAND, WA 98083",
           0.94,
           23722,
           "Nursing",
           40
          ],
          [
           "GLASSBORO, NJ 08028",
           0.77,
           20963,
           "Psychology",
           432
          ],
          [
           "LORETTO, PA 15940",
           0.73,
           27459,
           "Business",
           41
          ],
          [
           "NEW ALBANY, IN 47150",
           0.85,
           8264,
           "Business",
           163
          ],
          [
           "EVANSVILLE, IN 47722",
           0.76,
           19301,
           "Physical Education Teaching and Coaching",
           39
          ],
          [
           "DELAND, FL 32723",
           0.94,
           25756,
           "Health Service Preparatory Studies",
           76
          ],
          [
           "FARMINGDALE, NY 11735",
           0.73,
           8111,
           "Liberal Arts and Humanities",
           454
          ],
          [
           "LAFAYETTE, LA 70503",
           0.75,
           13036,
           "Nursing",
           383
          ],
          [
           "KEARNEY, NE 68849",
           0.86,
           16564,
           "Business",
           132
          ],
          [
           "SPRINGFIELD, MO 65802",
           0.64,
           20996,
           "Architecture",
           30
          ],
          [
           "NEWPORT, RI 02840",
           0.7,
           37997,
           "Nursing",
           114
          ],
          [
           "POMONA, CA 91768",
           0.55,
           12480,
           "Psychology",
           361
          ],
          [
           "GREENVILLE, NC 27858",
           0.92,
           14410,
           "Nursing",
           374
          ],
          [
           "NEWPORT, KY 41099",
           0.86,
           7259,
           "Business",
           409
          ],
          [
           "LUBBOCK, TX 79407",
           0.93,
           23551,
           "Nursing",
           35
          ],
          [
           "SALISBURY, MD 21801",
           0.91,
           19756,
           "Communications",
           156
          ],
          [
           "MURFREESBORO, TN 37132",
           0.73,
           13062,
           "Liberal Arts and Humanities",
           352
          ],
          [
           "GARY, IN 46408",
           0.8,
           6553,
           "Nursing",
           73
          ],
          [
           "SAN ANTONIO, TX 78209",
           0.94,
           20832,
           "Business",
           158
          ],
          [
           "TACOMA, WA 98447",
           0.89,
           24825,
           "Nursing",
           98
          ],
          [
           "HAMMOND, IN 46323",
           0.63,
           9162,
           "Nursing",
           603
          ],
          [
           "AIKEN, SC 29801",
           0.76,
           11872,
           "Business",
           123
          ],
          [
           "CAMARILLO, CA 93012",
           0.9,
           13540,
           "Psychology",
           356
          ],
          [
           "OXFORD, OH 45056",
           0.88,
           23031,
           "Finance",
           348
          ],
          [
           "TAMPA, FL 33606",
           0.26,
           34653,
           "Finance",
           150
          ],
          [
           "SMITHFIELD, RI 02917",
           0.69,
           40361,
           "Finance",
           173
          ],
          [
           "KENNESAW, GA 30144",
           0.68,
           18079,
           "Psychology",
           448
          ],
          [
           "ALLENDALE, MI 49401",
           0.9,
           17105,
           "Education",
           355
          ],
          [
           "ANDERSON, SC 29621",
           0.45,
           21633,
           "Nursing",
           90
          ],
          [
           "EL PASO, TX 79968",
           1,
           9563,
           "Nursing",
           376
          ],
          [
           "DENVER, CO 80208",
           0.78,
           42423,
           "Psychology",
           146
          ],
          [
           "WARRENSBURG, MO 64093",
           0.71,
           15117,
           "Elementary Education",
           214
          ],
          [
           "FORT LAUDERDALE, FL 33309",
           0.97,
           35346,
           "Medical Insurance Coding",
           436
          ],
          [
           "DALLAS, TX 75241",
           0.94,
           10351,
           "Liberal Arts and Humanities",
           229
          ],
          [
           "CHICAGO, IL 60616",
           0.61,
           28702,
           "Computer Science",
           107
          ],
          [
           "BALTIMORE, MD 21201",
           0.89,
           18122,
           "Business",
           122
          ],
          [
           "GREENVILLE, SC 29614",
           1,
           18733,
           "Business",
           46
          ],
          [
           "WINSTON SALEM, NC 27110",
           0.73,
           14097,
           "Nursing",
           213
          ],
          [
           "LIVINGSTON, AL 35470",
           0.69,
           13786,
           "Liberal Arts and Humanities",
           72
          ],
          [
           "COSTA MESA, CA 92626",
           0.75,
           24279,
           "Psychology",
           69
          ],
          [
           "INDIANAPOLIS, IN 46222",
           0.94,
           22554,
           "Nursing",
           334
          ],
          [
           "NEWPORT NEWS, VA 23606",
           0.85,
           23287,
           "Business",
           194
          ],
          [
           "LITTLE ROCK, AR 72204",
           0.61,
           11173,
           "Nursing",
           379
          ],
          [
           "ROCHESTER, MI 48309",
           0.9,
           15161,
           "Nursing",
           520
          ],
          [
           "THOMASVILLE, GA 31792",
           0.46,
           12557,
           "Criminal Justice and Law Enforcement Administration",
           58
          ],
          [
           "BETHANY, OK 73008",
           1,
           22098,
           "Business",
           94
          ],
          [
           "ORANGE CITY, IA 51041",
           0.87,
           25198,
           "Business",
           27
          ],
          [
           "KENOSHA, WI 53144",
           0.73,
           8510,
           "Business",
           135
          ],
          [
           "MORROW, GA 30260",
           0.57,
           9792,
           "Liberal Arts and Humanities",
           125
          ],
          [
           "NEW ULM, MN 56073",
           0.84,
           22293,
           "Elementary Education",
           64
          ],
          [
           "MORRIS, MN 56267",
           0.78,
           11169,
           "Psychology",
           48
          ],
          [
           "CULLOWHEE, NC 28723",
           0.85,
           13022,
           "Business",
           273
          ],
          [
           "MONROE, LA 71209",
           0.7,
           11353,
           "Psychology",
           169
          ],
          [
           "WASHINGTON, DC 20002",
           0.59,
           13787,
           "Psychology",
           24
          ],
          [
           "BALTIMORE, MD 21210",
           0.83,
           33312,
           "Business",
           252
          ],
          [
           "KNOXVILLE, TN 37998",
           0.63,
           21012,
           "Biblical Studies",
           161
          ],
          [
           "BRONX, NY 10471",
           0.82,
           29535,
           "Civil Engineering",
           99
          ],
          [
           "KEENE, TX 76059",
           0.54,
           20028,
           "Nursing",
           48
          ],
          [
           "DULUTH, MN 55812",
           0.81,
           18031,
           "Psychology",
           162
          ],
          [
           "HUNTSVILLE, TX 77340",
           0.85,
           13632,
           "Criminal Justice and Safety Studies",
           787
          ],
          [
           "NEW YORK CITY, NY 10036",
           0.71,
           23960,
           "Liberal Arts and Humanities",
           358
          ],
          [
           "MILWAUKEE, WI 53202",
           0.63,
           25661,
           "Mechanical Engineering",
           134
          ],
          [
           "CONWAY, AR 72035",
           0.91,
           15456,
           "Psychology",
           137
          ],
          [
           "KINGSTON, RI 02881",
           0.76,
           20695,
           "Nursing",
           290
          ],
          [
           "MOUNT PLEASANT, MI 48859",
           0.79,
           15605,
           "Psychology",
           248
          ],
          [
           "SPARTANBURG, SC 29303",
           0.79,
           13835,
           "Nursing",
           309
          ],
          [
           "JACKSONVILLE, AL 36265",
           0.78,
           11953,
           "Nursing",
           295
          ],
          [
           "MINOT, ND 58707",
           0.93,
           12360,
           "Nursing",
           58
          ],
          [
           "CHARLESTON, IL 61920",
           0.68,
           13380,
           "Liberal Arts and Humanities",
           143
          ],
          [
           "SPRINGFIELD, MO 65802",
           0.68,
           20963,
           "Elementary Education",
           24
          ],
          [
           "CENTRAL, SC 29630",
           0.52,
           17639,
           "Business",
           74
          ],
          [
           "KANSAS CITY, MO 64145",
           0.68,
           17210,
           "Nursing",
           40
          ],
          [
           "BRONX, NY 10468",
           0.6,
           9157,
           "Business",
           285
          ],
          [
           "WICHITA, KS 67260",
           0.95,
           13553,
           "Elementary Education",
           272
          ],
          [
           "W HARTFORD, CT 06117",
           0.75,
           25860,
           "Nursing",
           96
          ],
          [
           "WAYNE, NJ 07470",
           0.92,
           12967,
           "Nursing",
           275
          ],
          [
           "SLIPPERY ROCK, PA 16057",
           0.74,
           17873,
           "Occupational Safety and Health Technician",
           157
          ],
          [
           "SHREVEPORT, LA 71115",
           0.89,
           7587,
           "Business",
           94
          ],
          [
           "BOSTON, MA 02115",
           0.76,
           24423,
           "Nursing",
           117
          ],
          [
           "EMPORIA, KS 66801",
           0.96,
           14854,
           "Elementary Education",
           143
          ],
          [
           "NEW YORK CITY, NY 10027",
           0.55,
           51278,
           "Musical Instruments",
           44
          ],
          [
           "DETROIT, MI 48221",
           0.91,
           18197,
           "Nursing",
           216
          ],
          [
           "LINCOLN, NE 68506",
           0.99,
           23462,
           "Biomedical Sciences and Molecular Medicine",
           52
          ],
          [
           "TACOMA, WA 98416",
           0.83,
           41363,
           "Business",
           62
          ],
          [
           "OLATHE, KS 66062",
           0.67,
           28787,
           "Nursing",
           171
          ],
          [
           "EDWARDSVILLE, IL 62026",
           0.98,
           13586,
           "Nursing",
           479
          ],
          [
           "HEMPSTEAD, NY 11549",
           0.69,
           35036,
           "Radio and Television",
           106
          ],
          [
           "CHICOPEE, MA 01013",
           0.93,
           23498,
           "Nursing",
           108
          ],
          [
           "ARLINGTON, VA 22207",
           0.81,
           24664,
           "Nursing",
           104
          ],
          [
           "BOTHELL, WA 98011",
           0.88,
           9357,
           "Computer Science",
           246
          ],
          [
           "SCRANTON, PA 18509",
           0.81,
           22504,
           "Nursing",
           39
          ],
          [
           "EVANSVILLE, IN 47712",
           0.94,
           14443,
           "Nursing",
           203
          ],
          [
           "FLINT, MI 48502",
           0.66,
           10840,
           "Nursing",
           267
          ],
          [
           "DILLON, MT 59725",
           0.37,
           11584,
           "Early Childhood Education",
           86
          ],
          [
           "JONESBORO, AR 72401",
           0.7,
           12011,
           "Liberal Arts and Humanities",
           784
          ],
          [
           "FLORENCE, AL 35632",
           0.96,
           9837,
           "Nursing",
           165
          ],
          [
           "KLAMATH FALLS, OR 97601",
           0.93,
           17283,
           "Sonographer and Ultrasound Technician",
           103
          ],
          [
           "ONEONTA, NY 13820",
           0.73,
           18129,
           "Psychology",
           181
          ],
          [
           "BOWLING GREEN, OH 43403",
           0.79,
           20485,
           "Special Education and Teaching",
           246
          ],
          [
           "DURANT, OK 74701",
           0.74,
           10004,
           "Liberal Arts and Humanities",
           81
          ],
          [
           "CASTINE, ME 04420",
           0.62,
           19964,
           "Engineering",
           61
          ],
          [
           "THIBODAUX, LA 70310",
           0.98,
           12365,
           "Liberal Arts and Humanities",
           210
          ],
          [
           "NEW ORLEANS, LA 70118",
           0.78,
           23808,
           "Psychology",
           69
          ],
          [
           "SALT LAKE CITY, UT 84105",
           0.7,
           27068,
           "Nursing",
           70
          ],
          [
           "STATESBORO, GA 30460",
           0.89,
           15352,
           "Nursing",
           294
          ],
          [
           "PORTLAND, OR 97201",
           0.93,
           16273,
           "Psychology",
           365
          ],
          [
           "CHARLOTTE, NC 28274",
           0.71,
           29459,
           "Nursing",
           103
          ],
          [
           "LOUISVILLE, KY 40203",
           0.98,
           26539,
           "Nursing",
           70
          ],
          [
           "SYRACUSE, NY 13214",
           0.78,
           23309,
           "Psychology",
           122
          ],
          [
           "NEW YORK CITY, NY 10031",
           0.67,
           5181,
           "Psychology",
           418
          ],
          [
           "BANGOR, ME 04401",
           0.91,
           19978,
           "Business",
           88
          ],
          [
           "CANTON, NY 13617",
           0.63,
           33283,
           "Business",
           89
          ],
          [
           "CHICAGO, IL 60628",
           0.49,
           6446,
           "Liberal Arts and Humanities",
           44
          ],
          [
           "HARRISONBURG, VA 22802",
           0.99,
           23783,
           "Nursing",
           83
          ],
          [
           "MADISON, SD 57042",
           0.8,
           17977,
           "Computer and Information Systems Security",
           98
          ],
          [
           "HOUSTON, TX 77002",
           0.88,
           14911,
           "Liberal Arts and Humanities",
           751
          ],
          [
           "BRONX, NY 10458",
           0.54,
           43943,
           "Finance",
           229
          ],
          [
           "ABSECON, NJ 08205",
           0.86,
           18515,
           "Business",
           385
          ],
          [
           "RALEIGH, NC 27607",
           0.73,
           23259,
           "Biology",
           50
          ],
          [
           "NORMAL, IL 61790",
           0.86,
           20551,
           "Elementary Education",
           281
          ],
          [
           "DENVER, CO 80221",
           0.78,
           26377,
           "Nursing",
           290
          ],
          [
           "COLLEGE PLACE, WA 99324",
           1,
           25314,
           "Nursing",
           53
          ],
          [
           "MACOMB, IL 61455",
           0.75,
           11213,
           "Criminal Justice and Law Enforcement Administration",
           199
          ],
          [
           "HANOVER, IN 47243",
           0.74,
           26599,
           "Psychology",
           31
          ],
          [
           "HONOLULU, HI 96816",
           0.93,
           27315,
           "Nursing",
           71
          ],
          [
           "DECATUR, GA 30030",
           0.67,
           24305,
           "Research and Experimental Psychology",
           35
          ],
          [
           "NAMPA, ID 83686",
           0.88,
           25674,
           "Nursing",
           42
          ],
          [
           "SAN FRANCISCO, CA 94132",
           0.94,
           13267,
           "Psychology",
           398
          ],
          [
           "WICHITA FALLS, TX 76308",
           0.96,
           11361,
           "Nursing",
           197
          ],
          [
           "CLEVELAND, OH 44118",
           0.82,
           30496,
           "Finance",
           89
          ],
          [
           "PITTSBURGH, PA 15282",
           0.88,
           33919,
           "and Practice",
           257
          ],
          [
           "KALAMAZOO, MI 49006",
           0.8,
           26981,
           "Biology",
           62
          ],
          [
           "FLUSHING, NY 11367",
           0.7,
           6434,
           "Psychology",
           691
          ],
          [
           "WICHITA, KS 67213",
           0.63,
           23720,
           "Business",
           51
          ],
          [
           "FRESNO, CA 93740",
           0.95,
           7507,
           "Business",
           655
          ],
          [
           "SPRING ARBOR, MI 49283",
           0.48,
           22375,
           "Social Work and Youth Services",
           63
          ],
          [
           "LYNCHBURG, VA 24501",
           0.96,
           23256,
           "Nursing",
           44
          ],
          [
           "PIKEVILLE, KY 41501",
           1,
           17098,
           "Nursing",
           55
          ],
          [
           "WINCHESTER, VA 22601",
           0.8,
           26143,
           "Nursing",
           144
          ],
          [
           "GARDEN CITY, NY 11530",
           0.73,
           26953,
           "Nursing",
           430
          ],
          [
           "MANCHESTER, NH 03101",
           0.85,
           18923,
           "Business",
           29
          ],
          [
           "RANDOLPH CENTER, VT 05061",
           0.5,
           19426,
           "Accounting",
           0
          ],
          [
           "SPRINGFIELD, MO 65897",
           0.93,
           17677,
           "Psychology",
           288
          ],
          [
           "SAINT PAUL, MN 55112",
           0.72,
           29915,
           "Nursing",
           114
          ],
          [
           "SAINT PAUL, MN 55106",
           0.82,
           19347,
           "Business",
           215
          ],
          [
           "MARION, IN 46953",
           0.87,
           21755,
           "Nursing",
           133
          ],
          [
           "DENVER, CO 80226",
           1,
           23313,
           "Psychology",
           207
          ],
          [
           "MOUNT BERRY, GA 30149",
           0.67,
           25359,
           "Zoology and Entomology",
           35
          ],
          [
           "KAPOLEI, HI 96707",
           0.96,
           9103,
           "Business",
           276
          ],
          [
           "MOORHEAD, MN 56562",
           0.66,
           23087,
           "Biology",
           49
          ],
          [
           "MORRISTOWN, NJ 07960",
           0.72,
           21689,
           "Nursing",
           74
          ],
          [
           "BOSTON, MA 02125",
           0.81,
           17123,
           "Business",
           437
          ],
          [
           "MAHWAH, NJ 07430",
           0.7,
           16262,
           "and Practice",
           121
          ],
          [
           "ALBUQUERQUE, NM 87106",
           0.96,
           10633,
           "Business",
           460
          ],
          [
           "SEASIDE, CA 93955",
           0.92,
           11435,
           "Business",
           265
          ],
          [
           "FRESNO, CA 93702",
           0.75,
           15255,
           "Business",
           108
          ],
          [
           "MIAMI, FL 33161",
           0.6,
           20207,
           "Nursing",
           125
          ],
          [
           "DE PERE, WI 54115",
           0.84,
           26983,
           "Business",
           60
          ],
          [
           "FAYETTEVILLE, NC 28301",
           0.81,
           6355,
           "Nursing",
           213
          ],
          [
           "HUNTINGTON, IN 46750",
           0.78,
           20066,
           "Nursing",
           31
          ],
          [
           "MERCED, CA 95343",
           0.89,
           13549,
           "Biology",
           316
          ],
          [
           "SOUTHFIELD, MI 48075",
           0.82,
           32641,
           "Mechanical Engineering",
           60
          ],
          [
           "TOLEDO, OH 43606",
           0.92,
           17654,
           "Nursing",
           277
          ],
          [
           "MONTGOMERY, AL 36117",
           0.92,
           13163,
           "Nursing",
           124
          ],
          [
           "WINONA, MN 55987",
           0.74,
           18187,
           "Nursing",
           223
          ],
          [
           "MOBILE, AL 36608",
           0.73,
           21018,
           "Business",
           71
          ],
          [
           "MEQUON, WI 53097",
           0.7,
           24485,
           "Rehabilitation and Therapy",
           132
          ],
          [
           "BALDWIN CITY, KS 66006",
           0.92,
           23957,
           "Business",
           112
          ],
          [
           "ANNANDALE ON HUDSON, NY 12504",
           0.46,
           25214,
           "Studio Arts",
           138
          ],
          [
           "FREDERICKSBURG, VA 22401",
           0.86,
           21863,
           "Business",
           126
          ],
          [
           "NIAGARA UNIVERSITY, NY 14109",
           0.9,
           18165,
           "Education",
           139
          ],
          [
           "MILWAUKEE, WI 53234",
           0.9,
           18097,
           "Nursing",
           99
          ],
          [
           "LONGMEADOW, MA 01106",
           0.76,
           18502,
           "Business",
           85
          ],
          [
           "DALLAS, PA 18612",
           0.89,
           27033,
           "Nursing",
           100
          ],
          [
           "TOPEKA, KS 66621",
           1,
           12473,
           "Nursing",
           152
          ],
          [
           "PEMBROKE, NC 28372",
           0.9,
           8208,
           "Business",
           189
          ],
          [
           "YANKTON, SD 57078",
           0.69,
           21476,
           "Nursing",
           25
          ],
          [
           "NEW YORK CITY, NY 10065",
           0.48,
           4848,
           "Psychology",
           673
          ],
          [
           "SAN MARCOS, CA 92096",
           0.95,
           10463,
           "Business",
           532
          ],
          [
           "CHICAGO, IL 60605",
           0.88,
           22117,
           "Business",
           72
          ],
          [
           "MILLIGAN COLLEGE, TN 37682",
           0.67,
           19865,
           "Psychology",
           27
          ],
          [
           "BROOKLYN, NY 11205",
           0.51,
           47326,
           "Architecture",
           123
          ],
          [
           "CONWAY, SC 29526",
           0.79,
           14016,
           "Business",
           191
          ],
          [
           "WHEELING, WV 26003",
           0.74,
           19998,
           "Business",
           38
          ],
          [
           "BOSTON, MA 02116",
           0.43,
           51432,
           "Cinematography and Video Production",
           359
          ],
          [
           "DAHLONEGA, GA 30597",
           0.7,
           11721,
           "Liberal Arts and Humanities",
           716
          ],
          [
           "DEKALB, IL 60115",
           0.71,
           13884,
           "Psychology",
           193
          ],
          [
           "LOS ANGELES, CA 90010",
           1,
           24180,
           "Sonographer and Ultrasound Technician",
           203
          ],
          [
           "ANGWIN, CA 94508",
           0.48,
           21841,
           "Nursing",
           116
          ],
          [
           "COLLEGEDALE, TN 37315",
           0.7,
           24332,
           "Nursing",
           169
          ],
          [
           "BELOIT, WI 53511",
           0.66,
           20192,
           "Managerial Economics",
           21
          ],
          [
           "KNOXVILLE, TN 37909",
           1,
           14831,
           "Nursing",
           925
          ],
          [
           "EAU CLAIRE, WI 54701",
           0.77,
           15000,
           "Business",
           214
          ],
          [
           "WICHITA, KS 67213",
           0.52,
           18792,
           "Elementary Education",
           58
          ],
          [
           "LEWISTON, ID 83501",
           0.87,
           11476,
           "Nursing",
           202
          ],
          [
           "CARROLLTON, GA 30118",
           0.8,
           15625,
           "Business",
           177
          ],
          [
           "TIFFIN, OH 44883",
           0.71,
           20053,
           "Business",
           38
          ],
          [
           "ATHENS, TN 37303",
           0.61,
           13591,
           "Nursing",
           82
          ],
          [
           "SHERMAN, TX 75090",
           0.55,
           24739,
           "Business",
           44
          ],
          [
           "CHATTANOOGA, TN 37403",
           0.83,
           14417,
           "Kinesiology and Exercise Science",
           212
          ],
          [
           "GEORGETOWN, TX 78626",
           0.45,
           31014,
           "Business",
           60
          ],
          [
           "CRETE, NE 68333",
           0.76,
           24271,
           "Business",
           56
          ],
          [
           "CHARLESTON, SC 29424",
           0.76,
           21120,
           "Communications",
           171
          ],
          [
           "ASHEVILLE, NC 28804",
           0.74,
           14730,
           "Psychology",
           108
          ],
          [
           "CLEVELAND, OH 44115",
           0.94,
           15719,
           "Psychology",
           235
          ],
          [
           "MECHANICSBURG, PA 17055",
           0.79,
           24120,
           "Nursing",
           36
          ],
          [
           "MILWAUKEE, WI 53211",
           0.86,
           16551,
           "Marketing",
           299
          ],
          [
           "SAINT LOUIS, MO 63119",
           0.55,
           23069,
           "Business",
           98
          ],
          [
           "OWENSBORO, KY 42301",
           0.51,
           16127,
           "Social Work and Youth Services",
           44
          ],
          [
           "LIVONIA, MI 48150",
           0.65,
           18344,
           "Nursing",
           256
          ],
          [
           "UNIVERSITY CENTER, MI 48710",
           0.76,
           12432,
           "Nursing",
           178
          ],
          [
           "SAN BRUNO, CA 94066",
           1,
           5161,
           "Liberal Arts and Humanities",
           319
          ],
          [
           "KENT, OH 44242",
           0.88,
           19046,
           "Nursing",
           533
          ],
          [
           "MONTEVALLO, AL 35115",
           0.62,
           17421,
           "Elementary Education",
           45
          ],
          [
           "UTICA, NY 13502",
           0.81,
           22372,
           "Nursing",
           267
          ],
          [
           "MAYVILLE, ND 58257",
           0.71,
           14347,
           "Business",
           43
          ],
          [
           "SALEM, OR 97301",
           0.81,
           32957,
           "Economics",
           40
          ],
          [
           "CINCINNATI, OH 45207",
           0.85,
           31619,
           "Nursing",
           356
          ],
          [
           "PHOENIX, AZ 85004",
           0.82,
           13764,
           null,
           null
          ],
          [
           "TIFTON, GA 31793",
           0.67,
           7260,
           "Nursing",
           164
          ],
          [
           "KALAMAZOO, MI 49008",
           0.85,
           20030,
           "Marketing",
           281
          ],
          [
           "BIG RAPIDS, MI 49307",
           0.88,
           13978,
           "Police and Criminal Science",
           288
          ],
          [
           "WESTERVILLE, OH 43081",
           0.84,
           22661,
           "Nursing",
           59
          ],
          [
           "REXBURG, ID 83460",
           0.96,
           7899,
           "Business",
           845
          ],
          [
           "SOUTH BEND, IN 46615",
           0.87,
           8785,
           "Business",
           168
          ],
          [
           "MARYVILLE, TN 37804",
           0.7,
           21583,
           "Business",
           23
          ],
          [
           "WEST LONG BRANCH, NJ 07764",
           0.91,
           31416,
           "Business",
           346
          ],
          [
           "PORTLAND, OR 97215",
           0.72,
           23834,
           "Nursing",
           39
          ],
          [
           "SILVER CITY, NM 88061",
           1,
           10676,
           "Liberal Arts and Humanities",
           84
          ],
          [
           "ALPINE, TX 79832",
           0.97,
           13130,
           "Business",
           68
          ],
          [
           "LEXINGTON, KY 40508",
           0.91,
           25767,
           "Business",
           42
          ],
          [
           "MCMINNVILLE, OR 97128",
           0.89,
           31585,
           "Nursing",
           238
          ],
          [
           "MISSOULA, MT 59812",
           0.95,
           16361,
           "Liberal Arts and Humanities",
           149
          ],
          [
           "PITTSBURGH, PA 15213",
           0.93,
           17437,
           "Nursing",
           129
          ],
          [
           "ROMEOVILLE, IL 60446",
           0.74,
           19184,
           "Computer Science",
           114
          ],
          [
           "WHITEWATER, WI 53190",
           0.82,
           13322,
           "Liberal Arts and Humanities",
           249
          ],
          [
           "CARBONDALE, IL 62901",
           0.92,
           16990,
           "Aviation Management and Operations",
           121
          ],
          [
           "ROCK HILL, SC 29733",
           0.7,
           17008,
           "Business",
           154
          ],
          [
           "PROVIDENCE, RI 02908",
           0.88,
           11014,
           "Nursing",
           151
          ],
          [
           "MOORHEAD, MN 56563",
           0.57,
           17939,
           "Business",
           152
          ],
          [
           "NAPERVILLE, IL 60540",
           0.61,
           25285,
           "Psychology",
           71
          ],
          [
           "ATLANTA, GA 30314",
           0.6,
           35251,
           "Business",
           118
          ],
          [
           "BELLINGHAM, WA 98225",
           0.93,
           21105,
           "Psychology",
           220
          ],
          [
           "CLEVELAND, MS 38733",
           0.99,
           14138,
           "Physical Education Teaching and Coaching",
           63
          ],
          [
           "YOUNGSTOWN, OH 44555",
           0.84,
           11900,
           "Business",
           169
          ],
          [
           "ABERDEEN, SD 57401",
           0.78,
           17264,
           "Biology",
           37
          ],
          [
           "DULUTH, MN 55811",
           0.97,
           24578,
           "Nursing",
           279
          ],
          [
           "MINNEAPOLIS, MN 55403",
           0.98,
           24172,
           "Electrician",
           66
          ],
          [
           "ROHNERT PARK, CA 94928",
           0.94,
           15507,
           "Business",
           421
          ],
          [
           "OGDEN, UT 84408",
           1,
           10525,
           "Nursing",
           869
          ],
          [
           "SAN RAFAEL, CA 94901",
           0.93,
           49907,
           "Nursing",
           115
          ],
          [
           "AUBURNDALE, MA 02466",
           0.73,
           29706,
           "Communications",
           47
          ],
          [
           "SHEPHERDSTOWN, WV 25443",
           0.96,
           9827,
           "Business",
           75
          ],
          [
           "TUSKEGEE INSTITUTE, AL 36088",
           0.3,
           35596,
           "Nursing",
           62
          ],
          [
           "SIOUX FALLS, SD 57105",
           0.76,
           20957,
           "Nursing",
           74
          ],
          [
           "ROCHESTER, NY 14624",
           1,
           23341,
           "Nursing",
           74
          ],
          [
           "LA VERNE, CA 91750",
           0.74,
           25103,
           "Business",
           350
          ],
          [
           "LIBERTY, MO 64068",
           0.41,
           20108,
           "Nursing",
           67
          ],
          [
           "HAMMOND, LA 70402",
           0.99,
           12291,
           "Business",
           190
          ],
          [
           "CHESTERTOWN, MD 21620",
           0.75,
           31650,
           "Business",
           50
          ],
          [
           "SPRINGFIELD, IL 62703",
           0.82,
           11733,
           "Business",
           96
          ],
          [
           "OWINGS MILLS, MD 21117",
           0.84,
           27600,
           "Nursing",
           187
          ],
          [
           "SAULT SAINTE MARIE, MI 49783",
           0.77,
           14336,
           "Criminal Justice and Law Enforcement Administration",
           60
          ],
          [
           "DURHAM, NC 27707",
           0.84,
           13708,
           "Criminal Justice and Safety Studies",
           122
          ],
          [
           "GREENWOOD, SC 29649",
           0.67,
           15524,
           "Business",
           152
          ],
          [
           "ALFRED, NY 14802",
           0.51,
           26183,
           "Studio Arts",
           69
          ],
          [
           "LOUISVILLE, KY 40205",
           0.88,
           22813,
           "Nursing",
           113
          ],
          [
           "NORFOLK, VA 23529",
           0.95,
           16098,
           "Psychology",
           316
          ],
          [
           "WENHAM, MA 01984",
           0.92,
           24483,
           "Research and Experimental Psychology",
           44
          ],
          [
           "RUSSELLVILLE, AR 72801",
           0.94,
           12016,
           "Business",
           267
          ],
          [
           "ASHLAND, WI 54806",
           0.68,
           23252,
           "Natural Resources Conservation and Management",
           27
          ],
          [
           "CLARKSVILLE, AR 72830",
           0.6,
           16319,
           "Business",
           65
          ],
          [
           "ELIZABETH CITY, NC 27909",
           0.74,
           4120,
           "Business",
           44
          ],
          [
           "CHICAGO, IL 60625",
           0.69,
           19029,
           "Business",
           93
          ],
          [
           "PINEVILLE, LA 71359",
           0.75,
           14566,
           "Nursing",
           17
          ],
          [
           "MEADVILLE, PA 16335",
           0.7,
           26719,
           "Sustainability Studies",
           64
          ],
          [
           "ORONO, ME 04469",
           0.94,
           17617,
           "Business",
           121
          ],
          [
           "FORT WAYNE, IN 46808",
           0.98,
           18162,
           "Nursing",
           200
          ],
          [
           "LOS ANGELES, CA 90032",
           0.87,
           5801,
           "Business",
           726
          ],
          [
           "CARSON, CA 90747",
           0.89,
           5068,
           "Business",
           599
          ],
          [
           "TEANECK, NJ 07666",
           0.84,
           16030,
           "Liberal Arts and Humanities",
           293
          ],
          [
           "BRISTOL, TN 37620",
           0.61,
           22626,
           "Nursing",
           103
          ],
          [
           "TRENTON, NJ 08648",
           0.84,
           26388,
           "Business",
           79
          ],
          [
           "TACOMA, WA 98402",
           0.88,
           10680,
           "Psychology",
           197
          ],
          [
           "PELLA, IA 50219",
           0.79,
           23303,
           "Exercise Physiology",
           39
          ],
          [
           "AMERICUS, GA 31709",
           0.73,
           12186,
           "Elementary Education",
           54
          ],
          [
           "PLATTSBURGH, NY 12901",
           0.7,
           17625,
           "Accounting",
           108
          ],
          [
           "EIGHT MILE, AL 36613",
           0.84,
           22260,
           "Business",
           45
          ],
          [
           "SANTA BARBARA, CA 93108",
           0.82,
           33112,
           "Managerial Economics",
           39
          ],
          [
           "WEST CHESTER, PA 19383",
           0.88,
           22973,
           "Early Childhood Education",
           251
          ],
          [
           "UNIVERSITY PARK, IL 60484",
           0.57,
           9833,
           "Liberal Arts and Humanities",
           103
          ],
          [
           "COLUMBUS, OH 43215",
           1,
           18989,
           "Business",
           311
          ],
          [
           "BETHLEHEM, PA 18018",
           0.68,
           31168,
           "Nursing",
           113
          ],
          [
           "WILKES BARRE, PA 18766",
           0.94,
           27918,
           "Nursing",
           134
          ],
          [
           "MISENHEIMER, NC 28109",
           0.69,
           21575,
           "Business",
           28
          ],
          [
           "ELON COLLEGE, NC 27244",
           0.74,
           41527,
           "Public Relations",
           176
          ],
          [
           "VALPARAISO, IN 46383",
           0.94,
           22755,
           "Nursing",
           147
          ],
          [
           "AURORA, IL 60506",
           0.82,
           19350,
           "Social Work and Youth Services",
           203
          ],
          [
           "FAIRMONT, WV 26554",
           0.98,
           10794,
           "Nursing",
           214
          ],
          [
           "GOSHEN, IN 46526",
           0.94,
           19267,
           "Nursing",
           28
          ],
          [
           "HAYWARD, CA 94542",
           0.96,
           11464,
           "Business",
           800
          ],
          [
           "WESTMINSTER, MD 21157",
           0.82,
           23733,
           "Business",
           50
          ],
          [
           "TEMPE, AZ 85283",
           0.91,
           20164,
           "Computer Game Programming",
           33
          ],
          [
           "LAKELAND, FL 33801",
           0.61,
           27910,
           "and Pre-Theology",
           346
          ],
          [
           "BOILING SPRINGS, NC 28017",
           0.75,
           22339,
           "Nursing",
           115
          ],
          [
           "SAINT MARY OF THE WOODS, IN 47876",
           0.79,
           17358,
           "Special Education and Teaching",
           48
          ],
          [
           "FLINT, MI 48504",
           0.81,
           34486,
           "Mechanical Engineering",
           193
          ],
          [
           "WEST LIBERTY, WV 26074",
           0.74,
           13788,
           "Business",
           85
          ],
          [
           "MADISON, NJ 07940",
           0.73,
           28183,
           "Business",
           50
          ],
          [
           "POCATELLO, ID 83209",
           1,
           12425,
           "Liberal Arts and Humanities",
           248
          ],
          [
           "SARATOGA SPRINGS, NY 12866",
           1,
           9704,
           "Business",
           818
          ],
          [
           "NEW YORK CITY, NY 10017",
           0.84,
           39020,
           "Fashion and Apparel Merchandising",
           178
          ],
          [
           "DICKINSON, ND 58601",
           0.72,
           14971,
           "Business",
           45
          ],
          [
           "NASHVILLE, TN 37210",
           0.71,
           16080,
           "Business",
           110
          ],
          [
           "TIGERVILLE, SC 29688",
           0.76,
           11705,
           "Business",
           47
          ],
          [
           "MARYVILLE, MO 64468",
           0.86,
           14197,
           "Business",
           95
          ],
          [
           "ABILENE, TX 79697",
           0.57,
           18757,
           "Business",
           25
          ],
          [
           "NEW CONCORD, OH 43762",
           0.86,
           19682,
           "Health Service Preparatory Studies",
           66
          ],
          [
           "FORT WAYNE, IN 46805",
           0.81,
           11951,
           "Business",
           196
          ],
          [
           "GWYNEDD VALLEY, PA 19437",
           0.58,
           28122,
           "Nursing",
           287
          ],
          [
           "SELINSGROVE, PA 17870",
           0.77,
           28605,
           "Psychology",
           51
          ],
          [
           "PLATTEVILLE, WI 53818",
           0.85,
           15595,
           "Mechanical Engineering",
           197
          ],
          [
           "HAMDEN, CT 06518",
           0.84,
           39051,
           "Health Professions",
           319
          ],
          [
           "CHESTER, PA 19013",
           0.88,
           32185,
           "Nursing",
           201
          ],
          [
           "MITCHELL, SD 57301",
           0.75,
           19825,
           "Nursing",
           40
          ],
          [
           "THOUSAND OAKS, CA 91360",
           0.87,
           30416,
           "Psychology",
           116
          ],
          [
           "NEW YORK CITY, NY 10011",
           0.57,
           55480,
           "Fashion and Apparel Design",
           282
          ],
          [
           "BLOOMSBURG, PA 17815",
           0.9,
           16738,
           "Business",
           280
          ],
          [
           null,
           0.79,
           40221,
           "Business",
           143
          ],
          [
           "PARKERSBURG, WV 26104",
           1,
           3029,
           "Liberal Arts and Humanities",
           205
          ],
          [
           "CLARKSVILLE, TN 37044",
           0.94,
           16140,
           "Liberal Arts and Humanities",
           507
          ],
          [
           "NORTHFIELD, VT 05663",
           0.83,
           24501,
           "Intelligence",
           134
          ],
          [
           "ANAHEIM, CA 92802",
           1,
           27933,
           "Nursing",
           934
          ],
          [
           "WAXAHACHIE, TX 75165",
           0.86,
           19217,
           "Religious Studies",
           94
          ],
          [
           "ITHACA, NY 14850",
           0.75,
           35858,
           "Business",
           123
          ],
          [
           "LAWRENCEVILLE, GA 30043",
           0.94,
           10981,
           "Business",
           379
          ],
          [
           "CEDAR RAPIDS, IA 52402",
           0.73,
           21237,
           "Business",
           59
          ],
          [
           "DEMOREST, GA 30535",
           0.64,
           18792,
           "Nursing",
           60
          ],
          [
           "FARMVILLE, VA 23909",
           0.88,
           21772,
           "Business",
           144
          ],
          [
           "SALEM, VA 24153",
           0.8,
           29169,
           "Business",
           75
          ],
          [
           "FREDONIA, NY 14063",
           0.85,
           15795,
           "Psychology",
           83
          ],
          [
           "MISHAWAKA, IN 46545",
           0.99,
           18746,
           "Nursing",
           59
          ],
          [
           "LAKELAND, FL 33805",
           0.57,
           12373,
           "Liberal Arts and Humanities",
           138
          ],
          [
           "RICHMOND, KY 40475",
           0.64,
           10806,
           "Liberal Arts and Humanities",
           239
          ],
          [
           "REDDING, CA 96003",
           0.67,
           25251,
           "Psychology",
           64
          ],
          [
           "GAINESVILLE, FL 32606",
           1,
           11380,
           "Nursing",
           176
          ],
          [
           "GALESBURG, IL 61401",
           0.73,
           26882,
           "Business",
           42
          ],
          [
           "KUTZTOWN, PA 19530",
           0.96,
           20776,
           "Business",
           221
          ],
          [
           "MCALLEN, TX 78501",
           1,
           1692,
           "Business",
           590
          ],
          [
           "MEMPHIS, TN 38104",
           0.88,
           18612,
           "Business",
           74
          ],
          [
           "PUEBLO, CO 81001",
           0.99,
           13033,
           "Nursing",
           139
          ],
          [
           "NEW YORK CITY, NY 10038",
           0.83,
           33363,
           "Nursing",
           234
          ],
          [
           "MARIETTA, OH 45750",
           0.83,
           22895,
           "Mining and Petroleum Engineering",
           35
          ],
          [
           "YOUNG HARRIS, GA 30582",
           0.77,
           18910,
           "Business",
           35
          ],
          [
           "SHAWNEE, OK 74804",
           0.51,
           24672,
           "Nursing",
           38
          ],
          [
           "NORTON, MA 02766",
           0.8,
           32863,
           "Psychology",
           53
          ],
          [
           "FROSTBURG, MD 21532",
           0.88,
           16114,
           "Nursing",
           139
          ],
          [
           "ERIE, PA 16541",
           0.81,
           22200,
           "Health Professions",
           126
          ],
          [
           "CEDAR CITY, UT 84720",
           0.84,
           12681,
           "Nursing",
           109
          ],
          [
           "HARTFORD, CT 06103",
           0.97,
           11779,
           null,
           null
          ],
          [
           "SYLVANIA, OH 43560",
           0.61,
           22634,
           "Nursing",
           68
          ],
          [
           "OSHKOSH, WI 54901",
           0.89,
           12827,
           "Liberal Arts and Humanities",
           326
          ],
          [
           "STEUBENVILLE, OH 43952",
           0.67,
           25310,
           "Theological and Ministerial Studies",
           110
          ],
          [
           "CLEVELAND, GA 30528",
           0.81,
           18835,
           "Business",
           45
          ],
          [
           "HOUSTON, TX 77074",
           0.84,
           19515,
           "Nursing",
           97
          ],
          [
           "POUGHKEEPSIE, NY 12601",
           0.63,
           39364,
           "Business",
           270
          ],
          [
           "BISMARCK, ND 58506",
           1,
           11309,
           "Liberal Arts and Humanities",
           330
          ],
          [
           "ROCHESTER, MN 55904",
           0.72,
           12613,
           "Health Service Preparatory Studies",
           143
          ],
          [
           "NEW BRITAIN, CT 06050",
           0.77,
           17088,
           "Criminology",
           142
          ],
          [
           "ATHERTON, CA 94027",
           0.62,
           29151,
           "Business",
           70
          ],
          [
           "LAKE CHARLES, LA 70605",
           0.71,
           10154,
           "Liberal Arts and Humanities",
           176
          ],
          [
           "NASHVILLE, TN 37208",
           0.71,
           20578,
           "Biology",
           44
          ],
          [
           "GRAND JUNCTION, CO 81501",
           0.82,
           15085,
           "Business",
           188
          ],
          [
           "ORANGEBURG, SC 29115",
           0.78,
           19951,
           "Psychology",
           56
          ],
          [
           "KENOSHA, WI 53140",
           0.82,
           26209,
           "Business",
           68
          ],
          [
           "BURBANK, CA 91504",
           0.63,
           32182,
           "Architecture",
           66
          ],
          [
           "NEW HAVEN, CT 06515",
           0.83,
           18712,
           "Liberal Arts and Humanities",
           251
          ],
          [
           "FT MITCHELL, KY 41017",
           0.94,
           21962,
           "Business",
           89
          ],
          [
           "CHADRON, NE 69337",
           1,
           15727,
           "Business",
           80
          ],
          [
           "HAMILTON, OH 45011",
           1,
           10580,
           "Nursing",
           91
          ],
          [
           "CANTON, OH 44720",
           0.72,
           20032,
           "Nursing",
           71
          ],
          [
           "FOREST GROVE, OR 97116",
           0.94,
           33472,
           "Education",
           49
          ],
          [
           "AKRON, OH 44325",
           0.83,
           14667,
           "Liberal Arts and Humanities",
           281
          ],
          [
           "CORTLAND, NY 13045",
           0.6,
           18304,
           "Physical Education Teaching and Coaching",
           165
          ],
          [
           "MONTGOMERY, AL 36109",
           0.82,
           20050,
           "Business",
           158
          ],
          [
           "DENVER, CO 80217",
           0.98,
           14805,
           "Research and Experimental Psychology",
           239
          ],
          [
           "CHARLOTTE, NC 28216",
           0.28,
           20045,
           "Business",
           59
          ],
          [
           "SPARTANBURG, SC 29302",
           0.56,
           19653,
           "Child Development",
           22
          ],
          [
           "CHENEY, WA 99004",
           0.96,
           12827,
           "Psychology",
           121
          ],
          [
           "VIRGINIA BEACH, VA 23462",
           0.83,
           22578,
           "Nursing",
           899
          ],
          [
           "FLORENCE, SC 29506",
           0.83,
           12614,
           "Nursing",
           77
          ],
          [
           "PHILADELPHIA, PA 19141",
           0.94,
           17552,
           "Nursing",
           188
          ],
          [
           "NEW WILMINGTON, PA 16172",
           0.75,
           22645,
           "Business",
           38
          ],
          [
           "MARQUETTE, MI 49855",
           0.7,
           17346,
           "Liberal Arts and Humanities",
           103
          ],
          [
           "RIVER FALLS, WI 54022",
           0.84,
           13427,
           "Animal Sciences and Husbandry",
           184
          ],
          [
           "OAKLAND CITY, IN 47660",
           0.56,
           17103,
           "Liberal Arts and Humanities",
           85
          ],
          [
           "SAN ANTONIO, TX 78207",
           0.66,
           19100,
           "Social Work and Youth Services",
           43
          ],
          [
           "OREM, UT 84058",
           1,
           9346,
           "Business",
           867
          ],
          [
           "ROCKFORD, IL 61108",
           0.55,
           25047,
           "Nursing",
           48
          ],
          [
           "HILO, HI 96720",
           0.84,
           13867,
           "Business",
           89
          ],
          [
           "HOWELL, MI 48843",
           0.68,
           27209,
           "Business",
           86
          ],
          [
           "NAPERVILLE, IL 60563",
           0.43,
           30112,
           "Electrical Engineering Technician",
           154
          ],
          [
           "SHREVEPORT, LA 71104",
           0.64,
           30050,
           "Biology",
           30
          ],
          [
           "LANGHORNE, PA 19047",
           0.81,
           25923,
           "Biblical Studies",
           23
          ],
          [
           "KYLE, SD 57752",
           1,
           5243,
           "Business",
           35
          ],
          [
           "SCOTTSDALE, AZ 85257",
           0.64,
           14568,
           "Psychology",
           881
          ],
          [
           "LATROBE, PA 15650",
           0.74,
           23121,
           "Biology",
           35
          ],
          [
           "WILLIMANTIC, CT 06226",
           0.74,
           18628,
           "Business",
           89
          ],
          [
           "NEW ORLEANS, LA 70148",
           0.7,
           11508,
           "Biology",
           107
          ],
          [
           "OSWEGO, NY 13126",
           0.83,
           17376,
           "Business",
           199
          ],
          [
           "SIOUX CITY, IA 51106",
           0.71,
           23947,
           "Business",
           61
          ],
          [
           "ROCHESTER, NY 14618",
           0.84,
           31620,
           "Psychology",
           67
          ],
          [
           "GUNNISON, CO 81231",
           0.92,
           16672,
           "Business",
           80
          ],
          [
           "MANCHESTER, NH 03102",
           0.82,
           35080,
           "Nursing",
           88
          ],
          [
           "JACKSON, MS 39217",
           0.89,
           15292,
           "Biology",
           137
          ],
          [
           "NEWBERG, OR 97132",
           0.92,
           28840,
           "Business",
           86
          ],
          [
           "MONTGOMERY, AL 36106",
           0.66,
           23662,
           "Business",
           75
          ],
          [
           "LOUISVILLE, KY 40245",
           1,
           23144,
           "Licensed Practical Nurse Training (LPN)",
           80
          ],
          [
           "COLUMBUS, OH 43219",
           0.52,
           21881,
           "Business",
           42
          ],
          [
           "ASHLAND, OR 97520",
           0.88,
           17976,
           "Business",
           110
          ],
          [
           "CAPE GIRARDEAU, MO 63701",
           0.88,
           14519,
           "Liberal Arts and Humanities",
           120
          ],
          [
           "FORT SMITH, AR 72913",
           1,
           10705,
           "Business",
           252
          ],
          [
           "LEBANON, IL 62254",
           0.68,
           22431,
           "Nursing",
           69
          ],
          [
           "LAKELAND, FL 33801",
           0.57,
           27324,
           "Business",
           120
          ],
          [
           "MONTICELLO, AR 71656",
           1,
           12693,
           "Liberal Arts and Humanities",
           206
          ],
          [
           "CALIFORNIA, PA 15419",
           0.94,
           18527,
           "Nursing",
           348
          ],
          [
           "HOOKSETT, NH 03106",
           0.96,
           32043,
           "Information Science",
           841
          ],
          [
           "EDMOND, OK 73013",
           0.96,
           20237,
           "Nursing",
           49
          ],
          [
           "LAMONI, IA 50140",
           0.75,
           16627,
           "Nursing",
           69
          ],
          [
           "MINNEAPOLIS, MN 55454",
           0.76,
           25409,
           "Nursing Administration",
           65
          ],
          [
           "BROOKLYN, NY 11201",
           0.84,
           18602,
           "Nursing",
           82
          ],
          [
           "RIVER FOREST, IL 60305",
           0.9,
           18162,
           "Natural Sciences",
           43
          ],
          [
           "BEMIDJI, MN 56601",
           0.78,
           15561,
           "Business",
           144
          ],
          [
           "FAYETTE, IA 52142",
           0.54,
           24563,
           "Business",
           200
          ],
          [
           "OLD WESTBURY, NY 11568",
           0.76,
           22494,
           "Information Science",
           98
          ],
          [
           "TOWSON, MD 21204",
           0.8,
           30945,
           "Psychology",
           46
          ],
          [
           "JAMESTOWN, ND 58405",
           0.92,
           19950,
           "Business",
           20
          ],
          [
           "JEFFERSON CITY, TN 37760",
           0.8,
           20111,
           "Business",
           52
          ],
          [
           "BLUE MOUNTAIN, MS 38610",
           0.96,
           15305,
           "Elementary Education",
           31
          ],
          [
           "LAS VEGAS, NM 87701",
           1,
           10852,
           "Medical Social Work",
           69
          ],
          [
           "FARMINGTON, ME 04938",
           0.94,
           14486,
           "Elementary Education",
           38
          ],
          [
           "BECKLEY, WV 25801",
           0.65,
           9529,
           "Biology",
           24
          ],
          [
           "OKATIE, SC 29909",
           0.8,
           16113,
           "Nursing",
           59
          ],
          [
           "ALVA, OK 73717",
           0.56,
           10448,
           "Recreation and Leisure Studies",
           43
          ],
          [
           "ROANOKE, VA 24020",
           0.72,
           21207,
           "English",
           19
          ],
          [
           "MARIETTA, GA 30060",
           0.98,
           28226,
           "Biology",
           53
          ],
          [
           "STEVENS POINT, WI 54481",
           0.89,
           13702,
           "Wildlife and Fisheries Management",
           108
          ],
          [
           "JACKSONVILLE, IL 62650",
           0.77,
           16296,
           "Business",
           52
          ],
          [
           "SAINT PAUL, MN 55104",
           0.81,
           23021,
           "Psychology",
           48
          ],
          [
           "FULLERTON, CA 92831",
           0.32,
           26146,
           "Business",
           39
          ],
          [
           "ALBION, MI 49224",
           0.67,
           19351,
           "Research and Experimental Psychology",
           38
          ],
          [
           null,
           0.97,
           9909,
           "Nursing",
           34
          ],
          [
           "TERRE HAUTE, IN 47809",
           0.92,
           12688,
           "Nursing",
           185
          ],
          [
           "BOWLING GREEN, KY 42101",
           0.97,
           12625,
           "Nursing",
           281
          ],
          [
           "MONMOUTH, OR 97361",
           0.84,
           16754,
           "Education",
           183
          ],
          [
           "CEDAR RAPIDS, IA 52402",
           0.75,
           24078,
           "Nursing",
           105
          ],
          [
           "MEMPHIS, TN 38126",
           1,
           6308,
           "Business",
           36
          ],
          [
           "MOREHEAD, KY 40351",
           0.84,
           10991,
           "Liberal Arts and Humanities",
           164
          ],
          [
           "KANSAS CITY, MO 64152",
           1,
           15858,
           "Business",
           520
          ],
          [
           "SCRANTON, PA 18512",
           0.94,
           16594,
           "Nursing",
           50
          ],
          [
           "SPRINGFIELD, MA 01109",
           0.76,
           27930,
           "Sport and Fitness Management",
           48
          ],
          [
           "REDMOND, WA 98052",
           0.66,
           38319,
           "Video Graphics and Special Effects",
           66
          ],
          [
           "COLUMBUS, GA 31907",
           0.88,
           12902,
           "Criminal Justice and Safety Studies",
           160
          ],
          [
           "GAINESVILLE, FL 32611",
           0.65,
           10791,
           "Business",
           189
          ],
          [
           "HUNTINGDON, PA 16652",
           0.76,
           29926,
           "Biology",
           52
          ],
          [
           "MOUNT VERNON, IA 52314",
           0.79,
           25686,
           "Biochemistry and Molecular Biology",
           20
          ],
          [
           "DOVER, DE 19901",
           0.55,
           11886,
           "Nursing",
           65
          ],
          [
           "MILWAUKEE, WI 53222",
           0.69,
           22897,
           "Psychology",
           12
          ],
          [
           "DAYTON, OH 45435",
           0.95,
           15650,
           "Business",
           173
          ],
          [
           "CANTON, OH 44709",
           0.78,
           21571,
           "Business",
           51
          ],
          [
           "WAUKESHA, WI 53186",
           0.72,
           25485,
           "Kinesiology and Exercise Science",
           106
          ],
          [
           "DUBUQUE, IA 52001",
           0.85,
           27275,
           "Business",
           40
          ],
          [
           "CHARLESTON, SC 29406",
           0.87,
           17536,
           "Nursing",
           90
          ],
          [
           "BEAUMONT, TX 77705",
           0.84,
           11757,
           "Liberal Arts and Humanities",
           355
          ],
          [
           "SAINT BONIFACIUS, MN 55375",
           0.67,
           25504,
           "Biblical Studies",
           42
          ],
          [
           "BARTLESVILLE, OK 74006",
           0.57,
           27590,
           "Nursing",
           40
          ],
          [
           "BOURBONNAIS, IL 60914",
           0.66,
           20059,
           "Nursing",
           87
          ],
          [
           "ANNVILLE, PA 17003",
           0.77,
           26743,
           "Kinesiology and Exercise Science",
           77
          ],
          [
           "ELLENSBURG, WA 98926",
           0.94,
           15864,
           "Elementary Education",
           238
          ],
          [
           "NASHUA, NH 03060",
           0.84,
           28983,
           "and Practice",
           156
          ],
          [
           "WASHINGTON, DC 20017",
           0.97,
           13586,
           "and Wellness Studies",
           47
          ],
          [
           "LOS ANGELES, CA 90028",
           0.78,
           36976,
           "Music Performance",
           146
          ],
          [
           "BARBOURVILLE, KY 40906",
           0.53,
           18221,
           "Nursing",
           38
          ],
          [
           "PINE BLUFF, AR 71601",
           0.69,
           9959,
           "Biology",
           37
          ],
          [
           "FORT WORTH, TX 76105",
           0.61,
           15652,
           "Liberal Arts and Humanities",
           38
          ],
          [
           "OWOSSO, MI 48867",
           0.37,
           13719,
           "Nursing",
           219
          ],
          [
           "STORM LAKE, IA 50588",
           0.78,
           19204,
           "Business",
           86
          ],
          [
           "BUIES CREEK, NC 27506",
           0.89,
           24280,
           "Business",
           101
          ],
          [
           "SEGUIN, TX 78155",
           0.92,
           21442,
           "Nursing",
           119
          ],
          [
           "MENOMONIE, WI 54751",
           0.86,
           15510,
           "Business",
           131
          ],
          [
           "INDIANA, PA 15705",
           0.92,
           20205,
           "Nursing",
           144
          ],
          [
           "ASHLAND, OH 44805",
           0.72,
           20342,
           "and Practice",
           161
          ],
          [
           "BOSTON, MA 02108",
           0.87,
           32270,
           "Marketing",
           121
          ],
          [
           "WATERVILLE, ME 04901",
           null,
           22070,
           "Psychology",
           38
          ],
          [
           "ORANGEBURG, NY 10962",
           0.89,
           23747,
           "Nursing",
           101
          ],
          [
           "ANDERSON, IN 46012",
           0.52,
           21459,
           "Nursing",
           41
          ],
          [
           "BROCKPORT, NY 14420",
           0.68,
           16261,
           "Nursing",
           250
          ]
         ],
         "hovertemplate": "<b>%{hovertext}</b><br><br>Low SAT=%{x}<br>High SAT=%{y}<br>City=%{customdata[0]}<br>Acceptance Rate=%{marker.color:.0%}<br>Net Price=%{customdata[2]:$,.0f}<br>major_top1=%{customdata[3]}<br>graduates_top1=%{customdata[4]}<extra></extra>",
         "hovertext": [
          "Massachusetts Institute of Technology",
          "Yale University",
          "Stanford University",
          "Harvard University",
          "Dartmouth College",
          "Columbia University",
          "Brown University",
          "Rice University",
          "Vanderbilt University",
          "Princeton University",
          "University of Pennsylvania",
          "Duke University",
          "Georgetown University",
          "Harvey Mudd College",
          "Washington University in St. Louis",
          "Pomona College",
          "Northwestern University",
          "Carnegie Mellon University",
          "California Institute of Technology",
          "University of California - Los Angeles",
          "Cornell University",
          "Johns Hopkins University",
          "University of Michigan - Ann Arbor",
          "Claremont McKenna College",
          "University of Chicago",
          "University of Notre Dame",
          "University of Virginia",
          "University of Southern California",
          "Williams College",
          "Georgia Institute of Technology",
          "Swarthmore College",
          "Bowdoin College",
          "University of Florida",
          "Emory University",
          "University of North Carolina at Chapel Hill",
          "Davidson College",
          "Barnard College",
          "Washington and Lee University",
          "Boston University",
          "New York University",
          "Northeastern University",
          "University of California - Berkeley",
          "Boston College",
          "Wellesley College",
          "University of Texas - Austin",
          "Middlebury College",
          "Tufts University",
          "Wake Forest University",
          "Amherst College",
          "University of Illinois Urbana-Champaign",
          "Florida State University",
          "University of Georgia",
          "University of Miami",
          "Hamilton College",
          "University of California - Irvine",
          "University of Wisconsin-Madison",
          "Lehigh University",
          "Villanova University",
          "Haverford College",
          "Virginia Tech",
          "University of Washington",
          "University of California - Davis",
          "University of California - San Diego",
          "Wesleyan University",
          "The Cooper Union for the Advancement of Science and Art",
          "Purdue University",
          "University of South Florida",
          "Tulane University",
          "Colgate University",
          "Bates College",
          "University of Richmond",
          "Babson College",
          "Vassar College",
          "University of California - Santa Barbara",
          "University of Central Florida",
          "Case Western Reserve University",
          "Trinity University",
          "The Ohio State University",
          "University of Maryland - College Park",
          "Macalester College",
          "Colby College",
          "Auburn University",
          "Carleton College",
          "Florida International University",
          "North Carolina State University",
          "Clemson University",
          "Colorado School of Mines",
          "Oklahoma State University",
          "University of Pittsburgh",
          "Indiana University - Bloomington",
          "Reed College",
          "Brigham Young University",
          "Smith College",
          "University of Minnesota Twin Cities",
          "Michigan State University",
          "University of Massachusetts Amherst",
          "George Washington University",
          "Arizona State University",
          "University of Rochester",
          "Texas Christian University",
          "University of Iowa",
          "Bucknell University",
          "University of Alabama - Birmingham",
          "Grinnell College",
          "University of South Carolina",
          "University of Mississippi",
          "Colorado College",
          "University of Oklahoma",
          "Texas Tech University",
          "Penn State",
          "University of Utah",
          "Bryn Mawr College",
          "Wabash College",
          "New Mexico Tech",
          "California State University - Long Beach",
          "College of the Holy Cross",
          "Pitzer College",
          "The University of Kansas",
          "Santa Clara University",
          "The University of Alabama",
          "Michigan Technological University",
          "Iowa State University",
          "Kenyon College",
          "University of Dayton",
          "Trinity College - Connecticut",
          "Eastern New Mexico University",
          "University of San Diego",
          "University of Arkansas",
          "Binghamton University, SUNY",
          "University of North Carolina School of the Arts",
          "Cal Poly San Luis Obispo",
          "Brandeis University",
          "University of Connecticut",
          "Washington State University",
          "CUNY John Jay College of Criminal Justice",
          "Stevens Institute of Technology",
          "Mount Holyoke College",
          "University of Arizona",
          "Mississippi State University",
          "Occidental College",
          "University of Cincinnati",
          "University of South Florida - Sarasota-Manatee",
          "Oregon State University",
          "University of Missouri",
          "Loyola Marymount University",
          "Drexel University",
          "San Diego State University",
          "Union University",
          "Kansas State University",
          "College of Saint Mary",
          "University of Idaho",
          "Yeshiva University",
          "Wheaton College - Illinois",
          "University of Houston",
          "Rose-Hulman Institute of Technology",
          "Denison University",
          "Lafayette College",
          "University of Illinois Chicago",
          "Furman University",
          "Skidmore College",
          "College of the Ozarks",
          "Point Loma Nazarene University",
          "University of Delaware",
          "Louisiana Tech University",
          "St. Olaf College",
          "Rensselaer Polytechnic Institute",
          "United States Merchant Marine Academy",
          "Worcester Polytechnic Institute",
          "Harding University",
          "Syracuse University",
          "Hampden-Sydney College",
          "Wayne State University",
          "National University",
          "University of West Florida",
          "Biola University",
          "Rhode Island School of Design",
          "South Dakota School of Mines and Technology",
          "The University of Tulsa",
          "Stony Brook University",
          "William Carey University",
          "Pepperdine University",
          "New Jersey Institute of Technology",
          "The College of New Jersey",
          "University of Minnesota Crookston",
          "Baylor University",
          "University of Wyoming",
          "Lipscomb University",
          "University of Tennessee",
          "Creighton University",
          "University of Missouri - Kansas City",
          "University of Kentucky",
          "Mississippi College",
          "Illinois Wesleyan University",
          "American University",
          "Union College - New York",
          "Moody Bible Institute",
          "Hendrix College",
          "University of Nebraska - Lincoln",
          "Nevada State University",
          "University of Colorado Denver",
          "Cedarville University",
          "Embry-Riddle Aeronautical University - Worldwide",
          "Stanbridge University - Orange County",
          "Temple University",
          "University of Colorado Boulder",
          "Saint Louis University",
          "James Madison University",
          "University of Texas - Tyler",
          "Rutgers University - Newark",
          "Florida Institute of Technology",
          "Virginia Military Institute",
          "Dickinson College",
          "Florida College",
          "Samford University",
          "Andrews University",
          "Missouri University of Science and Technology",
          "University of Texas Rio Grande Valley",
          "Rhodes College",
          "Bentley University",
          "DePaul University",
          "Indiana University Indianapolis",
          "Augustana University",
          "University of Southern Mississippi",
          "Nova Southeastern University",
          "Virginia Commonwealth University",
          "Marquette University",
          "Chapman University",
          "Ouachita Baptist University",
          "Alcorn State University",
          "Connecticut College",
          "Lake Forest College",
          "Florida Atlantic University",
          "Hope College",
          "The University of Alabama in Huntsville",
          "Louisiana State University",
          "Colorado State University",
          "Ohio Northern University",
          "George Mason University",
          "Rochester Institute of Technology",
          "St. Catherine University",
          "University of Louisville",
          "Mercer University",
          "Pittsburg State University",
          "University of North Texas",
          "University of North Carolina at Charlotte",
          "Florida Gulf Coast University",
          "North Dakota State University",
          "CUNY Baruch College",
          "Whitman College",
          "Thomas Jefferson University",
          "University of the Pacific",
          "University of Michigan - Dearborn",
          "Oral Roberts University",
          "Oklahoma City University",
          "Clark University",
          "John Brown University",
          "Augusta University",
          "Texas State University",
          "University of North Dakota",
          "California State University - Fullerton",
          "Fashion Institute of Technology",
          "Abilene Christian University",
          "Truman State University",
          "Muhlenberg College",
          "University of North Florida",
          "Everglades University",
          "University of Massachusetts Lowell",
          "College of Wooster",
          "University of California - Santa Cruz",
          "Berea College",
          "Gustavus Adolphus College",
          "Appalachian State University",
          "University of Texas - Arlington",
          "University of South Alabama",
          "Valley City State University",
          "University of North Carolina - Wilmington",
          "Sewanee - The University of the South",
          "University of Portland",
          "University of Charleston",
          "Millsaps College",
          "Embry-Riddle Aeronautical University - Daytona Beach",
          "Drake University",
          "Tennessee Technological University",
          "University of Memphis",
          "Taylor University",
          "Luther College",
          "University of South Dakota",
          "Indiana University - East",
          "Ohio University",
          "University of San Francisco",
          "South Dakota State University",
          "California Baptist University",
          "Wofford College",
          "University of Oregon",
          "University of Texas - Permian Basin",
          "University of Texas - Dallas",
          "Utah State University",
          "Jacksonville University",
          "University of Dallas",
          "West Virginia University",
          "University of Scranton",
          "The Catholic University of America",
          "Rockhurst University",
          "DePauw University",
          "University of Houston - Clear Lake",
          "Seton Hall University",
          "Huston-Tillotson University",
          "Hallmark University",
          "Gonzaga University",
          "Yeshivath Viznitz",
          "University of North Carolina - Greensboro",
          "Grand Canyon University",
          "Seattle University",
          "Elmhurst University",
          "St. Bonaventure University",
          "University of Wisconsin - La Crosse",
          "Southern Arkansas University",
          "California State University - Stanislaus",
          "Whitworth University",
          "Dordt University",
          "University of Alaska Fairbanks",
          "Towson University",
          "University of Nebraska at Omaha",
          "LeTourneau University",
          "Scripps College",
          "Rollins College",
          "University of Houston - Victoria",
          "East Central University",
          "Ball State University",
          "Troy University",
          "Mid-America Christian University",
          "National Louis University",
          "Loyola University Chicago",
          "California State University - Sacramento",
          "Gettysburg College",
          "The University of Texas at San Antonio",
          "Marshall University",
          "New College of Florida",
          "East Tennessee State University",
          "Indiana University - Kokomo",
          "Lincoln Memorial University",
          "University of Hawaii at Manoa",
          "Wisconsin Lutheran College",
          "Citadel Military College of South Carolina",
          "Centre College",
          "Regent University",
          "University of Central Oklahoma",
          "Molloy University",
          "Boise State University",
          "University of California - Riverside",
          "American Public University System",
          "Murray State University",
          "Belhaven University",
          "Thomas Aquinas College",
          "Providence College",
          "University of New Hampshire",
          "University of Northern Iowa",
          "Loras College",
          "Louisiana State University - Alexandria",
          "Trinity Christian College",
          "Angelo State University",
          "Lawrence University",
          "Azusa Pacific University",
          "Georgia State University",
          "Clarkson University",
          "Butler University",
          "Augustana College - Illinois",
          "Oberlin College",
          "Montana Technological University",
          "Fort Hays State University",
          "Lee University",
          "University of Vermont",
          "Tarleton State University",
          "Spelman College",
          "Seattle Pacific University",
          "Montana State University",
          "Liberty University",
          "Southwestern Oklahoma State University",
          "Bradley University",
          "Calvin University",
          "Manchester University",
          "CUNY Brooklyn College",
          "Mississippi University for Women",
          "University of the Cumberlands",
          "Earlham College",
          "New Mexico State University",
          "Northern Arizona University",
          "Columbia International University",
          "University of Tennessee at Martin",
          "Howard University",
          "California State University - Northridge",
          "Montclair State University",
          "Kean University",
          "Northeastern State University",
          "Embry-Riddle Aeronautical University - Prescott",
          "Hobart and William Smith",
          "Heritage University",
          "Northeastern Illinois University",
          "Maryville University",
          "Baldwin Wallace University",
          "Northwest University",
          "Rowan University",
          "Saint Francis University",
          "Indiana University Southeast",
          "University of Evansville",
          "Stetson University",
          "SUNY Farmingdale State College",
          "University of Louisiana at Lafayette",
          "University of Nebraska at Kearney",
          "Drury University",
          "Salve Regina University",
          "California State Polytechnic University - Pomona",
          "East Carolina University",
          "Northern Kentucky University",
          "Lubbock Christian University",
          "Salisbury University",
          "Middle Tennessee State University",
          "Indiana University - Northwest",
          "University of the Incarnate Word",
          "Pacific Lutheran University",
          "Purdue University Northwest",
          "University of South Carolina Aiken",
          "California State University - Channel Islands",
          "Miami University",
          "University of Tampa",
          "Bryant University",
          "Kennesaw State University",
          "Grand Valley State University",
          "Anderson University - South Carolina",
          "University of Texas - El Paso",
          "University of Denver",
          "University of Central Missouri",
          "Keiser University - Fort Lauderdale",
          "University of North Texas at Dallas",
          "Illinois Institute of Technology",
          "The University of Baltimore",
          "Bob Jones University",
          "Winston-Salem State University",
          "The University of West Alabama",
          "Vanguard University of Southern California",
          "Marian University Indianapolis",
          "Christopher Newport University",
          "University of Arkansas at Little Rock",
          "Oakland University",
          "Thomas University",
          "Southern Nazarene University",
          "Northwestern College - Iowa",
          "University of Wisconsin-Parkside",
          "Clayton State University",
          "Martin Luther College",
          "University of Minnesota Morris",
          "Western Carolina University",
          "University of Louisiana - Monroe",
          "Gallaudet University",
          "Loyola University Maryland",
          "Johnson University",
          "Manhattan University",
          "Southwestern Adventist University",
          "University of Minnesota Duluth",
          "Sam Houston State University",
          "Touro University",
          "Milwaukee School of Engineering",
          "University of Central Arkansas",
          "University of Rhode Island",
          "Central Michigan University",
          "University of South Carolina - Upstate",
          "Jacksonville State University",
          "Minot State University",
          "Eastern Illinois University",
          "Evangel University",
          "Southern Wesleyan University",
          "Avila University",
          "Monroe College - Bronx/New Rochelle",
          "Wichita State University",
          "University of Saint Joseph",
          "William Paterson University of New Jersey",
          "Slippery Rock University",
          "Louisiana State University - Shreveport",
          "Simmons University",
          "Emporia State University",
          "Manhattan School of Music",
          "University of Detroit Mercy",
          "Union Adventist University",
          "University of Puget Sound",
          "MidAmerica Nazarene University",
          "Southern Illinois University Edwardsville",
          "Hofstra University",
          "Elms College",
          "Marymount University",
          "University of Washington - Bothell",
          "Marywood University",
          "University of Southern Indiana",
          "University of Michigan - Flint",
          "University of Montana - Western",
          "Arkansas State University",
          "University of North Alabama",
          "Oregon Institute of Technology",
          "SUNY Oneonta",
          "Bowling Green State University",
          "Southeastern Oklahoma State University",
          "Maine Maritime Academy",
          "Nicholls State University",
          "Loyola University New Orleans",
          "Westminster University - Utah",
          "Georgia Southern University",
          "Portland State University",
          "Queens University of Charlotte",
          "Spalding University",
          "Le Moyne College",
          "CUNY City College of New York",
          "Husson University",
          "St. Lawrence University",
          "Chicago State University",
          "Eastern Mennonite University",
          "Dakota State University",
          "University of Houston - Downtown",
          "Fordham University",
          "Stockton University",
          "Meredith College",
          "Illinois State University",
          "Regis University",
          "Walla Walla University",
          "Western Illinois University",
          "Hanover College",
          "Chaminade University of Honolulu",
          "Agnes Scott College",
          "Northwest Nazarene University",
          "San Francisco State University",
          "Midwestern State University",
          "John Carroll University",
          "Duquesne University",
          "Kalamazoo College",
          "CUNY Queens College",
          "Friends University",
          "California State University - Fresno",
          "Spring Arbor University",
          "University of Lynchburg",
          "University of Pikeville",
          "Shenandoah University",
          "Adelphi University",
          "University of New Hampshire at Manchester",
          "Vermont State University Randolph and Williston",
          "Missouri State University",
          "Bethel University - Minnesota",
          "Metropolitan State University - Minnesota",
          "Indiana Wesleyan University-Marion",
          "Colorado Christian University",
          "Berry College",
          "University of Hawaii - West Oahu",
          "Concordia College",
          "Saint Elizabeth University",
          "University of Massachusetts Boston",
          "Ramapo College of New Jersey",
          "University of New Mexico",
          "California State University - Monterey Bay",
          "Fresno Pacific University",
          "Barry University",
          "St. Norbert College",
          "Fayetteville State University",
          "Huntington University",
          "University of California - Merced",
          "Lawrence Technological University",
          "University of Toledo",
          "Auburn University at Montgomery",
          "Winona State University",
          "Spring Hill College",
          "Concordia University Wisconsin",
          "Baker University",
          "Bard College",
          "University of Mary Washington",
          "Niagara University",
          "Alverno College",
          "Bay Path University",
          "Misericordia University",
          "Washburn University",
          "University of North Carolina at Pembroke",
          "Mount Marty University",
          "CUNY Hunter College",
          "California State University - San Marcos",
          "Roosevelt University",
          "Milligan University",
          "Pratt Institute",
          "Coastal Carolina University",
          "Wheeling University",
          "Emerson College",
          "University of North Georgia",
          "Northern Illinois University",
          "Smith Chason College",
          "Pacific Union College",
          "Southern Adventist University",
          "Beloit College",
          "South College - Knoxville",
          "University of Wisconsin-Eau Claire",
          "Newman University",
          "Lewis-Clark State College",
          "University of West Georgia",
          "Heidelberg University",
          "Tennessee Wesleyan University",
          "Austin College",
          "The University of Tennessee at Chattanooga",
          "Southwestern University",
          "Doane University",
          "College of Charleston",
          "University of North Carolina Asheville",
          "Cleveland State University",
          "Messiah University",
          "University of Wisconsin - Milwaukee",
          "Webster University",
          "Brescia University",
          "Madonna University",
          "Saginaw Valley State University",
          "Skyline College - San Bruno",
          "Kent State University",
          "University of Montevallo",
          "Utica University",
          "Mayville State University",
          "Willamette University",
          "Xavier University",
          "Arizona State University - Downtown Phoenix Campus",
          "Abraham Baldwin Agricultural College",
          "Western Michigan University",
          "Ferris State University",
          "Otterbein University",
          "Brigham Young University-Idaho",
          "Indiana University - South Bend",
          "Maryville College",
          "Monmouth University",
          "Warner Pacific University",
          "Western New Mexico University",
          "Sul Ross State University",
          "Transylvania University",
          "Linfield University",
          "University of Montana",
          "Carlow University",
          "Lewis University",
          "University of Wisconsin - Whitewater",
          "Southern Illinois University Carbondale",
          "Winthrop University",
          "Rhode Island College",
          "Minnesota State University Moorhead",
          "North Central College",
          "Morehouse College",
          "Western Washington University",
          "Delta State University",
          "Youngstown State University",
          "Northern State University",
          "The College of St. Scholastica",
          "Dunwoody College of Technology",
          "Sonoma State University",
          "Weber State University",
          "Dominican University of California",
          "Lasell University",
          "Shepherd University",
          "Tuskegee University",
          "University of Sioux Falls",
          "Roberts Wesleyan University",
          "University of La Verne",
          "William Jewell College",
          "Southeastern Louisiana University",
          "Washington College",
          "University of Illinois Springfield",
          "Stevenson University",
          "Lake Superior State University",
          "North Carolina Central University",
          "Lander University",
          "Alfred University",
          "Bellarmine University",
          "Old Dominion University",
          "Gordon College",
          "Arkansas Tech University",
          "Northland College",
          "University of the Ozarks",
          "Elizabeth City State University",
          "North Park University",
          "Louisiana Christian University",
          "Allegheny College",
          "University of Maine",
          "University of Saint Francis - Indiana",
          "California State University - Los Angeles",
          "California State University - Dominguez Hills",
          "Fairleigh Dickinson University - Metropolitan Campus",
          "King University - Tennessee",
          "Rider University",
          "University of Washington - Tacoma",
          "Central College",
          "Georgia Southwestern State University",
          "SUNY Plattsburgh",
          "University of Mobile",
          "Westmont College",
          "West Chester University of Pennsylvania",
          "Governors State University",
          "Franklin University",
          "Moravian University",
          "Wilkes University",
          "Pfeiffer University",
          "Elon University",
          "Valparaiso University",
          "Aurora University",
          "Fairmont State University",
          "Goshen College",
          "California State University - East Bay",
          "McDaniel College",
          "University of Advancing Technology",
          "Southeastern University",
          "Gardner-Webb University",
          "Saint Mary-of-the-Woods College",
          "Kettering University",
          "West Liberty University",
          "Drew University",
          "Idaho State University",
          "SUNY Empire State University",
          "LIM College",
          "Dickinson State University",
          "Trevecca Nazarene University",
          "North Greenville University",
          "Northwest Missouri State University",
          "McMurry University",
          "Muskingum University",
          "Purdue University Fort Wayne",
          "Gwynedd Mercy University",
          "Susquehanna University",
          "University of Wisconsin - Platteville",
          "Quinnipiac University",
          "Widener University",
          "Dakota Wesleyan University",
          "California Lutheran University",
          "The New School",
          "Commonwealth University - Bloomsburg",
          "High Point University",
          "West Virginia University at Parkersburg",
          "Austin Peay State University",
          "Norwich University",
          "West Coast University - Orange County",
          "Nelson University",
          "Ithaca College",
          "Georgia Gwinnett College",
          "Coe College",
          "Piedmont University",
          "Longwood University",
          "Roanoke College",
          "SUNY Fredonia",
          "Bethel University - Indiana",
          "Florida Polytechnic University",
          "Eastern Kentucky University",
          "Simpson University",
          "Santa Fe College",
          "Knox College",
          "Kutztown University of Pennsylvania",
          "South Texas College",
          "Christian Brothers University",
          "Colorado State University Pueblo",
          "Pace University",
          "Marietta College",
          "Young Harris College",
          "Oklahoma Baptist University",
          "Wheaton College - Massachusetts",
          "Frostburg State University",
          "Gannon University",
          "Southern Utah University",
          "University of Connecticut - Hartford",
          "Lourdes University",
          "University of Wisconsin - Oshkosh",
          "Franciscan University of Steubenville",
          "Truett McConnell University",
          "Houston Christian University",
          "Marist College",
          "Bismarck State College",
          "University of Minnesota Rochester",
          "Central Connecticut State University",
          "Menlo College",
          "McNeese State University",
          "Fisk University",
          "Colorado Mesa University",
          "Claflin University",
          "Carthage College",
          "Woodbury University",
          "Southern Connecticut State University",
          "Thomas More University",
          "Chadron State College",
          "Miami University - Hamilton",
          "Walsh University",
          "Pacific University Oregon",
          "The University of Akron",
          "SUNY Cortland",
          "Faulkner University",
          "Metropolitan State University of Denver",
          "Johnson C. Smith University",
          "Converse University",
          "Eastern Washington University",
          "ECPI University",
          "Francis Marion University",
          "La Salle University",
          "Westminster College - Pennsylvania",
          "Northern Michigan University",
          "University of Wisconsin - River Falls",
          "Oakland City University",
          "Our Lady of the Lake University",
          "Utah Valley University",
          "Rockford University",
          "University of Hawaii at Hilo",
          "Cleary University",
          "DeVry University - Illinois",
          "Centenary College of Louisiana",
          "Cairn University",
          "Oglala Lakota College",
          "Arizona State University - Online",
          "Saint Vincent College - Pennsylvania",
          "Eastern Connecticut State University",
          "University of New Orleans",
          "SUNY Oswego",
          "Morningside University",
          "Nazareth University",
          "Western Colorado University",
          "Saint Anselm College",
          "Jackson State University",
          "George Fox University",
          "Huntingdon College",
          "Galen College of Nursing - Louisville",
          "Ohio Dominican University",
          "Southern Oregon University",
          "Southeast Missouri State University",
          "University of Arkansas at Fort Smith",
          "McKendree University",
          "Florida Southern College",
          "University of Arkansas at Monticello",
          "PennWest California",
          "Southern New Hampshire University",
          "Oklahoma Christian University",
          "Graceland University",
          "Augsburg University",
          "St. Francis College",
          "Dominican University",
          "Bemidji State University",
          "Upper Iowa University",
          "New York Institute of Technology",
          "Goucher College",
          "University of Jamestown",
          "Carson-Newman University",
          "Blue Mountain Christian University",
          "New Mexico Highlands University",
          "University of Maine at Farmington",
          "West Virginia University Institute of Technology",
          "University of South Carolina Beaufort",
          "Northwestern Oklahoma State University",
          "Hollins University",
          "Life University",
          "University of Wisconsin - Stevens Point",
          "Illinois College",
          "Hamline University",
          "Hope International University",
          "Albion College",
          "University of the Virgin Islands",
          "Indiana State University",
          "Western Kentucky University",
          "Western Oregon University",
          "Mount Mercy University",
          "LeMoyne-Owen College",
          "Morehead State University",
          "Park University",
          "Penn State Scranton",
          "Springfield College - Massachusetts",
          "DigiPen Institute of Technology",
          "Columbus State University",
          "University of Florida-Online",
          "Juniata College",
          "Cornell College",
          "Delaware State University",
          "Mount Mary University",
          "Wright State University",
          "Malone University",
          "Carroll University",
          "Clarke University",
          "Charleston Southern University",
          "Lamar University",
          "Crown College",
          "Oklahoma Wesleyan University",
          "Olivet Nazarene University",
          "Lebanon Valley College",
          "Central Washington University",
          "Rivier University",
          "Trinity Washington University",
          "Musicians Institute",
          "Union College - Kentucky",
          "University of Arkansas at Pine Bluff",
          "Texas Wesleyan University",
          "Baker College",
          "Buena Vista University",
          "Campbell University",
          "Texas Lutheran University",
          "University of Wisconsin - Stout",
          "Indiana University of Pennsylvania",
          "Ashland University",
          "Suffolk University",
          "Thomas College",
          "Dominican University New York",
          "Anderson University - Indiana",
          "SUNY Brockport"
         ],
         "legendgroup": "",
         "marker": {
          "color": [
           0.04,
           0.05,
           0.04,
           0.03,
           0.06,
           0.04,
           0.05,
           0.09,
           0.07,
           0.06,
           0.07,
           0.06,
           0.12,
           0.13,
           0.12,
           0.07,
           0.07,
           0.11,
           0.03,
           0.09,
           0.07,
           0.07,
           0.18,
           0.1,
           0.05,
           0.13,
           0.19,
           0.12,
           0.08,
           0.17,
           0.07,
           0.09,
           0.23,
           0.11,
           0.17,
           0.17,
           0.09,
           0.17,
           0.14,
           0.12,
           0.07,
           0.11,
           0.17,
           0.14,
           0.31,
           0.13,
           0.1,
           0.21,
           0.07,
           0.45,
           0.25,
           0.43,
           0.19,
           0.12,
           0.21,
           0.49,
           0.37,
           0.23,
           0.14,
           0.57,
           0.48,
           0.37,
           0.24,
           0.14,
           0.22,
           0.53,
           0.44,
           0.11,
           0.12,
           0.14,
           0.24,
           0.22,
           0.19,
           0.26,
           0.41,
           0.27,
           0.31,
           0.53,
           0.45,
           0.28,
           0.08,
           0.44,
           0.17,
           0.64,
           0.47,
           0.43,
           0.58,
           0.71,
           0.49,
           0.82,
           0.3,
           0.67,
           0.23,
           0.75,
           0.88,
           0.64,
           0.49,
           0.9,
           0.39,
           0.56,
           0.86,
           0.33,
           0.87,
           0.11,
           0.64,
           0.97,
           0.16,
           0.73,
           0.67,
           0.55,
           0.89,
           0.31,
           0.61,
           0.74,
           0.4,
           0.36,
           0.18,
           0.88,
           0.52,
           0.8,
           0.94,
           0.9,
           0.34,
           0.74,
           0.36,
           0.28,
           0.53,
           0.79,
           0.42,
           0.32,
           0.3,
           0.39,
           0.55,
           0.83,
           0.51,
           0.46,
           0.4,
           0.87,
           0.75,
           0.39,
           0.86,
           0.24,
           0.83,
           0.79,
           0.41,
           0.8,
           0.39,
           0.53,
           0.95,
           0.65,
           0.74,
           0.63,
           0.88,
           0.66,
           0.73,
           0.22,
           0.34,
           0.79,
           0.67,
           0.26,
           0.21,
           0.82,
           0.74,
           0.62,
           0.57,
           0.65,
           0.29,
           0.57,
           0.45,
           0.52,
           0.4,
           0.75,
           0.55,
           0.48,
           0.57,
           0.17,
           0.83,
           0.7,
           0.49,
           0.54,
           0.49,
           0.66,
           0.64,
           0.59,
           0.46,
           0.96,
           0.71,
           0.68,
           0.76,
           0.69,
           0.95,
           0.4,
           0.42,
           0.41,
           0.47,
           0.94,
           0.6,
           0.79,
           0.82,
           0.75,
           0.65,
           0.58,
           0.11,
           0.8,
           0.81,
           0.86,
           0.78,
           0.94,
           0.74,
           0.64,
           0.71,
           0.35,
           0.72,
           0.83,
           0.91,
           0.81,
           0.88,
           0.54,
           0.58,
           0.7,
           0.83,
           0.66,
           0.99,
           0.76,
           0.91,
           0.87,
           0.73,
           0.72,
           0.3,
           0.4,
           0.6,
           0.81,
           0.8,
           0.78,
           0.76,
           0.91,
           0.54,
           0.9,
           0.67,
           0.93,
           0.82,
           0.75,
           0.86,
           0.79,
           0.8,
           0.74,
           0.96,
           0.5,
           0.48,
           0.89,
           0.93,
           0.54,
           0.78,
           0.7,
           0.5,
           0.57,
           0.86,
           0.88,
           0.83,
           0.67,
           0.53,
           0.66,
           0.45,
           0.66,
           0.71,
           0.71,
           0.86,
           0.56,
           0.47,
           0.25,
           0.74,
           0.83,
           0.81,
           0.65,
           0.83,
           0.69,
           0.52,
           0.93,
           0.68,
           0.68,
           0.65,
           0.67,
           0.78,
           0.95,
           0.75,
           0.75,
           0.99,
           0.78,
           0.87,
           0.71,
           0.86,
           0.8,
           0.6,
           0.86,
           0.95,
           0.85,
           0.94,
           0.58,
           0.59,
           0.88,
           0.84,
           0.86,
           0.66,
           0.66,
           0.69,
           0.75,
           0.52,
           0.53,
           0.7,
           0.89,
           0.92,
           0.81,
           0.85,
           0.76,
           0.81,
           0.74,
           0.64,
           0.97,
           0.91,
           0.88,
           0.65,
           0.79,
           0.86,
           0.49,
           0.28,
           0.5,
           0.82,
           0.7,
           0.69,
           0.95,
           1,
           0.92,
           0.79,
           0.93,
           0.56,
           0.87,
           0.97,
           0.75,
           0.85,
           0.86,
           0.79,
           0.73,
           0.94,
           0.99,
           0.63,
           0.32,
           0.7,
           0.77,
           0.84,
           0.69,
           1,
           0.84,
           0.43,
           0.85,
           0.53,
           0.87,
           0.95,
           0.9,
           0.58,
           0.71,
           0.79,
           0.72,
           0.87,
           0.67,
           0.78,
           0.82,
           0.61,
           0.35,
           0.89,
           0.88,
           0.73,
           0.6,
           0.87,
           0.28,
           0.91,
           0.73,
           0.99,
           0.77,
           0.75,
           0.74,
           0.66,
           0.55,
           0.99,
           0.83,
           0.73,
           0.78,
           0.8,
           0.48,
           0.89,
           0.53,
           0.91,
           0.91,
           0.83,
           0.99,
           0.68,
           0.69,
           1,
           0.63,
           0.88,
           0.77,
           0.94,
           0.77,
           0.73,
           0.85,
           0.76,
           0.94,
           0.73,
           0.75,
           0.86,
           0.64,
           0.7,
           0.55,
           0.92,
           0.86,
           0.93,
           0.91,
           0.73,
           0.8,
           0.94,
           0.89,
           0.63,
           0.76,
           0.9,
           0.88,
           0.26,
           0.69,
           0.68,
           0.9,
           0.45,
           1,
           0.78,
           0.71,
           0.97,
           0.94,
           0.61,
           0.89,
           1,
           0.73,
           0.69,
           0.75,
           0.94,
           0.85,
           0.61,
           0.9,
           0.46,
           1,
           0.87,
           0.73,
           0.57,
           0.84,
           0.78,
           0.85,
           0.7,
           0.59,
           0.83,
           0.63,
           0.82,
           0.54,
           0.81,
           0.85,
           0.71,
           0.63,
           0.91,
           0.76,
           0.79,
           0.79,
           0.78,
           0.93,
           0.68,
           0.68,
           0.52,
           0.68,
           0.6,
           0.95,
           0.75,
           0.92,
           0.74,
           0.89,
           0.76,
           0.96,
           0.55,
           0.91,
           0.99,
           0.83,
           0.67,
           0.98,
           0.69,
           0.93,
           0.81,
           0.88,
           0.81,
           0.94,
           0.66,
           0.37,
           0.7,
           0.96,
           0.93,
           0.73,
           0.79,
           0.74,
           0.62,
           0.98,
           0.78,
           0.7,
           0.89,
           0.93,
           0.71,
           0.98,
           0.78,
           0.67,
           0.91,
           0.63,
           0.49,
           0.99,
           0.8,
           0.88,
           0.54,
           0.86,
           0.73,
           0.86,
           0.78,
           1,
           0.75,
           0.74,
           0.93,
           0.67,
           0.88,
           0.94,
           0.96,
           0.82,
           0.88,
           0.8,
           0.7,
           0.63,
           0.95,
           0.48,
           0.96,
           1,
           0.8,
           0.73,
           0.85,
           0.5,
           0.93,
           0.72,
           0.82,
           0.87,
           1,
           0.67,
           0.96,
           0.66,
           0.72,
           0.81,
           0.7,
           0.96,
           0.92,
           0.75,
           0.6,
           0.84,
           0.81,
           0.78,
           0.89,
           0.82,
           0.92,
           0.92,
           0.74,
           0.73,
           0.7,
           0.92,
           0.46,
           0.86,
           0.9,
           0.9,
           0.76,
           0.89,
           1,
           0.9,
           0.69,
           0.48,
           0.95,
           0.88,
           0.67,
           0.51,
           0.79,
           0.74,
           0.43,
           0.7,
           0.71,
           1,
           0.48,
           0.7,
           0.66,
           1,
           0.77,
           0.52,
           0.87,
           0.8,
           0.71,
           0.61,
           0.55,
           0.83,
           0.45,
           0.76,
           0.76,
           0.74,
           0.94,
           0.79,
           0.86,
           0.55,
           0.51,
           0.65,
           0.76,
           1,
           0.88,
           0.62,
           0.81,
           0.71,
           0.81,
           0.85,
           0.82,
           0.67,
           0.85,
           0.88,
           0.84,
           0.96,
           0.87,
           0.7,
           0.91,
           0.72,
           1,
           0.97,
           0.91,
           0.89,
           0.95,
           0.93,
           0.74,
           0.82,
           0.92,
           0.7,
           0.88,
           0.57,
           0.61,
           0.6,
           0.93,
           0.99,
           0.84,
           0.78,
           0.97,
           0.98,
           0.94,
           1,
           0.93,
           0.73,
           0.96,
           0.3,
           0.76,
           1,
           0.74,
           0.41,
           0.99,
           0.75,
           0.82,
           0.84,
           0.77,
           0.84,
           0.67,
           0.51,
           0.88,
           0.95,
           0.92,
           0.94,
           0.68,
           0.6,
           0.74,
           0.69,
           0.75,
           0.7,
           0.94,
           0.98,
           0.87,
           0.89,
           0.84,
           0.61,
           0.84,
           0.88,
           0.79,
           0.73,
           0.7,
           0.84,
           0.82,
           0.88,
           0.57,
           1,
           0.68,
           0.94,
           0.69,
           0.74,
           0.94,
           0.82,
           0.98,
           0.94,
           0.96,
           0.82,
           0.91,
           0.61,
           0.75,
           0.79,
           0.81,
           0.74,
           0.73,
           1,
           1,
           0.84,
           0.72,
           0.71,
           0.76,
           0.86,
           0.57,
           0.86,
           0.81,
           0.58,
           0.77,
           0.85,
           0.84,
           0.88,
           0.75,
           0.87,
           0.57,
           0.9,
           0.79,
           1,
           0.94,
           0.83,
           1,
           0.86,
           0.75,
           0.94,
           0.73,
           0.64,
           0.88,
           0.8,
           0.85,
           0.99,
           0.57,
           0.64,
           0.67,
           1,
           0.73,
           0.96,
           1,
           0.88,
           0.99,
           0.83,
           0.83,
           0.77,
           0.51,
           0.8,
           0.88,
           0.81,
           0.84,
           0.97,
           0.61,
           0.89,
           0.67,
           0.81,
           0.84,
           0.63,
           1,
           0.72,
           0.77,
           0.62,
           0.71,
           0.71,
           0.82,
           0.78,
           0.82,
           0.63,
           0.83,
           0.94,
           1,
           1,
           0.72,
           0.94,
           0.83,
           0.6,
           0.82,
           0.98,
           0.28,
           0.56,
           0.96,
           0.83,
           0.83,
           0.94,
           0.75,
           0.7,
           0.84,
           0.56,
           0.66,
           1,
           0.55,
           0.84,
           0.68,
           0.43,
           0.64,
           0.81,
           1,
           0.64,
           0.74,
           0.74,
           0.7,
           0.83,
           0.71,
           0.84,
           0.92,
           0.82,
           0.89,
           0.92,
           0.66,
           1,
           0.52,
           0.88,
           0.88,
           1,
           0.68,
           0.57,
           1,
           0.94,
           0.96,
           0.96,
           0.75,
           0.76,
           0.84,
           0.9,
           0.78,
           0.54,
           0.76,
           0.8,
           0.92,
           0.8,
           0.96,
           1,
           0.94,
           0.65,
           0.8,
           0.56,
           0.72,
           0.98,
           0.89,
           0.77,
           0.81,
           0.32,
           0.67,
           0.97,
           0.92,
           0.97,
           0.84,
           0.75,
           1,
           0.84,
           1,
           0.94,
           0.76,
           0.66,
           0.88,
           0.65,
           0.76,
           0.79,
           0.55,
           0.69,
           0.95,
           0.78,
           0.72,
           0.85,
           0.87,
           0.84,
           0.67,
           0.57,
           0.66,
           0.77,
           0.94,
           0.84,
           0.97,
           0.78,
           0.53,
           0.69,
           0.61,
           0.37,
           0.78,
           0.89,
           0.92,
           0.86,
           0.92,
           0.72,
           0.87,
           null,
           0.89,
           0.52,
           0.68
          ],
          "coloraxis": "coloraxis",
          "symbol": "circle"
         },
         "mode": "markers",
         "name": "",
         "orientation": "v",
         "showlegend": false,
         "type": "scatter",
         "x": [
          1530,
          1500,
          1500,
          1490,
          1500,
          1490,
          1490,
          1490,
          1490,
          1490,
          1500,
          1490,
          1410,
          1480,
          1500,
          1480,
          1490,
          1490,
          1530,
          null,
          1470,
          1520,
          1350,
          1440,
          1500,
          1450,
          1400,
          1450,
          1480,
          1370,
          1440,
          1460,
          1300,
          1430,
          1350,
          1350,
          1440,
          1410,
          1350,
          1470,
          1440,
          1310,
          1430,
          1430,
          1230,
          1400,
          1450,
          null,
          1420,
          1320,
          1210,
          1220,
          1310,
          1420,
          1230,
          1340,
          1340,
          1360,
          1430,
          1240,
          null,
          1160,
          null,
          1320,
          1390,
          1200,
          1140,
          1370,
          1410,
          1420,
          1340,
          1350,
          1430,
          1230,
          1200,
          1410,
          1310,
          1310,
          1360,
          1340,
          1430,
          1220,
          1430,
          1060,
          1280,
          1220,
          1330,
          1010,
          1280,
          1180,
          1320,
          1280,
          1370,
          1290,
          1160,
          1260,
          1330,
          1100,
          1390,
          1140,
          1130,
          1310,
          1200,
          1380,
          1180,
          1030,
          1260,
          1130,
          1090,
          1210,
          1190,
          1280,
          1130,
          1110,
          1020,
          1260,
          null,
          1090,
          1290,
          1130,
          1130,
          1090,
          1350,
          1140,
          1300,
          840,
          1190,
          1030,
          1340,
          1120,
          1220,
          1370,
          1220,
          1020,
          1020,
          1380,
          1350,
          1140,
          1070,
          1370,
          1160,
          1160,
          1120,
          1140,
          1300,
          1230,
          1090,
          1100,
          null,
          null,
          990,
          1250,
          1250,
          1160,
          1290,
          1270,
          1330,
          1110,
          1260,
          1300,
          1040,
          1170,
          1190,
          1080,
          1300,
          1360,
          1150,
          null,
          1040,
          1260,
          1040,
          1040,
          750,
          1050,
          1080,
          1340,
          1160,
          1080,
          1320,
          1050,
          1280,
          1190,
          1140,
          1000,
          1230,
          1040,
          1130,
          1170,
          1130,
          1190,
          1070,
          1140,
          1120,
          1290,
          1310,
          990,
          1110,
          1110,
          null,
          1030,
          1130,
          1120,
          null,
          1010,
          1160,
          1210,
          1140,
          1000,
          1030,
          1120,
          1100,
          null,
          930,
          1080,
          1100,
          1250,
          830,
          1310,
          1250,
          1070,
          1050,
          1110,
          940,
          1040,
          1030,
          1170,
          1200,
          1020,
          860,
          1360,
          1150,
          1020,
          1090,
          1170,
          1140,
          1080,
          1160,
          1140,
          1270,
          1060,
          1070,
          1190,
          920,
          1000,
          1070,
          1040,
          1030,
          1170,
          1270,
          1130,
          1120,
          1010,
          990,
          null,
          1250,
          1100,
          1020,
          980,
          1110,
          1000,
          null,
          1070,
          1070,
          1200,
          1010,
          null,
          1170,
          1250,
          1160,
          1080,
          null,
          1100,
          1000,
          990,
          1030,
          1220,
          1200,
          1180,
          null,
          1140,
          1140,
          1110,
          1030,
          930,
          1090,
          1080,
          1020,
          960,
          1080,
          1210,
          1020,
          960,
          1200,
          1140,
          910,
          1170,
          1050,
          1060,
          1170,
          1000,
          1150,
          1020,
          null,
          1140,
          990,
          1230,
          840,
          null,
          1210,
          null,
          1110,
          null,
          1150,
          980,
          1050,
          null,
          930,
          null,
          1110,
          1020,
          1110,
          1010,
          840,
          1120,
          1390,
          1150,
          930,
          900,
          1090,
          950,
          null,
          null,
          1180,
          930,
          1350,
          1010,
          930,
          1110,
          980,
          1000,
          1010,
          1070,
          1000,
          1090,
          1160,
          1030,
          null,
          1080,
          1030,
          1080,
          null,
          960,
          980,
          1220,
          1260,
          1120,
          1020,
          960,
          910,
          910,
          910,
          1210,
          980,
          1020,
          1190,
          1110,
          1010,
          1360,
          1050,
          940,
          1010,
          1260,
          950,
          1050,
          1080,
          1070,
          1040,
          null,
          1050,
          1120,
          null,
          1020,
          850,
          960,
          1130,
          900,
          940,
          990,
          1020,
          1050,
          900,
          950,
          900,
          840,
          1170,
          1210,
          null,
          810,
          1000,
          1040,
          1050,
          1090,
          1030,
          1000,
          1040,
          1110,
          1000,
          null,
          1000,
          1150,
          1130,
          1010,
          1020,
          1030,
          940,
          1180,
          1020,
          950,
          910,
          1220,
          950,
          950,
          null,
          1200,
          1070,
          1150,
          1030,
          960,
          860,
          870,
          1220,
          null,
          null,
          810,
          1220,
          920,
          null,
          830,
          880,
          980,
          970,
          1100,
          970,
          990,
          920,
          null,
          940,
          null,
          890,
          1080,
          1040,
          1020,
          1070,
          750,
          1180,
          1000,
          1140,
          900,
          1120,
          960,
          null,
          null,
          940,
          1050,
          980,
          950,
          940,
          1020,
          900,
          960,
          990,
          null,
          null,
          980,
          1070,
          990,
          960,
          1090,
          1200,
          950,
          null,
          960,
          980,
          1170,
          910,
          930,
          1190,
          1050,
          970,
          1210,
          1030,
          1030,
          930,
          890,
          980,
          1020,
          990,
          1090,
          990,
          920,
          1040,
          1000,
          1050,
          1150,
          980,
          1000,
          1080,
          880,
          1130,
          1050,
          1020,
          1240,
          null,
          1040,
          940,
          960,
          1320,
          1050,
          1140,
          1000,
          1020,
          null,
          880,
          1090,
          960,
          1130,
          1000,
          930,
          910,
          1160,
          1160,
          1200,
          1040,
          960,
          890,
          970,
          1000,
          null,
          1010,
          1110,
          1040,
          null,
          990,
          null,
          null,
          1000,
          null,
          1110,
          1040,
          null,
          890,
          1080,
          1100,
          1030,
          960,
          970,
          930,
          1010,
          870,
          970,
          960,
          1020,
          1060,
          1010,
          1000,
          1110,
          null,
          970,
          null,
          1170,
          1030,
          null,
          1020,
          1050,
          null,
          890,
          810,
          1170,
          950,
          840,
          null,
          1160,
          1020,
          950,
          1250,
          980,
          940,
          null,
          990,
          980,
          1190,
          null,
          null,
          990,
          850,
          930,
          null,
          950,
          1160,
          1030,
          1120,
          930,
          1130,
          1150,
          880,
          1090,
          null,
          1020,
          920,
          890,
          970,
          null,
          990,
          970,
          970,
          880,
          1100,
          1120,
          1080,
          890,
          990,
          910,
          1020,
          990,
          970,
          930,
          1110,
          null,
          null,
          850,
          1120,
          1050,
          1070,
          850,
          1010,
          890,
          900,
          980,
          870,
          1080,
          1020,
          1020,
          1130,
          940,
          830,
          800,
          null,
          null,
          950,
          null,
          1050,
          1020,
          930,
          920,
          1070,
          1150,
          970,
          1030,
          null,
          1190,
          1000,
          1010,
          1000,
          810,
          950,
          1070,
          1100,
          1090,
          1020,
          990,
          1010,
          960,
          850,
          null,
          1020,
          1140,
          1070,
          930,
          870,
          null,
          960,
          1000,
          1100,
          960,
          1040,
          1010,
          1050,
          1010,
          1280,
          1080,
          830,
          null,
          1060,
          1060,
          null,
          1170,
          1140,
          980,
          820,
          980,
          null,
          1050,
          null,
          null,
          1020,
          890,
          1130,
          900,
          1120,
          null,
          null,
          970,
          920,
          1010,
          980,
          980,
          1040,
          950,
          980,
          1020,
          1060,
          null,
          1120,
          1100,
          950,
          1150,
          1140,
          950,
          1080,
          null,
          960,
          930,
          null,
          900,
          1110,
          940,
          1080,
          990,
          1020,
          1070,
          1080,
          800,
          1190,
          940,
          960,
          null,
          1160,
          1040,
          null,
          1030,
          900,
          1120,
          940,
          930,
          960,
          1260,
          980,
          990,
          1030,
          1000,
          850,
          null,
          1100,
          1000,
          1060,
          null,
          null,
          null,
          940,
          920,
          970,
          1090,
          930,
          840,
          980,
          940,
          910,
          1030,
          null,
          null,
          1030,
          1090,
          980,
          1090,
          950,
          910,
          800,
          1000,
          880,
          null,
          890,
          1050,
          null,
          970,
          null,
          850,
          890,
          null,
          840,
          960,
          950,
          null,
          1080,
          1000,
          null,
          null,
          1030,
          980,
          930,
          1070,
          880,
          1140,
          1010,
          1120,
          950,
          1020,
          1000,
          null,
          1000,
          980,
          970,
          null,
          null,
          1080,
          null,
          940,
          null,
          1020,
          880,
          null,
          990,
          890,
          null,
          890,
          1100,
          1080,
          900,
          980,
          1040,
          null,
          null,
          900,
          940,
          830,
          1070,
          890,
          null,
          960,
          1170,
          1000,
          930,
          800,
          910,
          980,
          960,
          null,
          null,
          950,
          null,
          1020,
          1100,
          1170,
          900,
          1250,
          1120,
          1170,
          830,
          null,
          930,
          990,
          1060,
          920,
          940,
          830,
          960,
          930,
          970,
          1120,
          930,
          880,
          null,
          null,
          null,
          800,
          910,
          null,
          930,
          1030,
          1030,
          null,
          940,
          1060,
          1080,
          null,
          940,
          980,
          1070
         ],
         "xaxis": "x",
         "y": [
          1580,
          1580,
          1580,
          1580,
          1580,
          1580,
          1580,
          1570,
          1570,
          1580,
          1570,
          1570,
          1560,
          1560,
          1570,
          1560,
          1570,
          1570,
          1580,
          null,
          1570,
          1570,
          1530,
          1550,
          1580,
          1550,
          1540,
          1550,
          1570,
          1550,
          1560,
          1560,
          1490,
          1550,
          1530,
          1500,
          1550,
          1530,
          1500,
          1570,
          1550,
          1530,
          1540,
          1550,
          1500,
          1540,
          1550,
          null,
          1550,
          1510,
          1370,
          1420,
          1480,
          1540,
          1430,
          1510,
          1490,
          1500,
          1540,
          1430,
          null,
          1400,
          null,
          1510,
          1530,
          1470,
          1330,
          1510,
          1530,
          1520,
          1530,
          1510,
          1540,
          1460,
          1360,
          1540,
          1470,
          1480,
          1520,
          1500,
          1540,
          1380,
          1550,
          1250,
          1460,
          1410,
          1480,
          1250,
          1470,
          1400,
          1500,
          1460,
          1520,
          1500,
          1360,
          1480,
          1490,
          1320,
          1540,
          1360,
          1340,
          1470,
          1410,
          1530,
          1380,
          1220,
          1480,
          1330,
          1280,
          1390,
          1390,
          1520,
          1320,
          1320,
          1240,
          1430,
          null,
          1340,
          1480,
          1410,
          1350,
          1350,
          1510,
          1350,
          1470,
          1100,
          1370,
          1220,
          1510,
          1350,
          1410,
          1530,
          1440,
          1210,
          1160,
          1510,
          1540,
          1370,
          1280,
          1510,
          1360,
          1290,
          1370,
          1340,
          1460,
          1430,
          1300,
          1370,
          null,
          null,
          1250,
          1500,
          1430,
          1330,
          1490,
          1460,
          1480,
          1340,
          1430,
          1460,
          1230,
          1350,
          1360,
          1280,
          1480,
          1520,
          1330,
          null,
          1300,
          1430,
          1310,
          1260,
          1170,
          1230,
          1320,
          1510,
          1370,
          1350,
          1500,
          1320,
          1480,
          1450,
          1350,
          1180,
          1410,
          1240,
          1320,
          1330,
          1420,
          1550,
          1290,
          1260,
          1330,
          1430,
          1490,
          1200,
          1340,
          1340,
          null,
          1260,
          1380,
          1280,
          null,
          1230,
          1390,
          1400,
          1320,
          1220,
          1270,
          1320,
          1300,
          null,
          1200,
          1270,
          1350,
          1370,
          1090,
          1470,
          1420,
          1300,
          1250,
          1340,
          1190,
          1310,
          1290,
          1360,
          1400,
          1200,
          1050,
          1490,
          1340,
          1200,
          1330,
          1430,
          1320,
          1290,
          1340,
          1350,
          1450,
          1210,
          1270,
          1360,
          1180,
          1240,
          1290,
          1200,
          1260,
          1360,
          1470,
          1350,
          1380,
          1290,
          1240,
          null,
          1430,
          1390,
          1210,
          1180,
          1290,
          1180,
          null,
          1280,
          1330,
          1400,
          1210,
          null,
          1340,
          1450,
          1360,
          1280,
          null,
          1270,
          1240,
          1200,
          1110,
          1370,
          1380,
          1410,
          null,
          1290,
          1340,
          1340,
          1270,
          1230,
          1310,
          1330,
          1300,
          1200,
          1270,
          1410,
          1230,
          1150,
          1350,
          1370,
          1090,
          1430,
          1300,
          1240,
          1400,
          1220,
          1320,
          1230,
          null,
          1360,
          1180,
          1390,
          1000,
          null,
          1410,
          null,
          1280,
          null,
          1380,
          1240,
          1220,
          null,
          1140,
          null,
          1350,
          1260,
          1360,
          1230,
          1100,
          1380,
          1510,
          1350,
          1090,
          970,
          1260,
          1150,
          null,
          null,
          1370,
          1130,
          1440,
          1220,
          1150,
          1360,
          1190,
          1190,
          1190,
          1290,
          1200,
          1270,
          1470,
          1250,
          null,
          1310,
          1210,
          1280,
          null,
          1190,
          1200,
          1410,
          1420,
          1320,
          1330,
          1150,
          1110,
          1110,
          1140,
          1460,
          1240,
          1250,
          1370,
          1320,
          1250,
          1530,
          1320,
          1190,
          1240,
          1430,
          1150,
          1200,
          1350,
          1290,
          1250,
          null,
          1280,
          1370,
          null,
          1180,
          1180,
          1160,
          1380,
          1140,
          1160,
          1160,
          1240,
          1290,
          1110,
          1200,
          1160,
          1130,
          1380,
          1400,
          null,
          1010,
          1230,
          1270,
          1210,
          1300,
          1240,
          1190,
          1300,
          1290,
          1180,
          null,
          1200,
          1360,
          1280,
          1250,
          1170,
          1290,
          1190,
          1320,
          1230,
          1170,
          1150,
          1290,
          1170,
          1180,
          null,
          1390,
          1240,
          1320,
          1210,
          1210,
          1210,
          1090,
          1400,
          null,
          null,
          1020,
          1410,
          1050,
          null,
          1050,
          980,
          1200,
          1180,
          1290,
          1220,
          1250,
          1140,
          null,
          1240,
          null,
          1090,
          1250,
          1250,
          1240,
          1320,
          1080,
          1360,
          1180,
          1330,
          1180,
          1350,
          1140,
          null,
          null,
          1130,
          1270,
          1220,
          1150,
          1200,
          1180,
          1120,
          1200,
          1160,
          null,
          null,
          1260,
          1270,
          1220,
          1160,
          1140,
          1390,
          1060,
          null,
          1230,
          1130,
          1390,
          1050,
          1160,
          1370,
          1180,
          1170,
          1450,
          1200,
          1240,
          1220,
          1120,
          1200,
          1180,
          1290,
          1250,
          1200,
          1120,
          1230,
          1130,
          1240,
          1370,
          1150,
          1250,
          1240,
          1110,
          1290,
          1260,
          1210,
          1410,
          null,
          1590,
          1240,
          1100,
          1480,
          1250,
          1320,
          1210,
          1220,
          null,
          1090,
          1270,
          1140,
          1350,
          1240,
          1130,
          1100,
          1320,
          1330,
          1370,
          1190,
          1140,
          1100,
          1160,
          1230,
          null,
          1230,
          1310,
          1170,
          null,
          1230,
          null,
          null,
          1190,
          null,
          1290,
          1180,
          null,
          1100,
          1300,
          1290,
          1250,
          1160,
          1240,
          1080,
          1270,
          1060,
          1210,
          1140,
          1270,
          1280,
          1150,
          1270,
          1230,
          null,
          1130,
          null,
          1340,
          1240,
          null,
          1140,
          1220,
          null,
          1140,
          1050,
          1340,
          1130,
          1080,
          null,
          1430,
          1190,
          1180,
          1430,
          1180,
          1170,
          null,
          1200,
          1280,
          1360,
          null,
          null,
          1190,
          1110,
          1140,
          null,
          1150,
          1370,
          1210,
          1350,
          1110,
          1300,
          1330,
          1130,
          1340,
          null,
          1290,
          1190,
          1140,
          1180,
          null,
          1220,
          1200,
          1250,
          1250,
          1330,
          1310,
          1270,
          1100,
          1220,
          1150,
          1260,
          1200,
          1190,
          1120,
          1300,
          null,
          null,
          1080,
          1360,
          1210,
          1280,
          1100,
          1200,
          1110,
          1140,
          1190,
          1110,
          1290,
          1240,
          1140,
          1340,
          1280,
          1160,
          1150,
          null,
          null,
          1150,
          null,
          1260,
          1260,
          1170,
          1170,
          1230,
          1340,
          1220,
          1130,
          null,
          1390,
          1220,
          1190,
          1180,
          1130,
          1190,
          1290,
          1290,
          1250,
          1350,
          1180,
          1160,
          1150,
          1070,
          null,
          1190,
          1360,
          1330,
          1130,
          1060,
          null,
          1180,
          1160,
          1300,
          1180,
          1240,
          1160,
          1260,
          1160,
          1450,
          1260,
          1060,
          null,
          1230,
          1260,
          null,
          1360,
          1360,
          1160,
          1050,
          1210,
          null,
          1230,
          null,
          null,
          1210,
          1120,
          1370,
          1130,
          1340,
          null,
          null,
          1170,
          1130,
          1250,
          1210,
          1140,
          1230,
          1120,
          1210,
          1210,
          1280,
          null,
          1300,
          1290,
          1420,
          1320,
          1360,
          1150,
          1280,
          null,
          1170,
          1160,
          null,
          1110,
          1380,
          1170,
          1300,
          1200,
          1210,
          1260,
          1300,
          920,
          1370,
          1180,
          1160,
          null,
          1420,
          1260,
          null,
          1280,
          1150,
          1300,
          1130,
          1160,
          1160,
          1390,
          1200,
          1250,
          1240,
          1230,
          1080,
          null,
          1320,
          1190,
          1230,
          null,
          null,
          null,
          1160,
          1150,
          1180,
          1450,
          1180,
          1040,
          1200,
          1220,
          1090,
          1140,
          null,
          null,
          1320,
          1350,
          1230,
          1240,
          1130,
          1130,
          980,
          1240,
          1090,
          null,
          1140,
          1270,
          null,
          1190,
          null,
          1150,
          1070,
          null,
          1120,
          1200,
          1170,
          null,
          1260,
          1250,
          null,
          null,
          1250,
          1190,
          1190,
          1260,
          1120,
          1320,
          1270,
          1290,
          1210,
          1290,
          1180,
          null,
          1140,
          1230,
          1180,
          null,
          null,
          1290,
          null,
          1150,
          null,
          1240,
          1120,
          null,
          1240,
          1140,
          null,
          1050,
          1360,
          1340,
          1140,
          1160,
          1140,
          null,
          null,
          1130,
          1110,
          1070,
          1290,
          1070,
          null,
          1120,
          1280,
          1180,
          1160,
          990,
          1120,
          1170,
          1220,
          null,
          null,
          1220,
          null,
          1230,
          1300,
          1390,
          1130,
          1390,
          1340,
          1380,
          1060,
          null,
          1220,
          1190,
          1340,
          1160,
          1170,
          1030,
          1150,
          1100,
          1200,
          1280,
          1150,
          1050,
          null,
          null,
          null,
          1020,
          1100,
          null,
          1130,
          1230,
          1220,
          null,
          1150,
          1250,
          1300,
          null,
          1130,
          1220,
          1240
         ],
         "yaxis": "y"
        }
       ],
       "layout": {
        "coloraxis": {
         "colorbar": {
          "title": {
           "text": "Acceptance Rate"
          }
         },
         "colorscale": [
          [
           0,
           "#440154"
          ],
          [
           0.1111111111111111,
           "#482878"
          ],
          [
           0.2222222222222222,
           "#3e4989"
          ],
          [
           0.3333333333333333,
           "#31688e"
          ],
          [
           0.4444444444444444,
           "#26828e"
          ],
          [
           0.5555555555555556,
           "#1f9e89"
          ],
          [
           0.6666666666666666,
           "#35b779"
          ],
          [
           0.7777777777777778,
           "#6ece58"
          ],
          [
           0.8888888888888888,
           "#b5de2b"
          ],
          [
           1,
           "#fde725"
          ]
         ]
        },
        "legend": {
         "tracegroupgap": 0
        },
        "template": {
         "data": {
          "candlestick": [
           {
            "decreasing": {
             "line": {
              "color": "#000033"
             }
            },
            "increasing": {
             "line": {
              "color": "#000032"
             }
            },
            "type": "candlestick"
           }
          ],
          "contour": [
           {
            "colorscale": [
             [
              0,
              "#000011"
             ],
             [
              0.1111111111111111,
              "#000012"
             ],
             [
              0.2222222222222222,
              "#000013"
             ],
             [
              0.3333333333333333,
              "#000014"
             ],
             [
              0.4444444444444444,
              "#000015"
             ],
             [
              0.5555555555555556,
              "#000016"
             ],
             [
              0.6666666666666666,
              "#000017"
             ],
             [
              0.7777777777777778,
              "#000018"
             ],
             [
              0.8888888888888888,
              "#000019"
             ],
             [
              1,
              "#000020"
             ]
            ],
            "type": "contour"
           }
          ],
          "contourcarpet": [
           {
            "colorscale": [
             [
              0,
              "#000011"
             ],
             [
              0.1111111111111111,
              "#000012"
             ],
             [
              0.2222222222222222,
              "#000013"
             ],
             [
              0.3333333333333333,
              "#000014"
             ],
             [
              0.4444444444444444,
              "#000015"
             ],
             [
              0.5555555555555556,
              "#000016"
             ],
             [
              0.6666666666666666,
              "#000017"
             ],
             [
              0.7777777777777778,
              "#000018"
             ],
             [
              0.8888888888888888,
              "#000019"
             ],
             [
              1,
              "#000020"
             ]
            ],
            "type": "contourcarpet"
           }
          ],
          "heatmap": [
           {
            "colorscale": [
             [
              0,
              "#000011"
             ],
             [
              0.1111111111111111,
              "#000012"
             ],
             [
              0.2222222222222222,
              "#000013"
             ],
             [
              0.3333333333333333,
              "#000014"
             ],
             [
              0.4444444444444444,
              "#000015"
             ],
             [
              0.5555555555555556,
              "#000016"
             ],
             [
              0.6666666666666666,
              "#000017"
             ],
             [
              0.7777777777777778,
              "#000018"
             ],
             [
              0.8888888888888888,
              "#000019"
             ],
             [
              1,
              "#000020"
             ]
            ],
            "type": "heatmap"
           }
          ],
          "histogram2d": [
           {
            "colorscale": [
             [
              0,
              "#000011"
             ],
             [
              0.1111111111111111,
              "#000012"
             ],
             [
              0.2222222222222222,
              "#000013"
             ],
             [
              0.3333333333333333,
              "#000014"
             ],
             [
              0.4444444444444444,
              "#000015"
             ],
             [
              0.5555555555555556,
              "#000016"
             ],
             [
              0.6666666666666666,
              "#000017"
             ],
             [
              0.7777777777777778,
              "#000018"
             ],
             [
              0.8888888888888888,
              "#000019"
             ],
             [
              1,
              "#000020"
             ]
            ],
            "type": "histogram2d"
           }
          ],
          "icicle": [
           {
            "textfont": {
             "color": "white"
            },
            "type": "icicle"
           }
          ],
          "sankey": [
           {
            "textfont": {
             "color": "#000036"
            },
            "type": "sankey"
           }
          ],
          "scatter": [
           {
            "marker": {
             "line": {
              "width": 0
             }
            },
            "type": "scatter"
           }
          ],
          "table": [
           {
            "cells": {
             "fill": {
              "color": "#000038"
             },
             "font": {
              "color": "#000037"
             },
             "line": {
              "color": "#000039"
             }
            },
            "header": {
             "fill": {
              "color": "#000040"
             },
             "font": {
              "color": "#000036"
             },
             "line": {
              "color": "#000039"
             }
            },
            "type": "table"
           }
          ],
          "waterfall": [
           {
            "connector": {
             "line": {
              "color": "#000036",
              "width": 2
             }
            },
            "decreasing": {
             "marker": {
              "color": "#000033"
             }
            },
            "increasing": {
             "marker": {
              "color": "#000032"
             }
            },
            "totals": {
             "marker": {
              "color": "#000034"
             }
            },
            "type": "waterfall"
           }
          ]
         },
         "layout": {
          "coloraxis": {
           "colorscale": [
            [
             0,
             "#000011"
            ],
            [
             0.1111111111111111,
             "#000012"
            ],
            [
             0.2222222222222222,
             "#000013"
            ],
            [
             0.3333333333333333,
             "#000014"
            ],
            [
             0.4444444444444444,
             "#000015"
            ],
            [
             0.5555555555555556,
             "#000016"
            ],
            [
             0.6666666666666666,
             "#000017"
            ],
            [
             0.7777777777777778,
             "#000018"
            ],
            [
             0.8888888888888888,
             "#000019"
            ],
            [
             1,
             "#000020"
            ]
           ]
          },
          "colorscale": {
           "diverging": [
            [
             0,
             "#000021"
            ],
            [
             0.1,
             "#000022"
            ],
            [
             0.2,
             "#000023"
            ],
            [
             0.3,
             "#000024"
            ],
            [
             0.4,
             "#000025"
            ],
            [
             0.5,
             "#000026"
            ],
            [
             0.6,
             "#000027"
            ],
            [
             0.7,
             "#000028"
            ],
            [
             0.8,
             "#000029"
            ],
            [
             0.9,
             "#000030"
            ],
            [
             1,
             "#000031"
            ]
           ],
           "sequential": [
            [
             0,
             "#000011"
            ],
            [
             0.1111111111111111,
             "#000012"
            ],
            [
             0.2222222222222222,
             "#000013"
            ],
            [
             0.3333333333333333,
             "#000014"
            ],
            [
             0.4444444444444444,
             "#000015"
            ],
            [
             0.5555555555555556,
             "#000016"
            ],
            [
             0.6666666666666666,
             "#000017"
            ],
            [
             0.7777777777777778,
             "#000018"
            ],
            [
             0.8888888888888888,
             "#000019"
            ],
            [
             1,
             "#000020"
            ]
           ],
           "sequentialminus": [
            [
             0,
             "#000011"
            ],
            [
             0.1111111111111111,
             "#000012"
            ],
            [
             0.2222222222222222,
             "#000013"
            ],
            [
             0.3333333333333333,
             "#000014"
            ],
            [
             0.4444444444444444,
             "#000015"
            ],
            [
             0.5555555555555556,
             "#000016"
            ],
            [
             0.6666666666666666,
             "#000017"
            ],
            [
             0.7777777777777778,
             "#000018"
            ],
            [
             0.8888888888888888,
             "#000019"
            ],
            [
             1,
             "#000020"
            ]
           ]
          },
          "colorway": [
           "#000001",
           "#000002",
           "#000003",
           "#000004",
           "#000005",
           "#000006",
           "#000007",
           "#000008",
           "#000009",
           "#000010"
          ]
         }
        },
        "title": {
         "text": "Low SAT vs High SAT Scores by Acceptance Rate"
        },
        "xaxis": {
         "anchor": "y",
         "domain": [
          0,
          1
         ],
         "title": {
          "text": "Low SAT"
         }
        },
        "yaxis": {
         "anchor": "x",
         "domain": [
          0,
          1
         ],
         "title": {
          "text": "High SAT"
         }
        }
       }
      }
     },
     "metadata": {},
     "output_type": "display_data"
    }
   ],
   "source": [
    "from plots import create_sat_scatter_plot\n",
    "df = pd.read_excel('final_dataset.xlsx')\n",
    "\n",
    "# Définir les colonnes de survol\n",
    "hover_cols = {\n",
    "    \"City\": True,\n",
    "    \"Acceptance Rate\": \":.0%\",\n",
    "    \"Net Price\": \":$,.0f\",\n",
    "    \"major_top1\": True,\n",
    "    \"graduates_top1\": True,\n",
    "}\n",
    "\n",
    "# Créer et afficher le graphique\n",
    "fig_sat_scores = create_sat_scatter_plot(\n",
    "    df,\n",
    "    x_col=\"low_sat\",\n",
    "    y_col=\"high_sat\",\n",
    "    color_col=\"Acceptance Rate\",\n",
    "    hover_cols=hover_cols,\n",
    "    title=\"Low SAT vs High SAT Scores by Acceptance Rate\"\n",
    ")\n",
    "\n",
    "fig_sat_scores.show()\n"
   ]
  },
  {
   "cell_type": "markdown",
   "metadata": {},
   "source": [
    "Le graphique suivant présente un histogramme de la distribution des revenus médians des diplômés 6 ans après leur obtention de diplôme. L'axe des x représente le revenu médian en dollars, tandis que l'axe des y indique le nombre d'universités correspondant à chaque tranche de revenus. On observe les points suivants :  \n",
    "\n",
    "- La distribution semble suivre une forme approximativement normale, avec un pic autour de **40k à 50k** dollars.  \n",
    "- Les revenus les plus bas (autour de **10k à 20k**) et les plus élevés (supérieurs à **80k**) sont moins fréquents, formant les extrémités de la courbe.  \n",
    "- La majorité des universités se regroupent dans la tranche de revenus médians de **30k à 60k**, suggérant une concentration autour de cette moyenne.  \n",
    "\n",
    "Cette distribution nous pousse à poser la question suivante :  \n",
    "- Est-ce que les revenus médians 6 ans après la graduation sont corrélés avec le classement des universités ?  \n",
    "Analyser cette relation pourrait permettre d'explorer si le prestige académique ou les ressources d'une université influencent directement les perspectives salariales de ses diplômés."
   ]
  },
  {
   "cell_type": "code",
   "execution_count": 33,
   "metadata": {},
   "outputs": [
    {
     "data": {
      "application/vnd.plotly.v1+json": {
       "config": {
        "plotlyServerURL": "https://plot.ly"
       },
       "data": [
        {
         "alignmentgroup": "True",
         "bingroup": "x",
         "hovertemplate": "Median Income 6 Years After Graduation=%{x}<br>count=%{y}<extra></extra>",
         "legendgroup": "",
         "marker": {
          "color": "#000001",
          "pattern": {
           "shape": ""
          }
         },
         "name": "",
         "nbinsx": 30,
         "offsetgroup": "",
         "orientation": "v",
         "showlegend": false,
         "type": "histogram",
         "x": [
          "$104,700",
          "$83,200",
          "$94,000",
          "$89,700",
          "$75,500",
          "$83,300",
          "$67,500",
          "$65,400",
          "$69,000",
          "$74,700",
          "$85,900",
          "$84,400",
          "$93,500",
          "$88,800",
          "$70,100",
          "$58,100",
          "$69,000",
          "$83,600",
          "$85,900",
          "$60,700",
          "$77,200",
          "$73,200",
          "$63,400",
          "$72,900",
          "$68,100",
          "$78,400",
          "$61,200",
          "$74,000",
          "$59,000",
          "$79,100",
          "$56,700",
          "$65,500",
          "$56,000",
          "$66,000",
          "$55,600",
          "$58,900",
          "$57,900",
          "$76,100",
          "$65,300",
          "$61,900",
          "$67,400",
          "$64,700",
          "$72,500",
          "$60,800",
          "$58,200",
          "$58,200",
          "$75,800",
          "$63,800",
          "$65,000",
          "$61,500",
          "$46,400",
          "$50,500",
          "$60,100",
          "$60,200",
          "$58,400",
          "$56,200",
          "$81,900",
          "$77,900",
          "$60,700",
          "$62,500",
          "$57,700",
          "$58,200",
          "$59,900",
          "$54,700",
          "$64,900",
          "$55,100",
          "$43,500",
          "$61,700",
          "$63,600",
          "$59,200",
          "$64,500",
          "$96,100",
          "$54,600",
          "$55,300",
          "$45,400",
          "$74,600",
          "$54,900",
          "$46,100",
          "$62,900",
          "$47,600",
          "$58,100",
          "$48,800",
          "$54,200",
          "$46,300",
          "$52,500",
          "$52,400",
          "$84,900",
          "$46,500",
          "$53,900",
          "$47,700",
          "$42,200",
          "$59,700",
          "$46,200",
          "$51,900",
          "$53,600",
          "$51,400",
          "$69,600",
          "$47,700",
          "$61,200",
          "$52,800",
          "$51,900",
          "$70,800",
          "$41,200",
          "$49,100",
          "$44,900",
          "$42,700",
          "$45,400",
          "$51,100",
          "$51,400",
          "$50,100",
          "$53,000",
          "$54,600",
          "$56,300",
          "$50,000",
          "$48,100",
          "$71,000",
          "$48,700",
          "$48,800",
          "$72,600",
          "$44,500",
          "$66,400",
          "$50,700",
          "$48,700",
          "$55,100",
          "$66,100",
          "$29,500",
          "$60,000",
          "$44,900",
          "$61,600",
          "$35,500",
          "$66,900",
          "$57,900",
          "$58,400",
          "$50,600",
          "$44,900",
          "$89,200",
          "$48,600",
          "$47,300",
          "$40,200",
          "$50,600",
          "$42,300",
          "$43,500",
          "$49,600",
          "$48,300",
          "$61,300",
          "$68,800",
          "$51,000",
          "$43,200",
          "$45,600",
          "$41,200",
          "$41,900",
          "$58,500",
          "$48,400",
          "$51,600",
          "$80,900",
          "$48,800",
          "$68,600",
          "$54,300",
          "$51,200",
          "$49,700",
          "$32,500",
          "$50,900",
          "$57,000",
          "$41,500",
          "$50,400",
          "$82,000",
          "$88,100",
          "$84,900",
          "$40,900",
          "$62,100",
          "$52,200",
          "$40,800",
          "$59,400",
          "$38,900",
          "$44,500",
          "$51,100",
          "$56,500",
          "$48,500",
          "$57,600",
          "$34,700",
          "$65,500",
          "$68,500",
          "$58,500",
          "$44,800",
          "$51,600",
          "$47,300",
          "$43,200",
          "$45,100",
          "$59,700",
          "$45,700",
          "$45,100",
          "$38,300",
          "$59,100",
          "$61,000",
          "$65,400",
          "$39,700",
          "$46,400",
          "$56,400",
          "$41,300",
          "$66,200",
          "$50,500",
          "$50,800",
          "$56,500",
          "$56,600",
          "$44,200",
          "$57,900",
          "$56,600",
          "$65,700",
          "$57,400",
          "$39,100",
          "$49,900",
          "$45,200",
          "$71,200",
          "$41,900",
          "$53,600",
          "$86,900",
          "$53,300",
          "$42,500",
          "$43,700",
          "$36,400",
          "$45,300",
          "$44,000",
          "$62,600",
          "$54,500",
          "$41,200",
          "$31,100",
          "$54,900",
          "$50,900",
          "$43,200",
          "$46,200",
          "$46,700",
          "$50,100",
          "$47,100",
          "$63,500",
          "$59,900",
          "$62,400",
          "$49,200",
          "$41,800",
          "$48,200",
          "$39,400",
          "$45,000",
          "$44,000",
          "$42,100",
          "$48,200",
          "$57,200",
          "$51,300",
          "$51,200",
          "$71,700",
          "$48,600",
          "$37,600",
          "$42,800",
          "$49,100",
          "$45,800",
          "$62,300",
          "$45,700",
          "$48,700",
          "$47,200",
          "$48,900",
          "$43,000",
          "$44,500",
          "$59,400",
          "$43,200",
          "$42,100",
          "$53,300",
          "$46,300",
          "$46,900",
          "$33,700",
          "$51,700",
          "$38,800",
          "$48,700",
          "$37,800",
          "$39,300",
          "$41,600",
          "$45,500",
          "$58,800",
          "$40,800",
          "$48,100",
          "$66,200",
          "$58,300",
          "$40,500",
          "$37,400",
          "$38,000",
          "$47,400",
          "$42,000",
          "$31,500",
          "$40,500",
          "$62,300",
          "$44,400",
          "$42,600",
          "$51,500",
          "$44,800",
          "$46,100",
          "$53,100",
          "$43,200",
          "$50,500",
          "$47,400",
          "$45,800",
          "$57,500",
          "$56,800",
          "$50,800",
          "$54,000",
          "$47,900",
          "$57,200",
          "$30,800",
          "$32,600",
          "$56,100",
          "$14,400",
          "$37,500",
          "$52,700",
          "$56,500",
          "$48,300",
          "$47,700",
          "$48,000",
          "$35,700",
          "$45,400",
          "$42,100",
          "$41,700",
          "$38,700",
          "$50,800",
          "$44,200",
          "$48,200",
          "$54,100",
          "$45,700",
          "$41,800",
          "$36,800",
          "$41,100",
          "$37,000",
          "$37,700",
          "$44,600",
          "$54,100",
          "$48,900",
          "$56,100",
          "$45,300",
          "$35,600",
          "$35,100",
          "$36,200",
          "$38,200",
          "$45,800",
          "$41,300",
          "$56,800",
          "$45,500",
          "$41,600",
          "$38,800",
          "$60,500",
          "$37,100",
          "$49,700",
          "$62,400",
          "$37,100",
          "$37,300",
          "$42,100",
          "$64,100",
          "$51,400",
          "$44,600",
          "$44,600",
          "$33,700",
          "$42,200",
          "$40,200",
          "$44,100",
          "$51,100",
          "$43,300",
          "$72,000",
          "$56,600",
          "$52,000",
          "$40,800",
          "$41,700",
          "$38,200",
          "$34,200",
          "$47,300",
          "$42,500",
          "$47,000",
          "$49,100",
          "$43,200",
          "$36,700",
          "$39,300",
          "$53,600",
          "$44,800",
          "$40,700",
          "$43,900",
          "$34,100",
          "$35,100",
          "$35,000",
          "$34,600",
          "$40,100",
          "$29,900",
          "$36,200",
          "$49,200",
          "$45,400",
          "$49,600",
          "$46,100",
          "$35,800",
          "$66,200",
          "$53,500",
          "$35,900",
          "$37,900",
          "$47,200",
          "$44,400",
          "$41,300",
          "$50,000",
          "$52,200",
          "$37,900",
          "$41,800",
          "$43,200",
          "$51,700",
          "$39,900",
          "$41,300",
          "$32,200",
          "$53,500",
          "$54,000",
          "$40,500",
          "$37,500",
          "$41,800",
          "$50,500",
          "$38,700",
          "$36,300",
          "$46,500",
          "$49,400",
          "$37,100",
          "$49,800",
          "$47,100",
          "$48,600",
          "$69,300",
          "$41,300",
          "$42,800",
          "$35,200",
          "$40,000",
          "$56,500",
          "$38,000",
          "$31,100",
          "$69,100",
          "$58,000",
          "$33,200",
          "$37,400",
          "$41,800",
          "$43,300",
          "$46,900",
          "$34,900",
          "$43,100",
          "$34,300",
          "$47,600",
          "$38,400",
          "$39,900",
          "$38,800",
          "$37,300",
          "$40,700",
          "$37,700",
          "$37,500",
          "$31,000",
          "$68,100",
          "$29,800",
          "$65,000",
          "$41,500",
          "$47,200",
          "$44,600",
          "$30,400",
          "$71,300",
          "$38,300",
          "$52,900",
          "$41,900",
          "$36,900",
          "$35,800",
          "$41,200",
          "$42,200",
          "$35,800",
          "$39,200",
          "$44,100",
          "$30,300",
          "$40,400",
          "$52,800",
          "$46,600",
          "$41,700",
          "$35,700",
          "$55,800",
          "$37,100",
          "$32,300",
          "$47,100",
          "$40,800",
          "$52,700",
          "$42,900",
          "$43,000",
          "$53,100",
          "$46,200",
          "$53,600",
          "$57,700",
          "$39,600",
          "$37,000",
          "$40,600",
          "$30,400",
          "$32,200",
          "$37,800",
          "$56,600",
          "$43,400",
          "$40,500",
          "$35,800",
          "$95,600",
          "$37,500",
          "$47,100",
          "$49,800",
          "$41,900",
          "$44,700",
          "$42,200",
          "$45,100",
          "$49,600",
          "$46,300",
          "$38,800",
          "$50,100",
          "$33,800",
          "$40,300",
          "$38,700",
          "$45,000",
          "$59,200",
          "$47,500",
          "$39,500",
          "$47,100",
          "$56,400",
          "$46,400",
          "$43,200",
          "$46,400",
          "$38,400",
          "$39,400",
          "$39,600",
          "$49,200",
          "$41,100",
          "$53,800",
          "$58,500",
          "$48,700",
          "$48,200",
          "$41,800",
          "$44,700",
          "$41,000",
          "$43,600",
          "$31,100",
          "$45,800",
          "$58,500",
          "$51,400",
          "$45,000",
          "$39,300",
          "$47,300",
          "$48,200",
          "$49,900",
          "$39,300",
          "$40,000",
          "$38,600",
          "$44,500",
          "$43,400",
          "$48,200",
          "$53,200",
          "$36,400",
          "$44,800",
          "$43,900",
          "$45,800",
          "$46,400",
          "$31,200",
          "$36,200",
          "$55,300",
          "$43,800",
          "$33,300",
          "$44,700",
          "$45,100",
          "$42,800",
          "$51,300",
          "$39,700",
          "$51,400",
          "$42,800",
          "$38,800",
          "$42,700",
          "$50,400",
          "$40,300",
          "$34,400",
          "$36,600",
          "$47,200",
          "$47,300",
          "$43,600",
          "$36,400",
          "$43,400",
          "$38,500",
          "$46,200",
          "$46,600",
          "$41,900",
          "$45,500",
          "$43,100",
          "$51,700",
          "$38,500",
          "$42,400",
          "$26,700",
          "$46,200",
          "$44,000",
          "$34,600",
          "$38,200",
          "$39,300",
          "$38,500",
          "$48,200",
          "$38,100",
          "$54,000",
          "$44,300",
          "$40,700",
          "$34,500",
          "$41,300",
          "$45,100",
          "$44,200",
          "$42,300",
          "$40,100",
          "$40,900",
          "$39,300",
          "$40,500",
          "$38,000",
          "$34,200",
          "$45,300",
          "$39,300",
          "$51,100",
          "$51,600",
          "$47,700",
          "$32,900",
          "$45,000",
          "$44,500",
          "$43,100",
          "$42,700",
          "$34,900",
          "$39,000",
          "$50,500",
          "$41,000",
          "$30,900",
          "$37,900",
          "$44,100",
          "$55,200",
          "$35,500",
          "$39,700",
          "$48,800",
          "$42,600",
          "$42,900",
          "$35,900",
          "$41,400",
          "$40,600",
          "$47,800",
          "$41,800",
          "$45,800",
          "$33,700",
          "$35,900",
          "$35,300",
          "$51,400",
          "$52,800",
          "$49,200",
          "$44,500",
          "$55,600",
          "$43,000",
          "$39,700",
          "$35,500",
          "$40,100",
          "$40,900",
          "$49,200",
          "$45,700",
          "$37,200",
          "$51,400",
          "$44,600",
          "$49,600",
          "$37,700",
          "$32,900",
          "$34,200",
          "$41,400",
          "$45,700",
          "$43,700",
          "$41,700",
          "$34,100",
          "$33,700",
          "$33,900",
          "$30,400",
          "$43,700",
          "$42,800",
          "$50,900",
          "$42,500",
          "$40,400",
          "$46,100",
          "$44,700",
          "$48,100",
          "$43,500",
          "$50,600",
          "$57,700",
          "$44,700",
          "$36,400",
          "$42,400",
          "$35,200",
          "$51,400",
          "$48,400",
          "$40,800",
          "$48,500",
          "$51,100",
          "$51,600",
          "$39,200",
          "$51,900",
          "$48,500",
          "$42,700",
          "$33,000",
          "$37,700",
          "$51,700",
          "$49,700",
          "$46,400",
          "$34,800",
          "$38,700",
          "$32,300",
          "$80,500",
          "$36,400",
          "$52,700",
          "$35,700",
          "$41,400",
          "$48,900",
          "$41,700",
          "$40,500",
          "$34,400",
          "$40,000",
          "$41,000",
          "$39,600",
          "$36,500",
          "$54,300",
          "$54,100",
          "$47,300",
          "$63,300",
          "$53,400",
          "$37,200",
          "$54,200",
          "$44,500",
          "$44,500",
          "$39,000",
          "$28,000",
          "$34,900",
          "$53,700",
          "$54,900",
          "$35,700",
          "$52,300",
          "$46,200",
          "$40,600",
          "$41,500",
          "$44,700",
          "$41,700",
          "$37,800",
          "$41,700",
          "$36,100",
          "$34,500",
          "$34,600",
          "$39,700",
          "$41,600",
          "$30,300",
          "$44,200",
          "$37,500",
          "$60,300",
          "$45,800",
          "$37,900",
          "$40,500",
          "$47,600",
          "$44,600",
          "$48,100",
          "$39,800",
          "$36,500",
          "$42,700",
          "$37,700",
          "$32,600",
          "$45,800",
          "$56,900",
          "$44,800",
          "$51,900",
          "$47,900",
          "$50,900",
          "$38,200",
          "$35,000",
          "$36,800",
          "$28,500",
          "$44,700",
          "$48,200",
          "$45,300",
          "$49,400",
          "$38,200",
          "$47,100",
          "$43,500",
          "$46,600",
          "$36,500",
          "$47,000",
          "$35,400",
          "$40,200",
          "$28,400",
          "$33,900",
          "$43,100",
          "$34,600",
          "$33,100",
          "$58,000",
          "$43,200",
          "$35,500",
          "$40,900",
          "$33,600",
          "$39,300",
          "$43,800",
          "$45,200",
          "$37,900",
          "$53,600",
          "$44,100",
          "$44,900",
          "$34,800",
          "$17,700",
          "$47,600",
          "$46,400",
          "$37,800",
          "$43,900",
          "$43,700",
          "$44,300",
          "$39,000",
          "$58,300",
          "$30,000",
          "$45,100",
          "$39,900",
          "$42,000",
          "$41,000",
          "$39,000",
          "$37,000",
          "$31,000",
          "$45,800",
          "$41,400",
          "$31,500",
          "$41,600",
          "$45,400",
          "$38,500",
          "$36,200",
          "$46,800",
          "$45,700",
          "$47,100",
          "$40,600",
          "$42,900",
          "$55,100",
          "$48,900",
          "$43,800",
          "$36,000",
          "$31,400",
          "$36,300",
          "$36,000",
          "$45,800",
          "$36,800",
          "$36,400",
          "$35,400",
          "$35,600",
          "$40,200",
          "$42,800",
          "$49,200",
          "$36,000",
          "$47,400",
          "$32,000",
          "$39,000",
          "$34,700",
          "$39,700",
          "$45,300",
          "$28,400",
          "$33,100",
          "$45,900",
          "$50,100",
          "$45,100",
          "$80,200",
          "$35,900",
          "$49,200",
          "$43,000",
          "$35,800",
          "$40,000",
          "$39,500",
          "$41,700",
          "$44,200",
          "$41,300",
          "$36,900",
          "$39,500",
          "$35,100",
          "$50,900",
          "$40,400",
          "$45,800",
          "$46,500",
          "$45,400",
          "$38,800",
          "$30,100",
          "$32,100",
          "$27,200",
          "$42,000",
          "$27,200",
          "$40,000",
          "$45,900",
          "$45,600",
          "$45,100",
          "$40,800",
          "$40,400",
          "$53,100",
          "$38,100",
          "$46,300",
          "$37,200",
          "$42,600"
         ],
         "xaxis": "x",
         "yaxis": "y"
        }
       ],
       "layout": {
        "barmode": "relative",
        "height": 500,
        "legend": {
         "tracegroupgap": 0
        },
        "margin": {
         "b": 50,
         "l": 50,
         "r": 50,
         "t": 50
        },
        "template": {
         "data": {
          "candlestick": [
           {
            "decreasing": {
             "line": {
              "color": "#000033"
             }
            },
            "increasing": {
             "line": {
              "color": "#000032"
             }
            },
            "type": "candlestick"
           }
          ],
          "contour": [
           {
            "colorscale": [
             [
              0,
              "#000011"
             ],
             [
              0.1111111111111111,
              "#000012"
             ],
             [
              0.2222222222222222,
              "#000013"
             ],
             [
              0.3333333333333333,
              "#000014"
             ],
             [
              0.4444444444444444,
              "#000015"
             ],
             [
              0.5555555555555556,
              "#000016"
             ],
             [
              0.6666666666666666,
              "#000017"
             ],
             [
              0.7777777777777778,
              "#000018"
             ],
             [
              0.8888888888888888,
              "#000019"
             ],
             [
              1,
              "#000020"
             ]
            ],
            "type": "contour"
           }
          ],
          "contourcarpet": [
           {
            "colorscale": [
             [
              0,
              "#000011"
             ],
             [
              0.1111111111111111,
              "#000012"
             ],
             [
              0.2222222222222222,
              "#000013"
             ],
             [
              0.3333333333333333,
              "#000014"
             ],
             [
              0.4444444444444444,
              "#000015"
             ],
             [
              0.5555555555555556,
              "#000016"
             ],
             [
              0.6666666666666666,
              "#000017"
             ],
             [
              0.7777777777777778,
              "#000018"
             ],
             [
              0.8888888888888888,
              "#000019"
             ],
             [
              1,
              "#000020"
             ]
            ],
            "type": "contourcarpet"
           }
          ],
          "heatmap": [
           {
            "colorscale": [
             [
              0,
              "#000011"
             ],
             [
              0.1111111111111111,
              "#000012"
             ],
             [
              0.2222222222222222,
              "#000013"
             ],
             [
              0.3333333333333333,
              "#000014"
             ],
             [
              0.4444444444444444,
              "#000015"
             ],
             [
              0.5555555555555556,
              "#000016"
             ],
             [
              0.6666666666666666,
              "#000017"
             ],
             [
              0.7777777777777778,
              "#000018"
             ],
             [
              0.8888888888888888,
              "#000019"
             ],
             [
              1,
              "#000020"
             ]
            ],
            "type": "heatmap"
           }
          ],
          "histogram2d": [
           {
            "colorscale": [
             [
              0,
              "#000011"
             ],
             [
              0.1111111111111111,
              "#000012"
             ],
             [
              0.2222222222222222,
              "#000013"
             ],
             [
              0.3333333333333333,
              "#000014"
             ],
             [
              0.4444444444444444,
              "#000015"
             ],
             [
              0.5555555555555556,
              "#000016"
             ],
             [
              0.6666666666666666,
              "#000017"
             ],
             [
              0.7777777777777778,
              "#000018"
             ],
             [
              0.8888888888888888,
              "#000019"
             ],
             [
              1,
              "#000020"
             ]
            ],
            "type": "histogram2d"
           }
          ],
          "icicle": [
           {
            "textfont": {
             "color": "white"
            },
            "type": "icicle"
           }
          ],
          "sankey": [
           {
            "textfont": {
             "color": "#000036"
            },
            "type": "sankey"
           }
          ],
          "scatter": [
           {
            "marker": {
             "line": {
              "width": 0
             }
            },
            "type": "scatter"
           }
          ],
          "table": [
           {
            "cells": {
             "fill": {
              "color": "#000038"
             },
             "font": {
              "color": "#000037"
             },
             "line": {
              "color": "#000039"
             }
            },
            "header": {
             "fill": {
              "color": "#000040"
             },
             "font": {
              "color": "#000036"
             },
             "line": {
              "color": "#000039"
             }
            },
            "type": "table"
           }
          ],
          "waterfall": [
           {
            "connector": {
             "line": {
              "color": "#000036",
              "width": 2
             }
            },
            "decreasing": {
             "marker": {
              "color": "#000033"
             }
            },
            "increasing": {
             "marker": {
              "color": "#000032"
             }
            },
            "totals": {
             "marker": {
              "color": "#000034"
             }
            },
            "type": "waterfall"
           }
          ]
         },
         "layout": {
          "coloraxis": {
           "colorscale": [
            [
             0,
             "#000011"
            ],
            [
             0.1111111111111111,
             "#000012"
            ],
            [
             0.2222222222222222,
             "#000013"
            ],
            [
             0.3333333333333333,
             "#000014"
            ],
            [
             0.4444444444444444,
             "#000015"
            ],
            [
             0.5555555555555556,
             "#000016"
            ],
            [
             0.6666666666666666,
             "#000017"
            ],
            [
             0.7777777777777778,
             "#000018"
            ],
            [
             0.8888888888888888,
             "#000019"
            ],
            [
             1,
             "#000020"
            ]
           ]
          },
          "colorscale": {
           "diverging": [
            [
             0,
             "#000021"
            ],
            [
             0.1,
             "#000022"
            ],
            [
             0.2,
             "#000023"
            ],
            [
             0.3,
             "#000024"
            ],
            [
             0.4,
             "#000025"
            ],
            [
             0.5,
             "#000026"
            ],
            [
             0.6,
             "#000027"
            ],
            [
             0.7,
             "#000028"
            ],
            [
             0.8,
             "#000029"
            ],
            [
             0.9,
             "#000030"
            ],
            [
             1,
             "#000031"
            ]
           ],
           "sequential": [
            [
             0,
             "#000011"
            ],
            [
             0.1111111111111111,
             "#000012"
            ],
            [
             0.2222222222222222,
             "#000013"
            ],
            [
             0.3333333333333333,
             "#000014"
            ],
            [
             0.4444444444444444,
             "#000015"
            ],
            [
             0.5555555555555556,
             "#000016"
            ],
            [
             0.6666666666666666,
             "#000017"
            ],
            [
             0.7777777777777778,
             "#000018"
            ],
            [
             0.8888888888888888,
             "#000019"
            ],
            [
             1,
             "#000020"
            ]
           ],
           "sequentialminus": [
            [
             0,
             "#000011"
            ],
            [
             0.1111111111111111,
             "#000012"
            ],
            [
             0.2222222222222222,
             "#000013"
            ],
            [
             0.3333333333333333,
             "#000014"
            ],
            [
             0.4444444444444444,
             "#000015"
            ],
            [
             0.5555555555555556,
             "#000016"
            ],
            [
             0.6666666666666666,
             "#000017"
            ],
            [
             0.7777777777777778,
             "#000018"
            ],
            [
             0.8888888888888888,
             "#000019"
            ],
            [
             1,
             "#000020"
            ]
           ]
          },
          "colorway": [
           "#000001",
           "#000002",
           "#000003",
           "#000004",
           "#000005",
           "#000006",
           "#000007",
           "#000008",
           "#000009",
           "#000010"
          ]
         }
        },
        "title": {
         "text": "Histogramme de Median Income 6 Years After Graduation"
        },
        "xaxis": {
         "anchor": "y",
         "domain": [
          0,
          1
         ],
         "title": {
          "text": "Median Income 6 Years After Graduation"
         }
        },
        "yaxis": {
         "anchor": "x",
         "domain": [
          0,
          1
         ],
         "title": {
          "text": "Nombre d'universités (count)"
         }
        }
       }
      }
     },
     "metadata": {},
     "output_type": "display_data"
    }
   ],
   "source": [
    "from plots import plot_income_histogram\n",
    "df = pd.read_excel('final_dataset.xlsx')\n",
    "plot_income_histogram(df, income_col=\"Median Income 6 Years After Graduation\")"
   ]
  },
  {
   "cell_type": "markdown",
   "metadata": {},
   "source": [
    "L'analyse suivante explore la relation entre le classement universitaire et le salaire médian des diplômés six ans après l'obtention de leur diplôme. Elle vise à comprendre si un classement plus favorable est associé à des salaires plus élevés.\n",
    "\n",
    "Résultats de la Régression : \n",
    "\n",
    "- **Coefficient de régression (pente)** : -70.238\n",
    "- **Ordonnée à l'origine (intercept)** : 61,761.698\n",
    "- **R²** : 0.347\n",
    "\n",
    "Ces résultats indiquent que :\n",
    "\n",
    "1. Il existe une relation négative entre le classement (un meilleur classement = un chiffre plus petit) et le salaire médian six ans après l'obtention du diplôme.\n",
    "2. Une augmentation de 1 dans le classement est associée à une diminution moyenne du salaire médian de **70.24 USD**.\n",
    "3. La valeur de R² montre que **34.7%** de la variance dans les salaires est expliquée par le classement.\n",
    "\n",
    "Limites de l'Analyse\n",
    "\n",
    "1. **Causalité** : Cette analyse est corrélationnelle, et non causale. Une corrélation ne signifie pas qu’un meilleur classement cause des salaires plus élevés.\n",
    "2. **Variables omises** :\n",
    "   - **Localisation** : Les salaires peuvent varier en fonction de la région (par exemple, New York vs Maryland).\n",
    "   - **Majors dominantes** : Les universités avec une forte proportion d'étudiants en \"business\" ou dans des domaines STEM (Sciences, Technologie, Ingénierie, Mathématiques) peuvent afficher des salaires plus élevés, alors que celles avec une proportion importante d'étudiants en arts peuvent avoir des salaires inférieurs.\n",
    "3. **Variance inexpliquée** : D'autres facteurs, comme les conditions économiques générales ou le réseau des diplômés, ne sont pas pris en compte dans cette analyse.\n",
    "\n",
    "Bien que le classement universitaire donne une indication sur le salaire médian des diplômés, il est essentiel de tenir compte des variables omises et des limites méthodologiques avant de tirer des conclusions définitives."
   ]
  },
  {
   "cell_type": "code",
   "execution_count": 34,
   "metadata": {},
   "outputs": [
    {
     "name": "stdout",
     "output_type": "stream",
     "text": [
      "Régression : Median Income 6 Years After Graduation ~ Ranking\n",
      "Coefficient de régression (slope) = -70.238\n",
      "Ordonnée à l'origine (intercept) = 61761.698\n",
      "R² = 0.347\n"
     ]
    },
    {
     "data": {
      "application/vnd.plotly.v1+json": {
       "config": {
        "plotlyServerURL": "https://plot.ly"
       },
       "data": [
        {
         "mode": "markers",
         "name": "Data Points",
         "type": "scatter",
         "x": [
          2,
          3,
          3,
          3,
          18,
          12,
          9,
          17,
          18,
          1,
          7,
          7,
          23,
          24,
          10,
          22,
          7,
          20,
          12,
          9,
          3,
          6,
          20,
          24,
          28,
          33,
          28,
          24,
          29,
          41,
          35,
          40,
          15,
          39,
          32,
          39,
          47,
          43,
          53,
          47,
          55,
          33,
          35,
          53,
          51,
          47,
          40,
          28,
          153,
          43,
          89,
          73,
          28,
          32,
          124,
          53,
          68,
          43,
          46,
          93,
          124,
          72,
          115,
          76,
          185,
          47,
          72,
          89,
          61,
          60,
          26,
          81,
          105,
          47,
          89,
          93,
          137,
          117,
          178,
          137,
          115,
          60,
          115,
          198,
          151,
          151,
          60,
          170,
          151,
          122,
          127,
          98,
          205,
          85,
          28,
          44,
          67,
          115,
          83,
          105,
          219,
          151,
          329,
          151,
          135,
          77,
          105,
          151,
          195,
          192,
          176,
          95,
          170,
          130,
          97,
          330,
          93,
          317,
          55,
          82,
          263,
          68,
          246,
          48,
          194,
          155,
          173,
          58,
          299,
          76,
          86,
          19,
          45,
          96,
          263,
          151,
          115,
          124,
          205,
          141,
          299,
          105,
          151,
          227,
          121,
          105,
          118,
          151,
          331,
          115,
          202,
          218,
          176,
          127,
          299,
          182,
          336,
          113,
          137,
          196,
          316,
          299,
          227,
          156,
          89,
          121,
          299,
          227,
          263,
          177,
          151,
          263,
          151,
          105,
          198,
          170,
          280,
          219,
          263,
          299,
          114,
          127,
          151,
          299,
          299,
          103,
          298,
          394,
          298,
          176,
          357,
          285,
          182,
          75,
          131,
          288,
          306,
          3,
          299,
          11,
          158,
          293,
          285,
          263,
          119,
          182,
          105,
          295,
          313,
          94,
          62,
          115,
          235,
          58,
          312,
          45,
          115,
          137,
          83,
          219,
          331,
          139,
          343,
          19,
          104,
          331,
          331,
          182,
          299,
          299,
          77,
          80,
          299,
          121,
          281,
          299,
          298,
          299,
          234,
          239,
          317,
          64,
          213,
          299,
          76,
          331,
          104,
          1,
          115,
          332,
          263,
          206,
          121,
          137,
          249,
          278,
          105,
          299,
          227,
          220,
          312,
          166,
          168,
          239,
          299,
          212,
          285,
          167,
          115,
          182,
          299,
          299,
          298,
          299,
          202,
          263,
          13,
          194,
          123,
          181,
          153,
          299,
          185,
          299,
          172,
          293,
          299,
          115,
          251,
          298,
          287,
          45,
          263,
          124,
          76,
          219,
          121,
          299,
          331,
          299,
          298,
          299,
          124,
          182,
          331,
          4,
          156,
          263,
          219,
          9,
          299,
          162,
          246,
          18,
          299,
          299,
          317,
          187,
          126,
          90,
          298,
          202,
          263,
          137,
          299,
          153,
          227,
          299,
          299,
          90,
          263,
          217,
          331,
          331,
          285,
          241,
          297,
          155,
          298,
          331,
          72,
          104,
          219,
          250,
          299,
          234,
          269,
          131,
          151,
          57,
          331,
          206,
          299,
          299,
          172,
          136,
          281,
          298,
          331,
          234,
          148,
          206,
          331,
          331,
          331,
          299,
          63,
          299,
          156,
          178,
          219,
          299,
          151,
          97,
          331,
          168,
          298,
          93,
          299,
          331,
          331,
          147,
          331,
          299,
          355,
          219,
          331,
          212,
          117,
          298,
          166,
          129,
          285,
          331,
          299,
          182,
          299,
          285,
          157,
          256,
          263,
          95,
          107,
          14,
          299,
          85,
          263,
          299,
          186,
          263,
          151,
          20,
          219,
          184,
          77,
          219,
          299,
          204,
          331,
          44,
          24,
          65,
          65,
          90,
          182,
          109,
          299,
          234,
          89,
          182,
          299,
          299,
          124,
          317,
          126,
          298,
          299,
          427,
          331,
          153,
          142,
          246,
          133,
          142,
          299,
          289,
          121,
          299,
          125,
          230,
          331,
          234,
          113,
          263,
          127,
          331,
          179,
          331,
          156,
          105,
          299,
          109,
          298,
          299,
          299,
          298,
          176,
          213,
          87,
          331,
          299,
          59,
          280,
          299,
          76,
          103,
          202,
          133,
          133,
          68,
          331,
          133,
          350,
          298,
          331,
          299,
          86,
          298,
          331,
          298,
          52,
          127,
          331,
          134,
          299,
          331,
          196,
          62,
          331,
          331,
          299,
          296,
          299,
          226,
          69,
          263,
          234,
          94
         ],
         "y": [
          104700,
          83200,
          94000,
          89700,
          75500,
          83300,
          67500,
          65400,
          69000,
          74700,
          85900,
          84400,
          93500,
          70100,
          69000,
          83600,
          85900,
          60700,
          77200,
          73200,
          63400,
          68100,
          78400,
          61200,
          74000,
          79100,
          56000,
          66000,
          55600,
          65300,
          61900,
          67400,
          64700,
          72500,
          58200,
          75800,
          63800,
          61500,
          46400,
          50500,
          60100,
          58400,
          56200,
          81900,
          77900,
          62500,
          57700,
          59900,
          64900,
          55100,
          43500,
          61700,
          96100,
          55300,
          45400,
          74600,
          54900,
          46100,
          62900,
          48800,
          46300,
          52500,
          52400,
          84900,
          46500,
          53900,
          47700,
          59700,
          51900,
          53600,
          51400,
          69600,
          47700,
          61200,
          52800,
          51900,
          41200,
          44900,
          42700,
          51100,
          51400,
          50100,
          53000,
          50000,
          48100,
          48800,
          72600,
          44500,
          66400,
          50700,
          55100,
          60000,
          44900,
          61600,
          66900,
          57900,
          58400,
          50600,
          89200,
          47300,
          40200,
          42300,
          43500,
          49600,
          48300,
          61300,
          68800,
          51000,
          43200,
          45600,
          41900,
          58500,
          51600,
          80900,
          54300,
          50900,
          57000,
          41500,
          82000,
          84900,
          40900,
          62100,
          40800,
          38900,
          44500,
          56500,
          48500,
          57600,
          34700,
          65500,
          68500,
          58500,
          44800,
          51600,
          47300,
          43200,
          45100,
          59700,
          45700,
          45100,
          38300,
          61000,
          46400,
          56400,
          50500,
          50800,
          56500,
          56600,
          44200,
          57900,
          56600,
          65700,
          39100,
          49900,
          45200,
          71200,
          41900,
          86900,
          53300,
          42500,
          43700,
          36400,
          45300,
          44000,
          62600,
          54500,
          31100,
          43200,
          46700,
          50100,
          47100,
          63500,
          59900,
          62400,
          41800,
          48200,
          45000,
          44000,
          42100,
          48200,
          57200,
          51200,
          71700,
          37600,
          42800,
          49100,
          62300,
          45700,
          48700,
          47200,
          43000,
          43200,
          53300,
          46900,
          38800,
          48700,
          37800,
          58800,
          40800,
          66200,
          58300,
          40500,
          37400,
          42000,
          31500,
          40500,
          62300,
          44400,
          42600,
          44800,
          46100,
          53100,
          43200,
          50500,
          47400,
          57500,
          56800,
          57200,
          56100,
          37500,
          52700,
          56500,
          47700,
          48000,
          35700,
          45400,
          38700,
          50800,
          44200,
          48200,
          41800,
          36800,
          44600,
          54100,
          45300,
          35600,
          35100,
          36200,
          38200,
          45800,
          41600,
          38800,
          60500,
          37100,
          49700,
          62400,
          37100,
          64100,
          51400,
          40200,
          51100,
          43300,
          72000,
          56600,
          41700,
          34200,
          47300,
          42500,
          49100,
          43200,
          36700,
          53600,
          44800,
          40700,
          35100,
          34600,
          40100,
          29900,
          49200,
          49600,
          46100,
          35800,
          35900,
          37900,
          47200,
          44400,
          41300,
          50000,
          37900,
          41800,
          43200,
          39900,
          40500,
          37500,
          50500,
          38700,
          46500,
          47100,
          48600,
          41300,
          42800,
          35200,
          40000,
          56500,
          38000,
          31100,
          69100,
          58000,
          33200,
          43300,
          43100,
          34300,
          39900,
          37700,
          37500,
          68100,
          47200,
          44600,
          30400,
          71300,
          38300,
          52900,
          41900,
          36900,
          35800,
          41200,
          40400,
          52800,
          46600,
          41700,
          35700,
          47100,
          43000,
          53100,
          53600,
          57700,
          39600,
          40600,
          32200,
          43400,
          40500,
          35800,
          37500,
          41900,
          44700,
          42200,
          45100,
          46300,
          38800,
          45000,
          59200,
          47500,
          47100,
          56400,
          38400,
          49200,
          41100,
          53800,
          58500,
          48200,
          41800,
          44700,
          31100,
          45800,
          58500,
          51400,
          47300,
          48200,
          39300,
          48200,
          53200,
          36400,
          44800,
          45800,
          31200,
          43800,
          44700,
          42800,
          51400,
          42800,
          50400,
          40300,
          47200,
          47300,
          43600,
          38500,
          46200,
          46600,
          26700,
          44000,
          38200,
          39300,
          38100,
          41300,
          44200,
          42300,
          39300,
          38000,
          45300,
          39300,
          51600,
          47700,
          45000,
          44500,
          34900,
          50500,
          30900,
          35500,
          39700,
          48800,
          42900,
          40600,
          47800,
          45800,
          33700,
          35300,
          49200,
          44500,
          55600,
          35500,
          49200,
          44600,
          32900,
          45700,
          34100,
          42500,
          40400,
          46100,
          44700,
          48100,
          50600,
          57700,
          36400,
          42400,
          48400,
          40800,
          48500,
          51600,
          51900,
          48500,
          42700,
          33000,
          34800,
          38700,
          80500,
          35700,
          40500,
          39600,
          36500,
          63300,
          53400,
          54200,
          44500,
          44500,
          34900,
          41500,
          41700,
          36100,
          41600,
          44200,
          37500,
          60300,
          44600,
          48100,
          36500,
          42700,
          37700,
          45800,
          56900,
          47900,
          36800,
          45300,
          43500,
          36500,
          35400,
          43100,
          33100,
          58000,
          35500,
          39300,
          37800,
          43900,
          30000,
          41000,
          39000,
          37000,
          41400,
          41600,
          45400,
          38500,
          47100,
          42900,
          55100,
          43800,
          36300,
          36400,
          32000,
          39000,
          34700,
          39700,
          50100,
          80200,
          35900,
          35800,
          39500,
          41700,
          44200,
          36900,
          39500,
          40400,
          46500,
          27200,
          42000,
          45900,
          45100,
          40400,
          53100,
          38100
         ]
        },
        {
         "line": {
          "color": "red"
         },
         "mode": "lines",
         "name": "Regression Line",
         "type": "scatter",
         "x": [
          1,
          5.303030303030303,
          9.606060606060606,
          13.909090909090908,
          18.21212121212121,
          22.515151515151516,
          26.818181818181817,
          31.121212121212118,
          35.42424242424242,
          39.72727272727273,
          44.03030303030303,
          48.33333333333333,
          52.63636363636363,
          56.93939393939394,
          61.242424242424235,
          65.54545454545455,
          69.84848484848484,
          74.15151515151514,
          78.45454545454545,
          82.75757575757575,
          87.06060606060606,
          91.36363636363636,
          95.66666666666666,
          99.96969696969697,
          104.27272727272727,
          108.57575757575756,
          112.87878787878788,
          117.18181818181817,
          121.48484848484847,
          125.78787878787878,
          130.0909090909091,
          134.39393939393938,
          138.6969696969697,
          143,
          147.30303030303028,
          151.6060606060606,
          155.9090909090909,
          160.2121212121212,
          164.5151515151515,
          168.8181818181818,
          173.12121212121212,
          177.4242424242424,
          181.72727272727272,
          186.03030303030303,
          190.33333333333331,
          194.63636363636363,
          198.93939393939394,
          203.24242424242422,
          207.54545454545453,
          211.84848484848484,
          216.15151515151513,
          220.45454545454544,
          224.75757575757575,
          229.06060606060603,
          233.36363636363635,
          237.66666666666666,
          241.96969696969694,
          246.27272727272725,
          250.57575757575756,
          254.87878787878788,
          259.1818181818182,
          263.48484848484844,
          267.78787878787875,
          272.09090909090907,
          276.3939393939394,
          280.6969696969697,
          285,
          289.3030303030303,
          293.60606060606057,
          297.9090909090909,
          302.2121212121212,
          306.5151515151515,
          310.8181818181818,
          315.1212121212121,
          319.4242424242424,
          323.7272727272727,
          328.030303030303,
          332.3333333333333,
          336.6363636363636,
          340.93939393939394,
          345.24242424242425,
          349.5454545454545,
          353.8484848484848,
          358.1515151515151,
          362.45454545454544,
          366.75757575757575,
          371.06060606060606,
          375.3636363636363,
          379.66666666666663,
          383.96969696969694,
          388.27272727272725,
          392.57575757575756,
          396.8787878787879,
          401.18181818181813,
          405.48484848484844,
          409.78787878787875,
          414.09090909090907,
          418.3939393939394,
          422.6969696969697,
          427
         ],
         "y": [
          61691.46049752268,
          61389.22509152793,
          61086.98968553317,
          60784.754279538414,
          60482.51887354366,
          60180.28346754891,
          59878.04806155415,
          59575.8126555594,
          59273.577249564645,
          58971.341843569884,
          58669.10643757513,
          58366.87103158038,
          58064.63562558562,
          57762.40021959087,
          57460.164813596115,
          57157.92940760136,
          56855.69400160661,
          56553.458595611846,
          56251.22318961709,
          55948.98778362234,
          55646.752377627585,
          55344.51697163283,
          55042.28156563808,
          54740.046159643316,
          54437.81075364856,
          54135.57534765381,
          53833.339941659055,
          53531.1045356643,
          53228.86912966955,
          52926.63372367479,
          52624.39831768004,
          52322.162911685286,
          52019.927505690524,
          51717.69209969577,
          51415.45669370102,
          51113.22128770626,
          50810.98588171151,
          50508.750475716755,
          50206.515069721994,
          49904.27966372724,
          49602.04425773249,
          49299.80885173773,
          48997.57344574298,
          48695.338039748225,
          48393.10263375347,
          48090.86722775872,
          47788.63182176396,
          47486.3964157692,
          47184.16100977445,
          46881.925603779695,
          46579.69019778494,
          46277.45479179019,
          45975.219385795426,
          45672.98397980067,
          45370.74857380592,
          45068.513167811165,
          44766.27776181641,
          44464.04235582166,
          44161.8069498269,
          43859.57154383215,
          43557.33613783739,
          43255.10073184264,
          42952.86532584789,
          42650.62991985313,
          42348.39451385837,
          42046.15910786361,
          41743.92370186886,
          41441.688295874104,
          41139.45288987935,
          40837.2174838846,
          40534.98207788984,
          40232.74667189509,
          39930.511265900335,
          39628.27585990558,
          39326.04045391083,
          39023.805047916074,
          38721.56964192131,
          38419.33423592656,
          38117.098829931805,
          37814.863423937044,
          37512.62801794229,
          37210.392611947536,
          36908.15720595278,
          36605.92179995803,
          36303.686393963275,
          36001.45098796852,
          35699.21558197377,
          35396.98017597901,
          35094.74476998426,
          34792.509363989506,
          34490.273957994745,
          34188.03855199999,
          33885.80314600523,
          33583.56774001048,
          33281.33233401573,
          32979.09692802097,
          32676.861522026218,
          32374.62611603146,
          32072.390710036707,
          31770.15530404195
         ]
        }
       ],
       "layout": {
        "height": 600,
        "template": {
         "data": {
          "candlestick": [
           {
            "decreasing": {
             "line": {
              "color": "#000033"
             }
            },
            "increasing": {
             "line": {
              "color": "#000032"
             }
            },
            "type": "candlestick"
           }
          ],
          "contour": [
           {
            "colorscale": [
             [
              0,
              "#000011"
             ],
             [
              0.1111111111111111,
              "#000012"
             ],
             [
              0.2222222222222222,
              "#000013"
             ],
             [
              0.3333333333333333,
              "#000014"
             ],
             [
              0.4444444444444444,
              "#000015"
             ],
             [
              0.5555555555555556,
              "#000016"
             ],
             [
              0.6666666666666666,
              "#000017"
             ],
             [
              0.7777777777777778,
              "#000018"
             ],
             [
              0.8888888888888888,
              "#000019"
             ],
             [
              1,
              "#000020"
             ]
            ],
            "type": "contour"
           }
          ],
          "contourcarpet": [
           {
            "colorscale": [
             [
              0,
              "#000011"
             ],
             [
              0.1111111111111111,
              "#000012"
             ],
             [
              0.2222222222222222,
              "#000013"
             ],
             [
              0.3333333333333333,
              "#000014"
             ],
             [
              0.4444444444444444,
              "#000015"
             ],
             [
              0.5555555555555556,
              "#000016"
             ],
             [
              0.6666666666666666,
              "#000017"
             ],
             [
              0.7777777777777778,
              "#000018"
             ],
             [
              0.8888888888888888,
              "#000019"
             ],
             [
              1,
              "#000020"
             ]
            ],
            "type": "contourcarpet"
           }
          ],
          "heatmap": [
           {
            "colorscale": [
             [
              0,
              "#000011"
             ],
             [
              0.1111111111111111,
              "#000012"
             ],
             [
              0.2222222222222222,
              "#000013"
             ],
             [
              0.3333333333333333,
              "#000014"
             ],
             [
              0.4444444444444444,
              "#000015"
             ],
             [
              0.5555555555555556,
              "#000016"
             ],
             [
              0.6666666666666666,
              "#000017"
             ],
             [
              0.7777777777777778,
              "#000018"
             ],
             [
              0.8888888888888888,
              "#000019"
             ],
             [
              1,
              "#000020"
             ]
            ],
            "type": "heatmap"
           }
          ],
          "histogram2d": [
           {
            "colorscale": [
             [
              0,
              "#000011"
             ],
             [
              0.1111111111111111,
              "#000012"
             ],
             [
              0.2222222222222222,
              "#000013"
             ],
             [
              0.3333333333333333,
              "#000014"
             ],
             [
              0.4444444444444444,
              "#000015"
             ],
             [
              0.5555555555555556,
              "#000016"
             ],
             [
              0.6666666666666666,
              "#000017"
             ],
             [
              0.7777777777777778,
              "#000018"
             ],
             [
              0.8888888888888888,
              "#000019"
             ],
             [
              1,
              "#000020"
             ]
            ],
            "type": "histogram2d"
           }
          ],
          "icicle": [
           {
            "textfont": {
             "color": "white"
            },
            "type": "icicle"
           }
          ],
          "sankey": [
           {
            "textfont": {
             "color": "#000036"
            },
            "type": "sankey"
           }
          ],
          "scatter": [
           {
            "marker": {
             "line": {
              "width": 0
             }
            },
            "type": "scatter"
           }
          ],
          "table": [
           {
            "cells": {
             "fill": {
              "color": "#000038"
             },
             "font": {
              "color": "#000037"
             },
             "line": {
              "color": "#000039"
             }
            },
            "header": {
             "fill": {
              "color": "#000040"
             },
             "font": {
              "color": "#000036"
             },
             "line": {
              "color": "#000039"
             }
            },
            "type": "table"
           }
          ],
          "waterfall": [
           {
            "connector": {
             "line": {
              "color": "#000036",
              "width": 2
             }
            },
            "decreasing": {
             "marker": {
              "color": "#000033"
             }
            },
            "increasing": {
             "marker": {
              "color": "#000032"
             }
            },
            "totals": {
             "marker": {
              "color": "#000034"
             }
            },
            "type": "waterfall"
           }
          ]
         },
         "layout": {
          "coloraxis": {
           "colorscale": [
            [
             0,
             "#000011"
            ],
            [
             0.1111111111111111,
             "#000012"
            ],
            [
             0.2222222222222222,
             "#000013"
            ],
            [
             0.3333333333333333,
             "#000014"
            ],
            [
             0.4444444444444444,
             "#000015"
            ],
            [
             0.5555555555555556,
             "#000016"
            ],
            [
             0.6666666666666666,
             "#000017"
            ],
            [
             0.7777777777777778,
             "#000018"
            ],
            [
             0.8888888888888888,
             "#000019"
            ],
            [
             1,
             "#000020"
            ]
           ]
          },
          "colorscale": {
           "diverging": [
            [
             0,
             "#000021"
            ],
            [
             0.1,
             "#000022"
            ],
            [
             0.2,
             "#000023"
            ],
            [
             0.3,
             "#000024"
            ],
            [
             0.4,
             "#000025"
            ],
            [
             0.5,
             "#000026"
            ],
            [
             0.6,
             "#000027"
            ],
            [
             0.7,
             "#000028"
            ],
            [
             0.8,
             "#000029"
            ],
            [
             0.9,
             "#000030"
            ],
            [
             1,
             "#000031"
            ]
           ],
           "sequential": [
            [
             0,
             "#000011"
            ],
            [
             0.1111111111111111,
             "#000012"
            ],
            [
             0.2222222222222222,
             "#000013"
            ],
            [
             0.3333333333333333,
             "#000014"
            ],
            [
             0.4444444444444444,
             "#000015"
            ],
            [
             0.5555555555555556,
             "#000016"
            ],
            [
             0.6666666666666666,
             "#000017"
            ],
            [
             0.7777777777777778,
             "#000018"
            ],
            [
             0.8888888888888888,
             "#000019"
            ],
            [
             1,
             "#000020"
            ]
           ],
           "sequentialminus": [
            [
             0,
             "#000011"
            ],
            [
             0.1111111111111111,
             "#000012"
            ],
            [
             0.2222222222222222,
             "#000013"
            ],
            [
             0.3333333333333333,
             "#000014"
            ],
            [
             0.4444444444444444,
             "#000015"
            ],
            [
             0.5555555555555556,
             "#000016"
            ],
            [
             0.6666666666666666,
             "#000017"
            ],
            [
             0.7777777777777778,
             "#000018"
            ],
            [
             0.8888888888888888,
             "#000019"
            ],
            [
             1,
             "#000020"
            ]
           ]
          },
          "colorway": [
           "#000001",
           "#000002",
           "#000003",
           "#000004",
           "#000005",
           "#000006",
           "#000007",
           "#000008",
           "#000009",
           "#000010"
          ]
         }
        },
        "title": {
         "text": "Median Income 6 Years After Graduation vs. Ranking"
        },
        "xaxis": {
         "title": {
          "text": "Ranking"
         }
        },
        "yaxis": {
         "title": {
          "text": "Median Income 6 Years After Graduation"
         }
        }
       }
      }
     },
     "metadata": {},
     "output_type": "display_data"
    }
   ],
   "source": [
    "from plots import regression_income_vs_ranking\n",
    "df = pd.read_excel('final_dataset.xlsx')\n",
    "df_for_plot=df[df['Ranking']<500] # On ne garde que les universités avec un ranking < 500 pour une meilleure visualisation\n",
    "regression_income_vs_ranking(\n",
    "    df_for_plot,\n",
    "    income_col=\"Median Income 6 Years After Graduation\",\n",
    "    ranking_col=\"Ranking\"\n",
    ")"
   ]
  },
  {
   "cell_type": "markdown",
   "metadata": {},
   "source": [
    "# <span style=\"color:#008080\">Analyses Finales et Visualisations Clés</span>\n",
    "\n",
    "Pour conclure notre exploration, nous avons réalisé plusieurs **analyses visuelles** complémentaires afin de mieux comprendre la **distribution des notes ajustées**, la **popularité des filières**, les **délais de candidature**, et surtout la **relation entre Ranking et Taux d’Acceptance**.\n",
    "\n",
    "---\n",
    "\n",
    "## <span style=\"color:#2E8B57\">1. Distribution des Notes Ajustées</span>\n",
    "\n",
    "Le premier histogramme compare la **Low Adjusted Grade** (en bleu) et la **High Adjusted Grade** (en orange).  \n",
    "- On constate une répartition relativement groupée entre **8** et **15**, correspondant aux notes françaises **moyennes** à **bonnes**.  \n",
    "- Une poignée d’universités (en bleu très à gauche) affichent des notes potentiellement **inférieures à 5**, traduisant un **SAT min** très bas ou une **sélectivité** plus faible.\n",
    "\n",
    "Cette vue d’ensemble nous montre à quel point le **niveau d’exigence** (converti en note du bac) peut varier d’une université à l’autre, et permet aux futurs candidats de **se situer** dans cette échelle.\n",
    "\n",
    "---\n",
    "\n",
    "## <span style=\"color:#2E8B57\">2. Principales Filières et Deadlines</span>\n",
    "\n",
    "### Top Majors\n",
    "Un second graphique (non illustré ici) met en lumière les **filières les plus populaires** : Computer Science, Economics, Biology… Selon la proportion d’étudiants diplômés, on identifie rapidement les spécialités dominantes dans chaque établissement.\n",
    "\n",
    "### Deadlines de Candidature\n",
    "Un autre diagramme (lui aussi optionnellement interactif) met en évidence les **dates limites** (`Application Deadline`) pour postuler, ce qui peut se révéler **crucial** pour les étudiants internationaux souhaitant bien planifier leurs dossiers (tests de langue, essais, etc.).\n",
    "\n",
    "---\n",
    "\n",
    "## <span style=\"color:#2E8B57\">3. Ranking vs. Acceptance Rate : “Good Value”</span>\n",
    "\n",
    "Le dernier graphique illustre la **corrélation** entre le **classement** (Ranking) d’une université et son **taux d’admission** (Acceptance Rate). Une ligne de régression en **rouge** (« Best Fit Line ») met en évidence la **tendance générale** :\n",
    "\n",
    "- Plus l’université est **classée haut** (Ranking faible) et **sélective** (Acceptance Rate bas), plus elle se situe **au-dessus** de la moyenne en termes d’exigence.  \n",
    "- À l’inverse, une université **moins bien classée** (Ranking élevé) avec une **forte proportion d’acceptation** se situe **sous** cette tendance.\n",
    "\n",
    "Le critère **`good_value = True`** (points en **vert**) met en avant celles qui **surperforment** par rapport à la **prédiction** de la régression (au-delà d’un certain **seuil** paramétrable, par exemple 50 places de différence). En d’autres termes, ce sont des universités offrant un **excellent ratio** entre **ranking** et **taux d’admission**, potentiellement intéressantes pour des candidats en quête de **bon compromis** entre prestige et compétitivité.\n",
    "\n",
    "> **Note** : Les *Liberal Arts Colleges* (LAC) sont exclus de cette comparaison, car ils ont leurs **propres critères de classement** et proposent souvent un contexte ou une taille d’établissement très particulier (certaines LAC sont réservées à un genre, spécialisées dans un sport, etc.).\n",
    "\n"
   ]
  },
  {
   "cell_type": "markdown",
   "metadata": {},
   "source": [
    "Le graphique suivant est interactif et l'on peut afficher uniquement low ou high en cliquant directement sur la légende. "
   ]
  },
  {
   "cell_type": "code",
   "execution_count": 35,
   "metadata": {},
   "outputs": [
    {
     "data": {
      "application/vnd.plotly.v1+json": {
       "config": {
        "plotlyServerURL": "https://plot.ly"
       },
       "data": [
        {
         "marker": {
          "color": "blue"
         },
         "name": "Low Adjusted Grade",
         "opacity": 0.75,
         "type": "histogram",
         "x": [
          18.33,
          18.05,
          18.06,
          17.89,
          18.04,
          17.88,
          17.87,
          17.83,
          17.85,
          17.86,
          18.03,
          17.86,
          16.36,
          17.61,
          17.98,
          17.67,
          17.85,
          17.81,
          18.34,
          null,
          17.49,
          18.21,
          14.81,
          16.92,
          18.05,
          17.07,
          16.11,
          17.08,
          17.66,
          15.32,
          16.95,
          17.29,
          14.45,
          16.73,
          14.82,
          14.82,
          16.93,
          16.31,
          14.85,
          17.44,
          16.95,
          14.63,
          16.67,
          16.7,
          13.37,
          16.17,
          17.1,
          null,
          16.59,
          14.36,
          13.14,
          13.1,
          14.55,
          16.54,
          13.47,
          14.44,
          14.56,
          14.99,
          16.7,
          13.25,
          null,
          12.42,
          null,
          14.67,
          15.81,
          12.72,
          12.13,
          15.38,
          16.36,
          16.52,
          14.69,
          14.77,
          16.65,
          13.42,
          12.84,
          16.21,
          14.43,
          14.21,
          14.77,
          14.65,
          16.76,
          13.09,
          16.67,
          10.98,
          13.92,
          13.1,
          14.29,
          10.31,
          13.9,
          12.15,
          14.51,
          13.72,
          15.26,
          13.79,
          11.91,
          13.47,
          14.38,
          11.2,
          15.64,
          12.01,
          11.6,
          14.41,
          12.38,
          15.65,
          12.33,
          10.29,
          13.95,
          11.73,
          11.31,
          12.84,
          12.21,
          14.08,
          11.85,
          11.48,
          10.74,
          13.75,
          null,
          11.1,
          14.02,
          11.66,
          11.52,
          11.08,
          14.65,
          11.83,
          14.32,
          9.1,
          12.57,
          10.47,
          14.51,
          12.02,
          13.23,
          15.1,
          12.98,
          10.31,
          10.63,
          15.3,
          14.59,
          11.7,
          10.99,
          15.1,
          11.93,
          12.55,
          11.51,
          11.78,
          14.27,
          12.88,
          11.59,
          11.57,
          null,
          null,
          10.06,
          13.33,
          13.08,
          12.13,
          13.81,
          14.03,
          14.53,
          11.43,
          13.44,
          14.42,
          11.17,
          12.06,
          12.36,
          11.24,
          14.11,
          14.57,
          12.4,
          null,
          10.93,
          13.59,
          10.98,
          10.63,
          4.26,
          11.02,
          11.29,
          14.76,
          11.96,
          11.16,
          14.32,
          10.96,
          13.9,
          12.44,
          11.93,
          10.32,
          13.22,
          10.42,
          11.75,
          12.2,
          11.7,
          12.41,
          10.79,
          12.17,
          11.92,
          14.13,
          14.27,
          9.86,
          11.62,
          11.43,
          null,
          10.51,
          11.81,
          11.76,
          null,
          10.22,
          11.98,
          12.53,
          11.79,
          9.97,
          10.52,
          11.7,
          11.39,
          null,
          9.45,
          11.03,
          11.19,
          13.15,
          8.42,
          14.2,
          13.38,
          11.04,
          10.67,
          11.56,
          9.27,
          10.62,
          10.35,
          12.01,
          12.52,
          10.42,
          9.23,
          14.82,
          12.09,
          10.33,
          11.18,
          12.1,
          11.81,
          10.95,
          12.25,
          11.67,
          13.58,
          10.69,
          10.92,
          12.35,
          9.21,
          10.12,
          10.94,
          10.64,
          10.3,
          12.38,
          13.77,
          11.57,
          11.41,
          10.48,
          10.02,
          null,
          13.46,
          11.53,
          10.28,
          9.81,
          11.39,
          10.24,
          null,
          11.08,
          11.29,
          12.59,
          10.31,
          null,
          12.02,
          13.4,
          12.32,
          11.61,
          null,
          11.27,
          10.1,
          10.15,
          10.43,
          12.84,
          12.73,
          12.04,
          null,
          11.89,
          11.92,
          11.55,
          10.48,
          9.22,
          11.23,
          11.11,
          10.15,
          9.69,
          10.99,
          12.68,
          10.28,
          9.67,
          12.65,
          11.71,
          9.02,
          12.03,
          10.56,
          11.04,
          12.29,
          10.03,
          11.85,
          10.28,
          null,
          11.91,
          10.11,
          12.93,
          8.86,
          null,
          12.69,
          null,
          11.3,
          null,
          11.84,
          9.93,
          10.69,
          null,
          9.53,
          null,
          11.31,
          10.26,
          11.57,
          10.23,
          8.52,
          11.85,
          15.75,
          12.19,
          9.35,
          9.18,
          11.29,
          9.41,
          null,
          null,
          12.18,
          9.24,
          14.43,
          10.15,
          9.2,
          11.47,
          9.84,
          10.05,
          10.23,
          11.01,
          9.97,
          10.99,
          12.16,
          10.94,
          null,
          11.09,
          10.42,
          11.17,
          null,
          9.63,
          10.26,
          12.68,
          13.58,
          11.47,
          10.19,
          9.57,
          9.39,
          9.26,
          9.18,
          12.67,
          9.82,
          10.47,
          12.32,
          11.4,
          10.41,
          14.87,
          10.61,
          9.38,
          10.29,
          13.51,
          9.49,
          11.22,
          10.95,
          11.01,
          10.39,
          null,
          10.75,
          11.6,
          null,
          10.59,
          8.46,
          9.64,
          11.73,
          9.1,
          9.46,
          10.32,
          10.25,
          10.97,
          8.97,
          9.45,
          9.05,
          8.39,
          12.2,
          12.7,
          null,
          8.53,
          10.03,
          10.61,
          10.56,
          11.21,
          10.53,
          10.06,
          10.62,
          11.28,
          10.18,
          null,
          10.05,
          12.05,
          11.76,
          10.47,
          10.22,
          10.4,
          9.33,
          12.06,
          10.41,
          9.56,
          9.03,
          12.64,
          9.73,
          9.6,
          null,
          12.37,
          11.48,
          12,
          10.58,
          9.57,
          9.08,
          8.62,
          12.75,
          null,
          null,
          8.22,
          12.92,
          9.18,
          null,
          8.57,
          9.02,
          9.94,
          9.64,
          11.25,
          9.97,
          9.9,
          9.61,
          null,
          9.39,
          null,
          9.22,
          11.02,
          10.6,
          10.29,
          11.04,
          4.22,
          12.14,
          10.28,
          11.75,
          9.34,
          11.53,
          9.62,
          null,
          null,
          9.35,
          10.74,
          9.9,
          9.57,
          9.48,
          10.21,
          9.2,
          9.79,
          10.28,
          null,
          null,
          9.74,
          10.99,
          9.88,
          9.73,
          11.09,
          12.49,
          9.4,
          null,
          9.56,
          9.7,
          12.05,
          9.3,
          9.19,
          12.41,
          10.57,
          9.77,
          12.51,
          10.45,
          10.32,
          9.51,
          9.42,
          9.99,
          10.18,
          9.87,
          11.25,
          10.01,
          9.33,
          10.76,
          9.93,
          10.72,
          11.99,
          9.8,
          9.98,
          11.15,
          8.73,
          11.68,
          10.83,
          10.23,
          13.19,
          null,
          10.39,
          9.46,
          9.59,
          14.27,
          10.64,
          11.84,
          10.05,
          10.36,
          null,
          8.96,
          11.24,
          9.54,
          11.79,
          10.03,
          9.23,
          9.01,
          11.97,
          11.91,
          12.45,
          10.68,
          9.84,
          8.84,
          10.1,
          9.95,
          null,
          10.22,
          11.49,
          10.53,
          null,
          9.87,
          null,
          null,
          10.04,
          null,
          11.55,
          10.42,
          null,
          9.07,
          11.05,
          11.4,
          10.3,
          9.55,
          9.83,
          9.57,
          10.18,
          8.81,
          9.8,
          9.58,
          10.32,
          10.7,
          10.1,
          10.17,
          11.49,
          null,
          9.66,
          null,
          12.02,
          10.36,
          null,
          10.38,
          10.61,
          null,
          8.89,
          8.47,
          12.4,
          9.41,
          8.5,
          null,
          12.28,
          10.35,
          9.62,
          13.53,
          9.99,
          9.55,
          null,
          10.32,
          9.99,
          12.44,
          null,
          null,
          10.28,
          8.58,
          9.37,
          null,
          9.75,
          12.24,
          10.43,
          11.89,
          9.41,
          11.7,
          11.95,
          8.77,
          11.19,
          null,
          10.59,
          9.56,
          9.14,
          9.82,
          null,
          9.92,
          9.96,
          9.77,
          9,
          11.29,
          11.49,
          11.04,
          9.12,
          9.95,
          9.09,
          10.3,
          9.84,
          9.71,
          9.47,
          11.31,
          null,
          null,
          8.48,
          11.43,
          10.61,
          10.79,
          8.52,
          10.28,
          8.97,
          8.96,
          9.99,
          8.74,
          11.29,
          10.53,
          10.54,
          11.53,
          9.27,
          8.46,
          8.31,
          null,
          null,
          9.42,
          null,
          10.57,
          10.41,
          9.21,
          9.77,
          10.98,
          11.69,
          9.84,
          10.85,
          null,
          12.35,
          10.09,
          10.18,
          10.14,
          8.32,
          9.69,
          11.23,
          11.22,
          11.03,
          10.22,
          9.86,
          10.34,
          9.87,
          8.71,
          null,
          10.39,
          11.87,
          10.8,
          9.19,
          8.75,
          null,
          9.63,
          10.3,
          11.26,
          9.59,
          10.59,
          10.29,
          10.8,
          10.18,
          13.57,
          10.98,
          8.73,
          null,
          10.94,
          10.68,
          null,
          12.14,
          11.63,
          9.87,
          8.25,
          9.75,
          null,
          10.68,
          null,
          null,
          10.39,
          9,
          11.65,
          9.14,
          11.61,
          null,
          null,
          9.74,
          9.35,
          10.31,
          9.93,
          9.83,
          10.81,
          9.5,
          9.88,
          10.56,
          10.85,
          null,
          11.5,
          11.22,
          9.61,
          11.82,
          12,
          9.46,
          11.07,
          null,
          9.53,
          9.34,
          null,
          9.02,
          11.47,
          9.32,
          11.13,
          10.16,
          10.26,
          10.94,
          11.01,
          8.1,
          12.53,
          9.62,
          9.8,
          null,
          12.06,
          10.42,
          null,
          10.38,
          8.89,
          11.51,
          9.43,
          9.4,
          9.96,
          13.31,
          9.81,
          9.99,
          10.42,
          9.94,
          8.84,
          null,
          11.43,
          10.1,
          10.78,
          null,
          null,
          null,
          9.49,
          9.45,
          9.87,
          11.27,
          9.35,
          8.6,
          9.87,
          9.63,
          9.14,
          10.32,
          null,
          null,
          10.54,
          11.04,
          9.86,
          11.38,
          9.54,
          8.99,
          8.81,
          10.35,
          8.75,
          null,
          8.96,
          10.56,
          null,
          9.88,
          null,
          8.89,
          9.13,
          null,
          8.83,
          9.63,
          9.68,
          null,
          11.22,
          10.1,
          null,
          null,
          10.52,
          9.95,
          9.47,
          10.91,
          9,
          11.73,
          10.1,
          11.52,
          9.47,
          10.22,
          10.25,
          null,
          10.39,
          9.81,
          9.7,
          null,
          null,
          11.29,
          null,
          9.32,
          null,
          10.18,
          8.96,
          null,
          9.96,
          8.89,
          null,
          9.25,
          11.34,
          11.06,
          8.96,
          9.89,
          10.42,
          null,
          null,
          9.23,
          9.46,
          8.74,
          11.02,
          8.81,
          null,
          9.7,
          12.07,
          10.59,
          9.5,
          8.12,
          9.05,
          9.72,
          9.63,
          null,
          null,
          9.52,
          null,
          10.2,
          11.34,
          12.22,
          9,
          13.31,
          11.58,
          12.09,
          8.75,
          null,
          9.22,
          10.02,
          10.9,
          9.22,
          9.39,
          8.46,
          9.8,
          9.6,
          9.92,
          11.57,
          9.23,
          8.87,
          null,
          null,
          null,
          8.4,
          9.36,
          null,
          9.39,
          10.37,
          10.34,
          null,
          9.34,
          10.9,
          10.99,
          null,
          9.37,
          10.17,
          11.06
         ]
        },
        {
         "marker": {
          "color": "orange"
         },
         "name": "High Adjusted Grade",
         "opacity": 0.75,
         "type": "histogram",
         "x": [
          18.75,
          18.74,
          18.75,
          18.76,
          18.73,
          18.75,
          18.74,
          18.62,
          18.64,
          18.73,
          18.64,
          18.65,
          18.51,
          18.5,
          18.59,
          18.56,
          18.64,
          18.6,
          18.76,
          null,
          18.64,
          18.64,
          18.19,
          18.45,
          18.74,
          18.42,
          18.27,
          18.43,
          18.63,
          18.38,
          18.56,
          18.54,
          17.69,
          18.44,
          18.2,
          17.93,
          18.46,
          18.2,
          17.96,
          18.59,
          18.48,
          18.26,
          18.29,
          18.41,
          17.79,
          18.33,
          18.45,
          null,
          18.48,
          17.74,
          15.24,
          16.23,
          17.55,
          18.34,
          16.63,
          17.7,
          17.55,
          17.87,
          18.32,
          16.27,
          null,
          15.93,
          null,
          18.05,
          18.15,
          17.03,
          14.43,
          18.08,
          18.25,
          18.14,
          18.13,
          17.97,
          18.27,
          17.12,
          14.81,
          18.19,
          17.25,
          17.21,
          17.83,
          17.82,
          18.38,
          15.32,
          18.38,
          13.32,
          16.91,
          16.05,
          17.16,
          13.25,
          17.07,
          15.48,
          17.8,
          16.71,
          18.05,
          17.35,
          14.34,
          17.1,
          17.43,
          13.91,
          18.07,
          14.66,
          14.07,
          17.23,
          15.61,
          18.26,
          15.12,
          12.56,
          17.58,
          14.14,
          13.72,
          15.48,
          15.14,
          17.97,
          14.2,
          14.07,
          13.42,
          16.48,
          null,
          14.05,
          17.22,
          15.68,
          14.05,
          14.09,
          17.85,
          14.25,
          17.2,
          11.82,
          14.96,
          12.74,
          17.77,
          14.67,
          16.18,
          17.98,
          16.47,
          12.56,
          12.28,
          17.73,
          18.06,
          14.62,
          13.64,
          17.8,
          14.36,
          14.3,
          14.66,
          14.14,
          16.97,
          16.04,
          14.29,
          14.96,
          null,
          null,
          13.22,
          17.47,
          15.96,
          14.21,
          17.19,
          17.16,
          17.4,
          14.14,
          16.17,
          17.12,
          13.47,
          14.17,
          14.48,
          13.77,
          17.17,
          17.63,
          14.58,
          null,
          14.23,
          16.32,
          14.34,
          13.36,
          12.33,
          13.2,
          14.24,
          18.02,
          14.66,
          14.29,
          17.61,
          14.27,
          17.25,
          16.54,
          14.35,
          12.38,
          16.02,
          12.86,
          14.1,
          14.19,
          15.9,
          17.86,
          13.59,
          13.71,
          14.45,
          16.43,
          17.45,
          12.31,
          14.33,
          14.14,
          null,
          13.36,
          15.11,
          13.81,
          null,
          12.88,
          15.22,
          15.44,
          14.03,
          12.59,
          13.51,
          14.17,
          13.97,
          null,
          12.53,
          13.42,
          14.08,
          14.68,
          11.1,
          17.02,
          16.08,
          13.98,
          13.13,
          14.27,
          12.11,
          13.98,
          13.63,
          14.35,
          15.57,
          12.53,
          11.2,
          17.52,
          14.33,
          12.44,
          14.07,
          16.06,
          14.05,
          13.63,
          14.39,
          14.09,
          16.53,
          12.46,
          13.43,
          14.47,
          12.11,
          13.03,
          13.74,
          12.51,
          13.15,
          14.72,
          17.08,
          14.1,
          14.83,
          14,
          13.04,
          null,
          16.34,
          15.46,
          12.53,
          12.09,
          13.71,
          12.3,
          null,
          13.73,
          14.42,
          15.64,
          12.68,
          null,
          14.07,
          16.64,
          14.75,
          14.14,
          null,
          13.42,
          13.01,
          12.6,
          11.39,
          14.8,
          15.24,
          15.55,
          null,
          13.86,
          14.28,
          14.26,
          13.47,
          12.73,
          13.99,
          14.12,
          13.69,
          12.47,
          13.38,
          15.77,
          12.82,
          11.89,
          14.39,
          14.63,
          11.03,
          15.99,
          13.74,
          13.24,
          15.71,
          12.65,
          13.97,
          12.82,
          null,
          14.56,
          12.28,
          15.28,
          10.39,
          null,
          15.78,
          null,
          13.47,
          null,
          14.91,
          13.06,
          12.72,
          null,
          11.93,
          null,
          14.08,
          13.23,
          14.57,
          12.89,
          11.24,
          15.27,
          17.91,
          14.49,
          11.16,
          9.88,
          13.42,
          11.74,
          null,
          null,
          14.7,
          11.53,
          16.46,
          12.66,
          11.72,
          14.47,
          12.25,
          12.24,
          12.31,
          13.81,
          12.31,
          13.26,
          16.93,
          13.64,
          null,
          13.97,
          12.55,
          13.7,
          null,
          12.26,
          12.82,
          15.63,
          16.13,
          13.94,
          13.92,
          11.79,
          11.64,
          11.51,
          11.78,
          16.66,
          12.95,
          13.29,
          14.71,
          13.99,
          13.35,
          18.02,
          13.92,
          12.22,
          13.09,
          16.24,
          11.82,
          12.97,
          14.08,
          13.81,
          12.97,
          null,
          13.64,
          14.75,
          null,
          12.42,
          11.98,
          11.96,
          15.03,
          11.79,
          11.99,
          12.31,
          12.93,
          14.01,
          11.31,
          12.34,
          11.96,
          11.47,
          15.08,
          15.61,
          null,
          10.39,
          12.8,
          13.48,
          12.45,
          13.91,
          13.09,
          12.25,
          13.92,
          13.6,
          12.24,
          null,
          12.39,
          14.58,
          13.69,
          13.41,
          11.96,
          13.68,
          12.17,
          13.9,
          12.95,
          12.08,
          11.75,
          13.65,
          12.25,
          12.21,
          null,
          15.15,
          13.56,
          14.12,
          12.71,
          12.49,
          12.94,
          10.98,
          15.52,
          null,
          null,
          10.2,
          15.87,
          10.61,
          null,
          10.77,
          10,
          12.5,
          12.03,
          13.69,
          12.92,
          13.06,
          12.11,
          null,
          12.95,
          null,
          11.41,
          13.12,
          13.18,
          12.97,
          14.11,
          11.27,
          14.39,
          12.34,
          14.05,
          12.43,
          14.18,
          11.72,
          null,
          null,
          11.55,
          13.49,
          12.74,
          11.9,
          12.47,
          12.04,
          11.66,
          12.57,
          12.27,
          null,
          null,
          13.16,
          13.5,
          12.61,
          12.05,
          11.68,
          15.27,
          10.66,
          null,
          12.77,
          11.47,
          15.2,
          10.83,
          11.81,
          14.8,
          12.04,
          12.07,
          16.32,
          12.44,
          12.88,
          12.87,
          11.97,
          12.55,
          12.01,
          13.61,
          13.23,
          12.46,
          11.6,
          13.06,
          11.48,
          13.04,
          14.79,
          11.8,
          13.03,
          13.11,
          11.24,
          13.76,
          13.44,
          12.48,
          15.85,
          null,
          17.88,
          13.02,
          11.22,
          17.2,
          13.1,
          14.08,
          12.53,
          12.75,
          null,
          11.23,
          13.51,
          11.64,
          14.32,
          12.94,
          11.52,
          11.14,
          13.99,
          13.99,
          14.69,
          12.4,
          11.94,
          11.15,
          12.31,
          12.72,
          null,
          12.88,
          14.01,
          12.03,
          null,
          12.75,
          null,
          null,
          12.23,
          null,
          13.87,
          12.01,
          null,
          11.38,
          13.87,
          13.84,
          13,
          11.87,
          13.07,
          11.26,
          13.41,
          10.81,
          12.61,
          11.68,
          13.43,
          13.47,
          11.77,
          13.51,
          12.95,
          null,
          11.54,
          null,
          14.07,
          12.92,
          null,
          11.81,
          12.64,
          null,
          11.67,
          10.81,
          14.45,
          11.51,
          10.98,
          null,
          16.33,
          12.31,
          12.23,
          16.41,
          12.27,
          12.17,
          null,
          12.77,
          13.69,
          14.56,
          null,
          null,
          12.58,
          11.35,
          11.77,
          null,
          12.08,
          14.94,
          12.56,
          14.54,
          11.46,
          13.92,
          14.13,
          11.52,
          14.14,
          null,
          13.99,
          12.59,
          11.92,
          12.21,
          null,
          12.65,
          12.63,
          13.15,
          13.25,
          14.06,
          13.89,
          13.43,
          11.43,
          12.68,
          11.81,
          13.27,
          12.29,
          12.23,
          11.64,
          13.77,
          null,
          null,
          10.89,
          14.31,
          12.5,
          13.44,
          11.17,
          12.51,
          11.4,
          11.65,
          12.4,
          11.34,
          13.97,
          13.21,
          11.97,
          14,
          13.4,
          11.95,
          11.91,
          null,
          null,
          11.75,
          null,
          13.18,
          13.38,
          11.92,
          12.58,
          12.92,
          13.93,
          12.79,
          12.05,
          null,
          15.28,
          12.71,
          12.26,
          12.2,
          11.62,
          12.43,
          14.03,
          13.66,
          13.01,
          14.07,
          12.03,
          12.11,
          12.09,
          11,
          null,
          12.35,
          14.52,
          13.93,
          11.48,
          10.75,
          null,
          12.13,
          12.18,
          13.84,
          12.09,
          13.03,
          12.06,
          13.41,
          11.95,
          16.38,
          13.23,
          11.05,
          null,
          13,
          13.17,
          null,
          14.48,
          14.28,
          11.97,
          10.52,
          12.45,
          null,
          12.86,
          null,
          null,
          12.64,
          11.55,
          14.68,
          11.72,
          14.2,
          null,
          null,
          12.04,
          11.74,
          13.25,
          12.63,
          11.71,
          13.11,
          11.48,
          12.58,
          12.81,
          13.62,
          null,
          13.84,
          13.66,
          15.91,
          13.94,
          14.65,
          11.79,
          13.6,
          null,
          11.94,
          11.96,
          null,
          11.36,
          15.01,
          11.94,
          13.95,
          12.61,
          12.51,
          13.31,
          13.83,
          9.08,
          14.92,
          12.33,
          12.12,
          null,
          15.93,
          13.15,
          null,
          13.51,
          11.7,
          13.85,
          11.63,
          12.02,
          12.28,
          15.23,
          12.37,
          13.15,
          12.98,
          12.71,
          11.25,
          null,
          14.14,
          12.29,
          12.84,
          null,
          null,
          null,
          12.02,
          12.07,
          12.26,
          16.49,
          12.15,
          10.6,
          12.43,
          12.9,
          11.15,
          11.63,
          null,
          null,
          14.09,
          14.05,
          12.85,
          13.22,
          11.64,
          11.48,
          10.41,
          13.26,
          11.02,
          null,
          11.74,
          13.31,
          null,
          12.4,
          null,
          12.13,
          11.08,
          null,
          11.79,
          12.41,
          12.2,
          null,
          13.47,
          13.15,
          null,
          null,
          13.22,
          12.36,
          12.4,
          13.28,
          11.63,
          13.97,
          13.33,
          13.72,
          12.5,
          13.62,
          12.31,
          null,
          12.05,
          12.8,
          12.09,
          null,
          null,
          13.97,
          null,
          11.75,
          null,
          12.86,
          11.59,
          null,
          12.98,
          11.67,
          null,
          10.96,
          14.46,
          14.13,
          11.65,
          11.99,
          11.61,
          null,
          null,
          11.81,
          11.42,
          11.18,
          13.82,
          10.76,
          null,
          11.57,
          13.58,
          12.65,
          12.12,
          9.83,
          11.42,
          11.91,
          12.69,
          null,
          null,
          12.69,
          null,
          12.74,
          13.92,
          15.37,
          11.58,
          15.38,
          14.17,
          14.97,
          11.07,
          null,
          12.58,
          12.32,
          14.21,
          11.94,
          12.01,
          10.42,
          12.02,
          11.53,
          12.59,
          13.62,
          11.75,
          10.66,
          null,
          null,
          null,
          10.45,
          11.49,
          null,
          11.68,
          12.79,
          12.61,
          null,
          11.77,
          13.24,
          13.81,
          null,
          11.57,
          13.01,
          13.14
         ]
        }
       ],
       "layout": {
        "barmode": "overlay",
        "legend": {
         "title": {
          "text": "Type de note"
         }
        },
        "template": {
         "data": {
          "candlestick": [
           {
            "decreasing": {
             "line": {
              "color": "#000033"
             }
            },
            "increasing": {
             "line": {
              "color": "#000032"
             }
            },
            "type": "candlestick"
           }
          ],
          "contour": [
           {
            "colorscale": [
             [
              0,
              "#000011"
             ],
             [
              0.1111111111111111,
              "#000012"
             ],
             [
              0.2222222222222222,
              "#000013"
             ],
             [
              0.3333333333333333,
              "#000014"
             ],
             [
              0.4444444444444444,
              "#000015"
             ],
             [
              0.5555555555555556,
              "#000016"
             ],
             [
              0.6666666666666666,
              "#000017"
             ],
             [
              0.7777777777777778,
              "#000018"
             ],
             [
              0.8888888888888888,
              "#000019"
             ],
             [
              1,
              "#000020"
             ]
            ],
            "type": "contour"
           }
          ],
          "contourcarpet": [
           {
            "colorscale": [
             [
              0,
              "#000011"
             ],
             [
              0.1111111111111111,
              "#000012"
             ],
             [
              0.2222222222222222,
              "#000013"
             ],
             [
              0.3333333333333333,
              "#000014"
             ],
             [
              0.4444444444444444,
              "#000015"
             ],
             [
              0.5555555555555556,
              "#000016"
             ],
             [
              0.6666666666666666,
              "#000017"
             ],
             [
              0.7777777777777778,
              "#000018"
             ],
             [
              0.8888888888888888,
              "#000019"
             ],
             [
              1,
              "#000020"
             ]
            ],
            "type": "contourcarpet"
           }
          ],
          "heatmap": [
           {
            "colorscale": [
             [
              0,
              "#000011"
             ],
             [
              0.1111111111111111,
              "#000012"
             ],
             [
              0.2222222222222222,
              "#000013"
             ],
             [
              0.3333333333333333,
              "#000014"
             ],
             [
              0.4444444444444444,
              "#000015"
             ],
             [
              0.5555555555555556,
              "#000016"
             ],
             [
              0.6666666666666666,
              "#000017"
             ],
             [
              0.7777777777777778,
              "#000018"
             ],
             [
              0.8888888888888888,
              "#000019"
             ],
             [
              1,
              "#000020"
             ]
            ],
            "type": "heatmap"
           }
          ],
          "histogram2d": [
           {
            "colorscale": [
             [
              0,
              "#000011"
             ],
             [
              0.1111111111111111,
              "#000012"
             ],
             [
              0.2222222222222222,
              "#000013"
             ],
             [
              0.3333333333333333,
              "#000014"
             ],
             [
              0.4444444444444444,
              "#000015"
             ],
             [
              0.5555555555555556,
              "#000016"
             ],
             [
              0.6666666666666666,
              "#000017"
             ],
             [
              0.7777777777777778,
              "#000018"
             ],
             [
              0.8888888888888888,
              "#000019"
             ],
             [
              1,
              "#000020"
             ]
            ],
            "type": "histogram2d"
           }
          ],
          "icicle": [
           {
            "textfont": {
             "color": "white"
            },
            "type": "icicle"
           }
          ],
          "sankey": [
           {
            "textfont": {
             "color": "#000036"
            },
            "type": "sankey"
           }
          ],
          "scatter": [
           {
            "marker": {
             "line": {
              "width": 0
             }
            },
            "type": "scatter"
           }
          ],
          "table": [
           {
            "cells": {
             "fill": {
              "color": "#000038"
             },
             "font": {
              "color": "#000037"
             },
             "line": {
              "color": "#000039"
             }
            },
            "header": {
             "fill": {
              "color": "#000040"
             },
             "font": {
              "color": "#000036"
             },
             "line": {
              "color": "#000039"
             }
            },
            "type": "table"
           }
          ],
          "waterfall": [
           {
            "connector": {
             "line": {
              "color": "#000036",
              "width": 2
             }
            },
            "decreasing": {
             "marker": {
              "color": "#000033"
             }
            },
            "increasing": {
             "marker": {
              "color": "#000032"
             }
            },
            "totals": {
             "marker": {
              "color": "#000034"
             }
            },
            "type": "waterfall"
           }
          ]
         },
         "layout": {
          "coloraxis": {
           "colorscale": [
            [
             0,
             "#000011"
            ],
            [
             0.1111111111111111,
             "#000012"
            ],
            [
             0.2222222222222222,
             "#000013"
            ],
            [
             0.3333333333333333,
             "#000014"
            ],
            [
             0.4444444444444444,
             "#000015"
            ],
            [
             0.5555555555555556,
             "#000016"
            ],
            [
             0.6666666666666666,
             "#000017"
            ],
            [
             0.7777777777777778,
             "#000018"
            ],
            [
             0.8888888888888888,
             "#000019"
            ],
            [
             1,
             "#000020"
            ]
           ]
          },
          "colorscale": {
           "diverging": [
            [
             0,
             "#000021"
            ],
            [
             0.1,
             "#000022"
            ],
            [
             0.2,
             "#000023"
            ],
            [
             0.3,
             "#000024"
            ],
            [
             0.4,
             "#000025"
            ],
            [
             0.5,
             "#000026"
            ],
            [
             0.6,
             "#000027"
            ],
            [
             0.7,
             "#000028"
            ],
            [
             0.8,
             "#000029"
            ],
            [
             0.9,
             "#000030"
            ],
            [
             1,
             "#000031"
            ]
           ],
           "sequential": [
            [
             0,
             "#000011"
            ],
            [
             0.1111111111111111,
             "#000012"
            ],
            [
             0.2222222222222222,
             "#000013"
            ],
            [
             0.3333333333333333,
             "#000014"
            ],
            [
             0.4444444444444444,
             "#000015"
            ],
            [
             0.5555555555555556,
             "#000016"
            ],
            [
             0.6666666666666666,
             "#000017"
            ],
            [
             0.7777777777777778,
             "#000018"
            ],
            [
             0.8888888888888888,
             "#000019"
            ],
            [
             1,
             "#000020"
            ]
           ],
           "sequentialminus": [
            [
             0,
             "#000011"
            ],
            [
             0.1111111111111111,
             "#000012"
            ],
            [
             0.2222222222222222,
             "#000013"
            ],
            [
             0.3333333333333333,
             "#000014"
            ],
            [
             0.4444444444444444,
             "#000015"
            ],
            [
             0.5555555555555556,
             "#000016"
            ],
            [
             0.6666666666666666,
             "#000017"
            ],
            [
             0.7777777777777778,
             "#000018"
            ],
            [
             0.8888888888888888,
             "#000019"
            ],
            [
             1,
             "#000020"
            ]
           ]
          },
          "colorway": [
           "#000001",
           "#000002",
           "#000003",
           "#000004",
           "#000005",
           "#000006",
           "#000007",
           "#000008",
           "#000009",
           "#000010"
          ]
         }
        },
        "title": {
         "text": "Distribution des notes ajustées (Basses vs Hautes)"
        },
        "xaxis": {
         "title": {
          "text": "Notes ajustées"
         }
        },
        "yaxis": {
         "title": {
          "text": "Fréquence"
         }
        }
       }
      }
     },
     "metadata": {},
     "output_type": "display_data"
    }
   ],
   "source": [
    "from plots import plot_adjusted_grades_histogram\n",
    "df = pd.read_excel('final_dataset.xlsx')\n",
    "\n",
    "\n",
    "try:\n",
    "    fig_adjusted_grades = plot_adjusted_grades_histogram(df)\n",
    "    fig_adjusted_grades.show()\n",
    "except ValueError as e:\n",
    "    print(e)\n"
   ]
  },
  {
   "cell_type": "markdown",
   "metadata": {},
   "source": [
    "Le graphique suivant est interactif et l'on peut afficher le noms des universités concernées en cliquant sur la barre d'une majeure."
   ]
  },
  {
   "cell_type": "code",
   "execution_count": 36,
   "metadata": {},
   "outputs": [
    {
     "data": {
      "application/vnd.jupyter.widget-view+json": {
       "model_id": "0d5dc6ae1a4a4ead8807dc7e6f72a568",
       "version_major": 2,
       "version_minor": 0
      },
      "text/plain": [
       "FigureWidget({\n",
       "    'data': [{'customdata': array([list(['University of Southern California', 'Emory University', 'Washington and Lee University', 'Boston University', 'Northeastern University', 'Wake Forest University', 'Purdue University', 'University of Richmond', 'Babson College', 'Auburn University', 'North Carolina State University', 'Clemson University', 'Oklahoma State University', 'University of Iowa', 'Texas Tech University', 'Cal Poly San Luis Obispo', 'Mississippi State University', 'University of Missouri', 'Skidmore College', 'College of the Ozarks', 'Pepperdine University', 'The College of New Jersey', 'Lipscomb University', 'University of Missouri - Kansas City', 'University of Nebraska - Lincoln', 'University of Colorado Denver', 'Embry-Riddle Aeronautical University - Worldwide', 'Rhodes College', 'Chapman University', 'Lake Forest College', 'Hope College', 'Colorado State University', 'George Mason University', 'John Brown University', 'Truman State University', 'Muhlenberg College', 'University of Massachusetts Lowell', 'Berea College', 'University of Texas - Arlington', 'University of Charleston', 'Millsaps College', 'Taylor University', 'Indiana University - East', 'California Baptist University', 'University of Oregon', 'University of Dallas', 'The Catholic University of America', 'Huston-Tillotson University', 'Gonzaga University', 'University of North Carolina - Greensboro', 'Towson University', 'Rollins College', 'University of Houston - Victoria', 'California State University - Sacramento', 'Wisconsin Lutheran College', 'Citadel Military College of South Carolina', 'Boise State University', 'University of California - Riverside', 'Belhaven University', 'University of New Hampshire', 'Loras College', 'Fort Hays State University', 'University of Vermont', 'Tarleton State University', 'Montana State University', 'CUNY Brooklyn College', 'Earlham College', 'Montclair State University', 'Baldwin Wallace University', 'Saint Francis University', 'Indiana University Southeast', 'University of Nebraska at Kearney', 'Northern Kentucky University', 'University of the Incarnate Word', 'University of South Carolina Aiken', 'The University of Baltimore', 'Bob Jones University', 'Christopher Newport University', 'Southern Nazarene University', 'Northwestern College - Iowa', 'University of Wisconsin-Parkside', 'Western Carolina University', 'Loyola University Maryland', 'Southern Wesleyan University', 'Monroe College - Bronx/New Rochelle', 'Louisiana State University - Shreveport', 'University of Puget Sound', 'Husson University', 'St. Lawrence University', 'Stockton University', 'Friends University', 'California State University - Fresno', 'University of New Hampshire at Manchester', 'Metropolitan State University - Minnesota', 'University of Hawaii - West Oahu', 'University of Massachusetts Boston', 'University of New Mexico', 'California State University - Monterey Bay', 'Fresno Pacific University', 'St. Norbert College', 'Spring Hill College', 'Baker University', 'University of Mary Washington', 'Bay Path University', 'University of North Carolina at Pembroke', 'California State University - San Marcos', 'Roosevelt University', 'Coastal Carolina University', 'Wheeling University', 'University of Wisconsin-Eau Claire', 'University of West Georgia', 'Heidelberg University', 'Austin College', 'Southwestern University', 'Doane University', 'Webster University', 'Mayville State University', 'Brigham Young University-Idaho', 'Indiana University - South Bend', 'Maryville College', 'Monmouth University', 'Sul Ross State University', 'Transylvania University', 'Winthrop University', 'Minnesota State University Moorhead', 'Morehouse College', 'Youngstown State University', 'Sonoma State University', 'Shepherd University', 'University of La Verne', 'Southeastern Louisiana University', 'Washington College', 'University of Illinois Springfield', 'Lander University', 'Arkansas Tech University', 'University of the Ozarks', 'Elizabeth City State University', 'North Park University', 'University of Maine', 'California State University - Los Angeles', 'California State University - Dominguez Hills', 'Rider University', 'University of Mobile', 'Franklin University', 'Pfeiffer University', 'California State University - East Bay', 'McDaniel College', 'West Liberty University', 'Drew University', 'SUNY Empire State University', 'Dickinson State University', 'Trevecca Nazarene University', 'North Greenville University', 'Northwest Missouri State University', 'McMurry University', 'Purdue University Fort Wayne', 'Commonwealth University - Bloomsburg', 'High Point University', 'Ithaca College', 'Georgia Gwinnett College', 'Coe College', 'Longwood University', 'Roanoke College', 'Knox College', 'Kutztown University of Pennsylvania', 'South Texas College', 'Christian Brothers University', 'Young Harris College', 'Truett McConnell University', 'Marist College', 'Menlo College', 'Colorado Mesa University', 'Carthage College', 'Thomas More University', 'Chadron State College', 'Faulkner University', 'Johnson C. Smith University', 'Westminster College - Pennsylvania', 'Utah Valley University', 'University of Hawaii at Hilo', 'Cleary University', 'Oglala Lakota College', 'Eastern Connecticut State University', 'SUNY Oswego', 'Morningside University', 'Western Colorado University', 'George Fox University', 'Huntingdon College', 'Ohio Dominican University', 'Southern Oregon University', 'University of Arkansas at Fort Smith', 'Florida Southern College', 'Bemidji State University', 'Upper Iowa University', 'University of Jamestown', 'Carson-Newman University', 'Illinois College', 'Hope International University', 'LeMoyne-Owen College', 'Park University', 'University of Florida-Online', 'Wright State University', 'Malone University', 'Clarke University', 'Buena Vista University', 'Campbell University', 'University of Wisconsin - Stout']),\n",
       "                                   list(['University of Rochester', 'University of Alabama - Birmingham', 'University of Mississippi', 'Drexel University', 'Union University', 'College of Saint Mary', 'Point Loma Nazarene University', 'National University', 'University of West Florida', 'William Carey University', 'Baylor University', 'University of Wyoming', 'Creighton University', 'Mississippi College', 'Illinois Wesleyan University', 'Nevada State University', 'Cedarville University', 'Saint Louis University', 'University of Texas - Tyler', 'Samford University', 'Andrews University', 'Indiana University Indianapolis', 'Augustana University', 'Nova Southeastern University', 'The University of Alabama in Huntsville', 'University of Louisville', 'Mercer University', 'Pittsburg State University', 'North Dakota State University', 'Thomas Jefferson University', 'Oklahoma City University', 'Augusta University', 'University of South Alabama', 'University of North Carolina - Wilmington', 'University of Portland', 'Tennessee Technological University', 'Luther College', 'University of South Dakota', 'University of San Francisco', 'South Dakota State University', 'Jacksonville University', 'University of Scranton', 'Rockhurst University', 'Seattle University', 'Loyola University Chicago', 'Marshall University', 'East Tennessee State University', 'Indiana University - Kokomo', 'Lincoln Memorial University', 'Molloy University', 'Trinity Christian College', 'Azusa Pacific University', 'Lee University', 'Seattle Pacific University', 'Southwestern Oklahoma State University', 'Bradley University', 'Mississippi University for Women', 'New Mexico State University', 'Maryville University', 'Northwest University', 'University of Louisiana at Lafayette', 'Salve Regina University', 'East Carolina University', 'Lubbock Christian University', 'Indiana University - Northwest', 'Pacific Lutheran University', 'Purdue University Northwest', 'Anderson University - South Carolina', 'University of Texas - El Paso', 'Winston-Salem State University', 'Marian University Indianapolis', 'University of Arkansas at Little Rock', 'Oakland University', 'Southwestern Adventist University', 'University of Rhode Island', 'University of South Carolina - Upstate', 'Jacksonville State University', 'Minot State University', 'Avila University', 'University of Saint Joseph', 'William Paterson University of New Jersey', 'Simmons University', 'University of Detroit Mercy', 'MidAmerica Nazarene University', 'Southern Illinois University Edwardsville', 'Elms College', 'Marymount University', 'Marywood University', 'University of Southern Indiana', 'University of Michigan - Flint', 'University of North Alabama', 'Westminster University - Utah', 'Georgia Southern University', 'Queens University of Charlotte', 'Spalding University', 'Eastern Mennonite University', 'Regis University', 'Walla Walla University', 'Chaminade University of Honolulu', 'Northwest Nazarene University', 'Midwestern State University', 'University of Lynchburg', 'University of Pikeville', 'Shenandoah University', 'Adelphi University', 'Bethel University - Minnesota', 'Indiana Wesleyan University-Marion', 'Saint Elizabeth University', 'Barry University', 'Fayetteville State University', 'Huntington University', 'University of Toledo', 'Auburn University at Montgomery', 'Winona State University', 'Alverno College', 'Misericordia University', 'Washburn University', 'Mount Marty University', 'Pacific Union College', 'Southern Adventist University', 'South College - Knoxville', 'Lewis-Clark State College', 'Tennessee Wesleyan University', 'Messiah University', 'Madonna University', 'Saginaw Valley State University', 'Kent State University', 'Utica University', 'Xavier University', 'Abraham Baldwin Agricultural College', 'Otterbein University', 'Warner Pacific University', 'Linfield University', 'Carlow University', 'Rhode Island College', 'The College of St. Scholastica', 'Weber State University', 'Dominican University of California', 'Tuskegee University', 'University of Sioux Falls', 'Roberts Wesleyan University', 'William Jewell College', 'Stevenson University', 'Bellarmine University', 'Louisiana Christian University', 'University of Saint Francis - Indiana', 'King University - Tennessee', 'Moravian University', 'Wilkes University', 'Valparaiso University', 'Fairmont State University', 'Goshen College', 'Gardner-Webb University', 'Gwynedd Mercy University', 'Widener University', 'Dakota Wesleyan University', 'West Coast University - Orange County', 'Piedmont University', 'Bethel University - Indiana', 'Santa Fe College', 'Colorado State University Pueblo', 'Pace University', 'Oklahoma Baptist University', 'Frostburg State University', 'Southern Utah University', 'Lourdes University', 'Houston Christian University', 'Miami University - Hamilton', 'Walsh University', 'ECPI University', 'Francis Marion University', 'La Salle University', 'Rockford University', 'Saint Anselm College', 'McKendree University', 'PennWest California', 'Oklahoma Christian University', 'Graceland University', 'St. Francis College', 'University of South Carolina Beaufort', 'University of the Virgin Islands', 'Indiana State University', 'Western Kentucky University', 'Mount Mercy University', 'Penn State Scranton', 'Delaware State University', 'Charleston Southern University', 'Oklahoma Wesleyan University', 'Olivet Nazarene University', 'Union College - Kentucky', 'Baker College', 'Texas Lutheran University', 'Indiana University of Pennsylvania', 'Dominican University New York', 'Anderson University - Indiana', 'SUNY Brockport']),\n",
       "                                   list(['University of Florida', 'Florida State University', 'Wesleyan University', 'University of South Florida', 'Tulane University', 'University of Massachusetts Amherst', 'University of Oklahoma', 'Bryn Mawr College', 'California State University - Long Beach', 'College of the Holy Cross', 'The University of Kansas', 'University of Connecticut', 'Washington State University', 'CUNY John Jay College of Criminal Justice', 'University of Arizona', 'Loyola Marymount University', 'San Diego State University', 'University of Idaho', 'University of Houston', 'University of Illinois Chicago', 'Wayne State University', 'Biola University', 'Stony Brook University', 'Hendrix College', 'Temple University', 'University of Colorado Boulder', 'Virginia Commonwealth University', 'University of North Texas', 'Clark University', 'Texas State University', 'California State University - Fullerton', 'Gustavus Adolphus College', 'Appalachian State University', 'University of Texas - Permian Basin', 'Elmhurst University', 'California State University - Stanislaus', 'Whitworth University', 'Mid-America Christian University', 'The University of Texas at San Antonio', 'University of Hawaii at Manoa', 'Regent University', 'Georgia State University', 'Spelman College', 'California State University - Northridge', 'Kean University', 'Rowan University', 'California State Polytechnic University - Pomona', 'California State University - Channel Islands', 'Kennesaw State University', 'University of Denver', 'Vanguard University of Southern California', 'University of Minnesota Morris', 'University of Louisiana - Monroe', 'Gallaudet University', 'University of Minnesota Duluth', 'University of Central Arkansas', 'Central Michigan University', 'SUNY Oneonta', 'Loyola University New Orleans', 'Portland State University', 'Le Moyne College', 'CUNY City College of New York', 'Hanover College', 'San Francisco State University', 'CUNY Queens College', 'Missouri State University', 'Colorado Christian University', 'CUNY Hunter College', 'Milligan University', 'Northern Illinois University', 'University of North Carolina Asheville', 'Cleveland State University', 'North Central College', 'Western Washington University', 'Old Dominion University', 'University of Washington - Tacoma', 'Susquehanna University', 'California Lutheran University', 'SUNY Fredonia', 'Simpson University', 'Wheaton College - Massachusetts', 'Claflin University', 'Eastern Washington University', 'Arizona State University - Online', 'Nazareth University', 'Goucher College', 'Hamline University', 'Mount Mary University', 'Thomas College']),\n",
       "                                   list(['Vanderbilt University', 'New York University', 'Florida International University', 'Eastern New Mexico University', 'Florida College', 'Florida Atlantic University', 'Florida Gulf Coast University', 'Abilene Christian University', 'University of North Florida', 'West Virginia University', 'University of Houston - Clear Lake', 'Southern Arkansas University', 'University of Alaska Fairbanks', 'University of Nebraska at Omaha', 'Ball State University', 'Troy University', 'New College of Florida', 'University of Central Oklahoma', 'Murray State University', 'Thomas Aquinas College', 'Louisiana State University - Alexandria', 'Angelo State University', 'University of the Cumberlands', 'Northern Arizona University', 'University of Tennessee at Martin', 'SUNY Farmingdale State College', 'Middle Tennessee State University', 'University of North Texas at Dallas', 'The University of West Alabama', 'Clayton State University', 'Touro University', 'Eastern Illinois University', 'Arkansas State University', 'Southeastern Oklahoma State University', 'Nicholls State University', 'Chicago State University', 'University of Houston - Downtown', 'University of North Georgia', 'Skyline College - San Bruno', 'Western New Mexico University', 'University of Montana', 'University of Wisconsin - Whitewater', 'Fairleigh Dickinson University - Metropolitan Campus', 'Governors State University', 'Idaho State University', 'West Virginia University at Parkersburg', 'Austin Peay State University', 'Florida Polytechnic University', 'Eastern Kentucky University', 'University of Wisconsin - Oshkosh', 'Bismarck State College', 'McNeese State University', 'Southern Connecticut State University', 'The University of Akron', 'Northern Michigan University', 'Oakland City University', 'Southeast Missouri State University', 'University of Arkansas at Monticello', 'Morehead State University', 'Lamar University', 'Texas Wesleyan University']),\n",
       "                                   list(['Yale University', 'Dartmouth College', 'Northwestern University', 'University of California - Los Angeles', 'University of Michigan - Ann Arbor', 'Claremont McKenna College', 'University of Chicago', 'University of Virginia', 'Williams College', 'Swarthmore College', 'Davidson College', 'Barnard College', 'Boston College', 'Wellesley College', 'Middlebury College', 'Amherst College', 'Hamilton College', 'Colgate University', 'Vassar College', 'Colby College', 'Bucknell University', 'Colorado College', 'Trinity College - Connecticut', 'Occidental College', 'Denison University', 'Lafayette College', 'Union College - New York', 'Dickinson College', 'Connecticut College', 'Sewanee - The University of the South', 'Utah State University', 'DePauw University', 'Centre College', 'Hobart and William Smith', 'Willamette University']),\n",
       "                                   list(['Tufts University', 'University of Georgia', 'University of California - Irvine', 'Haverford College', 'University of California - San Diego', 'Carleton College', 'Arizona State University', 'Binghamton University, SUNY', 'Brandeis University', 'Louisiana Tech University', 'St. Olaf College', 'Alcorn State University', 'Whitman College', 'University of the Pacific', 'Wofford College', 'Seton Hall University', 'University of Wisconsin - La Crosse', 'Scripps College', 'Augustana College - Illinois', 'Meredith College', 'Kalamazoo College', 'Concordia College', 'University of California - Merced', 'Northern State University', 'Fisk University', 'Centenary College of Louisiana', 'Saint Vincent College - Pennsylvania', 'University of New Orleans', 'Jackson State University', 'West Virginia University Institute of Technology', 'Life University', 'Juniata College', 'University of Arkansas at Pine Bluff']),\n",
       "                                   list(['Massachusetts Institute of Technology', 'Stanford University', 'Columbia University', 'Brown University', 'Princeton University', 'Duke University', 'Washington University in St. Louis', 'Pomona College', 'Carnegie Mellon University', 'California Institute of Technology', 'Cornell University', 'University of California - Berkeley', 'Case Western Reserve University', 'University of Maryland - College Park', 'University of Minnesota Twin Cities', 'Grinnell College', 'Oregon State University', 'Rensselaer Polytechnic Institute', 'Rochester Institute of Technology', 'University of North Carolina at Charlotte', 'University of California - Santa Cruz', 'Northeastern Illinois University', 'Illinois Institute of Technology', 'University of Washington - Bothell', 'Lewis University']),\n",
       "                                   list(['University of Pennsylvania', 'University of Notre Dame', 'University of Miami', 'Lehigh University', 'Villanova University', 'The Ohio State University', 'Texas Christian University', 'University of South Carolina', 'Santa Clara University', 'University of San Diego', 'University of Arkansas', 'University of Delaware', 'Rutgers University - Newark', 'Bentley University', 'DePaul University', 'CUNY Baruch College', 'Providence College', 'Miami University', 'University of Tampa', 'Bryant University', 'Fordham University', 'John Carroll University']),\n",
       "                                   list(['Colorado School of Mines', 'New Mexico Tech', 'Michigan Technological University', 'Iowa State University', 'University of Dayton', 'Stevens Institute of Technology', 'Rose-Hulman Institute of Technology', 'Worcester Polytechnic Institute', 'South Dakota School of Mines and Technology', 'The University of Tulsa', 'Missouri University of Science and Technology', 'Ohio Northern University', 'University of Michigan - Dearborn', 'Clarkson University', 'Montana Technological University', 'Milwaukee School of Engineering', 'Lawrence Technological University', 'Kettering University', 'University of Wisconsin - Platteville']),\n",
       "                                   list(['Harding University', 'University of Southern Mississippi', 'Valley City State University', 'Dordt University', 'University of Northern Iowa', 'University of Central Missouri', 'Martin Luther College', 'Evangel University', 'Wichita State University', 'Emporia State University', 'Illinois State University', 'Newman University', 'University of Montevallo', 'Georgia Southwestern State University', 'Blue Mountain Christian University', 'University of Maine at Farmington', 'Central Washington University']),\n",
       "                                   list(['University of Illinois Urbana-Champaign', 'University of Washington', 'University of California - Davis', 'Bates College', 'University of Pittsburgh', 'University of Utah', 'Mount Holyoke College', 'University of Tennessee', 'Northeastern State University', 'Agnes Scott College', 'Gordon College', 'Metropolitan State University of Denver', 'Albion College']),\n",
       "                                   list(['Rice University', 'Georgia Institute of Technology', 'University of Wisconsin-Madison', 'Penn State', 'Syracuse University', 'New Jersey Institute of Technology', 'University of Texas - Dallas', 'Southern New Hampshire University', 'New York Institute of Technology']),\n",
       "                                   list(['Georgetown University', 'Bowdoin College', 'Reed College', 'Smith College', 'Pitzer College', 'College of Wooster', 'Gettysburg College', 'Howard University']),\n",
       "                                   list(['The University of Alabama', 'University of Cincinnati', 'Drake University', 'St. Bonaventure University', 'Butler University', 'University of Wisconsin - Milwaukee', 'Western Michigan University', 'Suffolk University']),\n",
       "                                   list(['University of North Carolina at Chapel Hill', 'Furman University', 'University of Kentucky', 'Ouachita Baptist University', 'Ohio University', 'Salisbury University', 'College of Charleston', 'Lasell University']),\n",
       "                                   list(['Louisiana State University', 'East Central University', 'University of Evansville', 'Delta State University', 'SUNY Cortland']),\n",
       "                                   list(['Heritage University', 'Spring Arbor University', 'Brescia University', 'Aurora University', 'Our Lady of the Lake University']),\n",
       "                                   list(['University of Texas Rio Grande Valley', 'Thomas University', 'Western Illinois University', 'Lake Superior State University']),\n",
       "                                   list(['Wheaton College - Illinois', 'Hampden-Sydney College', 'Beloit College', 'Westmont College']),\n",
       "                                   list(['University of Central Florida', 'Stetson University', 'Muskingum University', 'University of Minnesota Rochester'])],\n",
       "                                  dtype=object),\n",
       "              'hovertemplate': '<b>%{y}</b><br>Number of Universities: %{x}<extra></extra>',\n",
       "              'marker': {'color': [#636EFA, #EF553B, #00CC96, #AB63FA, #FFA15A,\n",
       "                                   #19D3F3, #FF6692, #B6E880, #FF97FF, #FECB52,\n",
       "                                   #636EFA, #EF553B, #00CC96, #AB63FA, #FFA15A,\n",
       "                                   #19D3F3, #FF6692, #B6E880, #FF97FF, #FECB52]},\n",
       "              'orientation': 'h',\n",
       "              'text': array([207., 196.,  89.,  61.,  35.,  33.,  25.,  22.,  19.,  17.,  13.,   9.,\n",
       "                               8.,   8.,   8.,   5.,   5.,   4.,   4.,   4.]),\n",
       "              'type': 'bar',\n",
       "              'uid': '9b792ed3-6a2a-4c5e-83f1-59ca01e96495',\n",
       "              'x': array([207, 196,  89,  61,  35,  33,  25,  22,  19,  17,  13,   9,   8,   8,\n",
       "                            8,   5,   5,   4,   4,   4]),\n",
       "              'y': array(['Business', 'Nursing', 'Psychology', 'Liberal Arts and Humanities',\n",
       "                          'Economics', 'Biology', 'Computer Science', 'Finance',\n",
       "                          'Mechanical Engineering', 'Elementary Education',\n",
       "                          'Research and Experimental Psychology', 'Information Science',\n",
       "                          'Political Science and Government', 'Marketing', 'Communications',\n",
       "                          'Physical Education Teaching and Coaching',\n",
       "                          'Social Work and Youth Services',\n",
       "                          'Criminal Justice and Law Enforcement Administration',\n",
       "                          'Managerial Economics', 'Health Service Preparatory Studies'],\n",
       "                         dtype=object)}],\n",
       "    'layout': {'autosize': False,\n",
       "               'height': 600,\n",
       "               'hoverlabel': {'bgcolor': 'white', 'font': {'family': 'Arial', 'size': 12}},\n",
       "               'margin': {'b': 50, 'l': 250, 'r': 50, 't': 50},\n",
       "               'template': '...',\n",
       "               'title': {'text': 'Most Popular Top Majors Across Universities'},\n",
       "               'width': 900,\n",
       "               'xaxis': {'title': {'text': 'Number of Universities'}},\n",
       "               'yaxis': {'automargin': True, 'categoryorder': 'total ascending', 'title': {'text': 'Major'}}}\n",
       "})"
      ]
     },
     "metadata": {},
     "output_type": "display_data"
    },
    {
     "data": {
      "application/vnd.jupyter.widget-view+json": {
       "model_id": "448293dcc4db492fb17d3192a4b7aa1a",
       "version_major": 2,
       "version_minor": 0
      },
      "text/plain": [
       "Output()"
      ]
     },
     "metadata": {},
     "output_type": "display_data"
    }
   ],
   "source": [
    "from plots import plot_top_majors\n",
    "\n",
    "# Plot the chart\n",
    "plot_top_majors(df, max_majors=20)"
   ]
  },
  {
   "cell_type": "markdown",
   "metadata": {},
   "source": [
    "Le graphique suivant est interactif et l'on peut afficher le noms des universités concernées en cliquant sur la barre d'une majeure."
   ]
  },
  {
   "cell_type": "code",
   "execution_count": 37,
   "metadata": {},
   "outputs": [
    {
     "data": {
      "application/vnd.jupyter.widget-view+json": {
       "model_id": "360ef7aa181f4ac6aa690a750456d42f",
       "version_major": 2,
       "version_minor": 0
      },
      "text/plain": [
       "FigureWidget({\n",
       "    'data': [{'customdata': array([list(['Massachusetts Institute of Technology', 'Yale University', 'Stanford University', 'Harvard University', 'Dartmouth College', 'Columbia University', 'Brown University', 'Rice University', 'Vanderbilt University', 'Princeton University', 'University of Pennsylvania', 'Duke University', 'Georgetown University', 'Harvey Mudd College', 'Washington University in St. Louis', 'Pomona College', 'Northwestern University', 'Carnegie Mellon University', 'California Institute of Technology', 'Cornell University', 'Johns Hopkins University', 'Claremont McKenna College', 'University of Chicago', 'University of Notre Dame', 'University of Virginia', 'University of Southern California', 'Williams College', 'Georgia Institute of Technology', 'Swarthmore College', 'Bowdoin College', 'University of Florida', 'Emory University', 'University of North Carolina at Chapel Hill', 'Davidson College', 'Barnard College', 'Washington and Lee University', 'Boston University', 'New York University', 'Northeastern University', 'Boston College', 'Wellesley College', 'Middlebury College', 'Tufts University', 'Wake Forest University', 'Amherst College', 'University of Illinois Urbana-Champaign', 'University of Georgia', 'University of Miami', 'Hamilton College', 'University of Wisconsin-Madison', 'Lehigh University', 'Villanova University', 'Haverford College', 'Virginia Tech', 'Wesleyan University', 'The Cooper Union for the Advancement of Science and Art', 'Purdue University', 'Tulane University', 'Colgate University', 'Bates College', 'University of Richmond', 'Babson College', 'Vassar College', 'Case Western Reserve University', 'The Ohio State University', 'University of Maryland - College Park', 'Macalester College', 'Colby College', 'Carleton College', 'North Carolina State University', 'Colorado School of Mines', 'Smith College', 'University of Minnesota Twin Cities', 'University of Massachusetts Amherst', 'George Washington University', 'University of Rochester', 'Bucknell University', 'Grinnell College', 'Colorado College', 'Bryn Mawr College', 'College of the Holy Cross', 'Pitzer College', 'Kenyon College', 'Trinity College - Connecticut', 'Binghamton University, SUNY', 'Brandeis University', 'University of Connecticut', 'Mount Holyoke College', 'Occidental College', 'Loyola Marymount University', 'Drexel University', 'Wheaton College - Illinois', 'Denison University', 'Lafayette College', 'Furman University', 'Skidmore College', 'University of Delaware', 'St. Olaf College', 'Rensselaer Polytechnic Institute', 'Syracuse University', 'Rhode Island School of Design', 'Stony Brook University', 'Pepperdine University', 'American University', 'Union College - New York', 'University of Colorado Boulder', 'James Madison University', 'Dickinson College', 'Rhodes College', 'Bentley University', 'Chapman University', 'Connecticut College', 'Colorado State University', 'Rochester Institute of Technology', 'Whitman College', 'University of the Pacific', 'Clark University', 'Fashion Institute of Technology', 'University of San Francisco', 'Wofford College', 'University of Oregon', 'Seattle University', 'Scripps College', 'Gettysburg College', 'University of Hawaii at Manoa', 'Providence College', 'Lawrence University', 'Clarkson University', 'Oberlin College', 'University of Vermont', 'Seattle Pacific University', 'California State University - Northridge', 'Northern Kentucky University', 'Salisbury University', 'University of Denver', 'Loyola University Maryland', 'University of Puget Sound', 'University of Washington - Bothell', 'Fordham University', 'Kalamazoo College', 'Berry College', 'Bard College', 'Pratt Institute', 'Emerson College', 'Beloit College', 'College of Charleston', 'Willamette University', 'Arizona State University - Downtown Phoenix Campus', 'Western Washington University', 'Westmont College', 'Elon University', 'California Lutheran University', 'The New School', 'Knox College', 'Wheaton College - Massachusetts', 'Arizona State University - Online', 'Goucher College', 'Hamline University']),\n",
       "                                   list(['University of Michigan - Ann Arbor', 'Trinity University', 'Auburn University', 'Florida International University', 'Oklahoma State University', 'Indiana University - Bloomington', 'Texas Christian University', 'University of Oklahoma', 'University of Dayton', 'CUNY John Jay College of Criminal Justice', 'Stevens Institute of Technology', 'Oregon State University', 'Yeshiva University', 'Rose-Hulman Institute of Technology', 'University of Illinois Chicago', 'Point Loma Nazarene University', 'United States Merchant Marine Academy', 'Worcester Polytechnic Institute', 'Hampden-Sydney College', 'The University of Tulsa', 'The College of New Jersey', 'Baylor University', 'University of Kentucky', 'Hendrix College', 'Temple University', 'Virginia Military Institute', 'Missouri University of Science and Technology', 'University of Texas Rio Grande Valley', 'DePaul University', 'Nova Southeastern University', 'Marquette University', 'Lake Forest College', 'George Mason University', 'Mercer University', 'University of North Carolina at Charlotte', 'CUNY Baruch College', 'Muhlenberg College', 'University of Massachusetts Lowell', 'College of Wooster', 'University of North Carolina - Wilmington', 'Sewanee - The University of the South', 'University of Portland', 'The Catholic University of America', 'DePauw University', 'Seton Hall University', 'Gonzaga University', 'Towson University', 'Rollins College', 'Centre College', 'University of New Hampshire', 'Butler University', 'Spelman College', 'CUNY Brooklyn College', 'Howard University', 'Salve Regina University', 'Miami University', 'University of Tampa', 'Bryant University', 'Illinois Institute of Technology', 'Christopher Newport University', 'Western Carolina University', 'University of Rhode Island', 'Simmons University', 'CUNY City College of New York', 'St. Lawrence University', 'Meredith College', 'Hanover College', 'University of Massachusetts Boston', 'Ramapo College of New Jersey', 'University of Mary Washington', 'Coastal Carolina University', 'University of North Georgia', 'University of Wisconsin-Eau Claire', 'Southwestern University', 'University of North Carolina Asheville', 'Webster University', 'Xavier University', 'Transylvania University', 'Morehouse College', 'Washington College', 'Alfred University', 'Bellarmine University', 'Gordon College', 'Allegheny College', 'McDaniel College', 'Drew University', 'Susquehanna University', 'Quinnipiac University', 'Ithaca College', 'Longwood University', 'Pace University', 'Frostburg State University', 'Marist College', 'Centenary College of Louisiana', 'Nazareth University', 'Saint Anselm College', 'Hollins University', 'DigiPen Institute of Technology', 'Delaware State University', 'Suffolk University']),\n",
       "                                   list(['Florida State University', 'University of South Florida', 'University of North Carolina School of the Arts', 'University of Cincinnati', 'Moody Bible Institute', 'Florida Gulf Coast University', 'Thomas Jefferson University', 'Berea College', 'Millsaps College', 'Drake University', 'University of Dallas', 'University of North Carolina - Greensboro', 'Earlham College', 'Montclair State University', 'Hobart and William Smith', 'Rowan University', 'Vanguard University of Southern California', 'University of Detroit Mercy', 'Bowling Green State University', 'Agnes Scott College', 'University of Hawaii - West Oahu', 'Austin College', 'Monmouth University', 'Rhode Island College', 'Stevenson University', 'University of Maine', 'Moravian University', 'High Point University', 'Coe College', 'Roanoke College', 'Florida Polytechnic University', 'Menlo College', 'Florida Southern College', 'Juniata College', 'Central Washington University']),\n",
       "                                   list(['University of Utah', 'University of North Florida', 'Augustana College - Illinois', 'Loyola University New Orleans', 'University of New Hampshire at Manchester', 'University of the Virgin Islands', 'LeMoyne-Owen College']),\n",
       "                                   list(['University of Central Florida', 'Clemson University', 'Texas Tech University', 'University of Arizona', 'Creighton University', 'University of Nebraska - Lincoln', 'Huston-Tillotson University', 'Martin Luther College', 'Southern Illinois University Edwardsville', 'San Francisco State University', 'Skyline College - San Bruno', 'Georgia Gwinnett College', 'University of Connecticut - Hartford', 'Cornell College', 'Oklahoma Wesleyan University']),\n",
       "                                   list(['University of Alabama - Birmingham', 'University of Houston', 'University of Missouri - Kansas City', 'Indiana University Indianapolis', 'The University of Texas at San Antonio', 'SUNY Farmingdale State College', 'Winston-Salem State University', 'University of Houston - Downtown', 'Youngstown State University', 'Columbus State University']),\n",
       "                                   list(['Augusta University', 'Texas State University', 'University of Memphis', 'University of Louisiana at Lafayette', 'Kennesaw State University', 'Clayton State University', 'University of West Georgia', 'Tuskegee University', 'Elizabeth City State University', 'Georgia Southwestern State University', 'Piedmont University', 'Fisk University']),\n",
       "                                   list(['New Mexico Tech', 'Louisiana Tech University', 'Nevada State University', 'University of Houston - Clear Lake', 'University of Houston - Victoria', 'Tarleton State University', 'Northeastern Illinois University', 'Northwest University', 'Southwestern Adventist University', 'Mount Marty University', 'University of Wisconsin - Milwaukee', 'Indiana University - South Bend', 'Southeastern Louisiana University', 'Arkansas Tech University', 'SUNY Empire State University', 'Austin Peay State University', 'Eastern Kentucky University', 'Santa Fe College', 'McNeese State University', 'Miami University - Hamilton', 'Utah Valley University', 'University of Arkansas at Monticello']),\n",
       "                                   list(['Oregon Institute of Technology', 'Brigham Young University-Idaho']),\n",
       "                                   list(['University of California - Berkeley', 'University of Washington', 'Santa Clara University', 'University of Arkansas', 'California State Polytechnic University - Pomona', 'California State University - Monterey Bay', 'University of California - Merced']),\n",
       "                                   list(['University of California - Los Angeles', 'University of Texas - Austin', 'University of California - Irvine', 'University of California - Davis', 'University of California - San Diego', 'University of California - Santa Barbara', 'Reed College', 'Brigham Young University', 'University of South Carolina', 'California State University - Long Beach', 'University of San Diego', 'Cal Poly San Luis Obispo', 'San Diego State University', 'College of the Ozarks', 'University of Tennessee', 'Rutgers University - Newark', 'Louisiana State University', 'California State University - Fullerton', 'University of California - Santa Cruz', 'California State University - Stanislaus', 'California State University - Sacramento', 'University of California - Riverside', 'California State University - Channel Islands', 'Manhattan School of Music', 'California State University - Fresno', 'California State University - San Marcos', 'Sonoma State University', 'California State University - Los Angeles', 'California State University - Dominguez Hills', 'California State University - East Bay']),\n",
       "                                   list(['University of Pittsburgh', 'Michigan State University', 'Arizona State University', 'University of Iowa', 'University of Mississippi', 'Penn State', 'Wabash College', 'The University of Kansas', 'The University of Alabama', 'Michigan Technological University', 'Iowa State University', 'Eastern New Mexico University', 'Washington State University', 'Mississippi State University', 'University of South Florida - Sarasota-Manatee', 'University of Missouri', 'Union University', 'Kansas State University', 'College of Saint Mary', 'University of Idaho', 'Harding University', 'Wayne State University', 'National University', 'University of West Florida', 'Biola University', 'South Dakota School of Mines and Technology', 'William Carey University', 'New Jersey Institute of Technology', 'University of Minnesota Crookston', 'University of Wyoming', 'Lipscomb University', 'Mississippi College', 'Illinois Wesleyan University', 'University of Colorado Denver', 'Cedarville University', 'Embry-Riddle Aeronautical University - Worldwide', 'Stanbridge University - Orange County', 'Saint Louis University', 'University of Texas - Tyler', 'Florida Institute of Technology', 'Florida College', 'Samford University', 'Andrews University', 'Augustana University', 'University of Southern Mississippi', 'Virginia Commonwealth University', 'Ouachita Baptist University', 'Alcorn State University', 'Florida Atlantic University', 'Hope College', 'The University of Alabama in Huntsville', 'Ohio Northern University', 'St. Catherine University', 'University of Louisville', 'Pittsburg State University', 'University of North Texas', 'North Dakota State University', 'University of Michigan - Dearborn', 'Oral Roberts University', 'Oklahoma City University', 'John Brown University', 'University of North Dakota', 'Abilene Christian University', 'Truman State University', 'Everglades University', 'Gustavus Adolphus College', 'Appalachian State University', 'University of Texas - Arlington', 'University of South Alabama', 'Valley City State University', 'University of Charleston', 'Embry-Riddle Aeronautical University - Daytona Beach', 'Tennessee Technological University', 'Taylor University', 'Luther College', 'University of South Dakota', 'Indiana University - East', 'Ohio University', 'South Dakota State University', 'California Baptist University', 'University of Texas - Permian Basin', 'University of Texas - Dallas', 'Utah State University', 'Jacksonville University', 'West Virginia University', 'University of Scranton', 'Rockhurst University', 'Hallmark University', 'Yeshivath Viznitz', 'Grand Canyon University', 'Elmhurst University', 'St. Bonaventure University', 'University of Wisconsin - La Crosse', 'Southern Arkansas University', 'Whitworth University', 'Dordt University', 'University of Alaska Fairbanks', 'University of Nebraska at Omaha', 'LeTourneau University', 'East Central University', 'Ball State University', 'Troy University', 'Mid-America Christian University', 'National Louis University', 'Loyola University Chicago', 'Marshall University', 'New College of Florida', 'East Tennessee State University', 'Indiana University - Kokomo', 'Lincoln Memorial University', 'Wisconsin Lutheran College', 'Citadel Military College of South Carolina', 'Regent University', 'University of Central Oklahoma', 'Molloy University', 'Boise State University', 'Murray State University', 'Belhaven University', 'Thomas Aquinas College', 'University of Northern Iowa', 'Loras College', 'Louisiana State University - Alexandria', 'Trinity Christian College', 'Angelo State University', 'Azusa Pacific University', 'Georgia State University', 'Montana Technological University', 'Fort Hays State University', 'Lee University', 'Montana State University', 'Liberty University', 'Southwestern Oklahoma State University', 'Bradley University', 'Calvin University', 'Manchester University', 'Mississippi University for Women', 'University of the Cumberlands', 'New Mexico State University', 'Northern Arizona University', 'Columbia International University', 'University of Tennessee at Martin', 'Kean University', 'Northeastern State University', 'Embry-Riddle Aeronautical University - Prescott', 'Heritage University', 'Maryville University', 'Baldwin Wallace University', 'Saint Francis University', 'Indiana University Southeast', 'University of Evansville', 'Stetson University', 'University of Nebraska at Kearney', 'Drury University', 'East Carolina University', 'Lubbock Christian University', 'Middle Tennessee State University', 'Indiana University - Northwest', 'University of the Incarnate Word', 'Pacific Lutheran University', 'Purdue University Northwest', 'University of South Carolina Aiken', 'Grand Valley State University', 'Anderson University - South Carolina', 'University of Texas - El Paso', 'University of Central Missouri', 'Keiser University - Fort Lauderdale', 'University of North Texas at Dallas', 'The University of Baltimore', 'Bob Jones University', 'The University of West Alabama', 'Marian University Indianapolis', 'University of Arkansas at Little Rock', 'Oakland University', 'Thomas University', 'Southern Nazarene University', 'Northwestern College - Iowa', 'University of Wisconsin-Parkside', 'University of Minnesota Morris', 'University of Louisiana - Monroe', 'Gallaudet University', 'Johnson University', 'Manhattan University', 'University of Minnesota Duluth', 'Sam Houston State University', 'Touro University', 'Milwaukee School of Engineering', 'University of Central Arkansas', 'Central Michigan University', 'University of South Carolina - Upstate', 'Jacksonville State University', 'Minot State University', 'Eastern Illinois University', 'Evangel University', 'Southern Wesleyan University', 'Avila University', 'Monroe College - Bronx/New Rochelle', 'Wichita State University', 'University of Saint Joseph', 'William Paterson University of New Jersey', 'Slippery Rock University', 'Louisiana State University - Shreveport', 'Emporia State University', 'Union Adventist University', 'MidAmerica Nazarene University', 'Hofstra University', 'Elms College', 'Marymount University', 'Marywood University', 'University of Southern Indiana', 'University of Michigan - Flint', 'University of Montana - Western', 'Arkansas State University', 'University of North Alabama', 'SUNY Oneonta', 'Southeastern Oklahoma State University', 'Maine Maritime Academy', 'Nicholls State University', 'Westminster University - Utah', 'Georgia Southern University', 'Portland State University', 'Queens University of Charlotte', 'Spalding University', 'Le Moyne College', 'Husson University', 'Chicago State University', 'Eastern Mennonite University', 'Dakota State University', 'Stockton University', 'Illinois State University', 'Regis University', 'Walla Walla University', 'Western Illinois University', 'Chaminade University of Honolulu', 'Northwest Nazarene University', 'Midwestern State University', 'John Carroll University', 'Duquesne University', 'CUNY Queens College', 'Friends University', 'Spring Arbor University', 'University of Lynchburg', 'University of Pikeville', 'Shenandoah University', 'Adelphi University', 'Vermont State University Randolph and Williston', 'Missouri State University', 'Bethel University - Minnesota', 'Metropolitan State University - Minnesota', 'Indiana Wesleyan University-Marion', 'Colorado Christian University', 'Concordia College', 'Saint Elizabeth University', 'University of New Mexico', 'Fresno Pacific University', 'Barry University', 'St. Norbert College', 'Fayetteville State University', 'Huntington University', 'Lawrence Technological University', 'University of Toledo', 'Auburn University at Montgomery', 'Winona State University', 'Spring Hill College', 'Concordia University Wisconsin', 'Baker University', 'Niagara University', 'Alverno College', 'Bay Path University', 'Misericordia University', 'Washburn University', 'University of North Carolina at Pembroke', 'CUNY Hunter College', 'Roosevelt University', 'Milligan University', 'Wheeling University', 'Northern Illinois University', 'Smith Chason College', 'Pacific Union College', 'Southern Adventist University', 'South College - Knoxville', 'Newman University', 'Lewis-Clark State College', 'Heidelberg University', 'Tennessee Wesleyan University', 'The University of Tennessee at Chattanooga', 'Doane University', 'Cleveland State University', 'Messiah University', 'Brescia University', 'Madonna University', 'Saginaw Valley State University', 'Kent State University', 'University of Montevallo', 'Utica University', 'Mayville State University', 'Abraham Baldwin Agricultural College', 'Western Michigan University', 'Ferris State University', 'Otterbein University', 'Maryville College', 'Warner Pacific University', 'Western New Mexico University', 'Sul Ross State University', 'Linfield University', 'University of Montana', 'Carlow University', 'Lewis University', 'University of Wisconsin - Whitewater', 'Southern Illinois University Carbondale', 'Winthrop University', 'Minnesota State University Moorhead', 'North Central College', 'Delta State University', 'Northern State University', 'The College of St. Scholastica', 'Dunwoody College of Technology', 'Weber State University', 'Dominican University of California', 'Lasell University', 'Shepherd University', 'University of Sioux Falls', 'Roberts Wesleyan University', 'University of La Verne', 'William Jewell College', 'University of Illinois Springfield', 'Lake Superior State University', 'North Carolina Central University', 'Lander University', 'Old Dominion University', 'Northland College', 'University of the Ozarks', 'North Park University', 'Louisiana Christian University', 'University of Saint Francis - Indiana', 'Fairleigh Dickinson University - Metropolitan Campus', 'King University - Tennessee', 'Rider University', 'University of Washington - Tacoma', 'Central College', 'SUNY Plattsburgh', 'University of Mobile', 'West Chester University of Pennsylvania', 'Governors State University', 'Franklin University', 'Wilkes University', 'Pfeiffer University', 'Valparaiso University', 'Aurora University', 'Fairmont State University', 'Goshen College', 'University of Advancing Technology', 'Southeastern University', 'Gardner-Webb University', 'Saint Mary-of-the-Woods College', 'Kettering University', 'West Liberty University', 'Idaho State University', 'LIM College', 'Dickinson State University', 'Trevecca Nazarene University', 'North Greenville University', 'Northwest Missouri State University', 'McMurry University', 'Muskingum University', 'Purdue University Fort Wayne', 'Gwynedd Mercy University', 'University of Wisconsin - Platteville', 'Widener University', 'Dakota Wesleyan University', 'Commonwealth University - Bloomsburg', 'West Virginia University at Parkersburg', 'Norwich University', 'West Coast University - Orange County', 'Nelson University', 'SUNY Fredonia', 'Bethel University - Indiana', 'Simpson University', 'Kutztown University of Pennsylvania', 'South Texas College', 'Christian Brothers University', 'Colorado State University Pueblo', 'Marietta College', 'Young Harris College', 'Oklahoma Baptist University', 'Gannon University', 'Southern Utah University', 'Lourdes University', 'University of Wisconsin - Oshkosh', 'Franciscan University of Steubenville', 'Truett McConnell University', 'Houston Christian University', 'Bismarck State College', 'University of Minnesota Rochester', 'Central Connecticut State University', 'Colorado Mesa University', 'Claflin University', 'Carthage College', 'Woodbury University', 'Southern Connecticut State University', 'Thomas More University', 'Chadron State College', 'Walsh University', 'Pacific University Oregon', 'The University of Akron', 'SUNY Cortland', 'Faulkner University', 'Metropolitan State University of Denver', 'Johnson C. Smith University', 'Converse University', 'Eastern Washington University', 'ECPI University', 'Francis Marion University', 'La Salle University', 'Westminster College - Pennsylvania', 'Northern Michigan University', 'University of Wisconsin - River Falls', 'Oakland City University', 'Our Lady of the Lake University', 'Rockford University', 'University of Hawaii at Hilo', 'Cleary University', 'DeVry University - Illinois', 'Cairn University', 'Oglala Lakota College', 'Saint Vincent College - Pennsylvania', 'Eastern Connecticut State University', 'University of New Orleans', 'SUNY Oswego', 'Morningside University', 'Western Colorado University', 'Jackson State University', 'George Fox University', 'Huntingdon College', 'Galen College of Nursing - Louisville', 'Ohio Dominican University', 'Southern Oregon University', 'Southeast Missouri State University', 'University of Arkansas at Fort Smith', 'McKendree University', 'PennWest California', 'Southern New Hampshire University', 'Oklahoma Christian University', 'Graceland University', 'Augsburg University', 'St. Francis College', 'Dominican University', 'Bemidji State University', 'Upper Iowa University', 'New York Institute of Technology', 'University of Jamestown', 'Carson-Newman University', 'Blue Mountain Christian University', 'New Mexico Highlands University', 'University of Maine at Farmington', 'West Virginia University Institute of Technology', 'University of South Carolina Beaufort', 'Northwestern Oklahoma State University', 'Life University', 'University of Wisconsin - Stevens Point', 'Illinois College', 'Hope International University', 'Albion College', 'Indiana State University', 'Western Kentucky University', 'Western Oregon University', 'Mount Mercy University', 'Morehead State University', 'Park University', 'Penn State Scranton', 'Springfield College - Massachusetts', 'University of Florida-Online', 'Mount Mary University', 'Wright State University', 'Malone University', 'Carroll University', 'Clarke University', 'Charleston Southern University', 'Lamar University', 'Crown College', 'Olivet Nazarene University', 'Lebanon Valley College', 'Rivier University', 'Trinity Washington University', 'Musicians Institute', 'Union College - Kentucky', 'University of Arkansas at Pine Bluff', 'Texas Wesleyan University', 'Baker College', 'Buena Vista University', 'Campbell University', 'Texas Lutheran University', 'University of Wisconsin - Stout', 'Indiana University of Pennsylvania', 'Ashland University', 'Thomas College', 'Dominican University New York', 'Anderson University - Indiana', 'SUNY Brockport'])],\n",
       "                                  dtype=object),\n",
       "              'hovertemplate': '<b>%{x}</b><br>Number of Colleges: %{y}<br>Deadlines: %{hovertext}',\n",
       "              'hovertext': array(['January 6, January 2, January 5, January 1, January 3, January 4, January 10, January 8, January 15, January 13, January 20, January 17, January 31, January 16',\n",
       "                                  'February 1, February 25, February 3, February 15, February 5, February 18, February 4',\n",
       "                                  'March 1, March 31, March 2, March 15', 'April 1, April 15, April 30',\n",
       "                                  'May 1, May 18, May 2, May 30', 'June 1, June 3, June 15, June 30',\n",
       "                                  'July 1, July 15, July 21',\n",
       "                                  'August 1, August 12, August 30, August 4, August 5',\n",
       "                                  'September 4, September 1', 'November 30, November 15, November 1',\n",
       "                                  'December 2, December 1, December 20, December 16, December 31, December 15',\n",
       "                                  'Rolling Admissions'], dtype=object),\n",
       "              'marker': {'color': array(['#636EFA', '#EF553B', '#00CC96', '#AB63FA', '#FFA15A', '#19D3F3',\n",
       "                                         '#FF6692', '#B6E880', '#FF97FF', '#FECB52', '#636EFA', '#EF553B'],\n",
       "                                        dtype=object)},\n",
       "              'text': array([158., 100.,  35.,   7.,  15.,  10.,  12.,  22.,   2.,   7.,  30., 498.]),\n",
       "              'type': 'bar',\n",
       "              'uid': '8e4ba305-38a7-40ae-8790-111e9793af17',\n",
       "              'x': array(['January', 'February', 'March', 'April', 'May', 'June', 'July',\n",
       "                          'August', 'September', 'November', 'December', 'Rolling Admissions'],\n",
       "                         dtype=object),\n",
       "              'y': array([158, 100,  35,   7,  15,  10,  12,  22,   2,   7,  30, 498])}],\n",
       "    'layout': {'hoverlabel': {'bgcolor': 'white', 'font': {'family': 'Arial', 'size': 12}},\n",
       "               'template': '...',\n",
       "               'title': {'text': 'Number of Colleges by Application Deadline'},\n",
       "               'xaxis': {'categoryarray': array(['January', 'February', 'March', 'April', 'May', 'June', 'July',\n",
       "                                                 'August', 'September', 'November', 'December', 'Rolling Admissions'],\n",
       "                                                dtype=object),\n",
       "                         'categoryorder': 'array',\n",
       "                         'title': {'text': 'Application Deadline'}},\n",
       "               'yaxis': {'title': {'text': 'Number of Colleges'}}}\n",
       "})"
      ]
     },
     "metadata": {},
     "output_type": "display_data"
    },
    {
     "data": {
      "application/vnd.jupyter.widget-view+json": {
       "model_id": "6e2ee12724464ede946dbe0e7b5f2821",
       "version_major": 2,
       "version_minor": 0
      },
      "text/plain": [
       "Output()"
      ]
     },
     "metadata": {},
     "output_type": "display_data"
    }
   ],
   "source": [
    "from plots import plot_application_deadlines\n",
    "df = pd.read_excel('final_dataset.xlsx')\n",
    "\n",
    "\n",
    "# Plot the application deadlines\n",
    "plot_application_deadlines(df)\n"
   ]
  },
  {
   "cell_type": "markdown",
   "metadata": {},
   "source": [
    "Le graphique suivant est interactif et l'on peut afficher ou pas la droite de régression, les good_values, et les autres en cliquant sur la légende."
   ]
  },
  {
   "cell_type": "code",
   "execution_count": 38,
   "metadata": {},
   "outputs": [
    {
     "data": {
      "application/vnd.plotly.v1+json": {
       "config": {
        "plotlyServerURL": "https://plot.ly"
       },
       "data": [
        {
         "customdata": [
          [
           "CAMBRIDGE, MA 02139",
           21.550091451828596,
           false
          ],
          [
           "NEW HAVEN, CT 06511",
           23.907676266499955,
           false
          ],
          [
           "STANFORD, CA 94305",
           21.550091451828596,
           false
          ],
          [
           "CAMBRIDGE, MA 02138",
           19.19250663715724,
           false
          ],
          [
           "HANOVER, NH 03755",
           26.26526108117131,
           false
          ],
          [
           "NEW YORK CITY, NY 10027",
           21.550091451828596,
           false
          ],
          [
           "PROVIDENCE, RI 02912",
           23.907676266499955,
           false
          ],
          [
           "HOUSTON, TX 77005",
           33.33801552518538,
           false
          ],
          [
           "NASHVILLE, TN 37240",
           28.622845895842666,
           false
          ],
          [
           "PRINCETON, NJ 08544",
           26.26526108117131,
           false
          ],
          [
           "PHILADELPHIA, PA 19104",
           28.622845895842666,
           false
          ],
          [
           "DURHAM, NC 27708",
           26.26526108117131,
           false
          ],
          [
           "WASHINGTON, DC 20057",
           40.41076996919945,
           false
          ],
          [
           "SAINT LOUIS, MO 63130",
           40.41076996919945,
           false
          ],
          [
           "EVANSTON, IL 60208",
           28.622845895842666,
           false
          ],
          [
           "PITTSBURGH, PA 15213",
           38.053185154528094,
           false
          ],
          [
           "PASADENA, CA 91125",
           19.19250663715724,
           false
          ],
          [
           "LOS ANGELES, CA 90095",
           33.33801552518538,
           false
          ],
          [
           "ITHACA, NY 14853",
           28.622845895842666,
           false
          ],
          [
           "BALTIMORE, MD 21218",
           28.622845895842666,
           false
          ],
          [
           "CHICAGO, IL 60637",
           23.907676266499955,
           false
          ],
          [
           "NOTRE DAME, IN 46556",
           42.768354783870805,
           false
          ],
          [
           "CHARLOTTESVILLE, VA 22903",
           56.91386367189894,
           false
          ],
          [
           "LOS ANGELES, CA 90089",
           40.41076996919945,
           false
          ],
          [
           "ATLANTA, GA 30332",
           52.19869404255623,
           false
          ],
          [
           "GAINESVILLE, FL 32611",
           66.34420293058437,
           false
          ],
          [
           "ATLANTA, GA 30322",
           38.053185154528094,
           false
          ],
          [
           "CHAPEL HILL, NC 27514",
           52.19869404255623,
           false
          ],
          [
           "BOSTON, MA 02215",
           45.12593959854216,
           false
          ],
          [
           "NEW YORK CITY, NY 10012",
           40.41076996919945,
           false
          ],
          [
           "BOSTON, MA 02115",
           28.622845895842666,
           false
          ],
          [
           "BERKELEY, CA 94720",
           38.053185154528094,
           false
          ],
          [
           "CHESTNUT HILL, MA 02467",
           52.19869404255623,
           false
          ],
          [
           "MEDFORD, MA 02155",
           35.69560033985674,
           false
          ],
          [
           "WINSTON SALEM, NC 27109",
           61.62903330124165,
           false
          ],
          [
           "TALLAHASSEE, FL 32306",
           71.05937255992708,
           false
          ],
          [
           "MIAMI, FL 33146",
           56.91386367189894,
           false
          ],
          [
           "IRVINE, CA 92697",
           61.62903330124165,
           false
          ],
          [
           "BETHLEHEM, PA 18015",
           99.35039033598335,
           false
          ],
          [
           "VILLANOVA, PA 19085",
           66.34420293058437,
           false
          ],
          [
           "LA JOLLA, CA 92093",
           68.70178774525573,
           false
          ],
          [
           "NEW YORK CITY, NY 10003",
           63.98661811591301,
           false
          ],
          [
           "TAMPA, FL 33620",
           115.85348403868285,
           false
          ],
          [
           "NEW ORLEANS, LA 70118",
           38.053185154528094,
           false
          ],
          [
           "BABSON PARK, MA 02457",
           63.98661811591301,
           false
          ],
          [
           "SANTA BARBARA, CA 93106",
           73.41695737459844,
           false
          ],
          [
           "ORLANDO, FL 32816",
           108.78072959466877,
           false
          ],
          [
           "CLEVELAND, OH 44106",
           75.7745421892698,
           false
          ],
          [
           "SAN ANTONIO, TX 78212",
           85.20488144795522,
           false
          ],
          [
           "AUBURN UNIVERSITY, AL 36849",
           115.85348403868285,
           false
          ],
          [
           "MIAMI, FL 33199",
           163.00518033210997,
           false
          ],
          [
           "CLEMSON, SC 29634",
           113.49589922401148,
           false
          ],
          [
           "STILLWATER, OK 74078",
           179.50827403480946,
           false
          ],
          [
           "WASHINGTON, DC 20052",
           127.64140811203963,
           false
          ],
          [
           "COLUMBIA, SC 29208",
           163.00518033210997,
           false
          ],
          [
           "NORMAN, OK 73019",
           184.22344366415217,
           false
          ],
          [
           "SOCORRO, NM 87801",
           186.58102847882353,
           false
          ],
          [
           "LONG BEACH, CA 90840",
           106.42314477999743,
           false
          ],
          [
           "TUSCALOOSA, AL 35487",
           200.7265373668517,
           false
          ],
          [
           "SAN DIEGO, CA 92110",
           137.07174737072506,
           false
          ],
          [
           "FAYETTEVILLE, AR 72701",
           198.36895255218033,
           false
          ],
          [
           "VESTAL, NY 13850",
           111.13831440934013,
           false
          ],
          [
           "HOBOKEN, NJ 07030",
           120.56865366802556,
           false
          ],
          [
           "MISSISSIPPI STATE, MS 39762",
           188.93861329349488,
           false
          ],
          [
           "SARASOTA, FL 34243",
           68.70178774525573,
           false
          ],
          [
           "LOS ANGELES, CA 90045",
           108.78072959466877,
           false
          ],
          [
           "SAN DIEGO, CA 92182",
           104.06555996532607,
           false
          ],
          [
           "JACKSON, TN 38305",
           137.07174737072506,
           false
          ],
          [
           "MANHATTAN, KS 66506",
           236.090309586922,
           false
          ],
          [
           "MOSCOW, ID 83844",
           186.58102847882353,
           false
          ],
          [
           "HOUSTON, TX 77204",
           167.72034996145268,
           false
          ],
          [
           "SAN DIEGO, CA 92106",
           205.44170699619437,
           false
          ],
          [
           "RUSTON, LA 71272",
           158.29001070276726,
           false
          ],
          [
           "SEARCY, AR 72149",
           118.2110688533542,
           false
          ],
          [
           "DETROIT, MI 48202",
           188.93861329349488,
           false
          ],
          [
           "LA MIRADA, CA 90639",
           146.50208662941046,
           false
          ],
          [
           "TULSA, OK 74104",
           177.1506892201381,
           false
          ],
          [
           "HATTIESBURG, MS 39401",
           139.42933218539642,
           false
          ],
          [
           "WACO, TX 76706",
           120.56865366802556,
           false
          ],
          [
           "LARAMIE, WY 82071",
           238.44789440159337,
           false
          ],
          [
           "NASHVILLE, TN 37204",
           179.50827403480946,
           false
          ],
          [
           "KANSAS CITY, MO 64110",
           174.79310440546675,
           false
          ],
          [
           "CLINTON, MS 39058",
           106.42314477999743,
           false
          ],
          [
           "WASHINGTON, DC 20016",
           108.78072959466877,
           false
          ],
          [
           "LINCOLN, NE 68588",
           198.36895255218033,
           false
          ],
          [
           "DENVER, CO 80217",
           188.93861329349488,
           false
          ],
          [
           "HARRISONBURG, VA 22807",
           196.01136773750898,
           false
          ],
          [
           "TYLER, TX 75799",
           233.73272477225063,
           false
          ],
          [
           "MELBOURNE, FL 32901",
           163.00518033210997,
           false
          ],
          [
           "LEXINGTON, VA 24450",
           179.50827403480946,
           false
          ],
          [
           "TAMPA, FL 33617",
           181.86585884948082,
           false
          ],
          [
           "BERRIEN SPRINGS, MI 49104",
           226.6599703282366,
           false
          ],
          [
           "ROLLA, MO 65409",
           203.08412218152304,
           false
          ],
          [
           "EDINBURG, TX 78539",
           219.58721588422253,
           false
          ],
          [
           "WALTHAM, MA 02452",
           148.8596714440818,
           false
          ],
          [
           "CHICAGO, IL 60604",
           177.1506892201381,
           false
          ],
          [
           "INDIANAPOLIS, IN 46202",
           207.79929181086572,
           false
          ],
          [
           "SIOUX FALLS, SD 57197",
           167.72034996145268,
           false
          ],
          [
           "HATTIESBURG, MS 39406",
           245.52064884560744,
           false
          ],
          [
           null,
           191.29619810816624,
           false
          ],
          [
           "LORMAN, MS 39096",
           82.84729663328386,
           false
          ],
          [
           "BOCA RATON, FL 33431",
           203.08412218152304,
           false
          ],
          [
           "HUNTSVILLE, AL 35899",
           196.01136773750898,
           false
          ],
          [
           "BATON ROUGE, LA 70803",
           191.29619810816624,
           false
          ],
          [
           "ADA, OH 45810",
           139.42933218539642,
           false
          ],
          [
           "LOUISVILLE, KY 40292",
           205.44170699619437,
           false
          ],
          [
           "MACON, GA 31207",
           188.93861329349488,
           false
          ],
          [
           "DENTON, TX 76203",
           198.36895255218033,
           false
          ],
          [
           "CHARLOTTE, NC 28223",
           200.7265373668517,
           false
          ],
          [
           "FORT MYERS, FL 33965",
           186.58102847882353,
           false
          ],
          [
           null,
           238.44789440159337,
           false
          ],
          [
           "NEW YORK CITY, NY 10010",
           129.99899292671097,
           false
          ],
          [
           "TULSA, OK 74171",
           196.01136773750898,
           false
          ],
          [
           "OKLAHOMA CITY, OK 73106",
           177.1506892201381,
           false
          ],
          [
           "WORCESTER, MA 01610",
           129.99899292671097,
           false
          ],
          [
           "AUGUSTA, GA 30912",
           214.8720462548798,
           false
          ],
          [
           "SAN MARCOS, TX 78666",
           219.58721588422253,
           false
          ],
          [
           "GRAND FORKS, ND 58202",
           207.79929181086572,
           false
          ],
          [
           "FULLERTON, CA 92831",
           170.07793477612404,
           false
          ],
          [
           "ABILENE, TX 79699",
           167.72034996145268,
           false
          ],
          [
           "JACKSONVILLE, FL 32224",
           179.50827403480946,
           false
          ],
          [
           "LOWELL, MA 01854",
           214.8720462548798,
           false
          ],
          [
           "SANTA CRUZ, CA 95064",
           122.9262384826969,
           false
          ],
          [
           "ARLINGTON, TX 76013",
           203.08412218152304,
           false
          ],
          [
           "MOBILE, AL 36688",
           165.36276514678133,
           false
          ],
          [
           "CHARLESTON, WV 25304",
           172.4355195907954,
           false
          ],
          [
           "DES MOINES, IA 50311",
           170.07793477612404,
           false
          ],
          [
           "COOKEVILLE, TN 38505",
           196.01136773750898,
           false
          ],
          [
           "MEMPHIS, TN 38152",
           236.090309586922,
           false
          ],
          [
           "VERMILLION, SD 57069",
           245.52064884560744,
           false
          ],
          [
           "ATHENS, OH 45701",
           217.22963106955117,
           false
          ],
          [
           "BROOKINGS, SD 57007",
           214.8720462548798,
           false
          ],
          [
           "RIVERSIDE, CA 92504",
           200.7265373668517,
           false
          ],
          [
           "LOGAN, UT 84322",
           233.73272477225063,
           false
          ],
          [
           "IRVING, TX 75062",
           151.2172562587532,
           false
          ],
          [
           "GREENSBORO, NC 27402",
           229.01755514290795,
           false
          ],
          [
           "PHOENIX, AZ 85017",
           203.08412218152304,
           false
          ],
          [
           "SAINT BONAVENTURE, NY 14778",
           203.08412218152304,
           false
          ],
          [
           "TURLOCK, CA 95382",
           240.80547921626473,
           false
          ],
          [
           "FAIRBANKS, AK 99775",
           165.36276514678133,
           false
          ],
          [
           "BALTIMORE, MD 21252",
           198.36895255218033,
           false
          ],
          [
           "OMAHA, NE 68182",
           214.8720462548798,
           false
          ],
          [
           "LONGVIEW, TX 75602",
           127.64140811203963,
           false
          ],
          [
           "CHICAGO, IL 60603",
           229.01755514290795,
           false
          ],
          [
           "SAN ANTONIO, TX 78249",
           217.22963106955117,
           false
          ],
          [
           "HUNTINGTON, WV 25755",
           240.80547921626473,
           false
          ],
          [
           "JOHNSON CITY, TN 37614",
           212.51446144020844,
           false
          ],
          [
           "KOKOMO, IN 46902",
           214.8720462548798,
           false
          ],
          [
           "HARROGATE, TN 37752",
           198.36895255218033,
           false
          ],
          [
           "HONOLULU, HI 96822",
           184.22344366415217,
           false
          ],
          [
           "VIRGINIA BEACH, VA 23464",
           87.56246626262657,
           false
          ],
          [
           "ROCKVILLE CENTRE, NY 11571",
           193.6537829228376,
           false
          ],
          [
           "BOISE, ID 83725",
           210.15687662553708,
           false
          ],
          [
           "CHARLES TOWN, WV 25414",
           247.8782336602788,
           false
          ],
          [
           "SAN ANGELO, TX 76909",
           198.36895255218033,
           false
          ],
          [
           "AZUSA, CA 91702",
           217.22963106955117,
           false
          ],
          [
           "ATLANTA, GA 30303",
           170.07793477612404,
           false
          ],
          [
           "BUTTE, MT 59701",
           221.94480069889389,
           false
          ],
          [
           "CLEVELAND, TN 37311",
           184.22344366415217,
           false
          ],
          [
           "BURLINGTON, VT 05405",
           153.57484107342455,
           false
          ],
          [
           "STEPHENVILLE, TX 76401",
           217.22963106955117,
           false
          ],
          [
           "SEATTLE, WA 98119",
           226.6599703282366,
           false
          ],
          [
           "BOZEMAN, MT 59717",
           184.22344366415217,
           false
          ],
          [
           "LYNCHBURG, VA 24515",
           245.52064884560744,
           false
          ],
          [
           "PEORIA, IL 61625",
           188.93861329349488,
           false
          ],
          [
           "GRAND RAPIDS, MI 49546",
           186.58102847882353,
           false
          ],
          [
           "NORTH MANCHESTER, IN 46962",
           167.72034996145268,
           false
          ],
          [
           "WILLIAMSBURG, KY 40769",
           207.79929181086572,
           false
          ],
          [
           "LAS CRUCES, NM 88003",
           196.01136773750898,
           false
          ],
          [
           "FLAGSTAFF, AZ 86011",
           200.7265373668517,
           false
          ],
          [
           "COLUMBIA, SC 29203",
           125.28382329736827,
           false
          ],
          [
           "WASHINGTON, DC 20059",
           137.07174737072506,
           false
          ],
          [
           "MONTCLAIR, NJ 07043",
           226.6599703282366,
           false
          ],
          [
           "UNION, NJ 07083",
           207.79929181086572,
           false
          ],
          [
           "TAHLEQUAH, OK 74464",
           245.52064884560744,
           false
          ],
          [
           "TOPPENISH, WA 98948",
           247.8782336602788,
           false
          ],
          [
           "CHICAGO, IL 60625",
           160.64759551743862,
           false
          ],
          [
           "SAINT LOUIS, MO 63141",
           219.58721588422253,
           false
          ],
          [
           "BEREA, OH 44017",
           193.6537829228376,
           false
          ],
          [
           "GLASSBORO, NJ 08028",
           193.6537829228376,
           false
          ],
          [
           "EVANSVILLE, IN 47722",
           191.29619810816624,
           false
          ],
          [
           "LAFAYETTE, LA 70503",
           188.93861329349488,
           false
          ],
          [
           "GREENVILLE, NC 27858",
           229.01755514290795,
           false
          ],
          [
           "NEWPORT, KY 41099",
           214.8720462548798,
           false
          ],
          [
           "MURFREESBORO, TN 37132",
           184.22344366415217,
           false
          ],
          [
           "SAN ANTONIO, TX 78209",
           233.73272477225063,
           false
          ],
          [
           "TAMPA, FL 33606",
           73.41695737459844,
           false
          ],
          [
           "KENNESAW, GA 30144",
           172.4355195907954,
           false
          ],
          [
           "ALLENDALE, MI 49401",
           224.30238551356524,
           false
          ],
          [
           "EL PASO, TX 79968",
           247.8782336602788,
           false
          ],
          [
           "FORT LAUDERDALE, FL 33309",
           240.80547921626473,
           false
          ],
          [
           "DALLAS, TX 75241",
           233.73272477225063,
           false
          ],
          [
           "CHICAGO, IL 60616",
           155.9324258880959,
           false
          ],
          [
           "BALTIMORE, MD 21201",
           221.94480069889389,
           false
          ],
          [
           "WINSTON SALEM, NC 27110",
           184.22344366415217,
           false
          ],
          [
           "INDIANAPOLIS, IN 46222",
           233.73272477225063,
           false
          ],
          [
           "ROCHESTER, MI 48309",
           224.30238551356524,
           false
          ],
          [
           "THOMASVILLE, GA 31792",
           120.56865366802556,
           false
          ],
          [
           "CULLOWHEE, NC 28723",
           212.51446144020844,
           false
          ],
          [
           "MONROE, LA 71209",
           177.1506892201381,
           false
          ],
          [
           "DULUTH, MN 55812",
           203.08412218152304,
           false
          ],
          [
           "HUNTSVILLE, TX 77340",
           212.51446144020844,
           false
          ],
          [
           "NEW YORK CITY, NY 10036",
           179.50827403480946,
           false
          ],
          [
           "CONWAY, AR 72035",
           226.6599703282366,
           false
          ],
          [
           "KINGSTON, RI 02881",
           191.29619810816624,
           false
          ],
          [
           "MOUNT PLEASANT, MI 48859",
           198.36895255218033,
           false
          ],
          [
           "JACKSONVILLE, AL 36265",
           196.01136773750898,
           false
          ],
          [
           "MINOT, ND 58707",
           231.3751399575793,
           false
          ],
          [
           "WICHITA, KS 67260",
           236.090309586922,
           false
          ],
          [
           "W HARTFORD, CT 06117",
           188.93861329349488,
           false
          ],
          [
           "SHREVEPORT, LA 71115",
           221.94480069889389,
           false
          ],
          [
           "DETROIT, MI 48221",
           226.6599703282366,
           false
          ],
          [
           "EDWARDSVILLE, IL 62026",
           243.16306403093608,
           false
          ],
          [
           "HEMPSTEAD, NY 11549",
           174.79310440546675,
           false
          ],
          [
           "ARLINGTON, VA 22207",
           203.08412218152304,
           false
          ],
          [
           "SCRANTON, PA 18509",
           203.08412218152304,
           false
          ],
          [
           "FLINT, MI 48502",
           167.72034996145268,
           false
          ],
          [
           "JONESBORO, AR 72401",
           177.1506892201381,
           false
          ],
          [
           "BOWLING GREEN, OH 43403",
           198.36895255218033,
           false
          ],
          [
           "DURANT, OK 74701",
           186.58102847882353,
           false
          ],
          [
           "THIBODAUX, LA 70310",
           243.16306403093608,
           false
          ],
          [
           "STATESBORO, GA 30460",
           221.94480069889389,
           false
          ],
          [
           "PORTLAND, OR 97201",
           231.3751399575793,
           false
          ],
          [
           "CHARLOTTE, NC 28274",
           179.50827403480946,
           false
          ],
          [
           "LOUISVILLE, KY 40203",
           243.16306403093608,
           false
          ],
          [
           "NEW YORK CITY, NY 10031",
           170.07793477612404,
           false
          ],
          [
           "BANGOR, ME 04401",
           226.6599703282366,
           false
          ],
          [
           "HOUSTON, TX 77002",
           219.58721588422253,
           false
          ],
          [
           "NORMAL, IL 61790",
           214.8720462548798,
           false
          ],
          [
           "DENVER, CO 80221",
           196.01136773750898,
           false
          ],
          [
           "HONOLULU, HI 96816",
           231.3751399575793,
           false
          ],
          [
           "SAN FRANCISCO, CA 94132",
           233.73272477225063,
           false
          ],
          [
           "WICHITA FALLS, TX 76308",
           238.44789440159337,
           false
          ],
          [
           "WICHITA, KS 67213",
           160.64759551743862,
           false
          ],
          [
           "FRESNO, CA 93740",
           236.090309586922,
           false
          ],
          [
           "PIKEVILLE, KY 41501",
           247.8782336602788,
           false
          ],
          [
           "WINCHESTER, VA 22601",
           200.7265373668517,
           false
          ],
          [
           "GARDEN CITY, NY 11530",
           184.22344366415217,
           false
          ],
          [
           "SAINT PAUL, MN 55112",
           181.86585884948082,
           false
          ],
          [
           "SAINT PAUL, MN 55106",
           205.44170699619437,
           false
          ],
          [
           "DENVER, CO 80226",
           247.8782336602788,
           false
          ],
          [
           "BOSTON, MA 02125",
           203.08412218152304,
           false
          ],
          [
           "MAHWAH, NJ 07430",
           177.1506892201381,
           false
          ],
          [
           "ALBUQUERQUE, NM 87106",
           238.44789440159337,
           false
          ],
          [
           "SEASIDE, CA 93955",
           229.01755514290795,
           false
          ],
          [
           "MIAMI, FL 33161",
           153.57484107342455,
           false
          ],
          [
           "FAYETTEVILLE, NC 28301",
           203.08412218152304,
           false
          ],
          [
           "TOLEDO, OH 43606",
           229.01755514290795,
           false
          ],
          [
           "MEQUON, WI 53097",
           177.1506892201381,
           false
          ],
          [
           "NIAGARA UNIVERSITY, NY 14109",
           224.30238551356524,
           false
          ],
          [
           "DALLAS, PA 18612",
           221.94480069889389,
           false
          ],
          [
           "TOPEKA, KS 66621",
           247.8782336602788,
           false
          ],
          [
           "NEW YORK CITY, NY 10065",
           125.28382329736827,
           false
          ],
          [
           "CHICAGO, IL 60605",
           219.58721588422253,
           false
          ],
          [
           "CONWAY, SC 29526",
           198.36895255218033,
           false
          ],
          [
           "WHEELING, WV 26003",
           186.58102847882353,
           false
          ],
          [
           "BOSTON, MA 02116",
           113.49589922401148,
           false
          ],
          [
           "KNOXVILLE, TN 37909",
           247.8782336602788,
           false
          ],
          [
           "WICHITA, KS 67213",
           134.71416255605368,
           false
          ],
          [
           "CARROLLTON, GA 30118",
           200.7265373668517,
           false
          ],
          [
           "TIFFIN, OH 44883",
           179.50827403480946,
           false
          ],
          [
           "CHATTANOOGA, TN 37403",
           207.79929181086572,
           false
          ],
          [
           "CLEVELAND, OH 44115",
           233.73272477225063,
           false
          ],
          [
           "MILWAUKEE, WI 53211",
           214.8720462548798,
           false
          ],
          [
           "SAINT LOUIS, MO 63119",
           141.78691700006777,
           false
          ],
          [
           "UNIVERSITY CENTER, MI 48710",
           191.29619810816624,
           false
          ],
          [
           "KENT, OH 44242",
           219.58721588422253,
           false
          ],
          [
           "MAYVILLE, ND 58257",
           179.50827403480946,
           false
          ],
          [
           "CINCINNATI, OH 45207",
           212.51446144020844,
           false
          ],
          [
           "KALAMAZOO, MI 49008",
           212.51446144020844,
           false
          ],
          [
           "BIG RAPIDS, MI 49307",
           219.58721588422253,
           false
          ],
          [
           "SOUTH BEND, IN 46615",
           217.22963106955117,
           false
          ],
          [
           "WEST LONG BRANCH, NJ 07764",
           226.6599703282366,
           false
          ],
          [
           "SILVER CITY, NM 88061",
           247.8782336602788,
           false
          ],
          [
           "MISSOULA, MT 59812",
           236.090309586922,
           false
          ],
          [
           "ROMEOVILLE, IL 60446",
           186.58102847882353,
           false
          ],
          [
           "CARBONDALE, IL 62901",
           229.01755514290795,
           false
          ],
          [
           "NAPERVILLE, IL 60540",
           155.9324258880959,
           false
          ],
          [
           "CLEVELAND, MS 38733",
           245.52064884560744,
           false
          ],
          [
           "ROHNERT PARK, CA 94928",
           233.73272477225063,
           false
          ],
          [
           "OGDEN, UT 84408",
           247.8782336602788,
           false
          ],
          [
           "SAN RAFAEL, CA 94901",
           231.3751399575793,
           false
          ],
          [
           "TUSKEGEE INSTITUTE, AL 36088",
           82.84729663328386,
           false
          ],
          [
           "LA VERNE, CA 91750",
           186.58102847882353,
           false
          ],
          [
           "DURHAM, NC 27707",
           210.15687662553708,
           false
          ],
          [
           "LOUISVILLE, KY 40205",
           219.58721588422253,
           false
          ],
          [
           "ORONO, ME 04469",
           233.73272477225063,
           false
          ],
          [
           "FORT WAYNE, IN 46808",
           243.16306403093608,
           false
          ],
          [
           "LOS ANGELES, CA 90032",
           217.22963106955117,
           false
          ],
          [
           "CARSON, CA 90747",
           221.94480069889389,
           false
          ],
          [
           "WEST CHESTER, PA 19383",
           219.58721588422253,
           false
          ],
          [
           "UNIVERSITY PARK, IL 60484",
           146.50208662941046,
           false
          ],
          [
           "COLUMBUS, OH 43215",
           247.8782336602788,
           false
          ],
          [
           "WILKES BARRE, PA 18766",
           233.73272477225063,
           false
          ],
          [
           "AURORA, IL 60506",
           205.44170699619437,
           false
          ],
          [
           "FAIRMONT, WV 26554",
           243.16306403093608,
           false
          ],
          [
           "LAKELAND, FL 33801",
           155.9324258880959,
           false
          ],
          [
           "BOILING SPRINGS, NC 28017",
           188.93861329349488,
           false
          ],
          [
           "POCATELLO, ID 83209",
           247.8782336602788,
           false
          ],
          [
           "NASHVILLE, TN 37210",
           179.50827403480946,
           false
          ],
          [
           "NEW CONCORD, OH 43762",
           214.8720462548798,
           false
          ],
          [
           "FORT WAYNE, IN 46805",
           203.08412218152304,
           false
          ],
          [
           "THOUSAND OAKS, CA 91360",
           217.22963106955117,
           false
          ],
          [
           "NEW YORK CITY, NY 10011",
           146.50208662941046,
           false
          ],
          [
           "CLARKSVILLE, TN 37044",
           233.73272477225063,
           false
          ],
          [
           "FARMVILLE, VA 23909",
           219.58721588422253,
           false
          ],
          [
           "LAKELAND, FL 33805",
           146.50208662941046,
           false
          ],
          [
           "RICHMOND, KY 40475",
           163.00518033210997,
           false
          ],
          [
           "MEMPHIS, TN 38104",
           219.58721588422253,
           false
          ],
          [
           "PUEBLO, CO 81001",
           245.52064884560744,
           false
          ],
          [
           "NEW YORK CITY, NY 10038",
           207.79929181086572,
           false
          ],
          [
           "ERIE, PA 16541",
           203.08412218152304,
           false
          ],
          [
           "SYLVANIA, OH 43560",
           155.9324258880959,
           false
          ],
          [
           "OSHKOSH, WI 54901",
           221.94480069889389,
           false
          ],
          [
           "STEUBENVILLE, OH 43952",
           170.07793477612404,
           false
          ],
          [
           "HOUSTON, TX 77074",
           210.15687662553708,
           false
          ],
          [
           "POUGHKEEPSIE, NY 12601",
           160.64759551743862,
           false
          ],
          [
           "GRAND JUNCTION, CO 81501",
           205.44170699619437,
           false
          ],
          [
           "CANTON, OH 44720",
           181.86585884948082,
           false
          ],
          [
           "AKRON, OH 44325",
           207.79929181086572,
           false
          ],
          [
           "MONTGOMERY, AL 36109",
           205.44170699619437,
           false
          ],
          [
           "CHENEY, WA 99004",
           238.44789440159337,
           false
          ],
          [
           "FLORENCE, SC 29506",
           207.79929181086572,
           false
          ],
          [
           "PHILADELPHIA, PA 19141",
           233.73272477225063,
           false
          ],
          [
           "SAN ANTONIO, TX 78207",
           167.72034996145268,
           false
          ],
          [
           "NEW ORLEANS, LA 70148",
           177.1506892201381,
           false
          ],
          [
           "JACKSON, MS 39217",
           221.94480069889389,
           false
          ],
          [
           "COLUMBUS, OH 43219",
           134.71416255605368,
           false
          ],
          [
           "LAKELAND, FL 33801",
           146.50208662941046,
           false
          ],
          [
           "RIVER FOREST, IL 60305",
           224.30238551356524,
           false
          ],
          [
           "FAYETTE, IA 52142",
           139.42933218539642,
           false
          ],
          [
           "OLD WESTBURY, NY 11568",
           191.29619810816624,
           false
          ],
          [
           "JAMESTOWN, ND 58405",
           229.01755514290795,
           false
          ],
          [
           "LAS VEGAS, NM 87701",
           247.8782336602788,
           false
          ],
          [
           "ALVA, OK 73717",
           144.14450181473913,
           false
          ],
          [
           "TERRE HAUTE, IN 47809",
           229.01755514290795,
           false
          ],
          [
           "BOWLING GREEN, KY 42101",
           240.80547921626473,
           false
          ],
          [
           "MONMOUTH, OR 97361",
           210.15687662553708,
           false
          ],
          [
           "REDMOND, WA 98052",
           167.72034996145268,
           false
          ],
          [
           "COLUMBUS, GA 31907",
           219.58721588422253,
           false
          ],
          [
           "DOVER, DE 19901",
           141.78691700006777,
           false
          ],
          [
           "DAYTON, OH 45435",
           236.090309586922,
           false
          ],
          [
           "CANTON, OH 44709",
           196.01136773750898,
           false
          ],
          [
           "WAUKESHA, WI 53186",
           181.86585884948082,
           false
          ],
          [
           "BEAUMONT, TX 77705",
           210.15687662553708,
           false
          ],
          [
           "BOURBONNAIS, IL 60914",
           167.72034996145268,
           false
          ],
          [
           "ELLENSBURG, WA 98926",
           233.73272477225063,
           false
          ],
          [
           "PINE BLUFF, AR 71601",
           174.79310440546675,
           false
          ],
          [
           "FORT WORTH, TX 76105",
           155.9324258880959,
           false
          ],
          [
           "BUIES CREEK, NC 27506",
           221.94480069889389,
           false
          ],
          [
           "ASHLAND, OH 44805",
           181.86585884948082,
           false
          ],
          [
           "BOSTON, MA 02108",
           217.22963106955117,
           false
          ]
         ],
         "hovertemplate": "<b>%{hovertext}</b><br><br>good_value=%{customdata[2]}<br>Acceptance Rate=%{x}<br>Ranking=%{y}<br>City=%{customdata[0]}<br>expected_ranking=%{customdata[1]}<extra></extra>",
         "hovertext": [
          "Massachusetts Institute of Technology",
          "Yale University",
          "Stanford University",
          "Harvard University",
          "Dartmouth College",
          "Columbia University",
          "Brown University",
          "Rice University",
          "Vanderbilt University",
          "Princeton University",
          "University of Pennsylvania",
          "Duke University",
          "Georgetown University",
          "Washington University in St. Louis",
          "Northwestern University",
          "Carnegie Mellon University",
          "California Institute of Technology",
          "University of California - Los Angeles",
          "Cornell University",
          "Johns Hopkins University",
          "University of Chicago",
          "University of Notre Dame",
          "University of Virginia",
          "University of Southern California",
          "Georgia Institute of Technology",
          "University of Florida",
          "Emory University",
          "University of North Carolina at Chapel Hill",
          "Boston University",
          "New York University",
          "Northeastern University",
          "University of California - Berkeley",
          "Boston College",
          "Tufts University",
          "Wake Forest University",
          "Florida State University",
          "University of Miami",
          "University of California - Irvine",
          "Lehigh University",
          "Villanova University",
          "University of California - San Diego",
          "The Cooper Union for the Advancement of Science and Art",
          "University of South Florida",
          "Tulane University",
          "Babson College",
          "University of California - Santa Barbara",
          "University of Central Florida",
          "Case Western Reserve University",
          "Trinity University",
          "Auburn University",
          "Florida International University",
          "Clemson University",
          "Oklahoma State University",
          "George Washington University",
          "University of South Carolina",
          "University of Oklahoma",
          "New Mexico Tech",
          "California State University - Long Beach",
          "The University of Alabama",
          "University of San Diego",
          "University of Arkansas",
          "Binghamton University, SUNY",
          "Stevens Institute of Technology",
          "Mississippi State University",
          "University of South Florida - Sarasota-Manatee",
          "Loyola Marymount University",
          "San Diego State University",
          "Union University",
          "Kansas State University",
          "University of Idaho",
          "University of Houston",
          "Point Loma Nazarene University",
          "Louisiana Tech University",
          "Harding University",
          "Wayne State University",
          "Biola University",
          "The University of Tulsa",
          "William Carey University",
          "Baylor University",
          "University of Wyoming",
          "Lipscomb University",
          "University of Missouri - Kansas City",
          "Mississippi College",
          "American University",
          "University of Nebraska - Lincoln",
          "University of Colorado Denver",
          "James Madison University",
          "University of Texas - Tyler",
          "Florida Institute of Technology",
          "Virginia Military Institute",
          "Florida College",
          "Andrews University",
          "Missouri University of Science and Technology",
          "University of Texas Rio Grande Valley",
          "Bentley University",
          "DePaul University",
          "Indiana University Indianapolis",
          "Augustana University",
          "University of Southern Mississippi",
          "Nova Southeastern University",
          "Alcorn State University",
          "Florida Atlantic University",
          "The University of Alabama in Huntsville",
          "Louisiana State University",
          "Ohio Northern University",
          "University of Louisville",
          "Mercer University",
          "University of North Texas",
          "University of North Carolina at Charlotte",
          "Florida Gulf Coast University",
          "North Dakota State University",
          "CUNY Baruch College",
          "Oral Roberts University",
          "Oklahoma City University",
          "Clark University",
          "Augusta University",
          "Texas State University",
          "University of North Dakota",
          "California State University - Fullerton",
          "Abilene Christian University",
          "University of North Florida",
          "University of Massachusetts Lowell",
          "University of California - Santa Cruz",
          "University of Texas - Arlington",
          "University of South Alabama",
          "University of Charleston",
          "Drake University",
          "Tennessee Technological University",
          "University of Memphis",
          "University of South Dakota",
          "Ohio University",
          "South Dakota State University",
          "California Baptist University",
          "Utah State University",
          "University of Dallas",
          "University of North Carolina - Greensboro",
          "Grand Canyon University",
          "St. Bonaventure University",
          "California State University - Stanislaus",
          "University of Alaska Fairbanks",
          "Towson University",
          "University of Nebraska at Omaha",
          "LeTourneau University",
          "National Louis University",
          "The University of Texas at San Antonio",
          "Marshall University",
          "East Tennessee State University",
          "Indiana University - Kokomo",
          "Lincoln Memorial University",
          "University of Hawaii at Manoa",
          "Regent University",
          "Molloy University",
          "Boise State University",
          "American Public University System",
          "Angelo State University",
          "Azusa Pacific University",
          "Georgia State University",
          "Montana Technological University",
          "Lee University",
          "University of Vermont",
          "Tarleton State University",
          "Seattle Pacific University",
          "Montana State University",
          "Liberty University",
          "Bradley University",
          "Calvin University",
          "Manchester University",
          "University of the Cumberlands",
          "New Mexico State University",
          "Northern Arizona University",
          "Columbia International University",
          "Howard University",
          "Montclair State University",
          "Kean University",
          "Northeastern State University",
          "Heritage University",
          "Northeastern Illinois University",
          "Maryville University",
          "Baldwin Wallace University",
          "Rowan University",
          "University of Evansville",
          "University of Louisiana at Lafayette",
          "East Carolina University",
          "Northern Kentucky University",
          "Middle Tennessee State University",
          "University of the Incarnate Word",
          "University of Tampa",
          "Kennesaw State University",
          "Grand Valley State University",
          "University of Texas - El Paso",
          "Keiser University - Fort Lauderdale",
          "University of North Texas at Dallas",
          "Illinois Institute of Technology",
          "The University of Baltimore",
          "Winston-Salem State University",
          "Marian University Indianapolis",
          "Oakland University",
          "Thomas University",
          "Western Carolina University",
          "University of Louisiana - Monroe",
          "University of Minnesota Duluth",
          "Sam Houston State University",
          "Touro University",
          "University of Central Arkansas",
          "University of Rhode Island",
          "Central Michigan University",
          "Jacksonville State University",
          "Minot State University",
          "Wichita State University",
          "University of Saint Joseph",
          "Louisiana State University - Shreveport",
          "University of Detroit Mercy",
          "Southern Illinois University Edwardsville",
          "Hofstra University",
          "Marymount University",
          "Marywood University",
          "University of Michigan - Flint",
          "Arkansas State University",
          "Bowling Green State University",
          "Southeastern Oklahoma State University",
          "Nicholls State University",
          "Georgia Southern University",
          "Portland State University",
          "Queens University of Charlotte",
          "Spalding University",
          "CUNY City College of New York",
          "Husson University",
          "University of Houston - Downtown",
          "Illinois State University",
          "Regis University",
          "Chaminade University of Honolulu",
          "San Francisco State University",
          "Midwestern State University",
          "Friends University",
          "California State University - Fresno",
          "University of Pikeville",
          "Shenandoah University",
          "Adelphi University",
          "Bethel University - Minnesota",
          "Metropolitan State University - Minnesota",
          "Colorado Christian University",
          "University of Massachusetts Boston",
          "Ramapo College of New Jersey",
          "University of New Mexico",
          "California State University - Monterey Bay",
          "Barry University",
          "Fayetteville State University",
          "University of Toledo",
          "Concordia University Wisconsin",
          "Niagara University",
          "Misericordia University",
          "Washburn University",
          "CUNY Hunter College",
          "Roosevelt University",
          "Coastal Carolina University",
          "Wheeling University",
          "Emerson College",
          "South College - Knoxville",
          "Newman University",
          "University of West Georgia",
          "Heidelberg University",
          "The University of Tennessee at Chattanooga",
          "Cleveland State University",
          "University of Wisconsin - Milwaukee",
          "Webster University",
          "Saginaw Valley State University",
          "Kent State University",
          "Mayville State University",
          "Xavier University",
          "Western Michigan University",
          "Ferris State University",
          "Indiana University - South Bend",
          "Monmouth University",
          "Western New Mexico University",
          "University of Montana",
          "Lewis University",
          "Southern Illinois University Carbondale",
          "North Central College",
          "Delta State University",
          "Sonoma State University",
          "Weber State University",
          "Dominican University of California",
          "Tuskegee University",
          "University of La Verne",
          "North Carolina Central University",
          "Bellarmine University",
          "University of Maine",
          "University of Saint Francis - Indiana",
          "California State University - Los Angeles",
          "California State University - Dominguez Hills",
          "West Chester University of Pennsylvania",
          "Governors State University",
          "Franklin University",
          "Wilkes University",
          "Aurora University",
          "Fairmont State University",
          "Southeastern University",
          "Gardner-Webb University",
          "Idaho State University",
          "Trevecca Nazarene University",
          "Muskingum University",
          "Purdue University Fort Wayne",
          "California Lutheran University",
          "The New School",
          "Austin Peay State University",
          "Longwood University",
          "Florida Polytechnic University",
          "Eastern Kentucky University",
          "Christian Brothers University",
          "Colorado State University Pueblo",
          "Pace University",
          "Gannon University",
          "Lourdes University",
          "University of Wisconsin - Oshkosh",
          "Franciscan University of Steubenville",
          "Houston Christian University",
          "Marist College",
          "Colorado Mesa University",
          "Walsh University",
          "The University of Akron",
          "Faulkner University",
          "Eastern Washington University",
          "Francis Marion University",
          "La Salle University",
          "Our Lady of the Lake University",
          "University of New Orleans",
          "Jackson State University",
          "Ohio Dominican University",
          "Florida Southern College",
          "Dominican University",
          "Upper Iowa University",
          "New York Institute of Technology",
          "University of Jamestown",
          "New Mexico Highlands University",
          "Northwestern Oklahoma State University",
          "Indiana State University",
          "Western Kentucky University",
          "Western Oregon University",
          "DigiPen Institute of Technology",
          "Columbus State University",
          "Delaware State University",
          "Wright State University",
          "Malone University",
          "Carroll University",
          "Lamar University",
          "Olivet Nazarene University",
          "Central Washington University",
          "University of Arkansas at Pine Bluff",
          "Texas Wesleyan University",
          "Campbell University",
          "Ashland University",
          "Suffolk University"
         ],
         "legendgroup": "False",
         "marker": {
          "color": "blue",
          "symbol": "circle"
         },
         "mode": "markers",
         "name": "False",
         "orientation": "v",
         "showlegend": true,
         "type": "scatter",
         "x": [
          0.04,
          0.05,
          0.04,
          0.03,
          0.06,
          0.04,
          0.05,
          0.09,
          0.07,
          0.06,
          0.07,
          0.06,
          0.12,
          0.12,
          0.07,
          0.11,
          0.03,
          0.09,
          0.07,
          0.07,
          0.05,
          0.13,
          0.19,
          0.12,
          0.17,
          0.23,
          0.11,
          0.17,
          0.14,
          0.12,
          0.07,
          0.11,
          0.17,
          0.1,
          0.21,
          0.25,
          0.19,
          0.21,
          0.37,
          0.23,
          0.24,
          0.22,
          0.44,
          0.11,
          0.22,
          0.26,
          0.41,
          0.27,
          0.31,
          0.44,
          0.64,
          0.43,
          0.71,
          0.49,
          0.64,
          0.73,
          0.74,
          0.4,
          0.8,
          0.53,
          0.79,
          0.42,
          0.46,
          0.75,
          0.24,
          0.41,
          0.39,
          0.53,
          0.95,
          0.74,
          0.66,
          0.82,
          0.62,
          0.45,
          0.75,
          0.57,
          0.7,
          0.54,
          0.46,
          0.96,
          0.71,
          0.69,
          0.4,
          0.41,
          0.79,
          0.75,
          0.78,
          0.94,
          0.64,
          0.71,
          0.72,
          0.91,
          0.81,
          0.88,
          0.58,
          0.7,
          0.83,
          0.66,
          0.99,
          0.76,
          0.3,
          0.81,
          0.78,
          0.76,
          0.54,
          0.82,
          0.75,
          0.79,
          0.8,
          0.74,
          0.96,
          0.5,
          0.78,
          0.7,
          0.5,
          0.86,
          0.88,
          0.83,
          0.67,
          0.66,
          0.71,
          0.86,
          0.47,
          0.81,
          0.65,
          0.68,
          0.67,
          0.78,
          0.95,
          0.99,
          0.87,
          0.86,
          0.8,
          0.94,
          0.59,
          0.92,
          0.81,
          0.81,
          0.97,
          0.65,
          0.79,
          0.86,
          0.49,
          0.92,
          0.87,
          0.97,
          0.85,
          0.86,
          0.79,
          0.73,
          0.32,
          0.77,
          0.84,
          1,
          0.79,
          0.87,
          0.67,
          0.89,
          0.73,
          0.6,
          0.87,
          0.91,
          0.73,
          0.99,
          0.75,
          0.74,
          0.66,
          0.83,
          0.78,
          0.8,
          0.48,
          0.53,
          0.91,
          0.83,
          0.99,
          1,
          0.63,
          0.88,
          0.77,
          0.77,
          0.76,
          0.75,
          0.92,
          0.86,
          0.73,
          0.94,
          0.26,
          0.68,
          0.9,
          1,
          0.97,
          0.94,
          0.61,
          0.89,
          0.73,
          0.94,
          0.9,
          0.46,
          0.85,
          0.7,
          0.81,
          0.85,
          0.71,
          0.91,
          0.76,
          0.79,
          0.78,
          0.93,
          0.95,
          0.75,
          0.89,
          0.91,
          0.98,
          0.69,
          0.81,
          0.81,
          0.66,
          0.7,
          0.79,
          0.74,
          0.98,
          0.89,
          0.93,
          0.71,
          0.98,
          0.67,
          0.91,
          0.88,
          0.86,
          0.78,
          0.93,
          0.94,
          0.96,
          0.63,
          0.95,
          1,
          0.8,
          0.73,
          0.72,
          0.82,
          1,
          0.81,
          0.7,
          0.96,
          0.92,
          0.6,
          0.81,
          0.92,
          0.7,
          0.9,
          0.89,
          1,
          0.48,
          0.88,
          0.79,
          0.74,
          0.43,
          1,
          0.52,
          0.8,
          0.71,
          0.83,
          0.94,
          0.86,
          0.55,
          0.76,
          0.88,
          0.71,
          0.85,
          0.85,
          0.88,
          0.87,
          0.91,
          1,
          0.95,
          0.74,
          0.92,
          0.61,
          0.99,
          0.94,
          1,
          0.93,
          0.3,
          0.74,
          0.84,
          0.88,
          0.94,
          0.98,
          0.87,
          0.89,
          0.88,
          0.57,
          1,
          0.94,
          0.82,
          0.98,
          0.61,
          0.75,
          1,
          0.71,
          0.86,
          0.81,
          0.87,
          0.57,
          0.94,
          0.88,
          0.57,
          0.64,
          0.88,
          0.99,
          0.83,
          0.81,
          0.61,
          0.89,
          0.67,
          0.84,
          0.63,
          0.82,
          0.72,
          0.83,
          0.82,
          0.96,
          0.83,
          0.94,
          0.66,
          0.7,
          0.89,
          0.52,
          0.57,
          0.9,
          0.54,
          0.76,
          0.92,
          1,
          0.56,
          0.92,
          0.97,
          0.84,
          0.66,
          0.88,
          0.55,
          0.95,
          0.78,
          0.72,
          0.84,
          0.66,
          0.94,
          0.69,
          0.61,
          0.89,
          0.72,
          0.87
         ],
         "xaxis": "x",
         "y": [
          2,
          3,
          3,
          3,
          18,
          12,
          9,
          17,
          18,
          1,
          7,
          7,
          23,
          24,
          10,
          22,
          7,
          20,
          12,
          9,
          6,
          20,
          24,
          28,
          33,
          28,
          24,
          29,
          41,
          35,
          40,
          15,
          39,
          39,
          47,
          53,
          55,
          33,
          53,
          51,
          28,
          153,
          89,
          73,
          28,
          32,
          124,
          53,
          68,
          93,
          124,
          115,
          185,
          81,
          117,
          137,
          198,
          151,
          170,
          98,
          205,
          85,
          83,
          219,
          329,
          77,
          151,
          195,
          192,
          176,
          170,
          330,
          317,
          263,
          246,
          194,
          173,
          299,
          96,
          263,
          151,
          205,
          299,
          105,
          151,
          227,
          151,
          331,
          202,
          218,
          176,
          299,
          182,
          336,
          113,
          137,
          196,
          316,
          299,
          227,
          299,
          227,
          263,
          177,
          263,
          198,
          170,
          280,
          219,
          263,
          299,
          114,
          299,
          299,
          103,
          298,
          394,
          298,
          176,
          357,
          285,
          182,
          75,
          288,
          306,
          299,
          158,
          293,
          285,
          263,
          182,
          295,
          313,
          235,
          312,
          219,
          331,
          343,
          331,
          331,
          182,
          299,
          299,
          299,
          281,
          299,
          298,
          299,
          234,
          239,
          317,
          213,
          299,
          331,
          332,
          263,
          206,
          249,
          278,
          105,
          299,
          227,
          220,
          312,
          166,
          168,
          239,
          299,
          212,
          285,
          167,
          115,
          182,
          299,
          299,
          298,
          299,
          202,
          263,
          194,
          181,
          299,
          185,
          299,
          293,
          299,
          251,
          298,
          287,
          263,
          219,
          293,
          121,
          299,
          331,
          299,
          298,
          299,
          182,
          331,
          156,
          263,
          219,
          299,
          162,
          246,
          299,
          299,
          317,
          187,
          298,
          202,
          263,
          137,
          299,
          227,
          299,
          299,
          263,
          217,
          331,
          331,
          285,
          241,
          297,
          155,
          298,
          331,
          219,
          250,
          299,
          234,
          269,
          331,
          206,
          299,
          299,
          172,
          281,
          298,
          331,
          234,
          148,
          206,
          331,
          331,
          331,
          299,
          299,
          178,
          219,
          299,
          151,
          331,
          168,
          298,
          93,
          299,
          331,
          331,
          147,
          331,
          299,
          355,
          219,
          331,
          212,
          298,
          166,
          285,
          331,
          299,
          182,
          299,
          285,
          256,
          263,
          107,
          299,
          263,
          299,
          186,
          263,
          151,
          219,
          184,
          219,
          299,
          204,
          331,
          182,
          109,
          299,
          234,
          299,
          299,
          124,
          317,
          298,
          299,
          427,
          331,
          246,
          133,
          299,
          289,
          121,
          299,
          230,
          331,
          234,
          263,
          127,
          331,
          179,
          331,
          156,
          299,
          298,
          299,
          299,
          298,
          176,
          213,
          331,
          299,
          280,
          299,
          202,
          331,
          133,
          350,
          298,
          331,
          299,
          298,
          331,
          298,
          127,
          331,
          134,
          299,
          331,
          196,
          331,
          331,
          299,
          296,
          299,
          226,
          263,
          234
         ],
         "yaxis": "y"
        },
        {
         "customdata": [
          [
           "ANN ARBOR, MI 48109",
           54.55627885722758,
           true
          ],
          [
           "AUSTIN, TX 78705",
           85.20488144795522,
           true
          ],
          [
           "CHAMPAIGN, IL 61820",
           118.2110688533542,
           true
          ],
          [
           "ATHENS, GA 30602",
           113.49589922401148,
           true
          ],
          [
           "MADISON, WI 53706",
           127.64140811203963,
           true
          ],
          [
           "BLACKSBURG, VA 24061",
           146.50208662941046,
           true
          ],
          [
           "SEATTLE, WA 98195",
           125.28382329736827,
           true
          ],
          [
           "WEST LAFAYETTE, IN 47907",
           137.07174737072506,
           true
          ],
          [
           "COLUMBUS, OH 43210",
           137.07174737072506,
           true
          ],
          [
           "COLLEGE PARK, MD 20742",
           118.2110688533542,
           true
          ],
          [
           "RALEIGH, NC 27695",
           122.9262384826969,
           true
          ],
          [
           "GOLDEN, CO 80401",
           148.8596714440818,
           true
          ],
          [
           "PITTSBURGH, PA 15260",
           127.64140811203963,
           true
          ],
          [
           "BLOOMINGTON, IN 47405",
           205.44170699619437,
           true
          ],
          [
           "PROVO, UT 84602",
           170.07793477612404,
           true
          ],
          [
           "MINNEAPOLIS, MN 55455",
           188.93861329349488,
           true
          ],
          [
           "EAST LANSING, MI 48824",
           219.58721588422253,
           true
          ],
          [
           "AMHERST, MA 01003",
           163.00518033210997,
           true
          ],
          [
           "TEMPE, AZ 85287",
           224.30238551356524,
           true
          ],
          [
           "ROCHESTER, NY 14627",
           104.06555996532607,
           true
          ],
          [
           "FORT WORTH, TX 76109",
           144.14450181473913,
           true
          ],
          [
           "IOWA CITY, IA 52242",
           214.8720462548798,
           true
          ],
          [
           "BIRMINGHAM, AL 35294",
           217.22963106955117,
           true
          ],
          [
           "UNIVERSITY, MS 38677",
           240.80547921626473,
           true
          ],
          [
           "LUBBOCK, TX 79409",
           170.07793477612404,
           true
          ],
          [
           "UNIVERSITY PARK, PA 16802",
           141.78691700006777,
           true
          ],
          [
           "SALT LAKE CITY, UT 84112",
           221.94480069889389,
           true
          ],
          [
           "LAWRENCE, KS 66045",
           219.58721588422253,
           true
          ],
          [
           "SANTA CLARA, CA 95053",
           134.71416255605368,
           true
          ],
          [
           "HOUGHTON, MI 49931",
           233.73272477225063,
           true
          ],
          [
           "AMES, IA 50011",
           224.30238551356524,
           true
          ],
          [
           "DAYTON, OH 45469",
           186.58102847882353,
           true
          ],
          [
           "SAN LUIS OBISPO, CA 93407",
           82.84729663328386,
           true
          ],
          [
           "WALTHAM, MA 02454",
           104.06555996532607,
           true
          ],
          [
           "STORRS MANSFIELD, CT 06269",
           141.78691700006777,
           true
          ],
          [
           "PULLMAN, WA 99164",
           207.79929181086572,
           true
          ],
          [
           "TUCSON, AZ 85721",
           217.22963106955117,
           true
          ],
          [
           "CINCINNATI, OH 45221",
           214.8720462548798,
           true
          ],
          [
           "CORVALLIS, OR 97331",
           207.79929181086572,
           true
          ],
          [
           "COLUMBIA, MO 65211",
           198.36895255218033,
           true
          ],
          [
           "PHILADELPHIA, PA 19104",
           200.7265373668517,
           true
          ],
          [
           "NEW YORK CITY, NY 10033",
           160.64759551743862,
           true
          ],
          [
           "TERRE HAUTE, IN 47803",
           184.22344366415217,
           true
          ],
          [
           "CHICAGO, IL 60607",
           198.36895255218033,
           true
          ],
          [
           "NEWARK, DE 19716",
           186.58102847882353,
           true
          ],
          [
           "TROY, NY 12180",
           165.36276514678133,
           true
          ],
          [
           "WORCESTER, MA 01609",
           146.50208662941046,
           true
          ],
          [
           "SYRACUSE, NY 13244",
           134.71416255605368,
           true
          ],
          [
           "PENSACOLA, FL 32514",
           125.28382329736827,
           true
          ],
          [
           "RAPID CITY, SD 57701",
           207.79929181086572,
           true
          ],
          [
           "STONY BROOK, NY 11794",
           127.64140811203963,
           true
          ],
          [
           "MALIBU, CA 90263",
           127.64140811203963,
           true
          ],
          [
           "NEWARK, NJ 07102",
           167.72034996145268,
           true
          ],
          [
           "TRENTON, NJ 08628",
           163.00518033210997,
           true
          ],
          [
           "CROOKSTON, MN 56716",
           151.2172562587532,
           true
          ],
          [
           "KNOXVILLE, TN 37996",
           172.4355195907954,
           true
          ],
          [
           "OMAHA, NE 68178",
           191.29619810816624,
           true
          ],
          [
           "LEXINGTON, KY 40509",
           236.090309586922,
           true
          ],
          [
           "PHILADELPHIA, PA 19122",
           200.7265373668517,
           true
          ],
          [
           "BOULDER, CO 80309",
           203.08412218152304,
           true
          ],
          [
           "SAINT LOUIS, MO 63103",
           214.8720462548798,
           true
          ],
          [
           "NEWARK, NJ 07102",
           186.58102847882353,
           true
          ],
          [
           "BIRMINGHAM, AL 35229",
           207.79929181086572,
           true
          ],
          [
           "RICHMOND, VA 23284",
           226.6599703282366,
           true
          ],
          [
           "MILWAUKEE, WI 53233",
           217.22963106955117,
           true
          ],
          [
           "ORANGE, CA 92866",
           184.22344366415217,
           true
          ],
          [
           "FORT COLLINS, CO 80523",
           226.6599703282366,
           true
          ],
          [
           "FAIRFAX, VA 22030",
           224.30238551356524,
           true
          ],
          [
           "ROCHESTER, NY 14623",
           170.07793477612404,
           true
          ],
          [
           "PHILADELPHIA, PA 19144",
           221.94480069889389,
           true
          ],
          [
           "STOCKTON, CA 95211",
           231.3751399575793,
           true
          ],
          [
           "BOONE, NC 28608",
           207.79929181086572,
           true
          ],
          [
           "PORTLAND, OR 97203",
           231.3751399575793,
           true
          ],
          [
           "DAYTONA BEACH, FL 32114",
           165.36276514678133,
           true
          ],
          [
           "RICHMOND, IN 47374",
           196.01136773750898,
           true
          ],
          [
           "SAN FRANCISCO, CA 94117",
           179.50827403480946,
           true
          ],
          [
           "EUGENE, OR 97403",
           214.8720462548798,
           true
          ],
          [
           "ODESSA, TX 79762",
           236.090309586922,
           true
          ],
          [
           "RICHARDSON, TX 75080",
           212.51446144020844,
           true
          ],
          [
           "JACKSONVILLE, FL 32211",
           148.8596714440818,
           true
          ],
          [
           "SCRANTON, PA 18510",
           210.15687662553708,
           true
          ],
          [
           "WASHINGTON, DC 20064",
           214.8720462548798,
           true
          ],
          [
           "SOUTH ORANGE, NJ 07079",
           188.93861329349488,
           true
          ],
          [
           "SPOKANE, WA 99258",
           177.1506892201381,
           true
          ],
          [
           "SEATTLE, WA 98122",
           212.51446144020844,
           true
          ],
          [
           "LA CROSSE, WI 54601",
           186.58102847882353,
           true
          ],
          [
           "MAGNOLIA, AR 71753",
           163.00518033210997,
           true
          ],
          [
           "VICTORIA, TX 77901",
           205.44170699619437,
           true
          ],
          [
           "ADA, OK 74820",
           177.1506892201381,
           true
          ],
          [
           "CHICAGO, IL 60660",
           198.36895255218033,
           true
          ],
          [
           "EDMOND, OK 73034",
           177.1506892201381,
           true
          ],
          [
           "RIVERSIDE, CA 92521",
           174.79310440546675,
           true
          ],
          [
           "MURRAY, KY 42071",
           210.15687662553708,
           true
          ],
          [
           "PROVIDENCE, RI 02918",
           137.07174737072506,
           true
          ],
          [
           "DURHAM, NH 03824",
           217.22963106955117,
           true
          ],
          [
           "POTSDAM, NY 13699",
           196.01136773750898,
           true
          ],
          [
           "INDIANAPOLIS, IN 46208",
           205.44170699619437,
           true
          ],
          [
           "KIRKLAND, WA 98083",
           233.73272477225063,
           true
          ],
          [
           "NEW ALBANY, IN 47150",
           212.51446144020844,
           true
          ],
          [
           "DELAND, FL 32723",
           233.73272477225063,
           true
          ],
          [
           "SALISBURY, MD 21801",
           226.6599703282366,
           true
          ],
          [
           "OXFORD, OH 45056",
           219.58721588422253,
           true
          ],
          [
           "ANDERSON, SC 29621",
           118.2110688533542,
           true
          ],
          [
           "DENVER, CO 80208",
           196.01136773750898,
           true
          ],
          [
           "WARRENSBURG, MO 64093",
           179.50827403480946,
           true
          ],
          [
           "KENOSHA, WI 53144",
           184.22344366415217,
           true
          ],
          [
           "BALTIMORE, MD 21210",
           207.79929181086572,
           true
          ],
          [
           "MILWAUKEE, WI 53202",
           160.64759551743862,
           true
          ],
          [
           "SPARTANBURG, SC 29303",
           198.36895255218033,
           true
          ],
          [
           "WAYNE, NJ 07470",
           229.01755514290795,
           true
          ],
          [
           "SLIPPERY ROCK, PA 16057",
           186.58102847882353,
           true
          ],
          [
           "BOTHELL, WA 98011",
           219.58721588422253,
           true
          ],
          [
           "ONEONTA, NY 13820",
           184.22344366415217,
           true
          ],
          [
           "BRONX, NY 10458",
           139.42933218539642,
           true
          ],
          [
           "ABSECON, NJ 08205",
           214.8720462548798,
           true
          ],
          [
           "CLEVELAND, OH 44118",
           205.44170699619437,
           true
          ],
          [
           "PITTSBURGH, PA 15282",
           219.58721588422253,
           true
          ],
          [
           "FLUSHING, NY 11367",
           177.1506892201381,
           true
          ],
          [
           "MANCHESTER, NH 03101",
           212.51446144020844,
           true
          ],
          [
           "MERCED, CA 95343",
           221.94480069889389,
           true
          ],
          [
           "WINONA, MN 55987",
           186.58102847882353,
           true
          ],
          [
           "FREDERICKSBURG, VA 22401",
           214.8720462548798,
           true
          ],
          [
           "SAN MARCOS, CA 92096",
           236.090309586922,
           true
          ],
          [
           "UTICA, NY 13502",
           203.08412218152304,
           true
          ],
          [
           "PHOENIX, AZ 85004",
           205.44170699619437,
           true
          ],
          [
           "PITTSBURGH, PA 15213",
           231.3751399575793,
           true
          ],
          [
           "MOORHEAD, MN 56563",
           146.50208662941046,
           true
          ],
          [
           "BELLINGHAM, WA 98225",
           231.3751399575793,
           true
          ],
          [
           "ABERDEEN, SD 57401",
           196.01136773750898,
           true
          ],
          [
           "SPRINGFIELD, IL 62703",
           205.44170699619437,
           true
          ],
          [
           "RUSSELLVILLE, AR 72801",
           233.73272477225063,
           true
          ],
          [
           "TEANECK, NJ 07666",
           210.15687662553708,
           true
          ],
          [
           "TRENTON, NJ 08648",
           210.15687662553708,
           true
          ],
          [
           "TACOMA, WA 98402",
           219.58721588422253,
           true
          ],
          [
           "AMERICUS, GA 31709",
           184.22344366415217,
           true
          ],
          [
           "PLATTSBURGH, NY 12901",
           177.1506892201381,
           true
          ],
          [
           "ELON COLLEGE, NC 27244",
           186.58102847882353,
           true
          ],
          [
           "VALPARAISO, IN 46383",
           233.73272477225063,
           true
          ],
          [
           "FLINT, MI 48504",
           203.08412218152304,
           true
          ],
          [
           "HAMDEN, CT 06518",
           210.15687662553708,
           true
          ],
          [
           "CHESTER, PA 19013",
           219.58721588422253,
           true
          ],
          [
           "BLOOMSBURG, PA 17815",
           224.30238551356524,
           true
          ],
          [
           "KUTZTOWN, PA 19530",
           238.44789440159337,
           true
          ],
          [
           "FROSTBURG, MD 21532",
           219.58721588422253,
           true
          ],
          [
           "NEW BRITAIN, CT 06050",
           193.6537829228376,
           true
          ],
          [
           "NEW HAVEN, CT 06515",
           207.79929181086572,
           true
          ],
          [
           "MARQUETTE, MI 49855",
           177.1506892201381,
           true
          ],
          [
           "OSWEGO, NY 13126",
           207.79929181086572,
           true
          ],
          [
           "ASHLAND, OR 97520",
           219.58721588422253,
           true
          ],
          [
           "CAPE GIRARDEAU, MO 63701",
           219.58721588422253,
           true
          ],
          [
           "CALIFORNIA, PA 15419",
           233.73272477225063,
           true
          ],
          [
           "HOOKSETT, NH 03106",
           238.44789440159337,
           true
          ],
          [
           "EDMOND, OK 73013",
           238.44789440159337,
           true
          ],
          [
           null,
           240.80547921626473,
           true
          ],
          [
           "SCRANTON, PA 18512",
           233.73272477225063,
           true
          ],
          [
           "GAINESVILLE, FL 32611",
           165.36276514678133,
           true
          ],
          [
           "CHARLESTON, SC 29406",
           217.22963106955117,
           true
          ],
          [
           "MENOMONIE, WI 54751",
           214.8720462548798,
           true
          ]
         ],
         "hovertemplate": "<b>%{hovertext}</b><br><br>good_value=%{customdata[2]}<br>Acceptance Rate=%{x}<br>Ranking=%{y}<br>City=%{customdata[0]}<br>expected_ranking=%{customdata[1]}<extra></extra>",
         "hovertext": [
          "University of Michigan - Ann Arbor",
          "University of Texas - Austin",
          "University of Illinois Urbana-Champaign",
          "University of Georgia",
          "University of Wisconsin-Madison",
          "Virginia Tech",
          "University of Washington",
          "Purdue University",
          "The Ohio State University",
          "University of Maryland - College Park",
          "North Carolina State University",
          "Colorado School of Mines",
          "University of Pittsburgh",
          "Indiana University - Bloomington",
          "Brigham Young University",
          "University of Minnesota Twin Cities",
          "Michigan State University",
          "University of Massachusetts Amherst",
          "Arizona State University",
          "University of Rochester",
          "Texas Christian University",
          "University of Iowa",
          "University of Alabama - Birmingham",
          "University of Mississippi",
          "Texas Tech University",
          "Penn State",
          "University of Utah",
          "The University of Kansas",
          "Santa Clara University",
          "Michigan Technological University",
          "Iowa State University",
          "University of Dayton",
          "Cal Poly San Luis Obispo",
          "Brandeis University",
          "University of Connecticut",
          "Washington State University",
          "University of Arizona",
          "University of Cincinnati",
          "Oregon State University",
          "University of Missouri",
          "Drexel University",
          "Yeshiva University",
          "Rose-Hulman Institute of Technology",
          "University of Illinois Chicago",
          "University of Delaware",
          "Rensselaer Polytechnic Institute",
          "Worcester Polytechnic Institute",
          "Syracuse University",
          "University of West Florida",
          "South Dakota School of Mines and Technology",
          "Stony Brook University",
          "Pepperdine University",
          "New Jersey Institute of Technology",
          "The College of New Jersey",
          "University of Minnesota Crookston",
          "University of Tennessee",
          "Creighton University",
          "University of Kentucky",
          "Temple University",
          "University of Colorado Boulder",
          "Saint Louis University",
          "Rutgers University - Newark",
          "Samford University",
          "Virginia Commonwealth University",
          "Marquette University",
          "Chapman University",
          "Colorado State University",
          "George Mason University",
          "Rochester Institute of Technology",
          "Thomas Jefferson University",
          "University of the Pacific",
          "Appalachian State University",
          "University of Portland",
          "Embry-Riddle Aeronautical University - Daytona Beach",
          "Indiana University - East",
          "University of San Francisco",
          "University of Oregon",
          "University of Texas - Permian Basin",
          "University of Texas - Dallas",
          "Jacksonville University",
          "University of Scranton",
          "The Catholic University of America",
          "Seton Hall University",
          "Gonzaga University",
          "Seattle University",
          "University of Wisconsin - La Crosse",
          "Southern Arkansas University",
          "University of Houston - Victoria",
          "East Central University",
          "Loyola University Chicago",
          "University of Central Oklahoma",
          "University of California - Riverside",
          "Murray State University",
          "Providence College",
          "University of New Hampshire",
          "Clarkson University",
          "Butler University",
          "Northwest University",
          "Indiana University Southeast",
          "Stetson University",
          "Salisbury University",
          "Miami University",
          "Anderson University - South Carolina",
          "University of Denver",
          "University of Central Missouri",
          "University of Wisconsin-Parkside",
          "Loyola University Maryland",
          "Milwaukee School of Engineering",
          "University of South Carolina - Upstate",
          "William Paterson University of New Jersey",
          "Slippery Rock University",
          "University of Washington - Bothell",
          "SUNY Oneonta",
          "Fordham University",
          "Stockton University",
          "John Carroll University",
          "Duquesne University",
          "CUNY Queens College",
          "University of New Hampshire at Manchester",
          "University of California - Merced",
          "Winona State University",
          "University of Mary Washington",
          "California State University - San Marcos",
          "Utica University",
          "Arizona State University - Downtown Phoenix Campus",
          "Carlow University",
          "Minnesota State University Moorhead",
          "Western Washington University",
          "Northern State University",
          "University of Illinois Springfield",
          "Arkansas Tech University",
          "Fairleigh Dickinson University - Metropolitan Campus",
          "Rider University",
          "University of Washington - Tacoma",
          "Georgia Southwestern State University",
          "SUNY Plattsburgh",
          "Elon University",
          "Valparaiso University",
          "Kettering University",
          "Quinnipiac University",
          "Widener University",
          "Commonwealth University - Bloomsburg",
          "Kutztown University of Pennsylvania",
          "Frostburg State University",
          "Central Connecticut State University",
          "Southern Connecticut State University",
          "Northern Michigan University",
          "SUNY Oswego",
          "Southern Oregon University",
          "Southeast Missouri State University",
          "PennWest California",
          "Southern New Hampshire University",
          "Oklahoma Christian University",
          "University of the Virgin Islands",
          "Penn State Scranton",
          "University of Florida-Online",
          "Charleston Southern University",
          "University of Wisconsin - Stout"
         ],
         "legendgroup": "True",
         "marker": {
          "color": "green",
          "symbol": "circle"
         },
         "mode": "markers",
         "name": "True",
         "orientation": "v",
         "showlegend": true,
         "type": "scatter",
         "x": [
          0.18,
          0.31,
          0.45,
          0.43,
          0.49,
          0.57,
          0.48,
          0.53,
          0.53,
          0.45,
          0.47,
          0.58,
          0.49,
          0.82,
          0.67,
          0.75,
          0.88,
          0.64,
          0.9,
          0.39,
          0.56,
          0.86,
          0.87,
          0.97,
          0.67,
          0.55,
          0.89,
          0.88,
          0.52,
          0.94,
          0.9,
          0.74,
          0.3,
          0.39,
          0.55,
          0.83,
          0.87,
          0.86,
          0.83,
          0.79,
          0.8,
          0.63,
          0.73,
          0.79,
          0.74,
          0.65,
          0.57,
          0.52,
          0.48,
          0.83,
          0.49,
          0.49,
          0.66,
          0.64,
          0.59,
          0.68,
          0.76,
          0.95,
          0.8,
          0.81,
          0.86,
          0.74,
          0.83,
          0.91,
          0.87,
          0.73,
          0.91,
          0.9,
          0.67,
          0.89,
          0.93,
          0.83,
          0.93,
          0.65,
          0.78,
          0.71,
          0.86,
          0.95,
          0.85,
          0.58,
          0.84,
          0.86,
          0.75,
          0.7,
          0.85,
          0.74,
          0.64,
          0.82,
          0.7,
          0.79,
          0.7,
          0.69,
          0.84,
          0.53,
          0.87,
          0.78,
          0.82,
          0.94,
          0.85,
          0.94,
          0.91,
          0.88,
          0.45,
          0.78,
          0.71,
          0.73,
          0.83,
          0.63,
          0.79,
          0.92,
          0.74,
          0.88,
          0.73,
          0.54,
          0.86,
          0.82,
          0.88,
          0.7,
          0.85,
          0.89,
          0.74,
          0.86,
          0.95,
          0.81,
          0.82,
          0.93,
          0.57,
          0.93,
          0.78,
          0.82,
          0.94,
          0.84,
          0.84,
          0.88,
          0.73,
          0.7,
          0.74,
          0.94,
          0.81,
          0.84,
          0.88,
          0.9,
          0.96,
          0.88,
          0.77,
          0.83,
          0.7,
          0.83,
          0.88,
          0.88,
          0.94,
          0.96,
          0.96,
          0.97,
          0.94,
          0.65,
          0.87,
          0.86
         ],
         "xaxis": "x",
         "y": [
          3,
          32,
          43,
          47,
          35,
          47,
          40,
          43,
          43,
          46,
          72,
          76,
          47,
          72,
          89,
          61,
          60,
          26,
          105,
          47,
          89,
          93,
          137,
          178,
          115,
          60,
          115,
          151,
          60,
          151,
          122,
          127,
          28,
          44,
          67,
          115,
          105,
          151,
          151,
          135,
          105,
          95,
          130,
          97,
          93,
          55,
          82,
          68,
          48,
          155,
          58,
          76,
          86,
          19,
          45,
          115,
          124,
          141,
          121,
          105,
          118,
          115,
          127,
          156,
          89,
          121,
          151,
          151,
          105,
          127,
          151,
          131,
          3,
          11,
          119,
          105,
          94,
          62,
          115,
          58,
          45,
          115,
          137,
          83,
          139,
          19,
          104,
          77,
          80,
          121,
          64,
          76,
          104,
          1,
          115,
          121,
          137,
          13,
          123,
          153,
          172,
          115,
          45,
          124,
          76,
          124,
          4,
          9,
          18,
          126,
          90,
          153,
          90,
          72,
          104,
          131,
          151,
          57,
          136,
          97,
          63,
          156,
          97,
          117,
          129,
          157,
          95,
          14,
          85,
          20,
          77,
          44,
          24,
          65,
          65,
          90,
          89,
          182,
          126,
          153,
          142,
          142,
          125,
          113,
          105,
          109,
          87,
          59,
          76,
          103,
          133,
          133,
          68,
          86,
          52,
          1,
          62,
          69
         ],
         "yaxis": "y"
        },
        {
         "line": {
          "color": "red",
          "dash": "dash"
         },
         "mode": "lines",
         "name": "Best Fit Line",
         "type": "scatter",
         "x": [
          0.03,
          0.0397979797979798,
          0.049595959595959596,
          0.05939393939393939,
          0.0691919191919192,
          0.07898989898989899,
          0.08878787878787878,
          0.09858585858585858,
          0.10838383838383837,
          0.11818181818181817,
          0.12797979797979797,
          0.13777777777777778,
          0.14757575757575755,
          0.15737373737373736,
          0.16717171717171717,
          0.17696969696969694,
          0.18676767676767675,
          0.19656565656565655,
          0.20636363636363633,
          0.21616161616161614,
          0.22595959595959594,
          0.23575757575757572,
          0.24555555555555553,
          0.25535353535353533,
          0.26515151515151514,
          0.27494949494949494,
          0.28474747474747475,
          0.29454545454545455,
          0.30434343434343436,
          0.31414141414141405,
          0.32393939393939386,
          0.33373737373737367,
          0.34353535353535347,
          0.3533333333333333,
          0.3631313131313131,
          0.3729292929292929,
          0.3827272727272727,
          0.3925252525252525,
          0.4023232323232323,
          0.4121212121212121,
          0.4219191919191919,
          0.4317171717171717,
          0.4415151515151514,
          0.4513131313131312,
          0.461111111111111,
          0.47090909090909083,
          0.48070707070707064,
          0.49050505050505044,
          0.5003030303030302,
          0.51010101010101,
          0.5198989898989899,
          0.5296969696969697,
          0.5394949494949495,
          0.5492929292929293,
          0.5590909090909091,
          0.5688888888888889,
          0.5786868686868687,
          0.5884848484848485,
          0.5982828282828282,
          0.608080808080808,
          0.6178787878787878,
          0.6276767676767676,
          0.6374747474747474,
          0.6472727272727272,
          0.657070707070707,
          0.6668686868686868,
          0.6766666666666666,
          0.6864646464646464,
          0.6962626262626262,
          0.706060606060606,
          0.7158585858585859,
          0.7256565656565656,
          0.7354545454545454,
          0.7452525252525252,
          0.755050505050505,
          0.7648484848484848,
          0.7746464646464646,
          0.7844444444444444,
          0.7942424242424242,
          0.804040404040404,
          0.8138383838383838,
          0.8236363636363636,
          0.8334343434343434,
          0.8432323232323232,
          0.8530303030303029,
          0.8628282828282827,
          0.8726262626262625,
          0.8824242424242423,
          0.8922222222222221,
          0.9020202020202019,
          0.9118181818181817,
          0.9216161616161616,
          0.9314141414141414,
          0.9412121212121212,
          0.951010101010101,
          0.9608080808080808,
          0.9706060606060605,
          0.9804040404040403,
          0.9902020202020201,
          1
         ],
         "y": [
          19.19250663715724,
          21.50246347577463,
          23.812420314392018,
          26.122377153009406,
          28.4323339916268,
          30.742290830244187,
          33.052247668861575,
          35.362204507478964,
          37.67216134609635,
          39.98211818471374,
          42.29207502333114,
          44.602031861948525,
          46.91198870056591,
          49.2219455391833,
          51.53190237780069,
          53.84185921641807,
          56.15181605503547,
          58.46177289365286,
          60.771729732270245,
          63.08168657088763,
          65.39164340950502,
          67.70160024812242,
          70.0115570867398,
          72.3215139253572,
          74.63147076397459,
          76.94142760259197,
          79.25138444120937,
          81.56134127982676,
          83.87129811844414,
          86.18125495706151,
          88.49121179567891,
          90.80116863429629,
          93.11112547291368,
          95.42108231153108,
          97.73103915014848,
          100.04099598876586,
          102.35095282738325,
          104.66090966600065,
          106.97086650461803,
          109.28082334323543,
          111.59078018185282,
          113.9007370204702,
          116.21069385908757,
          118.52065069770497,
          120.83060753632236,
          123.14056437493974,
          125.45052121355714,
          127.76047805217453,
          130.07043489079192,
          132.38039172940933,
          134.6903485680267,
          137.0003054066441,
          139.31026224526147,
          141.62021908387888,
          143.93017592249626,
          146.24013276111367,
          148.55008959973105,
          150.86004643834843,
          153.17000327696582,
          155.4799601155832,
          157.78991695420058,
          160.099873792818,
          162.40983063143537,
          164.71978747005275,
          167.02974430867016,
          169.33970114728754,
          171.64965798590492,
          173.95961482452233,
          176.26957166313971,
          178.5795285017571,
          180.8894853403745,
          183.19944217899186,
          185.50939901760927,
          187.81935585622665,
          190.12931269484403,
          192.43926953346144,
          194.74922637207882,
          197.0591832106962,
          199.36914004931361,
          201.679096887931,
          203.98905372654838,
          206.2990105651658,
          208.60896740378317,
          210.91892424240055,
          213.22888108101793,
          215.5388379196353,
          217.84879475825272,
          220.1587515968701,
          222.46870843548749,
          224.7786652741049,
          227.08862211272228,
          229.39857895133966,
          231.70853578995707,
          234.01849262857445,
          236.32844946719183,
          238.63840630580924,
          240.9483631444266,
          243.25831998304398,
          245.56827682166139,
          247.8782336602788
         ]
        }
       ],
       "layout": {
        "legend": {
         "title": {
          "text": "good_value"
         },
         "tracegroupgap": 0
        },
        "template": {
         "data": {
          "candlestick": [
           {
            "decreasing": {
             "line": {
              "color": "#000033"
             }
            },
            "increasing": {
             "line": {
              "color": "#000032"
             }
            },
            "type": "candlestick"
           }
          ],
          "contour": [
           {
            "colorscale": [
             [
              0,
              "#000011"
             ],
             [
              0.1111111111111111,
              "#000012"
             ],
             [
              0.2222222222222222,
              "#000013"
             ],
             [
              0.3333333333333333,
              "#000014"
             ],
             [
              0.4444444444444444,
              "#000015"
             ],
             [
              0.5555555555555556,
              "#000016"
             ],
             [
              0.6666666666666666,
              "#000017"
             ],
             [
              0.7777777777777778,
              "#000018"
             ],
             [
              0.8888888888888888,
              "#000019"
             ],
             [
              1,
              "#000020"
             ]
            ],
            "type": "contour"
           }
          ],
          "contourcarpet": [
           {
            "colorscale": [
             [
              0,
              "#000011"
             ],
             [
              0.1111111111111111,
              "#000012"
             ],
             [
              0.2222222222222222,
              "#000013"
             ],
             [
              0.3333333333333333,
              "#000014"
             ],
             [
              0.4444444444444444,
              "#000015"
             ],
             [
              0.5555555555555556,
              "#000016"
             ],
             [
              0.6666666666666666,
              "#000017"
             ],
             [
              0.7777777777777778,
              "#000018"
             ],
             [
              0.8888888888888888,
              "#000019"
             ],
             [
              1,
              "#000020"
             ]
            ],
            "type": "contourcarpet"
           }
          ],
          "heatmap": [
           {
            "colorscale": [
             [
              0,
              "#000011"
             ],
             [
              0.1111111111111111,
              "#000012"
             ],
             [
              0.2222222222222222,
              "#000013"
             ],
             [
              0.3333333333333333,
              "#000014"
             ],
             [
              0.4444444444444444,
              "#000015"
             ],
             [
              0.5555555555555556,
              "#000016"
             ],
             [
              0.6666666666666666,
              "#000017"
             ],
             [
              0.7777777777777778,
              "#000018"
             ],
             [
              0.8888888888888888,
              "#000019"
             ],
             [
              1,
              "#000020"
             ]
            ],
            "type": "heatmap"
           }
          ],
          "histogram2d": [
           {
            "colorscale": [
             [
              0,
              "#000011"
             ],
             [
              0.1111111111111111,
              "#000012"
             ],
             [
              0.2222222222222222,
              "#000013"
             ],
             [
              0.3333333333333333,
              "#000014"
             ],
             [
              0.4444444444444444,
              "#000015"
             ],
             [
              0.5555555555555556,
              "#000016"
             ],
             [
              0.6666666666666666,
              "#000017"
             ],
             [
              0.7777777777777778,
              "#000018"
             ],
             [
              0.8888888888888888,
              "#000019"
             ],
             [
              1,
              "#000020"
             ]
            ],
            "type": "histogram2d"
           }
          ],
          "icicle": [
           {
            "textfont": {
             "color": "white"
            },
            "type": "icicle"
           }
          ],
          "sankey": [
           {
            "textfont": {
             "color": "#000036"
            },
            "type": "sankey"
           }
          ],
          "scatter": [
           {
            "marker": {
             "line": {
              "width": 0
             }
            },
            "type": "scatter"
           }
          ],
          "table": [
           {
            "cells": {
             "fill": {
              "color": "#000038"
             },
             "font": {
              "color": "#000037"
             },
             "line": {
              "color": "#000039"
             }
            },
            "header": {
             "fill": {
              "color": "#000040"
             },
             "font": {
              "color": "#000036"
             },
             "line": {
              "color": "#000039"
             }
            },
            "type": "table"
           }
          ],
          "waterfall": [
           {
            "connector": {
             "line": {
              "color": "#000036",
              "width": 2
             }
            },
            "decreasing": {
             "marker": {
              "color": "#000033"
             }
            },
            "increasing": {
             "marker": {
              "color": "#000032"
             }
            },
            "totals": {
             "marker": {
              "color": "#000034"
             }
            },
            "type": "waterfall"
           }
          ]
         },
         "layout": {
          "coloraxis": {
           "colorscale": [
            [
             0,
             "#000011"
            ],
            [
             0.1111111111111111,
             "#000012"
            ],
            [
             0.2222222222222222,
             "#000013"
            ],
            [
             0.3333333333333333,
             "#000014"
            ],
            [
             0.4444444444444444,
             "#000015"
            ],
            [
             0.5555555555555556,
             "#000016"
            ],
            [
             0.6666666666666666,
             "#000017"
            ],
            [
             0.7777777777777778,
             "#000018"
            ],
            [
             0.8888888888888888,
             "#000019"
            ],
            [
             1,
             "#000020"
            ]
           ]
          },
          "colorscale": {
           "diverging": [
            [
             0,
             "#000021"
            ],
            [
             0.1,
             "#000022"
            ],
            [
             0.2,
             "#000023"
            ],
            [
             0.3,
             "#000024"
            ],
            [
             0.4,
             "#000025"
            ],
            [
             0.5,
             "#000026"
            ],
            [
             0.6,
             "#000027"
            ],
            [
             0.7,
             "#000028"
            ],
            [
             0.8,
             "#000029"
            ],
            [
             0.9,
             "#000030"
            ],
            [
             1,
             "#000031"
            ]
           ],
           "sequential": [
            [
             0,
             "#000011"
            ],
            [
             0.1111111111111111,
             "#000012"
            ],
            [
             0.2222222222222222,
             "#000013"
            ],
            [
             0.3333333333333333,
             "#000014"
            ],
            [
             0.4444444444444444,
             "#000015"
            ],
            [
             0.5555555555555556,
             "#000016"
            ],
            [
             0.6666666666666666,
             "#000017"
            ],
            [
             0.7777777777777778,
             "#000018"
            ],
            [
             0.8888888888888888,
             "#000019"
            ],
            [
             1,
             "#000020"
            ]
           ],
           "sequentialminus": [
            [
             0,
             "#000011"
            ],
            [
             0.1111111111111111,
             "#000012"
            ],
            [
             0.2222222222222222,
             "#000013"
            ],
            [
             0.3333333333333333,
             "#000014"
            ],
            [
             0.4444444444444444,
             "#000015"
            ],
            [
             0.5555555555555556,
             "#000016"
            ],
            [
             0.6666666666666666,
             "#000017"
            ],
            [
             0.7777777777777778,
             "#000018"
            ],
            [
             0.8888888888888888,
             "#000019"
            ],
            [
             1,
             "#000020"
            ]
           ]
          },
          "colorway": [
           "#000001",
           "#000002",
           "#000003",
           "#000004",
           "#000005",
           "#000006",
           "#000007",
           "#000008",
           "#000009",
           "#000010"
          ]
         }
        },
        "title": {
         "text": "Ranking vs Acceptance Rate with Good Value Highlight"
        },
        "xaxis": {
         "anchor": "y",
         "domain": [
          0,
          1
         ],
         "title": {
          "text": "Acceptance Rate"
         }
        },
        "yaxis": {
         "anchor": "x",
         "autorange": "reversed",
         "domain": [
          0,
          1
         ],
         "title": {
          "text": "Ranking"
         }
        }
       }
      }
     },
     "metadata": {},
     "output_type": "display_data"
    }
   ],
   "source": [
    "from plots import analyze_ranking_vs_acceptance\n",
    "\n",
    "df = pd.read_excel('final_dataset.xlsx')\n",
    "df_for_ranking_analysis=df[df[\"LAC\"] == 0]\n",
    "df_for_ranking_analysis=df_for_ranking_analysis[df_for_ranking_analysis[\"Ranking\"]<500] \n",
    "\n",
    "# 2) Appeler la fonction d'analyse\n",
    "fig = analyze_ranking_vs_acceptance(df_for_ranking_analysis, ranking_threshold=50)\n",
    "\n",
    "# 3) Afficher le graphique\n",
    "fig.show()\n"
   ]
  },
  {
   "cell_type": "markdown",
   "metadata": {},
   "source": [
    "---\n",
    "\n",
    "## <span style=\"color:#2E8B57\">Conclusion</span>\n",
    "\n",
    "Grâce à ces dernières visualisations :\n",
    "\n",
    "1. Nous **approfondissons** la notion de sélectivité via la comparaison **Ranking vs. Acceptance Rate**.  \n",
    "2. Nous **mettons en évidence** les filières phares et les opportunités (ou contraintes) en matière de **dates limites**.  \n",
    "3. Nous donnons une **lecture complémentaire** aux étudiants internationaux pour **identifier** les universités à bon potentiel (« Good Value ») et évaluer **l’écart** entre leurs scores/notes et l’exigence attendue.\n",
    "\n",
    "Ce **tour d’horizon analytique** s’inscrit parfaitement dans la démarche **Univia** : démocratiser l’accès à l’information et fournir les **outils** pour que chacun puisse **orienter** ses choix de façon **éclairée**.\n"
   ]
  },
  {
   "cell_type": "markdown",
   "metadata": {},
   "source": [
    "# <span style=\"color:#008080\">Analyse de Clustering par PCA</span>\n",
    "\n",
    "Pour affiner notre compréhension des universités et dégager des **profils** ou **typologies** d’établissements, nous avons mis en place un **clustering** (K-Means) couplé à une **analyse en composantes principales** (PCA).\n",
    "\n",
    "---\n",
    "\n",
    "## <span style=\"color:#2E8B57\">1. Choix du Nombre de Clusters</span>\n",
    "\n",
    "La **méthode du coude** (*Elbow Method*) nous aide à repérer la valeur de *k* (nombre de clusters) la plus pertinente.  \n",
    "- Au-delà d’un certain point, la réduction d’**inertie** se fait plus faible, suggérant qu’ajouter plus de clusters n’apporte plus de réelle valeur analytique.\n",
    "\n",
    "Dans notre cas, on observe un fléchissement net entre *k=3* et *k=4*, ce qui justifie l’**utilisation d’au moins 4 clusters** pour mieux distinguer les groupes d’universités.\n",
    "\n",
    "---\n",
    "\n",
    "## <span style=\"color:#2E8B57\">2. Poids et Données Prises en Compte</span>\n",
    "\n",
    "Nous avons intégré à la fois :\n",
    "- Des **variables numériques** (scores SAT, taux d’admission, Net Price, etc.).  \n",
    "- Des **variables catégorielles** (ville, climat, principales filières).  \n",
    "\n",
    "Avec un **jeu de poids** ajustable pour refléter l’importance perçue de chaque attribut (ex. *Latitude, Longitude* pondérés à 0.5 contre 1.0 pour la plupart des indicateurs académiques).\n",
    "\n",
    "---\n",
    "\n",
    "## <span style=\"color:#2E8B57\">3. Projection PCA</span>\n",
    "\n",
    "La PCA (Analyse en Composantes Principales) nous permet de **visualiser** dans un espace bidimensionnel (PC1 et PC2) la répartition des universités. Chaque point correspond à une université, coloré selon son **cluster K-Means** (0, 1, 2, 3).\n",
    "\n",
    "- Les **vecteurs de charges** (Loadings) indiquent dans quelle mesure chaque variable contribue à la création des composantes principales (ex. `low_sat` et `high_sat` ont un impact significatif sur PC1).  \n",
    "- Sur la figure, on distingue nettement **4 nuages** de points, suggérant des groupes aux caractéristiques communes (frais, sélectivité, localisation, etc.).\n",
    "\n",
    "---\n",
    "\n",
    "## <span style=\"color:#2E8B57\">4. Interprétation des Clusters</span>\n",
    "\n",
    "Chaque **cluster** regroupe des universités partageant des **profils similaires**. Par exemple :\n",
    "- **Cluster 0** : Établissements avec Net Price élevé mais acceptation faible, dominés par les filières en sciences.  \n",
    "- **Cluster 1** : Universités plus abordables financièrement, dans des zones géographiques chaudes, etc.  \n",
    "- **Cluster 2** : Grandes écoles très sélectives avec SAT élevé (Ivy League, Stanford, MIT…).  \n",
    "- **Cluster 3** : Campus offrant un compromis moyen entre sélectivité et coûts, etc.\n",
    "\n",
    "> Les exemples ci-dessus sont hypothétiques : l’analyse précise dépendra des caractéristiques réelles de vos données et des **centroïdes** calculés par l’algorithme.\n",
    "\n",
    "---\n",
    "\n",
    "## <span style=\"color:#2E8B57\">5. Apports pour Univia</span>\n",
    "\n",
    "Cette segmentation offre plusieurs **pistes** pour améliorer le **système de recommandation** :\n",
    "1. **Personnalisation** : Proposer à un étudiant de cibler préférentiellement un cluster en phase avec son niveau scolaire, son budget et ses préférences climatiques.  \n",
    "2. **Découverte** : Permettre à l’utilisateur de *“sortir”* de son cluster potentiel s’il souhaite viser un univers plus compétitif ou, au contraire, plus accessible.  \n",
    "3. **Compréhension** : Illustrer de façon visuelle les différences entre groupes d’universités (taille, sélectivité, localisation).\n",
    "\n",
    "En somme, ce **clustering** apporte une **dimension exploratoire** précieuse, mettant en relief de véritables **profils d’établissements** et aidant à construire un **algorithme d’orientation** plus précis et plus **adapté** à chaque étudiant.\n"
   ]
  },
  {
   "cell_type": "code",
   "execution_count": 39,
   "metadata": {},
   "outputs": [
    {
     "data": {
      "image/png": "[encoded data removed]",
      "text/plain": [
       "<Figure size 800x400 with 1 Axes>"
      ]
     },
     "metadata": {},
     "output_type": "display_data"
    },
    {
     "name": "stdout",
     "output_type": "stream",
     "text": [
      "DataFrame with Clusters:\n",
      "                                    Name  cluster_kmeans\n",
      "0  Massachusetts Institute of Technology               2\n",
      "1                        Yale University               2\n",
      "2                    Stanford University               2\n",
      "3                     Harvard University               2\n",
      "4                      Dartmouth College               2\n",
      "\n",
      "PCA Loadings:\n",
      "                          PC1       PC2\n",
      "low_sat              0.338471 -0.028067\n",
      "high_sat             0.336779 -0.023357\n",
      "Acceptance Rate     -0.230232  0.050881\n",
      "Net Price            0.167759 -0.251038\n",
      "graduates_top1       0.064893  0.542649\n",
      "graduates_top2       0.072923  0.562317\n",
      "graduates_top3       0.079439  0.553210\n",
      "Latitude             0.018193 -0.053446\n",
      "Longitude            0.021532 -0.020996\n",
      "low_percentile       0.335818 -0.022433\n",
      "high_percentile      0.310378 -0.018207\n",
      "low_grade            0.334014 -0.032095\n",
      "high_grade           0.337438 -0.023250\n",
      "low_grade_adjusted   0.333760 -0.034604\n",
      "high_grade_adjusted  0.338731 -0.026696\n",
      "Ranking             -0.108755 -0.044240\n",
      "City                 0.004623 -0.013915\n",
      "State               -0.000001 -0.033662\n",
      "Climate              0.014604  0.027617\n",
      "major_top1          -0.038425  0.015680\n",
      "major_top2          -0.004318 -0.064431\n",
      "major_top3          -0.001854  0.017069\n"
     ]
    },
    {
     "data": {
      "application/vnd.plotly.v1+json": {
       "config": {
        "plotlyServerURL": "https://plot.ly"
       },
       "data": [
        {
         "customdata": [
          [
           114,
           2
          ],
          [
           529,
           3
          ],
          [
           747,
           3
          ],
          [
           113,
           3
          ],
          [
           312,
           18
          ],
          [
           543,
           12
          ],
          [
           629,
           9
          ],
          [
           333,
           17
          ],
          [
           525,
           18
          ],
          [
           626,
           1
          ],
          [
           599,
           7
          ],
          [
           227,
           7
          ],
          [
           821,
           23
          ],
          [
           160,
           195.8166023166023
          ],
          [
           670,
           24
          ],
          [
           160,
           195.8166023166023
          ],
          [
           245,
           10
          ],
          [
           609,
           22
          ],
          [
           594,
           7
          ],
          [
           430,
           20
          ],
          [
           352,
           12
          ],
          [
           54,
           9
          ],
          [
           24,
           3
          ],
          [
           160,
           195.8166023166023
          ],
          [
           155,
           6
          ],
          [
           565,
           20
          ],
          [
           141,
           24
          ],
          [
           429,
           28
          ],
          [
           845,
           195.8166023166023
          ],
          [
           42,
           33
          ],
          [
           757,
           195.8166023166023
          ],
          [
           105,
           195.8166023166023
          ],
          [
           280,
           28
          ],
          [
           41,
           24
          ],
          [
           131,
           29
          ],
          [
           199,
           195.8166023166023
          ],
          [
           543,
           195.8166023166023
          ],
          [
           411,
           195.8166023166023
          ],
          [
           89,
           41
          ],
          [
           540,
           35
          ],
          [
           86,
           40
          ],
          [
           67,
           15
          ],
          [
           146,
           39
          ],
          [
           829,
           195.8166023166023
          ],
          [
           48,
           32
          ],
          [
           475,
           195.8166023166023
          ],
          [
           463,
           39
          ],
          [
           850,
           47
          ],
          [
           18,
           195.8166023166023
          ],
          [
           130,
           43
          ],
          [
           765,
           53
          ],
          [
           35,
           47
          ],
          [
           472,
           55
          ],
          [
           171,
           195.8166023166023
          ],
          [
           349,
           33
          ],
          [
           444,
           35
          ],
          [
           70,
           53
          ],
          [
           808,
           51
          ],
          [
           320,
           195.8166023166023
          ],
          [
           76,
           47
          ],
          [
           716,
           40
          ],
          [
           200,
           195.8166023166023
          ],
          [
           389,
           28
          ],
          [
           476,
           195.8166023166023
          ],
          [
           537,
           153
          ],
          [
           832,
           43
          ],
          [
           768,
           89
          ],
          [
           532,
           73
          ],
          [
           306,
           195.8166023166023
          ],
          [
           408,
           195.8166023166023
          ],
          [
           797,
           195.8166023166023
          ],
          [
           50,
           28
          ],
          [
           624,
           195.8166023166023
          ],
          [
           699,
           32
          ],
          [
           584,
           124
          ],
          [
           166,
           53
          ],
          [
           686,
           68
          ],
          [
           181,
           43
          ],
          [
           172,
           46
          ],
          [
           674,
           195.8166023166023
          ],
          [
           824,
           195.8166023166023
          ],
          [
           43,
           93
          ],
          [
           561,
           195.8166023166023
          ],
          [
           474,
           124
          ],
          [
           635,
           72
          ],
          [
           163,
           115
          ],
          [
           289,
           76
          ],
          [
           752,
           185
          ],
          [
           610,
           47
          ],
          [
           78,
           72
          ],
          [
           619,
           195.8166023166023
          ],
          [
           631,
           89
          ],
          [
           560,
           195.8166023166023
          ],
          [
           486,
           61
          ],
          [
           229,
           60
          ],
          [
           19,
           26
          ],
          [
           820,
           81
          ],
          [
           771,
           105
          ],
          [
           655,
           47
          ],
          [
           271,
           89
          ],
          [
           347,
           93
          ],
          [
           406,
           195.8166023166023
          ],
          [
           74,
           137
          ],
          [
           302,
           195.8166023166023
          ],
          [
           178,
           117
          ],
          [
           800,
           178
          ],
          [
           175,
           195.8166023166023
          ],
          [
           558,
           137
          ],
          [
           437,
           115
          ],
          [
           799,
           60
          ],
          [
           682,
           115
          ],
          [
           106,
           195.8166023166023
          ],
          [
           191,
           195.8166023166023
          ],
          [
           733,
           198
          ],
          [
           419,
           151
          ],
          [
           856,
           195.8166023166023
          ],
          [
           160,
           195.8166023166023
          ],
          [
           403,
           151
          ],
          [
           701,
           60
          ],
          [
           792,
           170
          ],
          [
           331,
           151
          ],
          [
           17,
           122
          ],
          [
           282,
           195.8166023166023
          ],
          [
           202,
           127
          ],
          [
           317,
           195.8166023166023
          ],
          [
           617,
           195.8166023166023
          ],
          [
           691,
           98
          ],
          [
           255,
           205
          ],
          [
           806,
           85
          ],
          [
           852,
           195.8166023166023
          ],
          [
           695,
           28
          ],
          [
           815,
           44
          ],
          [
           756,
           67
          ],
          [
           633,
           115
          ],
          [
           542,
           195.8166023166023
          ],
          [
           326,
           83
          ],
          [
           735,
           195.8166023166023
          ],
          [
           788,
           105
          ],
          [
           490,
           219
          ],
          [
           427,
           195.8166023166023
          ],
          [
           159,
           151
          ],
          [
           704,
           329
          ],
          [
           189,
           151
          ],
          [
           176,
           135
          ],
          [
           428,
           77
          ],
          [
           599,
           105
          ],
          [
           692,
           151
          ],
          [
           356,
           195
          ],
          [
           450,
           192
          ],
          [
           575,
           195.8166023166023
          ],
          [
           511,
           176
          ],
          [
           545,
           95
          ],
          [
           837,
           195.8166023166023
          ],
          [
           336,
           170
          ],
          [
           772,
           130
          ],
          [
           294,
           195.8166023166023
          ],
          [
           230,
           195.8166023166023
          ],
          [
           150,
           97
          ],
          [
           299,
           195.8166023166023
          ],
          [
           705,
           195.8166023166023
          ],
          [
           615,
           195.8166023166023
          ],
          [
           690,
           330
          ],
          [
           549,
           93
          ],
          [
           664,
           317
          ],
          [
           561,
           195.8166023166023
          ],
          [
           787,
           55
          ],
          [
           295,
           195.8166023166023
          ],
          [
           855,
           82
          ],
          [
           712,
           263
          ],
          [
           760,
           68
          ],
          [
           310,
           195.8166023166023
          ],
          [
           217,
           246
          ],
          [
           388,
           195.8166023166023
          ],
          [
           597,
           48
          ],
          [
           390,
           194
          ],
          [
           627,
           195.8166023166023
          ],
          [
           637,
           155
          ],
          [
           789,
           173
          ],
          [
           754,
           58
          ],
          [
           318,
           299
          ],
          [
           447,
           76
          ],
          [
           550,
           86
          ],
          [
           784,
           19
          ],
          [
           193,
           45
          ],
          [
           812,
           96
          ],
          [
           399,
           263
          ],
          [
           522,
           151
          ],
          [
           382,
           115
          ],
          [
           576,
           124
          ],
          [
           367,
           205
          ],
          [
           410,
           141
          ],
          [
           170,
           299
          ],
          [
           77,
           195.8166023166023
          ],
          [
           818,
           105
          ],
          [
           707,
           195.8166023166023
          ],
          [
           151,
           195.8166023166023
          ],
          [
           184,
           195.8166023166023
          ],
          [
           414,
           151
          ],
          [
           324,
           195.8166023166023
          ],
          [
           213,
           227
          ],
          [
           127,
           195.8166023166023
          ],
          [
           203,
           195.8166023166023
          ],
          [
           348,
           195.8166023166023
          ],
          [
           600,
           121
          ],
          [
           91,
           105
          ],
          [
           668,
           118
          ],
          [
           314,
           151
          ],
          [
           794,
           331
          ],
          [
           550,
           115
          ],
          [
           464,
           202
          ],
          [
           411,
           218
          ],
          [
           120,
           195.8166023166023
          ],
          [
           767,
           176
          ],
          [
           73,
           127
          ],
          [
           68,
           299
          ],
          [
           661,
           182
          ],
          [
           232,
           336
          ],
          [
           466,
           195.8166023166023
          ],
          [
           814,
           113
          ],
          [
           148,
           137
          ],
          [
           344,
           196
          ],
          [
           730,
           316
          ],
          [
           319,
           299
          ],
          [
           160,
           227
          ],
          [
           644,
           156
          ],
          [
           482,
           89
          ],
          [
           580,
           121
          ],
          [
           28,
           195.8166023166023
          ],
          [
           423,
           299
          ],
          [
           531,
           195.8166023166023
          ],
          [
           394,
           195.8166023166023
          ],
          [
           81,
           227
          ],
          [
           327,
           195.8166023166023
          ],
          [
           341,
           263
          ],
          [
           59,
           177
          ],
          [
           264,
           151
          ],
          [
           4,
           263
          ],
          [
           249,
           151
          ],
          [
           653,
           105
          ],
          [
           674,
           195.8166023166023
          ],
          [
           434,
           198
          ],
          [
           441,
           170
          ],
          [
           608,
           195.8166023166023
          ],
          [
           211,
           280
          ],
          [
           139,
           219
          ],
          [
           266,
           263
          ],
          [
           160,
           299
          ],
          [
           538,
           114
          ],
          [
           813,
           195.8166023166023
          ],
          [
           602,
           127
          ],
          [
           753,
           151
          ],
          [
           205,
           195.8166023166023
          ],
          [
           790,
           299
          ],
          [
           571,
           299
          ],
          [
           856,
           103
          ],
          [
           725,
           195.8166023166023
          ],
          [
           45,
           298
          ],
          [
           697,
           394
          ],
          [
           291,
           298
          ],
          [
           278,
           176
          ],
          [
           536,
           195.8166023166023
          ],
          [
           2,
           357
          ],
          [
           379,
           195.8166023166023
          ],
          [
           13,
           195.8166023166023
          ],
          [
           359,
           285
          ],
          [
           81,
           195.8166023166023
          ],
          [
           435,
           182
          ],
          [
           854,
           195.8166023166023
          ],
          [
           702,
           75
          ],
          [
           65,
           195.8166023166023
          ],
          [
           677,
           195.8166023166023
          ],
          [
           84,
           131
          ],
          [
           29,
           288
          ],
          [
           494,
           306
          ],
          [
           803,
           195.8166023166023
          ],
          [
           847,
           2023
          ],
          [
           719,
           195.8166023166023
          ],
          [
           620,
           3
          ],
          [
           137,
           299
          ],
          [
           354,
           195.8166023166023
          ],
          [
           203,
           11
          ],
          [
           216,
           158
          ],
          [
           187,
           293
          ],
          [
           468,
           285
          ],
          [
           801,
           195.8166023166023
          ],
          [
           207,
           195.8166023166023
          ],
          [
           805,
           263
          ],
          [
           642,
           119
          ],
          [
           36,
           182
          ],
          [
           693,
           105
          ],
          [
           101,
           295
          ],
          [
           647,
           313
          ],
          [
           739,
           195.8166023166023
          ],
          [
           244,
           94
          ],
          [
           568,
           62
          ],
          [
           641,
           115
          ],
          [
           418,
           235
          ],
          [
           358,
           58
          ],
          [
           350,
           312
          ],
          [
           507,
           195.8166023166023
          ],
          [
           710,
           45
          ],
          [
           823,
           115
          ],
          [
           367,
           195.8166023166023
          ],
          [
           296,
           195.8166023166023
          ],
          [
           334,
           195.8166023166023
          ],
          [
           736,
           137
          ],
          [
           47,
           195.8166023166023
          ],
          [
           688,
           195.8166023166023
          ],
          [
           741,
           83
          ],
          [
           497,
           195.8166023166023
          ],
          [
           297,
           219
          ],
          [
           604,
           331
          ],
          [
           715,
           139
          ],
          [
           240,
           195.8166023166023
          ],
          [
           666,
           343
          ],
          [
           387,
           19
          ],
          [
           445,
           104
          ],
          [
           791,
           331
          ],
          [
           740,
           195.8166023166023
          ],
          [
           727,
           195.8166023166023
          ],
          [
           248,
           331
          ],
          [
           55,
           182
          ],
          [
           577,
           299
          ],
          [
           421,
           299
          ],
          [
           160,
           195.8166023166023
          ],
          [
           853,
           195.8166023166023
          ],
          [
           807,
           77
          ],
          [
           5,
           80
          ],
          [
           515,
           2023
          ],
          [
           786,
           195.8166023166023
          ],
          [
           572,
           195.8166023166023
          ],
          [
           147,
           299
          ],
          [
           156,
           121
          ],
          [
           665,
           195.8166023166023
          ],
          [
           287,
           195.8166023166023
          ],
          [
           687,
           281
          ],
          [
           340,
           299
          ],
          [
           704,
           195.8166023166023
          ],
          [
           363,
           298
          ],
          [
           384,
           299
          ],
          [
           315,
           234
          ],
          [
           329,
           239
          ],
          [
           481,
           195.8166023166023
          ],
          [
           135,
           195.8166023166023
          ],
          [
           198,
           195.8166023166023
          ],
          [
           810,
           317
          ],
          [
           234,
           64
          ],
          [
           659,
           213
          ],
          [
           83,
           299
          ],
          [
           648,
           76
          ],
          [
           132,
           331
          ],
          [
           517,
           104
          ],
          [
           353,
           195.8166023166023
          ],
          [
           703,
           195.8166023166023
          ],
          [
           630,
           1
          ],
          [
           228,
           115
          ],
          [
           125,
           195.8166023166023
          ],
          [
           222,
           195.8166023166023
          ],
          [
           10,
           195.8166023166023
          ],
          [
           592,
           195.8166023166023
          ],
          [
           683,
           332
          ],
          [
           27,
           195.8166023166023
          ],
          [
           49,
           263
          ],
          [
           39,
           206
          ],
          [
           622,
           121
          ],
          [
           345,
           137
          ],
          [
           657,
           195.8166023166023
          ],
          [
           567,
           195.8166023166023
          ],
          [
           110,
           249
          ],
          [
           321,
           195.8166023166023
          ],
          [
           169,
           278
          ],
          [
           109,
           105
          ],
          [
           749,
           299
          ],
          [
           40,
           195.8166023166023
          ],
          [
           714,
           227
          ],
          [
           95,
           220
          ],
          [
           439,
           312
          ],
          [
           828,
           195.8166023166023
          ],
          [
           598,
           166
          ],
          [
           293,
           168
          ],
          [
           559,
           239
          ],
          [
           104,
           195.8166023166023
          ],
          [
           180,
           195.8166023166023
          ],
          [
           844,
           299
          ],
          [
           642,
           195.8166023166023
          ],
          [
           400,
           212
          ],
          [
           257,
           285
          ],
          [
           177,
           167
          ],
          [
           455,
           195.8166023166023
          ],
          [
           822,
           115
          ],
          [
           563,
           195.8166023166023
          ],
          [
           498,
           182
          ],
          [
           795,
           299
          ],
          [
           764,
           299
          ],
          [
           625,
           195.8166023166023
          ],
          [
           285,
           195.8166023166023
          ],
          [
           782,
           298
          ],
          [
           153,
           299
          ],
          [
           671,
           202
          ],
          [
           66,
           263
          ],
          [
           378,
           13
          ],
          [
           288,
           194
          ],
          [
           422,
           195.8166023166023
          ],
          [
           526,
           123
          ],
          [
           247,
           181
          ],
          [
           209,
           153
          ],
          [
           251,
           195.8166023166023
          ],
          [
           392,
           299
          ],
          [
           371,
           195.8166023166023
          ],
          [
           745,
           195.8166023166023
          ],
          [
           554,
           195.8166023166023
          ],
          [
           616,
           195.8166023166023
          ],
          [
           298,
           185
          ],
          [
           553,
           299
          ],
          [
           436,
           195.8166023166023
          ],
          [
           680,
           172
          ],
          [
           516,
           293
          ],
          [
           284,
           195.8166023166023
          ],
          [
           685,
           299
          ],
          [
           763,
           195.8166023166023
          ],
          [
           308,
           848
          ],
          [
           6,
           195.8166023166023
          ],
          [
           112,
           195.8166023166023
          ],
          [
           591,
           115
          ],
          [
           766,
           251
          ],
          [
           732,
           195.8166023166023
          ],
          [
           373,
           298
          ],
          [
           12,
           287
          ],
          [
           22,
           45
          ],
          [
           237,
           263
          ],
          [
           212,
           124
          ],
          [
           816,
           76
          ],
          [
           265,
           219
          ],
          [
           197,
           293
          ],
          [
           152,
           121
          ],
          [
           52,
           299
          ],
          [
           300,
           195.8166023166023
          ],
          [
           851,
           331
          ],
          [
           416,
           195.8166023166023
          ],
          [
           190,
           195.8166023166023
          ],
          [
           346,
           299
          ],
          [
           552,
           195.8166023166023
          ],
          [
           415,
           195.8166023166023
          ],
          [
           650,
           298
          ],
          [
           775,
           299
          ],
          [
           69,
           195.8166023166023
          ],
          [
           579,
           195.8166023166023
          ],
          [
           375,
           124
          ],
          [
           510,
           195.8166023166023
          ],
          [
           534,
           195.8166023166023
          ],
          [
           508,
           195.8166023166023
          ],
          [
           194,
           182
          ],
          [
           496,
           331
          ],
          [
           817,
           195.8166023166023
          ],
          [
           53,
           4
          ],
          [
           383,
           195.8166023166023
          ],
          [
           100,
           195.8166023166023
          ],
          [
           372,
           195.8166023166023
          ],
          [
           224,
           156
          ],
          [
           342,
           263
          ],
          [
           546,
           219
          ],
          [
           478,
           9
          ],
          [
           185,
           299
          ],
          [
           377,
           162
          ],
          [
           513,
           246
          ],
          [
           739,
           18
          ],
          [
           357,
           299
          ],
          [
           487,
           299
          ],
          [
           133,
           195.8166023166023
          ],
          [
           745,
           195.8166023166023
          ],
          [
           128,
           195.8166023166023
          ],
          [
           368,
           195.8166023166023
          ],
          [
           99,
           195.8166023166023
          ],
          [
           842,
           317
          ],
          [
           811,
           187
          ],
          [
           827,
           126
          ],
          [
           731,
           90
          ],
          [
           724,
           298
          ],
          [
           86,
           195.8166023166023
          ],
          [
           242,
           195.8166023166023
          ],
          [
           543,
           195.8166023166023
          ],
          [
           218,
           202
          ],
          [
           413,
           195.8166023166023
          ],
          [
           762,
           195.8166023166023
          ],
          [
           573,
           195.8166023166023
          ],
          [
           235,
           263
          ],
          [
           323,
           137
          ],
          [
           157,
           195.8166023166023
          ],
          [
           30,
           299
          ],
          [
           90,
           153
          ],
          [
           709,
           227
          ],
          [
           246,
           195.8166023166023
          ],
          [
           258,
           299
          ],
          [
           220,
           195.8166023166023
          ],
          [
           364,
           299
          ],
          [
           260,
           195.8166023166023
          ],
          [
           380,
           195.8166023166023
          ],
          [
           578,
           90
          ],
          [
           94,
           263
          ],
          [
           225,
           217
          ],
          [
           123,
           195.8166023166023
          ],
          [
           774,
           331
          ],
          [
           532,
           2023
          ],
          [
           681,
           195.8166023166023
          ],
          [
           748,
           331
          ],
          [
           618,
           285
          ],
          [
           140,
           241
          ],
          [
           431,
           297
          ],
          [
           759,
           195.8166023166023
          ],
          [
           544,
           155
          ],
          [
           56,
           298
          ],
          [
           115,
           195.8166023166023
          ],
          [
           154,
           195.8166023166023
          ],
          [
           313,
           195.8166023166023
          ],
          [
           443,
           195.8166023166023
          ],
          [
           332,
           331
          ],
          [
           98,
           72
          ],
          [
           3,
           104
          ],
          [
           634,
           195.8166023166023
          ],
          [
           557,
           219
          ],
          [
           214,
           250
          ],
          [
           173,
           195.8166023166023
          ],
          [
           440,
           195.8166023166023
          ],
          [
           311,
           195.8166023166023
          ],
          [
           328,
           299
          ],
          [
           206,
           195.8166023166023
          ],
          [
           518,
           195.8166023166023
          ],
          [
           694,
           234
          ],
          [
           840,
           269
          ],
          [
           168,
           131
          ],
          [
           611,
           151
          ],
          [
           365,
           195.8166023166023
          ],
          [
           262,
           57
          ],
          [
           841,
           331
          ],
          [
           275,
           206
          ],
          [
           742,
           195.8166023166023
          ],
          [
           438,
           195.8166023166023
          ],
          [
           605,
           299
          ],
          [
           848,
           299
          ],
          [
           283,
           172
          ],
          [
           448,
           136
          ],
          [
           636,
           195.8166023166023
          ],
          [
           746,
           195.8166023166023
          ],
          [
           676,
           281
          ],
          [
           675,
           298
          ],
          [
           453,
           195.8166023166023
          ],
          [
           215,
           331
          ],
          [
           512,
           195.8166023166023
          ],
          [
           370,
           195.8166023166023
          ],
          [
           504,
           195.8166023166023
          ],
          [
           509,
           195.8166023166023
          ],
          [
           88,
           234
          ],
          [
           446,
           148
          ],
          [
           9,
           206
          ],
          [
           713,
           331
          ],
          [
           274,
           195.8166023166023
          ],
          [
           473,
           331
          ],
          [
           204,
           195.8166023166023
          ],
          [
           256,
           331
          ],
          [
           339,
           195.8166023166023
          ],
          [
           471,
           97
          ],
          [
           737,
           2023
          ],
          [
           780,
           299
          ],
          [
           502,
           195.8166023166023
          ],
          [
           849,
           63
          ],
          [
           493,
           195.8166023166023
          ],
          [
           470,
           299
          ],
          [
           51,
           195.8166023166023
          ],
          [
           25,
           195.8166023166023
          ],
          [
           272,
           156
          ],
          [
           555,
           178
          ],
          [
           483,
           195.8166023166023
          ],
          [
           420,
           195.8166023166023
          ],
          [
           196,
           219
          ],
          [
           781,
           299
          ],
          [
           596,
           195.8166023166023
          ],
          [
           857,
           195.8166023166023
          ],
          [
           548,
           151
          ],
          [
           696,
           97
          ],
          [
           149,
           331
          ],
          [
           477,
           195.8166023166023
          ],
          [
           103,
           195.8166023166023
          ],
          [
           186,
           168
          ],
          [
           838,
           298
          ],
          [
           87,
           93
          ],
          [
           195,
           195.8166023166023
          ],
          [
           208,
           626
          ],
          [
           424,
           195.8166023166023
          ],
          [
           23,
           195.8166023166023
          ],
          [
           174,
           195.8166023166023
          ],
          [
           63,
           195.8166023166023
          ],
          [
           381,
           299
          ],
          [
           231,
           195.8166023166023
          ],
          [
           841,
           331
          ],
          [
           407,
           195.8166023166023
          ],
          [
           121,
           331
          ],
          [
           777,
           147
          ],
          [
           37,
           195.8166023166023
          ],
          [
           722,
           195.8166023166023
          ],
          [
           142,
           331
          ],
          [
           286,
           195.8166023166023
          ],
          [
           192,
           195.8166023166023
          ],
          [
           136,
           195.8166023166023
          ],
          [
           31,
           195.8166023166023
          ],
          [
           167,
           299
          ],
          [
           462,
           195.8166023166023
          ],
          [
           479,
           355
          ],
          [
           669,
           219
          ],
          [
           588,
           195.8166023166023
          ],
          [
           417,
           195.8166023166023
          ],
          [
           796,
           331
          ],
          [
           689,
           195.8166023166023
          ],
          [
           376,
           212
          ],
          [
           499,
           195.8166023166023
          ],
          [
           802,
           117
          ],
          [
           458,
           298
          ],
          [
           678,
           195.8166023166023
          ],
          [
           158,
           166
          ],
          [
           603,
           129
          ],
          [
           778,
           195.8166023166023
          ],
          [
           366,
           285
          ],
          [
           72,
           331
          ],
          [
           835,
           195.8166023166023
          ],
          [
           640,
           195.8166023166023
          ],
          [
           734,
           299
          ],
          [
           457,
           195.8166023166023
          ],
          [
           834,
           182
          ],
          [
           621,
           195.8166023166023
          ],
          [
           726,
           299
          ],
          [
           14,
           195.8166023166023
          ],
          [
           409,
           195.8166023166023
          ],
          [
           460,
           195.8166023166023
          ],
          [
           491,
           285
          ],
          [
           609,
           157
          ],
          [
           662,
           256
          ],
          [
           839,
           634
          ],
          [
           119,
           263
          ],
          [
           656,
           195.8166023166023
          ],
          [
           628,
           195.8166023166023
          ],
          [
           505,
           95
          ],
          [
           519,
           107
          ],
          [
           40,
           195.8166023166023
          ],
          [
           62,
           14
          ],
          [
           165,
           299
          ],
          [
           859,
           195.8166023166023
          ],
          [
           0,
           85
          ],
          [
           223,
           195.8166023166023
          ],
          [
           484,
           195.8166023166023
          ],
          [
           660,
           263
          ],
          [
           569,
           299
          ],
          [
           698,
           186
          ],
          [
           44,
           195.8166023166023
          ],
          [
           721,
           195.8166023166023
          ],
          [
           793,
           263
          ],
          [
           729,
           195.8166023166023
          ],
          [
           654,
           195.8166023166023
          ],
          [
           391,
           151
          ],
          [
           412,
           195.8166023166023
          ],
          [
           309,
           195.8166023166023
          ],
          [
           145,
           195.8166023166023
          ],
          [
           743,
           20
          ],
          [
           589,
           195.8166023166023
          ],
          [
           706,
           195.8166023166023
          ],
          [
           226,
           219
          ],
          [
           301,
           195.8166023166023
          ],
          [
           11,
           195.8166023166023
          ],
          [
           432,
           184
          ],
          [
           556,
           195.8166023166023
          ],
          [
           830,
           195.8166023166023
          ],
          [
           663,
           77
          ],
          [
           34,
           195.8166023166023
          ],
          [
           161,
           195.8166023166023
          ],
          [
           238,
           195.8166023166023
          ],
          [
           153,
           195.8166023166023
          ],
          [
           607,
           195.8166023166023
          ],
          [
           461,
           195.8166023166023
          ],
          [
           585,
           219
          ],
          [
           269,
           299
          ],
          [
           426,
           204
          ],
          [
           122,
           331
          ],
          [
           769,
           44
          ],
          [
           96,
           195.8166023166023
          ],
          [
           785,
           24
          ],
          [
           761,
           65
          ],
          [
           595,
           195.8166023166023
          ],
          [
           16,
           65
          ],
          [
           613,
           90
          ],
          [
           236,
           195.8166023166023
          ],
          [
           700,
           195.8166023166023
          ],
          [
           831,
           182
          ],
          [
           798,
           109
          ],
          [
           182,
           299
          ],
          [
           71,
           195.8166023166023
          ],
          [
           843,
           234
          ],
          [
           488,
           195.8166023166023
          ],
          [
           241,
           89
          ],
          [
           804,
           182
          ],
          [
           46,
           299
          ],
          [
           250,
           299
          ],
          [
           290,
           195.8166023166023
          ],
          [
           322,
           195.8166023166023
          ],
          [
           836,
           195.8166023166023
          ],
          [
           770,
           195.8166023166023
          ],
          [
           395,
           124
          ],
          [
           82,
           317
          ],
          [
           672,
           195.8166023166023
          ],
          [
           259,
           126
          ],
          [
           833,
           195.8166023166023
          ],
          [
           442,
           195.8166023166023
          ],
          [
           614,
           298
          ],
          [
           705,
           195.8166023166023
          ],
          [
           541,
           195.8166023166023
          ],
          [
           219,
           195.8166023166023
          ],
          [
           524,
           299
          ],
          [
           779,
           195.8166023166023
          ],
          [
           456,
           195.8166023166023
          ],
          [
           1,
           195.8166023166023
          ],
          [
           528,
           427
          ],
          [
           268,
           331
          ],
          [
           304,
           195.8166023166023
          ],
          [
           718,
           195.8166023166023
          ],
          [
           612,
           195.8166023166023
          ],
          [
           305,
           153
          ],
          [
           144,
           142
          ],
          [
           492,
           195.8166023166023
          ],
          [
           776,
           246
          ],
          [
           539,
           133
          ],
          [
           79,
           142
          ],
          [
           160,
           195.8166023166023
          ],
          [
           593,
           195.8166023166023
          ],
          [
           162,
           299
          ],
          [
           562,
           195.8166023166023
          ],
          [
           20,
           195.8166023166023
          ],
          [
           826,
           195.8166023166023
          ],
          [
           351,
           195.8166023166023
          ],
          [
           404,
           195.8166023166023
          ],
          [
           126,
           195.8166023166023
          ],
          [
           210,
           195.8166023166023
          ],
          [
           253,
           289
          ],
          [
           679,
           195.8166023166023
          ],
          [
           273,
           195.8166023166023
          ],
          [
           489,
           195.8166023166023
          ],
          [
           396,
           121
          ],
          [
           643,
           299
          ],
          [
           638,
           195.8166023166023
          ],
          [
           279,
           195.8166023166023
          ],
          [
           281,
           195.8166023166023
          ],
          [
           385,
           125
          ],
          [
           459,
           195.8166023166023
          ],
          [
           465,
           230
          ],
          [
           632,
           331
          ],
          [
           547,
           234
          ],
          [
           452,
           195.8166023166023
          ],
          [
           858,
           195.8166023166023
          ],
          [
           720,
           195.8166023166023
          ],
          [
           564,
           195.8166023166023
          ],
          [
           276,
           113
          ],
          [
           243,
           263
          ],
          [
           124,
           195.8166023166023
          ],
          [
           316,
           195.8166023166023
          ],
          [
           758,
           127
          ],
          [
           586,
           331
          ],
          [
           750,
           179
          ],
          [
           164,
           195.8166023166023
          ],
          [
           335,
           331
          ],
          [
           623,
           156
          ],
          [
           75,
           195.8166023166023
          ],
          [
           651,
           195.8166023166023
          ],
          [
           527,
           105
          ],
          [
           38,
           195.8166023166023
          ],
          [
           393,
           195.8166023166023
          ],
          [
           523,
           195.8166023166023
          ],
          [
           292,
           299
          ],
          [
           582,
           195.8166023166023
          ],
          [
           374,
           195.8166023166023
          ],
          [
           108,
           195.8166023166023
          ],
          [
           530,
           109
          ],
          [
           277,
           195.8166023166023
          ],
          [
           129,
           195.8166023166023
          ],
          [
           307,
           195.8166023166023
          ],
          [
           117,
           298
          ],
          [
           263,
           195.8166023166023
          ],
          [
           7,
           299
          ],
          [
           188,
           195.8166023166023
          ],
          [
           501,
           299
          ],
          [
           213,
           195.8166023166023
          ],
          [
           138,
           195.8166023166023
          ],
          [
           738,
           195.8166023166023
          ],
          [
           143,
           298
          ],
          [
           809,
           195.8166023166023
          ],
          [
           261,
           176
          ],
          [
           601,
           213
          ],
          [
           535,
           195.8166023166023
          ],
          [
           454,
           87
          ],
          [
           645,
           195.8166023166023
          ],
          [
           566,
           195.8166023166023
          ],
          [
           684,
           331
          ],
          [
           583,
           195.8166023166023
          ],
          [
           658,
           195.8166023166023
          ],
          [
           325,
           195.8166023166023
          ],
          [
           337,
           195.8166023166023
          ],
          [
           520,
           195.8166023166023
          ],
          [
           723,
           195.8166023166023
          ],
          [
           398,
           195.8166023166023
          ],
          [
           386,
           195.8166023166023
          ],
          [
           708,
           195.8166023166023
          ],
          [
           402,
           195.8166023166023
          ],
          [
           846,
           195.8166023166023
          ],
          [
           533,
           299
          ],
          [
           587,
           59
          ],
          [
           728,
           195.8166023166023
          ],
          [
           652,
           195.8166023166023
          ],
          [
           303,
           195.8166023166023
          ],
          [
           449,
           195.8166023166023
          ],
          [
           355,
           280
          ],
          [
           551,
           195.8166023166023
          ],
          [
           500,
           195.8166023166023
          ],
          [
           433,
           195.8166023166023
          ],
          [
           183,
           299
          ],
          [
           33,
           76
          ],
          [
           118,
           103
          ],
          [
           267,
           195.8166023166023
          ],
          [
           405,
           195.8166023166023
          ],
          [
           395,
           202
          ],
          [
           503,
           195.8166023166023
          ],
          [
           111,
           133
          ],
          [
           330,
           133
          ],
          [
           233,
           68
          ],
          [
           397,
           195.8166023166023
          ],
          [
           485,
           195.8166023166023
          ],
          [
           102,
           195.8166023166023
          ],
          [
           646,
           331
          ],
          [
           64,
           195.8166023166023
          ],
          [
           254,
           133
          ],
          [
           574,
           350
          ],
          [
           783,
           195.8166023166023
          ],
          [
           361,
           298
          ],
          [
           362,
           195.8166023166023
          ],
          [
           80,
           195.8166023166023
          ],
          [
           401,
           331
          ],
          [
           252,
           195.8166023166023
          ],
          [
           61,
           195.8166023166023
          ],
          [
           570,
           195.8166023166023
          ],
          [
           15,
           299
          ],
          [
           649,
           195.8166023166023
          ],
          [
           451,
           195.8166023166023
          ],
          [
           751,
           195.8166023166023
          ],
          [
           360,
           195.8166023166023
          ],
          [
           673,
           195.8166023166023
          ],
          [
           278,
           195.8166023166023
          ],
          [
           8,
           195.8166023166023
          ],
          [
           160,
           86
          ],
          [
           773,
           298
          ],
          [
           93,
           331
          ],
          [
           495,
           298
          ],
          [
           126,
           195.8166023166023
          ],
          [
           467,
           195.8166023166023
          ],
          [
           506,
           195.8166023166023
          ],
          [
           369,
           195.8166023166023
          ],
          [
           711,
           52
          ],
          [
           744,
           195.8166023166023
          ],
          [
           639,
           127
          ],
          [
           179,
           331
          ],
          [
           280,
           1
          ],
          [
           338,
           195.8166023166023
          ],
          [
           514,
           195.8166023166023
          ],
          [
           221,
           134
          ],
          [
           480,
           195.8166023166023
          ],
          [
           201,
           299
          ],
          [
           116,
           331
          ],
          [
           825,
           196
          ],
          [
           222,
           195.8166023166023
          ],
          [
           134,
           62
          ],
          [
           60,
           331
          ],
          [
           667,
           195.8166023166023
          ],
          [
           58,
           195.8166023166023
          ],
          [
           92,
           331
          ],
          [
           26,
           195.8166023166023
          ],
          [
           239,
           299
          ],
          [
           521,
           195.8166023166023
          ],
          [
           819,
           195.8166023166023
          ],
          [
           425,
           195.8166023166023
          ],
          [
           57,
           195.8166023166023
          ],
          [
           606,
           296
          ],
          [
           270,
           299
          ],
          [
           590,
           195.8166023166023
          ],
          [
           755,
           195.8166023166023
          ],
          [
           107,
           226
          ],
          [
           717,
           195.8166023166023
          ],
          [
           469,
           69
          ],
          [
           343,
           195.8166023166023
          ],
          [
           32,
           263
          ],
          [
           85,
           234
          ],
          [
           824,
           94
          ],
          [
           581,
           195.8166023166023
          ],
          [
           21,
           195.8166023166023
          ],
          [
           97,
           195.8166023166023
          ]
         ],
         "hovertemplate": "<b>%{hovertext}</b><br><br>Principal Component 1=%{x}<br>Principal Component 2=%{y}<br>City=%{customdata[0]}<br>Ranking=%{customdata[1]}<br>Cluster=%{marker.color}<extra></extra>",
         "hovertext": [
          "Massachusetts Institute of Technology",
          "Yale University",
          "Stanford University",
          "Harvard University",
          "Dartmouth College",
          "Columbia University",
          "Brown University",
          "Rice University",
          "Vanderbilt University",
          "Princeton University",
          "University of Pennsylvania",
          "Duke University",
          "Georgetown University",
          "Harvey Mudd College",
          "Washington University in St. Louis",
          "Pomona College",
          "Northwestern University",
          "Carnegie Mellon University",
          "California Institute of Technology",
          "University of California - Los Angeles",
          "Cornell University",
          "Johns Hopkins University",
          "University of Michigan - Ann Arbor",
          "Claremont McKenna College",
          "University of Chicago",
          "University of Notre Dame",
          "University of Virginia",
          "University of Southern California",
          "Williams College",
          "Georgia Institute of Technology",
          "Swarthmore College",
          "Bowdoin College",
          "University of Florida",
          "Emory University",
          "University of North Carolina at Chapel Hill",
          "Davidson College",
          "Barnard College",
          "Washington and Lee University",
          "Boston University",
          "New York University",
          "Northeastern University",
          "University of California - Berkeley",
          "Boston College",
          "Wellesley College",
          "University of Texas - Austin",
          "Middlebury College",
          "Tufts University",
          "Wake Forest University",
          "Amherst College",
          "University of Illinois Urbana-Champaign",
          "Florida State University",
          "University of Georgia",
          "University of Miami",
          "Hamilton College",
          "University of California - Irvine",
          "University of Wisconsin-Madison",
          "Lehigh University",
          "Villanova University",
          "Haverford College",
          "Virginia Tech",
          "University of Washington",
          "University of California - Davis",
          "University of California - San Diego",
          "Wesleyan University",
          "The Cooper Union for the Advancement of Science and Art",
          "Purdue University",
          "University of South Florida",
          "Tulane University",
          "Colgate University",
          "Bates College",
          "University of Richmond",
          "Babson College",
          "Vassar College",
          "University of California - Santa Barbara",
          "University of Central Florida",
          "Case Western Reserve University",
          "Trinity University",
          "The Ohio State University",
          "University of Maryland - College Park",
          "Macalester College",
          "Colby College",
          "Auburn University",
          "Carleton College",
          "Florida International University",
          "North Carolina State University",
          "Clemson University",
          "Colorado School of Mines",
          "Oklahoma State University",
          "University of Pittsburgh",
          "Indiana University - Bloomington",
          "Reed College",
          "Brigham Young University",
          "Smith College",
          "University of Minnesota Twin Cities",
          "Michigan State University",
          "University of Massachusetts Amherst",
          "George Washington University",
          "Arizona State University",
          "University of Rochester",
          "Texas Christian University",
          "University of Iowa",
          "Bucknell University",
          "University of Alabama - Birmingham",
          "Grinnell College",
          "University of South Carolina",
          "University of Mississippi",
          "Colorado College",
          "University of Oklahoma",
          "Texas Tech University",
          "Penn State",
          "University of Utah",
          "Bryn Mawr College",
          "Wabash College",
          "New Mexico Tech",
          "California State University - Long Beach",
          "College of the Holy Cross",
          "Pitzer College",
          "The University of Kansas",
          "Santa Clara University",
          "The University of Alabama",
          "Michigan Technological University",
          "Iowa State University",
          "Kenyon College",
          "University of Dayton",
          "Trinity College - Connecticut",
          "Eastern New Mexico University",
          "University of San Diego",
          "University of Arkansas",
          "Binghamton University, SUNY",
          "University of North Carolina School of the Arts",
          "Cal Poly San Luis Obispo",
          "Brandeis University",
          "University of Connecticut",
          "Washington State University",
          "CUNY John Jay College of Criminal Justice",
          "Stevens Institute of Technology",
          "Mount Holyoke College",
          "University of Arizona",
          "Mississippi State University",
          "Occidental College",
          "University of Cincinnati",
          "University of South Florida - Sarasota-Manatee",
          "Oregon State University",
          "University of Missouri",
          "Loyola Marymount University",
          "Drexel University",
          "San Diego State University",
          "Union University",
          "Kansas State University",
          "College of Saint Mary",
          "University of Idaho",
          "Yeshiva University",
          "Wheaton College - Illinois",
          "University of Houston",
          "Rose-Hulman Institute of Technology",
          "Denison University",
          "Lafayette College",
          "University of Illinois Chicago",
          "Furman University",
          "Skidmore College",
          "College of the Ozarks",
          "Point Loma Nazarene University",
          "University of Delaware",
          "Louisiana Tech University",
          "St. Olaf College",
          "Rensselaer Polytechnic Institute",
          "United States Merchant Marine Academy",
          "Worcester Polytechnic Institute",
          "Harding University",
          "Syracuse University",
          "Hampden-Sydney College",
          "Wayne State University",
          "National University",
          "University of West Florida",
          "Biola University",
          "Rhode Island School of Design",
          "South Dakota School of Mines and Technology",
          "The University of Tulsa",
          "Stony Brook University",
          "William Carey University",
          "Pepperdine University",
          "New Jersey Institute of Technology",
          "The College of New Jersey",
          "University of Minnesota Crookston",
          "Baylor University",
          "University of Wyoming",
          "Lipscomb University",
          "University of Tennessee",
          "Creighton University",
          "University of Missouri - Kansas City",
          "University of Kentucky",
          "Mississippi College",
          "Illinois Wesleyan University",
          "American University",
          "Union College - New York",
          "Moody Bible Institute",
          "Hendrix College",
          "University of Nebraska - Lincoln",
          "Nevada State University",
          "University of Colorado Denver",
          "Cedarville University",
          "Embry-Riddle Aeronautical University - Worldwide",
          "Stanbridge University - Orange County",
          "Temple University",
          "University of Colorado Boulder",
          "Saint Louis University",
          "James Madison University",
          "University of Texas - Tyler",
          "Rutgers University - Newark",
          "Florida Institute of Technology",
          "Virginia Military Institute",
          "Dickinson College",
          "Florida College",
          "Samford University",
          "Andrews University",
          "Missouri University of Science and Technology",
          "University of Texas Rio Grande Valley",
          "Rhodes College",
          "Bentley University",
          "DePaul University",
          "Indiana University Indianapolis",
          "Augustana University",
          "University of Southern Mississippi",
          "Nova Southeastern University",
          "Virginia Commonwealth University",
          "Marquette University",
          "Chapman University",
          "Ouachita Baptist University",
          "Alcorn State University",
          "Connecticut College",
          "Lake Forest College",
          "Florida Atlantic University",
          "Hope College",
          "The University of Alabama in Huntsville",
          "Louisiana State University",
          "Colorado State University",
          "Ohio Northern University",
          "George Mason University",
          "Rochester Institute of Technology",
          "St. Catherine University",
          "University of Louisville",
          "Mercer University",
          "Pittsburg State University",
          "University of North Texas",
          "University of North Carolina at Charlotte",
          "Florida Gulf Coast University",
          "North Dakota State University",
          "CUNY Baruch College",
          "Whitman College",
          "Thomas Jefferson University",
          "University of the Pacific",
          "University of Michigan - Dearborn",
          "Oral Roberts University",
          "Oklahoma City University",
          "Clark University",
          "John Brown University",
          "Augusta University",
          "Texas State University",
          "University of North Dakota",
          "California State University - Fullerton",
          "Fashion Institute of Technology",
          "Abilene Christian University",
          "Truman State University",
          "Muhlenberg College",
          "University of North Florida",
          "Everglades University",
          "University of Massachusetts Lowell",
          "College of Wooster",
          "University of California - Santa Cruz",
          "Berea College",
          "Gustavus Adolphus College",
          "Appalachian State University",
          "University of Texas - Arlington",
          "University of South Alabama",
          "Valley City State University",
          "University of North Carolina - Wilmington",
          "Sewanee - The University of the South",
          "University of Portland",
          "University of Charleston",
          "Millsaps College",
          "Embry-Riddle Aeronautical University - Daytona Beach",
          "Drake University",
          "Tennessee Technological University",
          "University of Memphis",
          "Taylor University",
          "Luther College",
          "University of South Dakota",
          "Indiana University - East",
          "Ohio University",
          "University of San Francisco",
          "South Dakota State University",
          "California Baptist University",
          "Wofford College",
          "University of Oregon",
          "University of Texas - Permian Basin",
          "University of Texas - Dallas",
          "Utah State University",
          "Jacksonville University",
          "University of Dallas",
          "West Virginia University",
          "University of Scranton",
          "The Catholic University of America",
          "Rockhurst University",
          "DePauw University",
          "University of Houston - Clear Lake",
          "Seton Hall University",
          "Huston-Tillotson University",
          "Hallmark University",
          "Gonzaga University",
          "Yeshivath Viznitz",
          "University of North Carolina - Greensboro",
          "Grand Canyon University",
          "Seattle University",
          "Elmhurst University",
          "St. Bonaventure University",
          "University of Wisconsin - La Crosse",
          "Southern Arkansas University",
          "California State University - Stanislaus",
          "Whitworth University",
          "Dordt University",
          "University of Alaska Fairbanks",
          "Towson University",
          "University of Nebraska at Omaha",
          "LeTourneau University",
          "Scripps College",
          "Rollins College",
          "University of Houston - Victoria",
          "East Central University",
          "Ball State University",
          "Troy University",
          "Mid-America Christian University",
          "National Louis University",
          "Loyola University Chicago",
          "California State University - Sacramento",
          "Gettysburg College",
          "The University of Texas at San Antonio",
          "Marshall University",
          "New College of Florida",
          "East Tennessee State University",
          "Indiana University - Kokomo",
          "Lincoln Memorial University",
          "University of Hawaii at Manoa",
          "Wisconsin Lutheran College",
          "Citadel Military College of South Carolina",
          "Centre College",
          "Regent University",
          "University of Central Oklahoma",
          "Molloy University",
          "Boise State University",
          "University of California - Riverside",
          "American Public University System",
          "Murray State University",
          "Belhaven University",
          "Thomas Aquinas College",
          "Providence College",
          "University of New Hampshire",
          "University of Northern Iowa",
          "Loras College",
          "Louisiana State University - Alexandria",
          "Trinity Christian College",
          "Angelo State University",
          "Lawrence University",
          "Azusa Pacific University",
          "Georgia State University",
          "Clarkson University",
          "Butler University",
          "Augustana College - Illinois",
          "Oberlin College",
          "Montana Technological University",
          "Fort Hays State University",
          "Lee University",
          "University of Vermont",
          "Tarleton State University",
          "Spelman College",
          "Seattle Pacific University",
          "Montana State University",
          "Liberty University",
          "Southwestern Oklahoma State University",
          "Bradley University",
          "Calvin University",
          "Manchester University",
          "CUNY Brooklyn College",
          "Mississippi University for Women",
          "University of the Cumberlands",
          "Earlham College",
          "New Mexico State University",
          "Northern Arizona University",
          "Columbia International University",
          "University of Tennessee at Martin",
          "Howard University",
          "California State University - Northridge",
          "Montclair State University",
          "Kean University",
          "Northeastern State University",
          "Embry-Riddle Aeronautical University - Prescott",
          "Hobart and William Smith",
          "Heritage University",
          "Northeastern Illinois University",
          "Maryville University",
          "Baldwin Wallace University",
          "Northwest University",
          "Rowan University",
          "Saint Francis University",
          "Indiana University Southeast",
          "University of Evansville",
          "Stetson University",
          "SUNY Farmingdale State College",
          "University of Louisiana at Lafayette",
          "University of Nebraska at Kearney",
          "Drury University",
          "Salve Regina University",
          "California State Polytechnic University - Pomona",
          "East Carolina University",
          "Northern Kentucky University",
          "Lubbock Christian University",
          "Salisbury University",
          "Middle Tennessee State University",
          "Indiana University - Northwest",
          "University of the Incarnate Word",
          "Pacific Lutheran University",
          "Purdue University Northwest",
          "University of South Carolina Aiken",
          "California State University - Channel Islands",
          "Miami University",
          "University of Tampa",
          "Bryant University",
          "Kennesaw State University",
          "Grand Valley State University",
          "Anderson University - South Carolina",
          "University of Texas - El Paso",
          "University of Denver",
          "University of Central Missouri",
          "Keiser University - Fort Lauderdale",
          "University of North Texas at Dallas",
          "Illinois Institute of Technology",
          "The University of Baltimore",
          "Bob Jones University",
          "Winston-Salem State University",
          "The University of West Alabama",
          "Vanguard University of Southern California",
          "Marian University Indianapolis",
          "Christopher Newport University",
          "University of Arkansas at Little Rock",
          "Oakland University",
          "Thomas University",
          "Southern Nazarene University",
          "Northwestern College - Iowa",
          "University of Wisconsin-Parkside",
          "Clayton State University",
          "Martin Luther College",
          "University of Minnesota Morris",
          "Western Carolina University",
          "University of Louisiana - Monroe",
          "Gallaudet University",
          "Loyola University Maryland",
          "Johnson University",
          "Manhattan University",
          "Southwestern Adventist University",
          "University of Minnesota Duluth",
          "Sam Houston State University",
          "Touro University",
          "Milwaukee School of Engineering",
          "University of Central Arkansas",
          "University of Rhode Island",
          "Central Michigan University",
          "University of South Carolina - Upstate",
          "Jacksonville State University",
          "Minot State University",
          "Eastern Illinois University",
          "Evangel University",
          "Southern Wesleyan University",
          "Avila University",
          "Monroe College - Bronx/New Rochelle",
          "Wichita State University",
          "University of Saint Joseph",
          "William Paterson University of New Jersey",
          "Slippery Rock University",
          "Louisiana State University - Shreveport",
          "Simmons University",
          "Emporia State University",
          "Manhattan School of Music",
          "University of Detroit Mercy",
          "Union Adventist University",
          "University of Puget Sound",
          "MidAmerica Nazarene University",
          "Southern Illinois University Edwardsville",
          "Hofstra University",
          "Elms College",
          "Marymount University",
          "University of Washington - Bothell",
          "Marywood University",
          "University of Southern Indiana",
          "University of Michigan - Flint",
          "University of Montana - Western",
          "Arkansas State University",
          "University of North Alabama",
          "Oregon Institute of Technology",
          "SUNY Oneonta",
          "Bowling Green State University",
          "Southeastern Oklahoma State University",
          "Maine Maritime Academy",
          "Nicholls State University",
          "Loyola University New Orleans",
          "Westminster University - Utah",
          "Georgia Southern University",
          "Portland State University",
          "Queens University of Charlotte",
          "Spalding University",
          "Le Moyne College",
          "CUNY City College of New York",
          "Husson University",
          "St. Lawrence University",
          "Chicago State University",
          "Eastern Mennonite University",
          "Dakota State University",
          "University of Houston - Downtown",
          "Fordham University",
          "Stockton University",
          "Meredith College",
          "Illinois State University",
          "Regis University",
          "Walla Walla University",
          "Western Illinois University",
          "Hanover College",
          "Chaminade University of Honolulu",
          "Agnes Scott College",
          "Northwest Nazarene University",
          "San Francisco State University",
          "Midwestern State University",
          "John Carroll University",
          "Duquesne University",
          "Kalamazoo College",
          "CUNY Queens College",
          "Friends University",
          "California State University - Fresno",
          "Spring Arbor University",
          "University of Lynchburg",
          "University of Pikeville",
          "Shenandoah University",
          "Adelphi University",
          "University of New Hampshire at Manchester",
          "Vermont State University Randolph and Williston",
          "Missouri State University",
          "Bethel University - Minnesota",
          "Metropolitan State University - Minnesota",
          "Indiana Wesleyan University-Marion",
          "Colorado Christian University",
          "Berry College",
          "University of Hawaii - West Oahu",
          "Concordia College",
          "Saint Elizabeth University",
          "University of Massachusetts Boston",
          "Ramapo College of New Jersey",
          "University of New Mexico",
          "California State University - Monterey Bay",
          "Fresno Pacific University",
          "Barry University",
          "St. Norbert College",
          "Fayetteville State University",
          "Huntington University",
          "University of California - Merced",
          "Lawrence Technological University",
          "University of Toledo",
          "Auburn University at Montgomery",
          "Winona State University",
          "Spring Hill College",
          "Concordia University Wisconsin",
          "Baker University",
          "Bard College",
          "University of Mary Washington",
          "Niagara University",
          "Alverno College",
          "Bay Path University",
          "Misericordia University",
          "Washburn University",
          "University of North Carolina at Pembroke",
          "Mount Marty University",
          "CUNY Hunter College",
          "California State University - San Marcos",
          "Roosevelt University",
          "Milligan University",
          "Pratt Institute",
          "Coastal Carolina University",
          "Wheeling University",
          "Emerson College",
          "University of North Georgia",
          "Northern Illinois University",
          "Smith Chason College",
          "Pacific Union College",
          "Southern Adventist University",
          "Beloit College",
          "South College - Knoxville",
          "University of Wisconsin-Eau Claire",
          "Newman University",
          "Lewis-Clark State College",
          "University of West Georgia",
          "Heidelberg University",
          "Tennessee Wesleyan University",
          "Austin College",
          "The University of Tennessee at Chattanooga",
          "Southwestern University",
          "Doane University",
          "College of Charleston",
          "University of North Carolina Asheville",
          "Cleveland State University",
          "Messiah University",
          "University of Wisconsin - Milwaukee",
          "Webster University",
          "Brescia University",
          "Madonna University",
          "Saginaw Valley State University",
          "Skyline College - San Bruno",
          "Kent State University",
          "University of Montevallo",
          "Utica University",
          "Mayville State University",
          "Willamette University",
          "Xavier University",
          "Arizona State University - Downtown Phoenix Campus",
          "Abraham Baldwin Agricultural College",
          "Western Michigan University",
          "Ferris State University",
          "Otterbein University",
          "Brigham Young University-Idaho",
          "Indiana University - South Bend",
          "Maryville College",
          "Monmouth University",
          "Warner Pacific University",
          "Western New Mexico University",
          "Sul Ross State University",
          "Transylvania University",
          "Linfield University",
          "University of Montana",
          "Carlow University",
          "Lewis University",
          "University of Wisconsin - Whitewater",
          "Southern Illinois University Carbondale",
          "Winthrop University",
          "Rhode Island College",
          "Minnesota State University Moorhead",
          "North Central College",
          "Morehouse College",
          "Western Washington University",
          "Delta State University",
          "Youngstown State University",
          "Northern State University",
          "The College of St. Scholastica",
          "Dunwoody College of Technology",
          "Sonoma State University",
          "Weber State University",
          "Dominican University of California",
          "Lasell University",
          "Shepherd University",
          "Tuskegee University",
          "University of Sioux Falls",
          "Roberts Wesleyan University",
          "University of La Verne",
          "William Jewell College",
          "Southeastern Louisiana University",
          "Washington College",
          "University of Illinois Springfield",
          "Stevenson University",
          "Lake Superior State University",
          "North Carolina Central University",
          "Lander University",
          "Alfred University",
          "Bellarmine University",
          "Old Dominion University",
          "Gordon College",
          "Arkansas Tech University",
          "Northland College",
          "University of the Ozarks",
          "Elizabeth City State University",
          "North Park University",
          "Louisiana Christian University",
          "Allegheny College",
          "University of Maine",
          "University of Saint Francis - Indiana",
          "California State University - Los Angeles",
          "California State University - Dominguez Hills",
          "Fairleigh Dickinson University - Metropolitan Campus",
          "King University - Tennessee",
          "Rider University",
          "University of Washington - Tacoma",
          "Central College",
          "Georgia Southwestern State University",
          "SUNY Plattsburgh",
          "University of Mobile",
          "Westmont College",
          "West Chester University of Pennsylvania",
          "Governors State University",
          "Franklin University",
          "Moravian University",
          "Wilkes University",
          "Pfeiffer University",
          "Elon University",
          "Valparaiso University",
          "Aurora University",
          "Fairmont State University",
          "Goshen College",
          "California State University - East Bay",
          "McDaniel College",
          "University of Advancing Technology",
          "Southeastern University",
          "Gardner-Webb University",
          "Saint Mary-of-the-Woods College",
          "Kettering University",
          "West Liberty University",
          "Drew University",
          "Idaho State University",
          "SUNY Empire State University",
          "LIM College",
          "Dickinson State University",
          "Trevecca Nazarene University",
          "North Greenville University",
          "Northwest Missouri State University",
          "McMurry University",
          "Muskingum University",
          "Purdue University Fort Wayne",
          "Gwynedd Mercy University",
          "Susquehanna University",
          "University of Wisconsin - Platteville",
          "Quinnipiac University",
          "Widener University",
          "Dakota Wesleyan University",
          "California Lutheran University",
          "The New School",
          "Commonwealth University - Bloomsburg",
          "High Point University",
          "West Virginia University at Parkersburg",
          "Austin Peay State University",
          "Norwich University",
          "West Coast University - Orange County",
          "Nelson University",
          "Ithaca College",
          "Georgia Gwinnett College",
          "Coe College",
          "Piedmont University",
          "Longwood University",
          "Roanoke College",
          "SUNY Fredonia",
          "Bethel University - Indiana",
          "Florida Polytechnic University",
          "Eastern Kentucky University",
          "Simpson University",
          "Santa Fe College",
          "Knox College",
          "Kutztown University of Pennsylvania",
          "South Texas College",
          "Christian Brothers University",
          "Colorado State University Pueblo",
          "Pace University",
          "Marietta College",
          "Young Harris College",
          "Oklahoma Baptist University",
          "Wheaton College - Massachusetts",
          "Frostburg State University",
          "Gannon University",
          "Southern Utah University",
          "University of Connecticut - Hartford",
          "Lourdes University",
          "University of Wisconsin - Oshkosh",
          "Franciscan University of Steubenville",
          "Truett McConnell University",
          "Houston Christian University",
          "Marist College",
          "Bismarck State College",
          "University of Minnesota Rochester",
          "Central Connecticut State University",
          "Menlo College",
          "McNeese State University",
          "Fisk University",
          "Colorado Mesa University",
          "Claflin University",
          "Carthage College",
          "Woodbury University",
          "Southern Connecticut State University",
          "Thomas More University",
          "Chadron State College",
          "Miami University - Hamilton",
          "Walsh University",
          "Pacific University Oregon",
          "The University of Akron",
          "SUNY Cortland",
          "Faulkner University",
          "Metropolitan State University of Denver",
          "Johnson C. Smith University",
          "Converse University",
          "Eastern Washington University",
          "ECPI University",
          "Francis Marion University",
          "La Salle University",
          "Westminster College - Pennsylvania",
          "Northern Michigan University",
          "University of Wisconsin - River Falls",
          "Oakland City University",
          "Our Lady of the Lake University",
          "Utah Valley University",
          "Rockford University",
          "University of Hawaii at Hilo",
          "Cleary University",
          "DeVry University - Illinois",
          "Centenary College of Louisiana",
          "Cairn University",
          "Oglala Lakota College",
          "Arizona State University - Online",
          "Saint Vincent College - Pennsylvania",
          "Eastern Connecticut State University",
          "University of New Orleans",
          "SUNY Oswego",
          "Morningside University",
          "Nazareth University",
          "Western Colorado University",
          "Saint Anselm College",
          "Jackson State University",
          "George Fox University",
          "Huntingdon College",
          "Galen College of Nursing - Louisville",
          "Ohio Dominican University",
          "Southern Oregon University",
          "Southeast Missouri State University",
          "University of Arkansas at Fort Smith",
          "McKendree University",
          "Florida Southern College",
          "University of Arkansas at Monticello",
          "PennWest California",
          "Southern New Hampshire University",
          "Oklahoma Christian University",
          "Graceland University",
          "Augsburg University",
          "St. Francis College",
          "Dominican University",
          "Bemidji State University",
          "Upper Iowa University",
          "New York Institute of Technology",
          "Goucher College",
          "University of Jamestown",
          "Carson-Newman University",
          "Blue Mountain Christian University",
          "New Mexico Highlands University",
          "University of Maine at Farmington",
          "West Virginia University Institute of Technology",
          "University of South Carolina Beaufort",
          "Northwestern Oklahoma State University",
          "Hollins University",
          "Life University",
          "University of Wisconsin - Stevens Point",
          "Illinois College",
          "Hamline University",
          "Hope International University",
          "Albion College",
          "University of the Virgin Islands",
          "Indiana State University",
          "Western Kentucky University",
          "Western Oregon University",
          "Mount Mercy University",
          "LeMoyne-Owen College",
          "Morehead State University",
          "Park University",
          "Penn State Scranton",
          "Springfield College - Massachusetts",
          "DigiPen Institute of Technology",
          "Columbus State University",
          "University of Florida-Online",
          "Juniata College",
          "Cornell College",
          "Delaware State University",
          "Mount Mary University",
          "Wright State University",
          "Malone University",
          "Carroll University",
          "Clarke University",
          "Charleston Southern University",
          "Lamar University",
          "Crown College",
          "Oklahoma Wesleyan University",
          "Olivet Nazarene University",
          "Lebanon Valley College",
          "Central Washington University",
          "Rivier University",
          "Trinity Washington University",
          "Musicians Institute",
          "Union College - Kentucky",
          "University of Arkansas at Pine Bluff",
          "Texas Wesleyan University",
          "Baker College",
          "Buena Vista University",
          "Campbell University",
          "Texas Lutheran University",
          "University of Wisconsin - Stout",
          "Indiana University of Pennsylvania",
          "Ashland University",
          "Suffolk University",
          "Thomas College",
          "Dominican University New York",
          "Anderson University - Indiana",
          "SUNY Brockport"
         ],
         "legendgroup": "",
         "marker": {
          "color": [
           2,
           2,
           2,
           2,
           2,
           2,
           2,
           2,
           2,
           2,
           2,
           2,
           2,
           2,
           2,
           2,
           2,
           2,
           2,
           0,
           2,
           2,
           2,
           2,
           2,
           2,
           2,
           2,
           2,
           2,
           2,
           2,
           2,
           2,
           2,
           2,
           2,
           2,
           2,
           2,
           2,
           2,
           2,
           2,
           0,
           2,
           2,
           1,
           2,
           2,
           0,
           0,
           2,
           2,
           0,
           2,
           2,
           2,
           2,
           2,
           0,
           0,
           0,
           2,
           2,
           0,
           0,
           2,
           2,
           2,
           2,
           2,
           2,
           0,
           0,
           2,
           2,
           2,
           2,
           2,
           2,
           2,
           2,
           0,
           2,
           2,
           2,
           0,
           2,
           0,
           2,
           2,
           2,
           2,
           0,
           2,
           2,
           0,
           2,
           1,
           0,
           2,
           1,
           2,
           0,
           0,
           2,
           0,
           0,
           0,
           0,
           2,
           1,
           1,
           0,
           2,
           1,
           0,
           2,
           0,
           1,
           0,
           2,
           1,
           2,
           3,
           1,
           0,
           2,
           1,
           2,
           2,
           2,
           0,
           0,
           2,
           2,
           0,
           0,
           2,
           0,
           1,
           0,
           0,
           2,
           2,
           0,
           1,
           1,
           1,
           3,
           2,
           1,
           0,
           2,
           2,
           2,
           0,
           2,
           2,
           1,
           1,
           1,
           1,
           2,
           2,
           1,
           1,
           1,
           2,
           1,
           0,
           3,
           1,
           1,
           2,
           1,
           1,
           2,
           1,
           2,
           1,
           1,
           3,
           2,
           1,
           1,
           0,
           1,
           2,
           0,
           1,
           1,
           2,
           2,
           3,
           1,
           1,
           1,
           0,
           1,
           0,
           1,
           0,
           0,
           1,
           0,
           3,
           0,
           1,
           1,
           1,
           3,
           1,
           1,
           1,
           0,
           2,
           2,
           1,
           0,
           1,
           3,
           1,
           0,
           1,
           1,
           3,
           3,
           2,
           1,
           0,
           1,
           1,
           0,
           0,
           1,
           0,
           2,
           1,
           0,
           1,
           3,
           0,
           0,
           0,
           1,
           0,
           2,
           1,
           1,
           1,
           3,
           1,
           2,
           1,
           3,
           0,
           1,
           0,
           0,
           1,
           1,
           1,
           0,
           1,
           0,
           2,
           0,
           1,
           1,
           0,
           0,
           3,
           3,
           0,
           1,
           1,
           1,
           1,
           1,
           1,
           1,
           0,
           1,
           1,
           1,
           3,
           0,
           1,
           3,
           3,
           1,
           0,
           3,
           0,
           0,
           1,
           1,
           3,
           1,
           1,
           1,
           1,
           3,
           1,
           3,
           1,
           1,
           1,
           0,
           0,
           1,
           3,
           1,
           1,
           3,
           0,
           1,
           1,
           1,
           0,
           3,
           1,
           2,
           1,
           3,
           3,
           3,
           3,
           1,
           1,
           1,
           0,
           2,
           0,
           3,
           1,
           3,
           3,
           3,
           1,
           3,
           1,
           1,
           1,
           1,
           1,
           0,
           0,
           0,
           3,
           3,
           1,
           2,
           1,
           1,
           3,
           3,
           3,
           3,
           1,
           3,
           0,
           1,
           1,
           1,
           2,
           1,
           0,
           3,
           2,
           3,
           1,
           1,
           1,
           0,
           1,
           1,
           1,
           1,
           0,
           3,
           3,
           1,
           3,
           0,
           3,
           3,
           1,
           0,
           0,
           3,
           3,
           1,
           1,
           1,
           3,
           3,
           1,
           1,
           0,
           1,
           3,
           1,
           1,
           3,
           0,
           3,
           1,
           1,
           0,
           0,
           0,
           3,
           1,
           0,
           3,
           3,
           1,
           3,
           3,
           0,
           1,
           1,
           1,
           0,
           0,
           3,
           3,
           1,
           1,
           0,
           3,
           1,
           3,
           1,
           3,
           3,
           3,
           3,
           1,
           3,
           0,
           3,
           1,
           3,
           1,
           3,
           1,
           1,
           3,
           1,
           3,
           1,
           3,
           1,
           3,
           1,
           0,
           0,
           1,
           3,
           1,
           3,
           3,
           3,
           3,
           3,
           3,
           3,
           1,
           1,
           3,
           1,
           3,
           3,
           3,
           1,
           3,
           1,
           3,
           3,
           1,
           3,
           3,
           1,
           3,
           3,
           1,
           3,
           3,
           3,
           3,
           0,
           3,
           1,
           1,
           3,
           3,
           1,
           3,
           3,
           1,
           3,
           0,
           1,
           3,
           1,
           1,
           3,
           1,
           1,
           1,
           3,
           3,
           2,
           0,
           1,
           3,
           3,
           1,
           3,
           1,
           3,
           1,
           1,
           3,
           3,
           1,
           1,
           1,
           0,
           3,
           0,
           3,
           3,
           1,
           1,
           1,
           3,
           1,
           3,
           1,
           1,
           3,
           1,
           1,
           3,
           1,
           3,
           0,
           1,
           0,
           3,
           3,
           3,
           1,
           3,
           3,
           3,
           3,
           1,
           3,
           1,
           1,
           1,
           3,
           1,
           1,
           1,
           1,
           3,
           1,
           1,
           3,
           3,
           0,
           0,
           3,
           1,
           1,
           3,
           3,
           2,
           0,
           3,
           1,
           3,
           1,
           1,
           0,
           1,
           3,
           3,
           3,
           1,
           3,
           1,
           3,
           1,
           3,
           1,
           1,
           3,
           1,
           0,
           1,
           3,
           3,
           3,
           1,
           0,
           3,
           3,
           3,
           1,
           1,
           1,
           3,
           3,
           3,
           1,
           0,
           3,
           3,
           1,
           1,
           1,
           3,
           1,
           1,
           1,
           3,
           3,
           3,
           3,
           3,
           3,
           1,
           1,
           3,
           1,
           3,
           3,
           3,
           1,
           1,
           3,
           0,
           1,
           1,
           3,
           3,
           1,
           1,
           3,
           3,
           1,
           1,
           3,
           3,
           3,
           3,
           3,
           1,
           1,
           0,
           1,
           3,
           3,
           3,
           3,
           1,
           3,
           1,
           1,
           3,
           3,
           0,
           3,
           3,
           1,
           3,
           1,
           3,
           1,
           3,
           2,
           1,
           3,
           1,
           1,
           1,
           1,
           1,
           1,
           3,
           3,
           3,
           0,
           1,
           1,
           1,
           3,
           3,
           1,
           3,
           1,
           1,
           0,
           3,
           3,
           3,
           3,
           3,
           1,
           3,
           3,
           1,
           1,
           1,
           1,
           1,
           1,
           1,
           1,
           3,
           1,
           1,
           3,
           3,
           1,
           3,
           1,
           3,
           1,
           3,
           3,
           1,
           1,
           3,
           1,
           3,
           3,
           1,
           1,
           1,
           0,
           1,
           3,
           1,
           3,
           3,
           3,
           1,
           3,
           3,
           1,
           3,
           3,
           1,
           1,
           3,
           1,
           1,
           1,
           1,
           3,
           3,
           3,
           1,
           3,
           3,
           3,
           3,
           3,
           3,
           1,
           1,
           1,
           1,
           3,
           1,
           3,
           3,
           3,
           3,
           3,
           0,
           3,
           1,
           1,
           3,
           1,
           3,
           3,
           0,
           3,
           3,
           3,
           1,
           1,
           1,
           1,
           0,
           1,
           3,
           3,
           1,
           3,
           1,
           1,
           1,
           3,
           1,
           3,
           1,
           3,
           3,
           3,
           1,
           1,
           1,
           1,
           3,
           0,
           1,
           3,
           1,
           3,
           3,
           1,
           3,
           1,
           1,
           3,
           3,
           3,
           1,
           1,
           3,
           3,
           3,
           1,
           3,
           1,
           3,
           1,
           3,
           3,
           3,
           3,
           3,
           3,
           1,
           1,
           3,
           0,
           3,
           1,
           1,
           3,
           1,
           1,
           1,
           3,
           1,
           3,
           3,
           1,
           3,
           3,
           3,
           3,
           3,
           3,
           1,
           3,
           3,
           1,
           1,
           1,
           3,
           3,
           1,
           3,
           1,
           3,
           1,
           3,
           1,
           1,
           1,
           3,
           3,
           1
          ],
          "coloraxis": "coloraxis",
          "size": 10,
          "symbol": "circle"
         },
         "mode": "markers",
         "name": "",
         "orientation": "v",
         "showlegend": false,
         "type": "scatter",
         "x": [
          7.680056585662045,
          7.386813453906552,
          7.565877576348684,
          7.327562285139695,
          7.354662283447978,
          7.57176904738661,
          7.557744043443108,
          7.058330851420929,
          7.450094413591489,
          7.278916607877084,
          7.587983391098936,
          7.44893058511846,
          6.748432182260419,
          7.0959783060348265,
          7.355272616509995,
          6.787525197607463,
          7.362516291045055,
          7.499728960694823,
          7.4539496978916215,
          1.3990505870214063,
          7.538973666957135,
          7.543675206746842,
          5.896958572788267,
          6.500512167518359,
          7.865804338235598,
          6.89304371007419,
          6.425495936298002,
          7.396274955575527,
          6.927445670022847,
          6.194101915455008,
          6.495573678040111,
          6.623657866833271,
          5.09607099457011,
          6.821568968371874,
          5.8004217610336815,
          5.126988568806134,
          6.512439328424097,
          6.021723238381318,
          5.814877281662411,
          7.6537411534277915,
          7.4525158745134075,
          6.1944922326608625,
          6.780625886593631,
          6.254361699120275,
          4.849320682228464,
          5.973296441027233,
          7.0572068086350175,
          0.7036418849114404,
          6.290309899864112,
          4.945865207342618,
          3.060491868778493,
          3.631860907150656,
          5.181035418256358,
          6.193979607244379,
          4.23784855681922,
          5.320112432339949,
          4.973044628381988,
          5.594470234343228,
          6.232408821708857,
          3.4343434546880127,
          0.5321848448977359,
          2.906242085972139,
          1.26063575333978,
          4.994094674077253,
          5.6330782692193475,
          3.608473962951284,
          1.8154944387485636,
          6.153131937192201,
          6.136461583882115,
          6.030465338598603,
          5.2972262304726465,
          5.536609203758213,
          6.298577598284644,
          4.335555626265838,
          2.8754763334363065,
          6.362101865795274,
          4.5085655623157415,
          4.961084687908204,
          5.83426308994198,
          5.0872547450220384,
          6.208331347846313,
          2.912476175092297,
          6.4167753745942795,
          0.320276189940822,
          4.339000078111528,
          3.3189087104149326,
          4.564991629723326,
          -0.7797242226333044,
          4.330899632441106,
          2.2367384292418646,
          4.789071328644358,
          3.7296838713088807,
          5.432168449308753,
          4.515520210751429,
          1.8882513545111013,
          4.172445362496412,
          5.27493938996091,
          1.2686697656656125,
          6.075883925823587,
          1.8956611200282427,
          1.107934407478876,
          4.718144498675565,
          2.15204216552124,
          5.863429820951176,
          2.3618095622046757,
          -1.4071669065185566,
          4.377147525235987,
          1.0206552990444968,
          0.5327241795968777,
          3.1757826620754415,
          1.8136289223062088,
          4.743169672048973,
          0.7111686339833762,
          0.16847254921238025,
          -0.49009903939175264,
          3.7352294821834566,
          0.5918630363896175,
          0.45122178450009054,
          4.7261921576874695,
          2.1201495238259045,
          0.6226014509325353,
          0.4767547502497648,
          5.263766507621291,
          1.2847227610054603,
          4.458208825294435,
          -3.6864185344876974,
          2.2957258490148473,
          -1.1096038125235455,
          5.199648329636424,
          1.115460939757097,
          3.4215458178342866,
          5.877862410546511,
          3.3847519707646456,
          -1.27316261886581,
          -1.7304956692421658,
          5.597526289006702,
          5.183691168123314,
          1.2524270748989292,
          -0.05120154152302915,
          5.442989322595086,
          1.4849221531421353,
          1.0233838826097528,
          1.48846031593172,
          1.400033169133633,
          4.742240044644444,
          3.303819657476422,
          1.0586850072792156,
          1.2029376857097167,
          -0.13563122278721562,
          -0.28646920012791055,
          -1.4468130854906944,
          4.150479043186503,
          2.791760114734605,
          1.4159710554337246,
          4.246306324677275,
          4.34799368199465,
          4.839047802639192,
          0.7858531756763268,
          3.285387729855189,
          4.515429756456753,
          -0.5703844225852207,
          1.2253691750969369,
          1.7143098343992744,
          -0.20582800565245635,
          4.1917174832228925,
          5.273132005876701,
          1.1584615257257658,
          0.7329340277259214,
          -0.02689129481254449,
          3.9987903978869963,
          0.2916328048370998,
          -0.7077594272950501,
          -4.6597136330985025,
          -0.6735246862852988,
          0.5713104014241821,
          5.383149938111106,
          1.210727457625894,
          0.5379978409285373,
          5.0671011524488545,
          -0.008109679324004571,
          4.593845560561335,
          2.854545676931384,
          1.3612077198689434,
          -1.8029757620230398,
          3.5386421654194398,
          -1.4354308054267493,
          0.8612411070879943,
          1.4790004210866605,
          2.025921279651782,
          3.4106006627996996,
          0.035324376660189026,
          0.4806171460663781,
          1.1081469018484644,
          4.3685240701655745,
          4.707626363350575,
          -2.1686730714737013,
          0.6840885747411493,
          0.7360050658547117,
          -0.28500861701147406,
          -0.6188782087233251,
          1.3718202239211006,
          0.6493426663825083,
          0.5257248174565817,
          -1.0816367463585734,
          2.085303581628031,
          2.282384126113804,
          1.1280153705788778,
          -1.8612634022810088,
          -0.4474498078001888,
          0.9212407989419341,
          0.22305025208940812,
          0.5353434662182723,
          -2.3772786936159034,
          -0.1635678235031088,
          0.1962905097664472,
          2.048935125291588,
          -4.203750453701125,
          4.213297563324911,
          3.6686375235192474,
          0.42837073002530246,
          -0.5830706916101978,
          0.6023410320966313,
          -2.739651067593141,
          0.12530023092819645,
          -0.28340080410811563,
          1.6013660855001013,
          2.848045647441038,
          -1.5822384959466587,
          -4.090264096273845,
          5.138903788550931,
          1.2536547322891527,
          -1.3543886109005523,
          0.3955797278378306,
          2.0479746188045467,
          1.049459552823334,
          0.094852472923807,
          1.2972718054212387,
          1.19876556494718,
          3.906303916950158,
          -1.3596803312980874,
          -0.2870422214950435,
          1.5235842907638413,
          -2.916679020356002,
          -1.1805380063273203,
          0.149920303970645,
          -1.360346608030021,
          -1.1251041621083666,
          2.1600002423638007,
          4.10854044419597,
          0.946634427118352,
          1.128556096778909,
          -0.5413938227346906,
          -1.6352792375380079,
          -0.16896608294131066,
          3.395538835675154,
          1.2885127572059045,
          -1.7973304323011758,
          -2.2229567491498106,
          0.1139600787354691,
          -1.398683078335178,
          0.8725169702195049,
          -0.19381340505960587,
          0.46926616194822757,
          2.4623995871458804,
          -1.4713298589232304,
          0.07081681388636715,
          1.2884838049356486,
          3.3533663022608806,
          2.0588852432866878,
          0.10185534909469035,
          -0.0550892735988255,
          -0.11788553628679758,
          -1.2589203682262597,
          -1.8546439868264903,
          -2.724294295947284,
          1.0923004164827534,
          2.30301016957546,
          2.1895805991330675,
          -0.008052725222867372,
          0.6675339100164047,
          1.7026151688875484,
          0.80859122724049,
          -0.9145548837583753,
          -2.1889018200335095,
          0.3042389529969927,
          0.2388951386521307,
          -0.9079298174647393,
          -2.2485835225527593,
          -0.13910473132049986,
          2.8595039742694164,
          -1.4571064932226232,
          -2.516629809591559,
          1.8293012213269126,
          1.5648294040356454,
          -4.056445060441093,
          2.3376890087571693,
          -0.32879270220250734,
          -0.394796843200791,
          2.041774664814001,
          -1.6564300590068162,
          1.0600190850801832,
          -0.996922879286916,
          -0.0438885695772282,
          1.2881566455984332,
          -1.9739176953361917,
          2.6574224824028954,
          -4.9711660922279695,
          -0.09620490366181678,
          2.8752655288942393,
          -0.6202968328629876,
          -0.02084890460645009,
          0.4785720127461394,
          1.6001753982642561,
          -1.5315650703572776,
          -1.2673034577114486,
          0.04873708142437477,
          -2.8264400838285475,
          -0.3978848005997364,
          0.48759758025657723,
          -1.0483640442166235,
          0.5501690440757607,
          -1.0778435866590228,
          -4.286964034684252,
          1.4929131975843808,
          5.820566841200528,
          1.62793856668144,
          -3.623677903768872,
          -5.229017011265308,
          -1.555323677722466,
          -2.8064975726286656,
          -0.5631005346954362,
          -0.4779223139595932,
          2.0921387424412536,
          -2.676538412682129,
          4.125032387296075,
          -1.4515849279192556,
          -3.3470566394275587,
          0.485864972050822,
          -2.2274815670060857,
          -2.373550736986743,
          -1.9414863230498913,
          -0.3171071645241433,
          -2.019194416591093,
          -0.4101776427550349,
          2.59952038374507,
          -0.5842621505603394,
          0.03121691303897562,
          0.26298428323947404,
          -1.1106718646881313,
          0.6834745860975101,
          0.08593129189126915,
          -2.435216976911565,
          -1.5396229734626923,
          2.343109221612022,
          3.784889832291835,
          0.8374963764112429,
          -0.5594406689275648,
          -2.8392848860812867,
          -3.487406595396941,
          -3.5803483772515055,
          -3.4637399080797806,
          2.8194312361815035,
          -1.4655049764812005,
          -0.630827586936487,
          1.8402036576125296,
          0.7009090689548173,
          -0.8778707061577485,
          5.547630542487009,
          -0.5010408703917184,
          -2.291416822183742,
          -1.357178772702804,
          3.4151496829869656,
          -2.7832745979054474,
          -0.48677158320900743,
          0.19763205670210338,
          0.033595684322199025,
          -0.457457683638489,
          -0.29097173796622966,
          -0.4235503622895231,
          1.0956303652352466,
          -0.2919854799082315,
          -1.315973673380436,
          -3.6136426940839286,
          -2.698756076803374,
          1.2906148759571248,
          -3.408237847855594,
          -2.4266728840206904,
          -1.9173867859245841,
          -1.4697419842511865,
          0.17465591323472704,
          -3.227723118223647,
          -2.0636443079587856,
          -3.1425664204040378,
          -4.364705318392038,
          2.0395421311224267,
          2.5171694384664725,
          -0.8392003926469062,
          -5.298047524589512,
          -1.5100790510928643,
          -0.5803133556595209,
          -1.3768369751587768,
          0.4267355038641667,
          -0.9240283312420905,
          -2.1330606609337845,
          -0.46200481167102775,
          0.05428012961364135,
          -1.9349707976309536,
          -0.20854064659661256,
          -1.9545925992026405,
          1.2656887453347057,
          0.6440101470627614,
          -0.8008389754153201,
          -1.968153196924573,
          -0.736305907206275,
          -2.7267183932097736,
          0.9749455721448831,
          -1.223903166443585,
          -2.914752519887692,
          -3.29015478666858,
          1.0302058088797958,
          -2.9645368323569623,
          -2.559092776763139,
          -0.2711673859036019,
          2.147875415750518,
          0.20896638360069159,
          1.357375784897295,
          -1.1641857635543433,
          -1.9949670193048805,
          -2.3302790876816157,
          -4.333718127927476,
          2.6738668769597056,
          -0.04389321423809676,
          0.25379749396161766,
          -5.674880921872092,
          2.7772978530692036,
          -4.3795930627570145,
          -0.4586125015691087,
          -4.922854424152257,
          -5.246757739448335,
          -1.9900122618478473,
          -2.55370874578765,
          0.18667133209677486,
          -1.695903147174737,
          -1.4530674565082844,
          -2.967191257745908,
          -0.36510315369465235,
          -1.9768835190293375,
          -0.2688318674995163,
          -3.794861458591853,
          -0.6282731276055546,
          -1.1836836836344722,
          -1.1997284263616228,
          -0.13677050058884874,
          -6.277078807369232,
          1.7433587975086327,
          -1.8179944283397913,
          0.8777790171822099,
          -2.7216309302248485,
          0.6573554876388644,
          -2.578124203550264,
          0.19674351524073092,
          0.16336905338475302,
          -3.398962257988122,
          -0.3922948465189159,
          -1.8592400522846533,
          -2.7097018934546253,
          -2.520228437593134,
          -2.3517496180357753,
          -3.5080163044245762,
          -2.0944008544837045,
          -2.046944228997198,
          -0.2669575728192485,
          0.013866383829833248,
          -1.6170809756960474,
          -0.35553600436834454,
          -1.8430668018681218,
          -2.4775466002692315,
          -2.0735411773435763,
          1.9385119253367498,
          -4.078478349441879,
          0.4955533556625201,
          -2.04374565758158,
          -2.9619161918961527,
          1.9602790388559534,
          -3.9500300452689614,
          -3.0258544562929837,
          1.9072857302636246,
          -1.786153142768964,
          -2.4616907108350414,
          2.4970897490323534,
          -1.6519495360768677,
          -1.4164445120897007,
          -2.2878672779037057,
          -3.210389612672929,
          -1.7925626729452113,
          -2.3001461515679344,
          -1.2596669011752701,
          -0.2638988175778425,
          -1.8951217965731726,
          -3.5418378806598065,
          -0.9640048645628082,
          -2.955218190523826,
          -2.3080112346757353,
          1.329003802228115,
          -2.6471071263939523,
          -1.3507857767911653,
          -0.505360191437435,
          -4.064241234631063,
          0.4081094456028308,
          -0.6832171578984289,
          -1.7463725147011833,
          3.0010543984344515,
          -0.25153448399481926,
          1.8684491432426813,
          -1.9644816339326991,
          -3.1727466067330097,
          4.87420296368315,
          -0.5776574874351782,
          0.7854100863274689,
          -1.6218330353208699,
          -1.3213282193458349,
          -0.41026722348356565,
          -4.037614375550794,
          -0.1853121484102954,
          -3.107569618360686,
          0.8562025304402324,
          -1.5294057499499454,
          -3.2094943832132783,
          -4.039568976705028,
          1.0296761621630128,
          1.0758533450864893,
          1.7251506308968676,
          -1.1988183526277314,
          -2.640243141777948,
          -3.5282068340917254,
          -2.183014603430385,
          -1.7534963036069269,
          -0.6173355149190841,
          -1.4276759588808712,
          0.6423743342575771,
          -1.8627429215808349,
          0.010031218264540634,
          -1.6615457387515697,
          -0.061375393188818184,
          -0.17082444436816638,
          -2.083677293297047,
          -0.41135328599402615,
          0.275693822743546,
          -2.054764233422112,
          -0.028354461860256582,
          -3.786612506337524,
          0.3009234219009236,
          0.12045460281366611,
          -0.9471308345202655,
          -2.7522534681173187,
          -1.653381561590536,
          -3.6046050597554298,
          -0.9120337178422079,
          -4.711849862840471,
          -2.0977725735900856,
          -2.7196458536634514,
          -2.1038049197729536,
          -0.5475234822224517,
          -2.6131545383715293,
          -0.8882321878221949,
          -0.4484333164341615,
          -0.16350404038096478,
          -2.9187710482466085,
          0.18568359555207137,
          1.089844392114437,
          -1.265458025132407,
          -0.439885572006789,
          -2.229173560140068,
          -1.2102233796676423,
          -0.6390520828480809,
          -3.5633095326462856,
          -4.896870572747012,
          1.7014547076218802,
          -2.9045226816914362,
          -4.573539182272652,
          -0.21838264288550366,
          2.908608469158933,
          -1.7216488404799906,
          -2.537294792454518,
          4.081763182950506,
          -1.9638680407498583,
          -2.9380456661346415,
          -0.29650768163095303,
          -1.6137395006955586,
          -1.0005081128731326,
          1.4377417521508,
          -0.3398564307170435,
          -0.13018122227897078,
          -1.8672241013968305,
          -4.27142308895487,
          -3.093604243861285,
          -0.12332395307543498,
          -2.746595493981613,
          1.6408304427734977,
          -1.5820196572729879,
          1.266221298649557,
          -3.3115004332547198,
          0.6538186398670072,
          0.7183604178074355,
          -3.7812953971387313,
          0.31915295492990503,
          -0.23326880043607784,
          -0.30463828335652776,
          -2.46256512529165,
          -3.2147765943105626,
          -2.5356095870860127,
          -0.6141647403448754,
          -1.5072124853884543,
          -1.963724796121295,
          -1.4232080897846535,
          -2.3893492844368414,
          0.5213326135502953,
          0.6289711217230552,
          -0.3243737773241636,
          -3.8759606081340734,
          -1.6872909262554185,
          -3.3229021774019576,
          -1.0928772733663412,
          -1.7736290956945902,
          -2.552119343331029,
          -3.1719130878287327,
          0.4876395212339088,
          -0.1913084386516683,
          -0.7187835446382856,
          -4.690404697824771,
          0.7182771131565359,
          -1.2531927799155074,
          -0.6567371447858417,
          -4.373235490760358,
          -1.679235194564,
          -4.012194198035271,
          -3.505187193957395,
          -2.0143497270368402,
          -4.088525028524539,
          0.24500987685597642,
          -0.9239850570461416,
          -1.7290451381358962,
          0.7830152239891952,
          -2.0186839070201654,
          -3.6492073095424744,
          -3.8608899418286606,
          -0.28843811507931694,
          -0.36397834644981125,
          -2.8826748483061047,
          -0.2858469087220793,
          -0.40363453899029866,
          -0.7815192922884958,
          -3.1251479989042954,
          -2.0219421253138994,
          -0.8878041366509736,
          0.611770004539165,
          -1.5385894665982387,
          -1.8889931076365125,
          -0.37921580986339787,
          2.0399430086037933,
          -1.6564159104873912,
          -1.7926821672175521,
          -2.1751677711421284,
          -4.172162034178352,
          -2.2762913056855076,
          0.1613772686983069,
          -0.03144594475578213,
          -0.569073350127224,
          -0.4181181543538735,
          -2.1936126845092643,
          -2.063663244367524,
          -2.5472027145812883,
          -4.6822682752611,
          -0.13406003814556391,
          -1.9748078746617979,
          1.113250455943434,
          -0.07529187688561054,
          -3.5842238522393695,
          -4.257780603239133,
          -0.1637748052192543,
          -2.4078049881520953,
          -2.003431438993995,
          0.38472978994940654,
          -2.5529468906072896,
          -1.0475773594114013,
          -2.1531325950491187,
          -0.45745475263326874,
          -2.207395371826139,
          3.3634716797903748,
          -0.2523955604132147,
          -4.536116974085484,
          -0.3584714147421954,
          -0.6576069685847884,
          -0.7523519910775106,
          -0.12389040973049702,
          1.7924879544721195,
          0.7743787213636616,
          -2.497041892692713,
          -5.36094721989628,
          -2.2370059497837937,
          0.01858174257690977,
          -1.049074682799329,
          -0.38693074338721783,
          0.19008002834833856,
          -1.6015316244766709,
          -3.793921615141564,
          1.2789899246812928,
          -3.429055378950999,
          0.8352606864126697,
          -0.5849645003985402,
          -0.045316925789027636,
          -2.1308412314761362,
          -3.2818453264572365,
          -1.2463941175775446,
          -2.0427816841609725,
          -2.774376444741199,
          -0.9302027830152654,
          -3.412967292511408,
          -2.119958654036438,
          -1.1387434866242208,
          -0.3135139676259889,
          -0.3165005354529237,
          0.8685639528543977,
          0.17367978624659502,
          -0.07133592701076293,
          0.7752257781822188,
          2.1043448192337966,
          -2.8251521523775867,
          0.2819787700273999,
          -0.6709381432041054,
          -2.6568998925210265,
          -2.7877266977538726,
          -0.10943630695319567,
          -3.818354018790548,
          1.414945209118127,
          -2.8449170754913458,
          0.06739997229066613,
          -1.850198090409864,
          -1.6528505599269332,
          -0.38262931060114513,
          -0.21851708952569068,
          -6.7681110631915296,
          1.6991049045057278,
          -2.4790918484496958,
          -2.450974656618528,
          -0.5934539589232339,
          2.0477758124796397,
          -0.8624696660825338,
          -0.3317200898063882,
          -0.8755784480144927,
          -3.7177105603721348,
          0.6146327682675465,
          -3.1819480834808855,
          -2.868045204085647,
          -2.258302360668699,
          2.59601285478034,
          -2.1527128714953956,
          -1.428832859289518,
          -1.347619868296536,
          -1.72833518783567,
          -4.080818354176651,
          -0.36501320431028667,
          0.4740369022976709,
          -2.0383708594053807,
          -1.2145469655460943,
          0.5302828145141774,
          -0.49084677787564535,
          -0.21058076758341085,
          -2.6448620255928907,
          -2.673015631191157,
          -2.3804127945583433,
          1.6402562695793586,
          -2.7591484135606392,
          -4.913261751558001,
          -1.9317720553923734,
          -1.738353173688718,
          -3.627890452600187,
          -2.3461516584171127,
          -0.5031421110369586,
          -0.6097569631114886,
          -0.409694594263181,
          0.4054335956261708,
          -1.7661669731852154,
          -0.3199351538160705,
          -3.0573612040204616,
          -3.576679244424663,
          -5.127102068761206,
          -1.1555176377692595,
          -4.427624990919212,
          0.5191328877247053,
          -3.59002628967408,
          -0.8713930120817261,
          -0.14899127298605816,
          -2.0518045694729192,
          -0.25015887405007703,
          -3.3792516223970215,
          -4.255607171474701,
          0.2535948993270925,
          -3.643001072528816,
          -2.43780303220277,
          -2.3477677276585944,
          0.40938299393281335,
          -0.12322470296915798,
          -1.2234875393208262,
          -0.7367802292834714,
          0.610125581265371,
          -0.9117201499210648,
          -2.0259884061476976,
          -2.620747959796961,
          -0.4147932710000941,
          -3.5025193456586905,
          0.7354250404958121,
          -1.2194818690433404,
          0.41417786271962065,
          -2.3558369870913753,
          -0.6590662586877447,
          -1.8561232602096491,
          -0.30424922741559884,
          -2.1627902479307903,
          -1.7299346486062859,
          -2.4557951664916327,
          -0.4654094970221399,
          -0.1458581448909492,
          0.2911117011627278,
          -0.5160531702710117,
          -2.8401061683200584,
          0.7228461040915963,
          -1.4545552720788435,
          -3.769436976228167,
          -0.16456149470866677,
          -1.6381665574711224,
          -3.7493203727492017,
          -0.19676418760303127,
          -3.803936745798897,
          0.6060991788622894,
          0.3197762968531504,
          -3.5855406406384756,
          -2.4335062469325366,
          -2.458264030622405,
          -0.7677857402651417,
          -0.5104506106771939,
          -3.455448141634618,
          -3.4522954151249725,
          -4.645406473924618,
          -0.1715805823359393,
          -4.250727489293874,
          -0.47110293440892975,
          -3.100569679529726,
          0.49118786840337053,
          -1.4004740419327124,
          -2.829292296075431,
          -6.019094558683247,
          -3.783054900679361,
          -2.6270430306198382,
          -2.0992369640537585,
          -0.17994613848426358,
          -0.7027774549678901,
          -2.2689078802608678,
          -0.2077606124721073,
          -1.5782732324260715,
          0.2584440833432595,
          2.0711992530875722,
          -3.684152312188662,
          2.546146778800023,
          0.8181270195288348,
          1.5410185021513008,
          -4.5403932130639095,
          -0.2026618413873141,
          -2.4361094507537526,
          -2.127646650788167,
          0.22819674592289615,
          -2.9152305646184637,
          -2.800315018309384,
          -5.196746633122959,
          -2.466937417049313,
          -3.1801228695590362,
          -2.097198088853595,
          0.2344140603494074,
          -3.093031750435173,
          -4.416895531461593,
          -0.6453648157931113,
          0.059412002071313384,
          -0.09454218758931418,
          -5.472203783781649,
          -3.6840519048001243,
          0.13605241193210155,
          -3.133248095403952,
          -1.278531260026647,
          -1.5782521870061084,
          -0.21714467842906152,
          -3.0025419374157822,
          -0.7694994777949647,
          0.11979969124192504,
          -0.10247648875057766,
          -3.209051177252633,
          -1.54678042776382,
          -0.6274785710788631
         ],
         "xaxis": "x",
         "y": [
          -0.2966082698383985,
          -0.8312942281943008,
          -0.16675744220511662,
          -0.29947783554713375,
          -0.8119739638162227,
          0.7593682892214374,
          -0.30557529787279253,
          -1.3572969789377654,
          0.38048409938206423,
          -0.7713545808787182,
          0.33000356039164097,
          0.1604540042582063,
          -0.024420382463271478,
          -2.1716659373068694,
          -0.4939664049558478,
          -1.7037656492071411,
          -0.06246546529577147,
          -0.7237040512082884,
          -1.8114390944064094,
          5.8467791776002915,
          1.8149695880693701,
          -0.7651255338496084,
          3.232499380886513,
          -1.7928995480044385,
          -0.004208025416075715,
          -0.08579595740749689,
          2.146144560217387,
          2.170160170799011,
          -1.6200794722868395,
          3.251885832724017,
          -1.6649106263536613,
          -1.634041134369884,
          3.9178323821135908,
          0.46997475336519773,
          3.7248774174994463,
          -1.676055197960765,
          -1.666875990425148,
          -1.4995742071724445,
          2.0082888235137624,
          3.182771135096809,
          2.6680236457532285,
          6.235558809035515,
          0.6923000942357763,
          -1.6130700651895615,
          6.1055329457203085,
          -1.596754296819322,
          -0.6245524920582739,
          -0.3644861092984065,
          -1.471048377418204,
          2.4785939378822186,
          4.761795090068628,
          4.103245951282962,
          -0.0632209077912742,
          -1.7104306294077058,
          5.727415203681827,
          4.55291471960723,
          -0.8949637523399231,
          -0.5325856290648553,
          -1.9966177500476474,
          1.9646295715028048,
          3.6888798059565424,
          5.079496423508685,
          5.988135851305852,
          -0.8600602283822528,
          -1.8888538579947358,
          3.3746989994566707,
          5.495203331120811,
          -0.5675155242495827,
          -1.478256957305602,
          -1.6727171237717415,
          -1.3414144394094096,
          0.3484779608688461,
          -2.056572841360757,
          4.729524698650342,
          6.935230824930831,
          -1.3176781552300325,
          -1.7671704567321143,
          4.316748185159812,
          4.936937237673558,
          -1.938491800957468,
          -1.5831909491806582,
          1.2232573511999079,
          -1.8882617927878567,
          7.376365496677618,
          3.2273700902549325,
          1.5565688256152304,
          0.010917407986274164,
          1.9241542801216844,
          1.378235607634332,
          2.892767281472382,
          -2.294183591849648,
          0.659607468694348,
          -1.7518246148459975,
          3.357326434261058,
          3.467886502598897,
          2.6659048081360015,
          1.1663998619307934,
          7.597085114210621,
          -0.4695824986884754,
          -0.566071587095816,
          2.2769703389245803,
          -1.5749241684788302,
          0.6355672745327988,
          -1.9365643344045957,
          2.7482370943761647,
          1.7652136987581364,
          -1.908472397899882,
          1.2046907577088735,
          2.6806572553256296,
          4.001780211051728,
          1.6640864122248376,
          -2.1822468309317116,
          -1.5782287318093757,
          -1.010031481054052,
          3.1491228652566043,
          -1.044614464436857,
          -1.9998933423871441,
          1.2926812052787833,
          -1.200759277779868,
          3.7050487534431698,
          -0.1994656966922635,
          1.6111683130928518,
          -2.0511908500534464,
          -0.02201907453312623,
          -1.6048214713355071,
          0.12137270148282604,
          -0.4648669317562434,
          1.8639027971153246,
          1.6207337633438073,
          -1.1173189588426105,
          1.8016104405822404,
          -1.334639748843839,
          1.6116980780456696,
          2.1381443898619836,
          1.9474887309384288,
          -1.2809816193696053,
          -1.9569533901466647,
          1.7089992657628295,
          1.42897187043394,
          -2.125410698055168,
          2.2659986135330787,
          0.44447082185189524,
          3.4025214928266934,
          3.240908214048557,
          -1.3151688851806482,
          1.0992461677149021,
          4.182354242896872,
          -0.998527877587084,
          0.8171783844997411,
          -1.181587204770369,
          -0.4513637688585112,
          -0.10341724755032677,
          -1.525253201608301,
          3.1392926994652934,
          -1.646565628330805,
          -1.788434491514134,
          -1.648094095275864,
          2.7885553498657987,
          -1.6726768702242234,
          -1.8284798880557542,
          -1.2540703579607726,
          -0.8143713149103641,
          0.9497163333890475,
          -0.5359474214323195,
          -1.2680299136397208,
          -0.6531085076630249,
          -0.5253652660283255,
          -0.3742905562053533,
          -1.1998625552683404,
          -0.03002036012940973,
          -1.6694762913451937,
          1.1189260388459994,
          1.2365358409219513,
          0.7150112054634563,
          -0.827630228440828,
          -2.078524712633066,
          -1.152045427706445,
          -1.2666571916300648,
          3.563801181901177,
          -0.38775326069001725,
          -1.5282941976425286,
          0.7516627218709381,
          -0.06370615667113161,
          -0.8013007084158248,
          0.03223017244281078,
          -0.14438755730546304,
          -1.3348589642820137,
          1.5773152263939991,
          -0.32523289787495946,
          0.05442661988752644,
          2.4179778494825594,
          -1.0153849090031488,
          -1.5120039101966154,
          0.3832826625902452,
          -2.108170870228872,
          -0.5087131094718883,
          -1.3679763795086721,
          0.85435028265587,
          -0.008828114381252222,
          1.7987301546171546,
          -1.252010053890271,
          1.4932827212922308,
          -0.40776323747821186,
          1.254544042984136,
          3.203751500247316,
          -0.6711208651000372,
          2.376594664056082,
          1.4638958547353218,
          1.5206141043597539,
          -0.9348132257533597,
          -1.1580536590775874,
          -1.573764475158901,
          -0.9718290051344287,
          -0.918529326617828,
          -1.6302464702557797,
          0.12241780591885845,
          4.528625527092631,
          -1.6540889260767107,
          -0.3069521373304498,
          -0.011145872884485932,
          3.5759905540525283,
          -1.220493065821475,
          0.831773637660409,
          0.599437635258276,
          2.6493870404223663,
          -0.28082383482592044,
          0.2384295966787428,
          -1.1366085229947964,
          -0.5487106896106004,
          -2.2347183697369064,
          -1.640359225311375,
          4.092683532309054,
          -1.0977295655742412,
          -0.12121625056952015,
          1.872247304116981,
          2.2519247321824296,
          -1.5411125235029528,
          2.45816528786438,
          -0.7424796476552236,
          -0.26178035788283965,
          1.1205339139094772,
          -0.24740716241076108,
          -0.3390195992241557,
          2.7362485567468293,
          3.0209231898035016,
          2.005112721971249,
          0.16728721270537417,
          5.564569051954954,
          -2.2884291039572124,
          0.03966204342621658,
          -0.68550315462924,
          -0.08964559619930418,
          -1.1176503743231458,
          -1.1306369090961093,
          -1.6697880195409782,
          -1.4815294097250153,
          0.19188611890739762,
          3.0971830791815456,
          -0.1138311885187206,
          5.877966779986978,
          5.3830102236704835,
          -1.3837607668621084,
          -0.5855282811188547,
          -1.4786467485835566,
          2.1318063047334523,
          -1.0794380394907552,
          1.769072028643749,
          -1.7661360019663896,
          2.5834649535911915,
          -1.0061303641067751,
          -1.3244356734051952,
          1.2164178347504606,
          1.9361840109586106,
          0.29950349374528545,
          -0.6244864723584918,
          2.9284741884559007,
          -1.8170763339224532,
          -0.45929653686223587,
          -0.08609742263835655,
          -1.4492559504479716,
          0.4015375753336878,
          -1.5011509280228705,
          -0.06966469777189994,
          2.0802231463455896,
          -1.4571739739074767,
          -1.372126643474308,
          -0.49747303677093474,
          0.0330370333237037,
          1.174736488862824,
          -0.7353440671254509,
          0.31151253818602764,
          0.11835714593320418,
          -1.3995619623588038,
          2.050072564939957,
          0.2928334288855252,
          2.782155024328971,
          1.5397921100077783,
          -0.733090546600854,
          -1.4586783294138324,
          1.3851965193553515,
          -1.3165001902053106,
          -0.9606423562173845,
          -0.7181551749618887,
          -1.4336431410512402,
          0.508636664060522,
          -0.6610852137843067,
          -0.9621193484213182,
          -0.8107853669496848,
          -1.0098499676446635,
          0.33969581904521673,
          1.3499072590666108,
          5.421008633588162,
          -0.9383116582883566,
          -0.8005666438278656,
          -1.2833205752026473,
          0.6687059381740736,
          0.34967779090371304,
          2.616381669675157,
          -1.4524915039176272,
          -1.5265571156491005,
          -0.6473054559902094,
          2.5332633907836235,
          1.362556873341306,
          -1.5098466720214285,
          -2.5750209455390802,
          -1.231553131677865,
          0.3645227146134319,
          -0.16089992077115503,
          0.16023905858943796,
          2.2604074088800554,
          -0.8131529521693114,
          -0.521183562897924,
          1.239155730753281,
          5.763219130660913,
          -1.5704319872065358,
          3.0533359784226066,
          0.777398273977185,
          -0.9391599737138632,
          1.0218510944241583,
          0.07313747277778022,
          -0.6187827035652075,
          0.28948279220954426,
          -1.2219707484530349,
          -0.5088723975395509,
          -1.669263343541611,
          -0.754295192789304,
          0.24482073406047153,
          -0.30131943249114723,
          3.266168651597614,
          5.460122986440902,
          5.2262983551086535,
          0.038786736231887275,
          -0.8201422463918921,
          -0.3411717396908422,
          -1.1160479681258468,
          1.118359073970701,
          0.18095169773654507,
          -1.2402157499001107,
          0.16836905160882837,
          -1.0133098678033277,
          -0.21654087904502492,
          -1.606966948440494,
          0.8592654127559367,
          2.7394670677182265,
          -1.036205696847112,
          -1.0833222204954036,
          -1.2276084440746031,
          -1.903449205154144,
          -1.1548092917046022,
          2.5978485390802986,
          -0.7728195504264392,
          -0.015332572947153459,
          1.6476115394502493,
          -1.267736641287675,
          -1.1735748627066134,
          0.8433959312681786,
          4.274961327031023,
          -0.04353432237249162,
          -1.1041488665371522,
          -1.2637864520610993,
          -1.4388284323321117,
          3.0871832303834172,
          0.6707035433877558,
          0.6934491585620789,
          -1.7873921726343625,
          0.4725288000732289,
          3.249895036337704,
          -1.0115391727275804,
          -0.2607720854650837,
          -0.5207072141624782,
          6.391113802766658,
          2.794882553798826,
          1.7691018639828344,
          0.17887841228526405,
          -1.1182594279847131,
          -1.5321166091094451,
          -0.8639461959759827,
          -0.10822284387225821,
          -0.5901525774302003,
          -1.489839076985992,
          -1.156715154801435,
          1.7722197666668562,
          -1.441866110411484,
          -0.01825553797195446,
          -1.2679948986163423,
          -0.8971822827614957,
          1.9108774238470274,
          1.1969187111792228,
          -0.4057433608212403,
          -1.3976895351568446,
          -1.460124799501311,
          1.8873308914819953,
          1.9660564101777764,
          1.1856874043647054,
          -1.26898609565516,
          -0.19250501684213436,
          1.4194257724234265,
          -0.2756951782234148,
          -0.13800232069876606,
          -1.0351100887398443,
          0.6781327454366857,
          -0.24163203366288263,
          1.3550211134809658,
          0.980784924002136,
          -0.7011554126490566,
          -0.9703763935207403,
          1.8738863229787768,
          1.9811598236504966,
          -0.5775124478140976,
          2.3436140924140116,
          -1.0507465427453189,
          0.010686638840938713,
          2.1541348832544323,
          0.24785249115766997,
          -1.1243218755831865,
          -0.7032658654217662,
          -1.1878569679983817,
          -0.029921776267060492,
          -0.42264775604587473,
          -0.9084349284447067,
          -0.30057739024015095,
          -0.27162304318254266,
          0.9017320018642812,
          1.6772155688783976,
          -0.8953858683066107,
          -0.9012681232737,
          -1.3930492008090158,
          -0.5185956102348759,
          0.19664753437855761,
          -1.2426992346492653,
          -0.8622053343123642,
          0.8416889802983233,
          -0.18182734290889938,
          -0.7918316725614697,
          -0.5676623650576542,
          -1.009686401673005,
          -1.2858821943857324,
          -1.2895892572277223,
          -0.03886104233591095,
          3.3199550480578486,
          1.2361282749770335,
          -0.8675672409480846,
          0.0845877387615004,
          0.5878670344097657,
          0.43439974571585377,
          0.4143880157849095,
          0.3980276675048182,
          -0.6819902807108148,
          -0.251829798797705,
          -1.1897722357152143,
          -1.0426830213725562,
          -1.3056050315090117,
          0.8585292383605891,
          0.5820238754543655,
          -1.383380170334564,
          0.532205822969292,
          -0.22486447008618476,
          -0.5742913393703485,
          -1.228565914334433,
          -0.2709858068680543,
          -2.205232019505374,
          -0.13684128903342993,
          -1.1760117717280103,
          -1.918046742580757,
          -0.7370007953042909,
          1.9521306454841025,
          -1.323256376474893,
          -1.0334021253655816,
          -0.6995831133169587,
          0.37667566171983335,
          -1.1779364913026777,
          0.07319276419497574,
          -0.0864339258297964,
          -0.49200257096512057,
          2.330968996074819,
          -0.06323443381706847,
          -0.6967279908026459,
          0.16182786110305059,
          0.48312621865210004,
          -0.44058004625249114,
          -1.202343424910636,
          0.5037482455590327,
          -1.540980458518471,
          -1.5433573693836116,
          1.2093035849235498,
          1.8143266024660551,
          -1.2509424650245773,
          -1.0783411348803027,
          -0.8145905709574546,
          1.0917717351074177,
          -0.8497258351839837,
          -1.4003330408738583,
          -0.9814035921256272,
          -1.369111645736336,
          -0.6618099383217336,
          2.941917690084098,
          -0.5275870355361093,
          1.498738608068869,
          -1.460091868315921,
          0.9346089738235123,
          -0.16266245873888177,
          -1.287095204397501,
          0.14343562934056914,
          -1.4006733218802037,
          -1.0571231187972494,
          -1.555408673046524,
          -1.2526960486708678,
          2.521186166891048,
          0.6137674098422313,
          -1.1894271759032466,
          -0.42671570651140533,
          -1.3974611036184368,
          3.3720946233502596,
          -1.2042584750176748,
          5.269946649462858,
          -1.2305955130442978,
          -1.1129387677866753,
          -0.9678247220752128,
          -0.8954065560139524,
          -0.1502211265245592,
          -1.184573287828119,
          -1.6361665502880152,
          1.1263875861760708,
          -0.9564187328370406,
          0.17825763112412293,
          -0.8266459505514491,
          -0.02344008057303263,
          -1.301056492883611,
          0.6755905116616033,
          -1.2219156952637709,
          -0.9227158225818224,
          1.983539825112484,
          -0.369763140488627,
          3.088230652353744,
          1.3364123746566154,
          -0.35853371837966636,
          -0.2876222439886966,
          -1.2651362017800734,
          0.6957158388601867,
          -1.1734995358064633,
          1.2713035106831148,
          -1.951161061277825,
          0.6415140911597139,
          -0.5170842592128778,
          0.01018990358932831,
          -1.2912387810933326,
          -0.9498148776278641,
          -0.8554142197534057,
          -0.5493305635075993,
          -0.6157594040132831,
          -0.5845884317159754,
          -1.1461743035264405,
          -0.8785343803120936,
          -0.9222107090453397,
          -0.32445521571858765,
          0.7202485154455786,
          -1.0666283703108586,
          3.8621565044294925,
          2.8025691936494233,
          -0.8888687986926642,
          -1.2699622005444038,
          -1.7470732911054228,
          0.2588421287926755,
          -1.3256765265679364,
          -0.907582342678273,
          2.162328673519342,
          0.2928722433999053,
          -0.03912599250945665,
          -1.2244649736034898,
          -0.9108308640895705,
          -1.6503334747520453,
          1.7566059727070915,
          0.13868279851709023,
          -1.1663565241739615,
          0.022446811571571235,
          0.43235575205906024,
          -1.5086836381067192,
          -0.680470089894023,
          -1.6094054454912032,
          0.5408228538946855,
          -1.7292922077303754,
          -1.1812758055747594,
          -0.039696768591176455,
          -0.7736273102278345,
          0.8158096856346843,
          -1.3275864409239428,
          1.1135806599257734,
          -1.1040889785112327,
          -0.8412429191501016,
          -0.20772634362328682,
          -0.31754690541089586,
          0.6078860438283405,
          2.1967389957455095,
          -0.8623580347259883,
          -0.16563992603907232,
          -1.0377835077419875,
          -1.7699173471741447,
          -0.40511683976565604,
          0.4071834855703954,
          0.27905907594512575,
          0.8582870198370757,
          0.8403080744794452,
          -1.178950005596321,
          4.23092524027103,
          -0.21132069212714422,
          -1.1516995335328235,
          -0.30026047996840927,
          -1.4737814643179967,
          -0.4975872621543414,
          -0.44300260248568835,
          -1.402782024161211,
          -1.0832773656997734,
          -0.5202997936513346,
          -0.5849956875691837,
          -0.30296528060098854,
          0.9425204952415003,
          -0.2447976303341664,
          -0.5715544173480924,
          0.19837920714836413,
          -0.6838514768080837,
          -1.2532761483428374,
          -1.1083105827900477,
          0.4704974065274611,
          -0.7811199765556004,
          0.39273512624558143,
          -0.9301205162875359,
          -0.4793674791442925,
          -1.4276415077795634,
          1.1623402172570818,
          2.8420655235923276,
          -1.4659074819506257,
          -1.4576477096899383,
          -0.4288795997807437,
          -1.2848704084323201,
          -0.9477994655988466,
          -1.2057673132639148,
          0.07679862207066467,
          -1.0521868270478907,
          0.4845979304430778,
          -1.8181950040603743,
          -0.36544510614797604,
          -0.6344609553639158,
          -0.8670413254387802,
          0.09727696128341168,
          -0.4388799869827619,
          -1.3077721371381819,
          -0.9105183838897536,
          1.1200426360029052,
          -1.238236001326026,
          1.0402108390235152,
          -1.3719075283628437,
          -0.9982868939677612,
          -0.4065348726199753,
          -1.0427670186902496,
          -1.1884037220061359,
          -1.2856965909915776,
          -0.482915374072993,
          -0.720330710834033,
          3.9709339400235786,
          3.5960624594001698,
          -0.20598109920238725,
          -0.633573825599872,
          -1.121360640128496,
          0.4246630913585223,
          -1.279782648175658,
          -0.7069964095542689,
          -0.5209381446151846,
          -1.1820849466829262,
          -1.7954088920190512,
          0.9299597825378422,
          -0.21959162917664923,
          0.13000688016147444,
          -1.1939454441076098,
          -1.0429600583719103,
          -1.495600201498912,
          -0.7223752218911104,
          -1.0657436660810204,
          0.4178579493215453,
          0.14155037532692405,
          -1.181269543009369,
          3.6276646400975503,
          -1.326990966546118,
          -1.2127723146705753,
          0.23624705027503576,
          -0.8188817383695258,
          -0.9721804109535467,
          -1.2704303952947822,
          -0.6196150222083535,
          -1.612542427820269,
          0.026580595762876726,
          3.5944057367667233,
          -1.1697026041622531,
          -1.0254892342880684,
          -0.9235859165044646,
          -0.9812449838849135,
          -0.3898977569895925,
          -1.3679133557921739,
          -0.9863303604588808,
          -0.21972393751268576,
          -0.6941013173059074,
          -1.3560200029122793,
          -0.16051996189045986,
          0.07474938551227038,
          -1.1076569272353378,
          -1.290693056399459,
          -0.737072278302041,
          -0.8533730513048922,
          0.1263700861931346,
          -1.1957765331449377,
          0.3248776520382426,
          1.1868373186623404,
          -0.5051708266521783,
          1.089120601586679,
          -0.4276562968911314,
          -0.9581089278793833,
          0.9596889576636384,
          -1.2855340586104758,
          -0.9926433092053759,
          -0.6589010794064655,
          -1.4343471474114053,
          -0.7324318361722073,
          -0.5804811718588916,
          -0.4275710414025593,
          0.79229826205868,
          -1.115742592179309,
          -0.12938406424937962,
          -1.748540579441613,
          -0.3372325702863444,
          2.656903892200451,
          -1.1002871971424346,
          -0.1767283300551857,
          -0.16788093416360925,
          -1.231967489494041,
          -1.008429591608532,
          -1.277133226390777,
          -1.6442931779603436,
          -0.3348424824079943,
          -0.8502666227177821,
          -0.34507805382276013,
          0.508105451396298,
          -0.9642338182072453,
          0.7738847128380667,
          -1.2153933380137851,
          -1.192859374448142,
          -0.7327988195565305,
          -0.22113994662887512,
          0.31699910067563725,
          0.10351863983798791,
          -0.2393964828992795,
          -1.2591857786695038,
          0.12609031073839466,
          -1.411757721022623,
          0.23771781735402406,
          -0.6202385924387988,
          -1.058903732624728,
          -1.306725180397319,
          0.8256017112534055,
          -1.0522928517971453,
          -0.9346094689618996,
          -0.35547197020399307,
          -1.0818996055846428,
          -1.6358867484434054,
          0.7357527075176132,
          -0.16991100688836427,
          -0.3244883813295554,
          0.94543192142934,
          -0.8875275840323129,
          -1.401769334011956,
          0.11844267444421763,
          4.900726778347512,
          -0.2960645464562893,
          -0.4712851234449891,
          -1.540415107126655,
          -0.43860036666533786,
          -0.03836112608146912,
          -0.8233895161773536,
          -1.0318968099704113,
          5.975961742000417,
          -1.0856454298992713,
          -0.4034512358875609,
          -1.3256723439006577,
          -0.5664455887570329,
          -1.566777311149767,
          -1.4415509767773422,
          -0.9691504870913457,
          5.9932652666188195,
          -1.2735106067383264,
          -0.6606196968806566,
          -0.17226442028097275,
          -0.1722733312322041,
          -1.0329444992886487,
          -1.5089141042685126,
          -0.7924857215180227,
          -1.3639131144813852,
          -0.1725296981368499,
          -1.1747582423411298,
          -1.1694702311495406,
          -0.24067444093178528,
          -1.241871065755434,
          -0.5948595241385405,
          -0.045672317869833993,
          0.21107436292455758,
          -1.0342657831468345,
          -1.1321687206468238,
          -0.11975356145019699,
          1.2130512012692594,
          5.371901974482278,
          -1.1219952088685905,
          -0.7478643287771296,
          -1.2159269406525683,
          -0.8170899692867624,
          -0.948346622510373,
          -0.34705436562730047,
          0.005502104477232207,
          -0.7212069902426624,
          -1.5580343013587483,
          -1.2473091811144477,
          -0.9470339437569691,
          -0.8865521686232195,
          -0.7915942177975399,
          -1.2252222157038122,
          -0.9259850497191726,
          -0.6640719991407781,
          -0.5381298325917695,
          -1.5697230641223938,
          -0.9738166385502087,
          -0.33968623325493935,
          -0.8757684344636459,
          -1.2873063109724074,
          -1.4765905321011887,
          -1.0867707219698333,
          -0.5359256173134156,
          0.255489705031467,
          1.3003332100743956,
          -0.09640199486434883,
          -1.0959057042690563,
          -0.8711260281722797,
          -0.09293038602332448,
          1.2128877944875673,
          -0.8992202885623214,
          -1.3703558409917906,
          -1.6544688305017556,
          0.0465734838707986,
          -0.6068720446207175,
          -1.6448461463209767,
          -1.7003552447891401,
          -0.4823218381836678,
          -1.5615610429501368,
          0.2963880212670155,
          -1.306966072634945,
          -1.0713921367732102,
          -1.3592302319527247,
          -0.610439049480003,
          1.0036688328805348,
          -1.5180725857930244,
          -1.1834013156035064,
          -0.7715448797180664,
          -1.3235655522805856,
          0.9915291849016737,
          -0.7235705812232465,
          -1.0533292435846888,
          -1.353698335866117,
          -1.1463188217050293,
          -0.6932100493405219,
          -0.9066111768849724,
          0.07289778561073688,
          -0.5939747597139917,
          -0.7929848499355164,
          -0.7425450431036208,
          -0.5688074472595689,
          -0.08418058580855013,
          -0.7492333675793181,
          -0.8488677958799976,
          -1.299295425769918,
          -1.0720469737888758,
          -1.3947870178448722,
          -0.05878564130279961
         ],
         "yaxis": "y"
        }
       ],
       "layout": {
        "coloraxis": {
         "colorbar": {
          "title": {
           "text": "Cluster"
          }
         },
         "colorscale": [
          [
           0,
           "#440154"
          ],
          [
           0.1111111111111111,
           "#482878"
          ],
          [
           0.2222222222222222,
           "#3e4989"
          ],
          [
           0.3333333333333333,
           "#31688e"
          ],
          [
           0.4444444444444444,
           "#26828e"
          ],
          [
           0.5555555555555556,
           "#1f9e89"
          ],
          [
           0.6666666666666666,
           "#35b779"
          ],
          [
           0.7777777777777778,
           "#6ece58"
          ],
          [
           0.8888888888888888,
           "#b5de2b"
          ],
          [
           1,
           "#fde725"
          ]
         ]
        },
        "legend": {
         "tracegroupgap": 0
        },
        "template": {
         "data": {
          "candlestick": [
           {
            "decreasing": {
             "line": {
              "color": "#000033"
             }
            },
            "increasing": {
             "line": {
              "color": "#000032"
             }
            },
            "type": "candlestick"
           }
          ],
          "contour": [
           {
            "colorscale": [
             [
              0,
              "#000011"
             ],
             [
              0.1111111111111111,
              "#000012"
             ],
             [
              0.2222222222222222,
              "#000013"
             ],
             [
              0.3333333333333333,
              "#000014"
             ],
             [
              0.4444444444444444,
              "#000015"
             ],
             [
              0.5555555555555556,
              "#000016"
             ],
             [
              0.6666666666666666,
              "#000017"
             ],
             [
              0.7777777777777778,
              "#000018"
             ],
             [
              0.8888888888888888,
              "#000019"
             ],
             [
              1,
              "#000020"
             ]
            ],
            "type": "contour"
           }
          ],
          "contourcarpet": [
           {
            "colorscale": [
             [
              0,
              "#000011"
             ],
             [
              0.1111111111111111,
              "#000012"
             ],
             [
              0.2222222222222222,
              "#000013"
             ],
             [
              0.3333333333333333,
              "#000014"
             ],
             [
              0.4444444444444444,
              "#000015"
             ],
             [
              0.5555555555555556,
              "#000016"
             ],
             [
              0.6666666666666666,
              "#000017"
             ],
             [
              0.7777777777777778,
              "#000018"
             ],
             [
              0.8888888888888888,
              "#000019"
             ],
             [
              1,
              "#000020"
             ]
            ],
            "type": "contourcarpet"
           }
          ],
          "heatmap": [
           {
            "colorscale": [
             [
              0,
              "#000011"
             ],
             [
              0.1111111111111111,
              "#000012"
             ],
             [
              0.2222222222222222,
              "#000013"
             ],
             [
              0.3333333333333333,
              "#000014"
             ],
             [
              0.4444444444444444,
              "#000015"
             ],
             [
              0.5555555555555556,
              "#000016"
             ],
             [
              0.6666666666666666,
              "#000017"
             ],
             [
              0.7777777777777778,
              "#000018"
             ],
             [
              0.8888888888888888,
              "#000019"
             ],
             [
              1,
              "#000020"
             ]
            ],
            "type": "heatmap"
           }
          ],
          "histogram2d": [
           {
            "colorscale": [
             [
              0,
              "#000011"
             ],
             [
              0.1111111111111111,
              "#000012"
             ],
             [
              0.2222222222222222,
              "#000013"
             ],
             [
              0.3333333333333333,
              "#000014"
             ],
             [
              0.4444444444444444,
              "#000015"
             ],
             [
              0.5555555555555556,
              "#000016"
             ],
             [
              0.6666666666666666,
              "#000017"
             ],
             [
              0.7777777777777778,
              "#000018"
             ],
             [
              0.8888888888888888,
              "#000019"
             ],
             [
              1,
              "#000020"
             ]
            ],
            "type": "histogram2d"
           }
          ],
          "icicle": [
           {
            "textfont": {
             "color": "white"
            },
            "type": "icicle"
           }
          ],
          "sankey": [
           {
            "textfont": {
             "color": "#000036"
            },
            "type": "sankey"
           }
          ],
          "scatter": [
           {
            "marker": {
             "line": {
              "width": 0
             }
            },
            "type": "scatter"
           }
          ],
          "table": [
           {
            "cells": {
             "fill": {
              "color": "#000038"
             },
             "font": {
              "color": "#000037"
             },
             "line": {
              "color": "#000039"
             }
            },
            "header": {
             "fill": {
              "color": "#000040"
             },
             "font": {
              "color": "#000036"
             },
             "line": {
              "color": "#000039"
             }
            },
            "type": "table"
           }
          ],
          "waterfall": [
           {
            "connector": {
             "line": {
              "color": "#000036",
              "width": 2
             }
            },
            "decreasing": {
             "marker": {
              "color": "#000033"
             }
            },
            "increasing": {
             "marker": {
              "color": "#000032"
             }
            },
            "totals": {
             "marker": {
              "color": "#000034"
             }
            },
            "type": "waterfall"
           }
          ]
         },
         "layout": {
          "coloraxis": {
           "colorscale": [
            [
             0,
             "#000011"
            ],
            [
             0.1111111111111111,
             "#000012"
            ],
            [
             0.2222222222222222,
             "#000013"
            ],
            [
             0.3333333333333333,
             "#000014"
            ],
            [
             0.4444444444444444,
             "#000015"
            ],
            [
             0.5555555555555556,
             "#000016"
            ],
            [
             0.6666666666666666,
             "#000017"
            ],
            [
             0.7777777777777778,
             "#000018"
            ],
            [
             0.8888888888888888,
             "#000019"
            ],
            [
             1,
             "#000020"
            ]
           ]
          },
          "colorscale": {
           "diverging": [
            [
             0,
             "#000021"
            ],
            [
             0.1,
             "#000022"
            ],
            [
             0.2,
             "#000023"
            ],
            [
             0.3,
             "#000024"
            ],
            [
             0.4,
             "#000025"
            ],
            [
             0.5,
             "#000026"
            ],
            [
             0.6,
             "#000027"
            ],
            [
             0.7,
             "#000028"
            ],
            [
             0.8,
             "#000029"
            ],
            [
             0.9,
             "#000030"
            ],
            [
             1,
             "#000031"
            ]
           ],
           "sequential": [
            [
             0,
             "#000011"
            ],
            [
             0.1111111111111111,
             "#000012"
            ],
            [
             0.2222222222222222,
             "#000013"
            ],
            [
             0.3333333333333333,
             "#000014"
            ],
            [
             0.4444444444444444,
             "#000015"
            ],
            [
             0.5555555555555556,
             "#000016"
            ],
            [
             0.6666666666666666,
             "#000017"
            ],
            [
             0.7777777777777778,
             "#000018"
            ],
            [
             0.8888888888888888,
             "#000019"
            ],
            [
             1,
             "#000020"
            ]
           ],
           "sequentialminus": [
            [
             0,
             "#000011"
            ],
            [
             0.1111111111111111,
             "#000012"
            ],
            [
             0.2222222222222222,
             "#000013"
            ],
            [
             0.3333333333333333,
             "#000014"
            ],
            [
             0.4444444444444444,
             "#000015"
            ],
            [
             0.5555555555555556,
             "#000016"
            ],
            [
             0.6666666666666666,
             "#000017"
            ],
            [
             0.7777777777777778,
             "#000018"
            ],
            [
             0.8888888888888888,
             "#000019"
            ],
            [
             1,
             "#000020"
            ]
           ]
          },
          "colorway": [
           "#000001",
           "#000002",
           "#000003",
           "#000004",
           "#000005",
           "#000006",
           "#000007",
           "#000008",
           "#000009",
           "#000010"
          ]
         }
        },
        "title": {
         "text": "PCA Visualization of K-Means Clustering"
        },
        "xaxis": {
         "anchor": "y",
         "domain": [
          0,
          1
         ],
         "title": {
          "text": "Principal Component 1"
         }
        },
        "yaxis": {
         "anchor": "x",
         "domain": [
          0,
          1
         ],
         "title": {
          "text": "Principal Component 2"
         }
        }
       }
      }
     },
     "metadata": {},
     "output_type": "display_data"
    }
   ],
   "source": [
    "from clustering_analysis import perform_clustering_analysis\n",
    "df = pd.read_excel('final_dataset.xlsx')\n",
    "\n",
    "# 2) Définir les colonnes numériques et catégorielles\n",
    "numerical_cols = [\n",
    "    'low_sat', 'high_sat', 'Acceptance Rate', 'Net Price', 'graduates_top1',\n",
    "    'graduates_top2', 'graduates_top3', 'Latitude', 'Longitude', \n",
    "    'low_percentile', 'high_percentile', 'low_grade', 'high_grade', \n",
    "    'low_grade_adjusted', 'high_grade_adjusted', 'Ranking'\n",
    "]\n",
    "categorical_cols = [\n",
    "    'City', 'State', 'Climate', 'major_top1', 'major_top2', 'major_top3'\n",
    "]\n",
    "\n",
    "# 3) Définir vos poids\n",
    "weights = {\n",
    "    'low_sat': 1.0,\n",
    "    'high_sat': 1.0,\n",
    "    'Acceptance Rate': 1.0,\n",
    "    'Net Price': 1.0,\n",
    "    'graduates_top1': 1.0,\n",
    "    'graduates_top2': 1.0,\n",
    "    'graduates_top3': 1.0,\n",
    "    'Latitude': 0.5,\n",
    "    'Longitude': 0.5,\n",
    "    'low_percentile': 1.0,\n",
    "    'high_percentile': 1.0,\n",
    "    'low_grade': 1.0,\n",
    "    'high_grade': 1.0,\n",
    "    'low_grade_adjusted': 1.0,\n",
    "    'high_grade_adjusted': 1.0,\n",
    "    'Ranking': 1.0,\n",
    "    'City': 0.5,\n",
    "    'State': 0.5,\n",
    "    'Climate': 0.5,\n",
    "    'major_top1': 1.0,\n",
    "    'major_top2': 1.0,\n",
    "    'major_top3': 1.0\n",
    "}\n",
    "\n",
    "# 4) Appeler la fonction\n",
    "df_result, fig_pca, pca_loadings = perform_clustering_analysis(\n",
    "    df=df,\n",
    "    numerical_cols=numerical_cols,\n",
    "    categorical_cols=categorical_cols,\n",
    "    weights=weights,\n",
    "    k=4,             # Nombre de clusters\n",
    "    show_elbow=True  # Afficher la courbe Elbow Method\n",
    ")\n",
    "\n",
    "# 5) Visualiser le résultat\n",
    "print(\"DataFrame with Clusters:\")\n",
    "print(df_result[['Name', 'cluster_kmeans']].head())  # par exemple\n",
    "\n",
    "print(\"\\nPCA Loadings:\")\n",
    "print(pca_loadings)\n",
    "\n",
    "# 6) Afficher la figure interactive\n",
    "fig_pca.show()\n"
   ]
  },
  {
   "cell_type": "markdown",
   "metadata": {},
   "source": [
    "## <span style=\"color:#2E8B57\">Fonctionnalités Supplémentaires</span>\n",
    "\n",
    "### 1. Sélection Multiple d’Universités\n",
    "Pour rendre l’interface plus conviviale, nous avons ajouté la possibilité de **sélection multiple** :  \n",
    "- Maintenez la touche <kbd>Ctrl</kbd> (ou <kbd>Command</kbd> sur Mac) enfoncée,  \n",
    "- Cliquez sur les **universités** qui vous intéressent dans la liste,  \n",
    "- Vous pouvez ainsi composer une **short list** de campus à comparer ou à intégrer dans votre plan d’étude.\n",
    "\n",
    "### 2. Génération d’un *Study Plan*\n",
    "Une fois votre sélection réalisée, un **générateur de plan d’étude** (« Study Plan ») vous permet de planifier :  \n",
    "- **Les tâches et objectifs** (préparer l’essai, finaliser la lettre de motivation, etc.),  \n",
    "- **Les plages de révision** (pour le SAT, les cours, etc.).\n",
    "\n",
    "Cette fonctionnalité aide à **structurer** votre parcours de candidature et à **anticiper** les étapes importantes.\n",
    "\n",
    "### 3. Export du Calendrier\n",
    "Enfin, pour **faciliter la gestion du temps**, vous pouvez **exporter** votre Study Plan au format **.ics** :  \n",
    "- Ce fichier est **compatible** avec la plupart des applications de calendrier (Apple Calendar, Google Agenda, Outlook…).  \n",
    "- Après import, vous retrouvez toutes vos **tâches** et **échéances** directement intégrées à votre agenda.  \n",
    "\n",
    "En centralisant ces informations (choix des universités, dates limites, tâches à accomplir), nous rendons le processus de candidature **plus fluide** et **mieux organisé**, répondant ainsi à l’objectif d’Univia : **optimiser** et **simplifier** la mobilité étudiante à l’international.\n"
   ]
  },
  {
   "cell_type": "code",
   "execution_count": 40,
   "metadata": {},
   "outputs": [
    {
     "data": {
      "application/vnd.jupyter.widget-view+json": {
       "model_id": "724a72afd6734758990221381b4dd136",
       "version_major": 2,
       "version_minor": 0
      },
      "text/plain": [
       "VBox(children=(HBox(children=(SelectMultiple(description='Universities', layout=Layout(height='200px', width='…"
      ]
     },
     "metadata": {},
     "output_type": "display_data"
    }
   ],
   "source": [
    "from study_plan import create_study_planner\n",
    "df = pd.read_excel('final_dataset.xlsx')\n",
    "\n",
    "create_study_planner(df)"
   ]
  },
  {
   "cell_type": "markdown",
   "metadata": {},
   "source": [
    "# <span style=\"color:#008080\">Formulaire pour l'Algorithme de Recommandation</span>\n",
    "\n",
    "Dans cette section, nous présentons le **formulaire** permettant de recueillir les informations essentielles sur chaque étudiant et d’alimenter notre **algorithme de recommandation**.  \n",
    "L’objectif est de **matcher** au mieux les préférences et le profil scolaire de l’utilisateur avec les caractéristiques des universités contenues dans notre *dataset*.\n",
    "\n",
    "---\n",
    "\n",
    "Le formulaire comporte différentes **catégories de questions** visant à renseigner :  \n",
    "- Les **données personnelles** (nom, âge, etc.)  \n",
    "- Les **choix académiques** (majeure, mineure, centres d’intérêt)  \n",
    "- Les **critères financiers et pratiques** (budget, localisation souhaitée)  \n",
    "- Les **scores** (GPA, SAT, ACT)  \n",
    "- Les **préférences** quant à la vie de campus, la recherche, la diversité, etc.  \n",
    "- Le **niveau de risque** et **d’ambition** pour cibler des universités plus ou moins sélectives  \n",
    "- Le **style de recommandation** (découverte, similaire, etc.)\n",
    "\n",
    "En collectant ces données, nous pouvons **relier** les besoins et aspirations de l’étudiant aux informations de notre base (ex. scores requis, Net Price, majors proposées). L’objectif est de **maximiser** les chances de trouver une université à la fois adaptée et réaliste.\n",
    "\n",
    "### <span style=\"color:#FF6347\">Pourquoi demander ces informations ?</span>\n",
    "\n",
    "1. **Majors & Intérêts** : Connaître les domaines de prédilection pour proposer des établissements dont les filières dominantes correspondent à ces intérêts.  \n",
    "2. **Budget** : Vérifier la **compatibilité financière** avec le *Net Price* et les possibilités de bourses.  \n",
    "3. **Scores Académiques** : Évaluer la **faisabilité** de l’admission (SAT/ACT, GPA).  \n",
    "4. **Préférences Géographiques et Campus** : Certaines universités ont des spécificités (climat, vie sur le campus…) qui peuvent constituer un critère déterminant.  \n",
    "5. **Niveau de Risque & d’Ambition** : Aide à définir le **niveau de sélectivité** à viser.  \n",
    "6. **Style de Recommandation** : Permet d’introduire ou non de la **diversification** afin de suggérer des universités hors des critères stricts, ou au contraire, un matching plus rigoureux.\n",
    "\n"
   ]
  },
  {
   "cell_type": "code",
   "execution_count": 41,
   "metadata": {},
   "outputs": [
    {
     "data": {
      "application/vnd.jupyter.widget-view+json": {
       "model_id": "da8468f9c60c487aae6bceede16bc3c5",
       "version_major": 2,
       "version_minor": 0
      },
      "text/plain": [
       "VBox(children=(HTML(value=\"<h1 style='text-align: center; color: darkblue;'>Questionnaire Universitaire</h1>\")…"
      ]
     },
     "metadata": {},
     "output_type": "display_data"
    }
   ],
   "source": [
    "# main_notebook.ipynb (exemple)\n",
    "\n",
    "from formulaire import display_form\n",
    "\n",
    "# Exécutez cette cellule pour afficher le formulaire\n",
    "display_form()\n"
   ]
  },
  {
   "cell_type": "markdown",
   "metadata": {},
   "source": [
    "---\n",
    "\n",
    "\n",
    "\n",
    "\n",
    "# <span style=\"color:#008080\">Algorithme de Recommandation</span>\n",
    "\n",
    "Notre **algorithme** se propose de faire matcher au mieux **les préférences** de l’étudiant, récoltées via le formulaire, avec les **caractéristiques** des universités présentes dans notre dataset.  \n",
    "\n",
    "---\n",
    "## <span style=\"color:#2E8B57\">1. Objectif</span>\n",
    "\n",
    "L’objectif principal de cet algorithme de recommandation est de **fournir** à l’utilisateur une **liste** d’établissements (environ 8 à 12) qu’il pourra **approfondir**, en considérant :\n",
    "- **Leurs exigences académiques** (scores SAT/ACT, sélectivité, etc.)  \n",
    "- **Les contraintes budgétaires** (Net Price)  \n",
    "- **Les domaines d’études** (majors, centres d’intérêt)  \n",
    "- **La localisation** (région, climat, vie de campus...)  \n",
    "- **Les préférences plus subjectives** (niveau de risque, diversification, etc.)\n",
    "\n",
    "---\n",
    "## <span style=\"color:#2E8B57\">2. Données Entrantes</span>\n",
    "\n",
    "1. **Réponses du Formulaire** (`reponses_formulaire.xlsx`)  \n",
    "   - *Majeure*, *intérêts académiques*, *budget*, *score SAT*, *mode de recommandation*, etc.  \n",
    "\n",
    "2. **Dataset des Universités** (`final_dataset.xlsx`)  \n",
    "   - *Scores SAT requis*, *taux d’acceptation*, *Net Price*, *majors les plus populaires* (`major_top1`, etc.), *localisation*…\n",
    "\n",
    "Ces **deux sources** sont indispensables au **calcul** d’un **score de fitting** pour chaque université.\n",
    "\n",
    "---\n",
    "## <span style=\"color:#2E8B57\">3. Calcul du Score de Fitting</span>\n",
    "\n",
    "### <span style=\"color:#FF6347\">a) Correspondance des Majors</span>\n",
    "Nous évaluons le **degré de matching** entre :  \n",
    "- Les **majors** sélectionnées par l’étudiant,  \n",
    "- Les **majors principales** de l’établissement (`major_top1`, `major_top2`, `major_top3`).  \n",
    "Plus le nombre de correspondances est élevé, plus la **compatibilité** se voit augmentée.\n",
    "\n",
    "### <span style=\"color:#FF6347\">b) Contrainte Budgétaire</span>\n",
    "Nous comparons le **Net Price** de l’université au **budget** annoncé par l’utilisateur.  \n",
    "- Si l’université est **en-deçà** du budget, le score s’améliore.  \n",
    "- Au-dessus du budget, la compatibilité diminue.\n",
    "\n",
    "### <span style=\"color:#FF6347\">c) Scores SAT/ACT</span>\n",
    "Nous évaluons si le **score** de l’utilisateur se situe dans la **fourchette** `[low_sat, high_sat]`.  \n",
    "- Score **nettement supérieur** : hausse de la probabilité d’admission (impact positif).  \n",
    "- Score **trop bas** : ajustement à la baisse du score de fitting.\n",
    "\n",
    "### <span style=\"color:#FF6347\">d) Mode de Recommandation</span>\n",
    "- **Mode Découverte** : Ajoute un **facteur aléatoire** pour proposer des universités moins attendues.  \n",
    "- **Mode Similaire** : Recommandations plus proches des critères exacts.  \n",
    "- **Très similaires** : Filtrage strict autour des paramètres de l’étudiant.\n",
    "\n",
    "### <span style=\"color:#FF6\n"
   ]
  },
  {
   "cell_type": "code",
   "execution_count": 42,
   "metadata": {},
   "outputs": [
    {
     "data": {
      "text/html": [
       "<div>\n",
       "<style scoped>\n",
       "    .dataframe tbody tr th:only-of-type {\n",
       "        vertical-align: middle;\n",
       "    }\n",
       "\n",
       "    .dataframe tbody tr th {\n",
       "        vertical-align: top;\n",
       "    }\n",
       "\n",
       "    .dataframe thead th {\n",
       "        text-align: right;\n",
       "    }\n",
       "</style>\n",
       "<table border=\"1\" class=\"dataframe\">\n",
       "  <thead>\n",
       "    <tr style=\"text-align: right;\">\n",
       "      <th></th>\n",
       "      <th>Name</th>\n",
       "      <th>City</th>\n",
       "      <th>Score_Fitting</th>\n",
       "    </tr>\n",
       "  </thead>\n",
       "  <tbody>\n",
       "    <tr>\n",
       "      <th>0</th>\n",
       "      <td>Harvey Mudd College</td>\n",
       "      <td>CLAREMONT, CA 91711</td>\n",
       "      <td>3.8</td>\n",
       "    </tr>\n",
       "    <tr>\n",
       "      <th>1</th>\n",
       "      <td>Stanford University</td>\n",
       "      <td>STANFORD, CA 94305</td>\n",
       "      <td>3.8</td>\n",
       "    </tr>\n",
       "    <tr>\n",
       "      <th>2</th>\n",
       "      <td>Massachusetts Institute of Technology</td>\n",
       "      <td>CAMBRIDGE, MA 02139</td>\n",
       "      <td>3.3</td>\n",
       "    </tr>\n",
       "    <tr>\n",
       "      <th>3</th>\n",
       "      <td>Grinnell College</td>\n",
       "      <td>GRINNELL, IA 50112</td>\n",
       "      <td>3.3</td>\n",
       "    </tr>\n",
       "    <tr>\n",
       "      <th>4</th>\n",
       "      <td>University of California - Berkeley</td>\n",
       "      <td>BERKELEY, CA 94720</td>\n",
       "      <td>3.3</td>\n",
       "    </tr>\n",
       "    <tr>\n",
       "      <th>5</th>\n",
       "      <td>Middlebury College</td>\n",
       "      <td>MIDDLEBURY, VT 05753</td>\n",
       "      <td>3.3</td>\n",
       "    </tr>\n",
       "    <tr>\n",
       "      <th>6</th>\n",
       "      <td>Tufts University</td>\n",
       "      <td>MEDFORD, MA 02155</td>\n",
       "      <td>3.3</td>\n",
       "    </tr>\n",
       "    <tr>\n",
       "      <th>7</th>\n",
       "      <td>Carleton College</td>\n",
       "      <td>NORTHFIELD, MN 55057</td>\n",
       "      <td>3.3</td>\n",
       "    </tr>\n",
       "    <tr>\n",
       "      <th>8</th>\n",
       "      <td>Cornell University</td>\n",
       "      <td>ITHACA, NY 14853</td>\n",
       "      <td>3.3</td>\n",
       "    </tr>\n",
       "    <tr>\n",
       "      <th>9</th>\n",
       "      <td>Carnegie Mellon University</td>\n",
       "      <td>PITTSBURGH, PA 15213</td>\n",
       "      <td>3.3</td>\n",
       "    </tr>\n",
       "    <tr>\n",
       "      <th>10</th>\n",
       "      <td>Pomona College</td>\n",
       "      <td>CLAREMONT, CA 91711</td>\n",
       "      <td>3.3</td>\n",
       "    </tr>\n",
       "    <tr>\n",
       "      <th>11</th>\n",
       "      <td>Washington University in St. Louis</td>\n",
       "      <td>SAINT LOUIS, MO 63130</td>\n",
       "      <td>3.3</td>\n",
       "    </tr>\n",
       "  </tbody>\n",
       "</table>\n",
       "</div>"
      ],
      "text/plain": [
       "                                     Name                   City  \\\n",
       "0                     Harvey Mudd College    CLAREMONT, CA 91711   \n",
       "1                     Stanford University     STANFORD, CA 94305   \n",
       "2   Massachusetts Institute of Technology    CAMBRIDGE, MA 02139   \n",
       "3                        Grinnell College     GRINNELL, IA 50112   \n",
       "4     University of California - Berkeley     BERKELEY, CA 94720   \n",
       "5                      Middlebury College   MIDDLEBURY, VT 05753   \n",
       "6                        Tufts University      MEDFORD, MA 02155   \n",
       "7                        Carleton College   NORTHFIELD, MN 55057   \n",
       "8                      Cornell University       ITHACA, NY 14853   \n",
       "9              Carnegie Mellon University   PITTSBURGH, PA 15213   \n",
       "10                         Pomona College    CLAREMONT, CA 91711   \n",
       "11     Washington University in St. Louis  SAINT LOUIS, MO 63130   \n",
       "\n",
       "    Score_Fitting  \n",
       "0             3.8  \n",
       "1             3.8  \n",
       "2             3.3  \n",
       "3             3.3  \n",
       "4             3.3  \n",
       "5             3.3  \n",
       "6             3.3  \n",
       "7             3.3  \n",
       "8             3.3  \n",
       "9             3.3  \n",
       "10            3.3  \n",
       "11            3.3  "
      ]
     },
     "metadata": {},
     "output_type": "display_data"
    }
   ],
   "source": [
    "# main_notebook.ipynb\n",
    "\n",
    "from algo_reco import run_recommendation\n",
    "\n",
    "# Lancer la recommandation (après avoir rempli le formulaire et généré 'reponses_formulaire.xlsx')\n",
    "recommended_df = run_recommendation(\n",
    "    dataset_path=\"final_dataset.xlsx\",\n",
    "    user_responses_path=\"reponses_formulaire.xlsx\",\n",
    "    nb_min=8,\n",
    "    nb_max=12\n",
    ")\n",
    "\n",
    "# Afficher les résultats\n",
    "display(recommended_df)\n"
   ]
  },
  {
   "cell_type": "markdown",
   "metadata": {},
   "source": [
    "# <span style=\"color:#008080\">Conclusion Générale</span>\n",
    "\n",
    "Au travers de cette analyse et de ce développement, nous avons :\n",
    "\n",
    "1. **Défini le contexte** d’**Univia**, plateforme visant à centraliser et démocratiser l’accès aux études internationales.  \n",
    "2. **Collecté** et **préparé** un grand volume de données issues de différents canaux (scraping, API GPT, Wikipédia), afin de disposer d’un **jeu de données nettoyé et enrichi** (scores SAT, coûts, majors, etc.).  \n",
    "3. **Exploré** ces données via diverses **analyses visuelles et statistiques** (cartographie interactive, corrélation entre scores SAT et taux d’admission, distribution des notes, etc.).  \n",
    "4. **Mis en place** un **formulaire** d’orientation permettant de **recueillir** les informations clés de chaque étudiant (majeure, budget, scores estimés, etc.).  \n",
    "5. **Implémenté** un **algorithme de recommandation** basique, utilisant un **score de fitting** pour suggérer à l’étudiant une liste d’universités adaptées à ses besoins et aspirations.\n",
    "\n",
    "### <span style=\"color:#FF6347\">Points saillants</span>\n",
    "- La **sélectivité** des universités américaines peut être appréhendée grâce à la **fourchette SAT**, les **taux d’acceptation** et des indicateurs comme le **ranking**.  \n",
    "- Le **budget** (Net Price) se révèle déterminant pour l’orientation : un **mauvais ciblage** peut conduire à des démarches d’admission peu réalistes.  \n",
    "- Les **spécificités géographiques** (climat, localisation urbaine/rurale) et l’**ADN académique** (majors dominantes) permettent d’aller **au-delà** du simple critère “prestige”.  \n",
    "- Le **moteur de recommandation** apporte une **approche intégrée**, mettant en relation **scores** et **préférences** de l’étudiant avec les **données contextualisées** de chaque établissement.\n",
    "\n",
    "### <span style=\"color:#2E8B57\">Perspectives</span>\n",
    "- **Affiner** l’algorithme de recommandation en intégrant davantage de variables (qualité de vie, retours d’anciens étudiants, dispositifs de bourses…).  \n",
    "- **Étendre** l’approche à d’autres pays et universités, permettant une **comparaison internationale**.  \n",
    "- Développer des **fonctionnalités** plus avancées : alertes d’échéances, conseils interactifs (coach IA), suivi du **dossier de candidature**…\n",
    "\n",
    "En définitive, ce **projet** illustre la capacité des approches **data-driven** et de l’**IA** à **réduire** les obstacles à la mobilité étudiante et à **personnaliser** l’orientation, dans le but de **maximiser** la réussite et l’épanouissement académique de chaque futur candidat.\n"
   ]
  }
 ],
 "metadata": {
  "kernelspec": {
   "display_name": "Python 3",
   "language": "python",
   "name": "python3"
  },
  "language_info": {
   "codemirror_mode": {
    "name": "ipython",
    "version": 3
   },
   "file_extension": ".py",
   "mimetype": "text/x-python",
   "name": "python",
   "nbconvert_exporter": "python",
   "pygments_lexer": "ipython3",
   "version": "3.9.6"
  }
 },
 "nbformat": 4,
 "nbformat_minor": 2
}
